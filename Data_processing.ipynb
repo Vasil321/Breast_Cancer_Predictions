{
 "cells": [
  {
   "cell_type": "markdown",
   "metadata": {},
   "source": [
    "Importing all the necesery librarie for data processing."
   ]
  },
  {
   "cell_type": "code",
   "execution_count": 353,
   "metadata": {},
   "outputs": [],
   "source": [
    "import pandas as pd  \n",
    "from sklearn.model_selection import train_test_split\n",
    "from sklearn.linear_model import LogisticRegression\n",
    "from sklearn.model_selection import GridSearchCV\n",
    "import plotly.express as px\n",
    "from sklearn import preprocessing"
   ]
  },
  {
   "cell_type": "markdown",
   "metadata": {},
   "source": [
    "Reading the data from a csv file and displaying the first 5 rows"
   ]
  },
  {
   "cell_type": "code",
   "execution_count": 354,
   "metadata": {},
   "outputs": [
    {
     "data": {
      "text/html": [
       "<div>\n",
       "<style scoped>\n",
       "    .dataframe tbody tr th:only-of-type {\n",
       "        vertical-align: middle;\n",
       "    }\n",
       "\n",
       "    .dataframe tbody tr th {\n",
       "        vertical-align: top;\n",
       "    }\n",
       "\n",
       "    .dataframe thead th {\n",
       "        text-align: right;\n",
       "    }\n",
       "</style>\n",
       "<table border=\"1\" class=\"dataframe\">\n",
       "  <thead>\n",
       "    <tr style=\"text-align: right;\">\n",
       "      <th></th>\n",
       "      <th>Patient_ID</th>\n",
       "      <th>Month_of_Birth</th>\n",
       "      <th>Age</th>\n",
       "      <th>Sex</th>\n",
       "      <th>Occupation</th>\n",
       "      <th>T_Stage</th>\n",
       "      <th>N_Stage</th>\n",
       "      <th>6th_Stage</th>\n",
       "      <th>Differentiated</th>\n",
       "      <th>Grade</th>\n",
       "      <th>A_Stage</th>\n",
       "      <th>Tumor_Size</th>\n",
       "      <th>Estrogen_Status</th>\n",
       "      <th>Progesterone_Status</th>\n",
       "      <th>Regional_Node_Examined</th>\n",
       "      <th>Reginol_Node_Positive</th>\n",
       "      <th>Survival_Months</th>\n",
       "      <th>Mortality_Status</th>\n",
       "    </tr>\n",
       "  </thead>\n",
       "  <tbody>\n",
       "    <tr>\n",
       "      <th>0</th>\n",
       "      <td>A0012</td>\n",
       "      <td>12</td>\n",
       "      <td>68.0</td>\n",
       "      <td>Female</td>\n",
       "      <td>Teaching</td>\n",
       "      <td>T1</td>\n",
       "      <td>N1</td>\n",
       "      <td>IIA</td>\n",
       "      <td>Poorly differentiated</td>\n",
       "      <td>3</td>\n",
       "      <td>Regional</td>\n",
       "      <td>4.0</td>\n",
       "      <td>Positive</td>\n",
       "      <td>Positive</td>\n",
       "      <td>24.0</td>\n",
       "      <td>1</td>\n",
       "      <td>60</td>\n",
       "      <td>Alive</td>\n",
       "    </tr>\n",
       "    <tr>\n",
       "      <th>1</th>\n",
       "      <td>A0013</td>\n",
       "      <td>12</td>\n",
       "      <td>50.0</td>\n",
       "      <td>Female</td>\n",
       "      <td>Medical</td>\n",
       "      <td>T2</td>\n",
       "      <td>N2</td>\n",
       "      <td>IIIA</td>\n",
       "      <td>Moderately differentiated</td>\n",
       "      <td>2</td>\n",
       "      <td>Regional</td>\n",
       "      <td>35.0</td>\n",
       "      <td>Positive</td>\n",
       "      <td>Positive</td>\n",
       "      <td>14.0</td>\n",
       "      <td>5</td>\n",
       "      <td>62</td>\n",
       "      <td>Alive</td>\n",
       "    </tr>\n",
       "    <tr>\n",
       "      <th>2</th>\n",
       "      <td>A0014</td>\n",
       "      <td>11</td>\n",
       "      <td>58.0</td>\n",
       "      <td>Female</td>\n",
       "      <td>Engineering</td>\n",
       "      <td>T3</td>\n",
       "      <td>N3</td>\n",
       "      <td>IIIC</td>\n",
       "      <td>Moderately differentiated</td>\n",
       "      <td>2</td>\n",
       "      <td>Regional</td>\n",
       "      <td>63.0</td>\n",
       "      <td>Positive</td>\n",
       "      <td>Positive</td>\n",
       "      <td>14.0</td>\n",
       "      <td>7</td>\n",
       "      <td>75</td>\n",
       "      <td>Alive</td>\n",
       "    </tr>\n",
       "    <tr>\n",
       "      <th>3</th>\n",
       "      <td>A0015</td>\n",
       "      <td>3</td>\n",
       "      <td>58.0</td>\n",
       "      <td>Female</td>\n",
       "      <td>Technology</td>\n",
       "      <td>T1</td>\n",
       "      <td>N1</td>\n",
       "      <td>IIA</td>\n",
       "      <td>Poorly differentiated</td>\n",
       "      <td>3</td>\n",
       "      <td>Regional</td>\n",
       "      <td>18.0</td>\n",
       "      <td>Positive</td>\n",
       "      <td>Positive</td>\n",
       "      <td>2.0</td>\n",
       "      <td>1</td>\n",
       "      <td>84</td>\n",
       "      <td>Alive</td>\n",
       "    </tr>\n",
       "    <tr>\n",
       "      <th>4</th>\n",
       "      <td>A0016</td>\n",
       "      <td>1</td>\n",
       "      <td>47.0</td>\n",
       "      <td>Female</td>\n",
       "      <td>Multimedia</td>\n",
       "      <td>T2</td>\n",
       "      <td>N1</td>\n",
       "      <td>IIB</td>\n",
       "      <td>Poorly differentiated</td>\n",
       "      <td>3</td>\n",
       "      <td>Regional</td>\n",
       "      <td>41.0</td>\n",
       "      <td>Positive</td>\n",
       "      <td>Positive</td>\n",
       "      <td>3.0</td>\n",
       "      <td>1</td>\n",
       "      <td>50</td>\n",
       "      <td>Alive</td>\n",
       "    </tr>\n",
       "  </tbody>\n",
       "</table>\n",
       "</div>"
      ],
      "text/plain": [
       "  Patient_ID  Month_of_Birth   Age     Sex   Occupation T_Stage N_Stage 6th_Stage             Differentiated  Grade   A_Stage  Tumor_Size  \\\n",
       "0      A0012              12  68.0  Female     Teaching      T1      N1       IIA      Poorly differentiated      3  Regional         4.0   \n",
       "1      A0013              12  50.0  Female      Medical      T2      N2      IIIA  Moderately differentiated      2  Regional        35.0   \n",
       "2      A0014              11  58.0  Female  Engineering      T3      N3      IIIC  Moderately differentiated      2  Regional        63.0   \n",
       "3      A0015               3  58.0  Female   Technology      T1      N1       IIA      Poorly differentiated      3  Regional        18.0   \n",
       "4      A0016               1  47.0  Female   Multimedia      T2      N1       IIB      Poorly differentiated      3  Regional        41.0   \n",
       "\n",
       "  Estrogen_Status Progesterone_Status  Regional_Node_Examined  Reginol_Node_Positive  Survival_Months Mortality_Status  \n",
       "0        Positive            Positive                    24.0                      1               60            Alive  \n",
       "1        Positive            Positive                    14.0                      5               62            Alive  \n",
       "2        Positive            Positive                    14.0                      7               75            Alive  \n",
       "3        Positive            Positive                     2.0                      1               84            Alive  \n",
       "4        Positive            Positive                     3.0                      1               50            Alive  "
      ]
     },
     "execution_count": 354,
     "metadata": {},
     "output_type": "execute_result"
    }
   ],
   "source": [
    "df = pd.read_csv(\"Breast_Cancer.csv\")\n",
    "df.head()"
   ]
  },
  {
   "cell_type": "code",
   "execution_count": 355,
   "metadata": {},
   "outputs": [],
   "source": [
    "pd.set_option('display.max_rows', 500)\n",
    "pd.set_option('display.max_columns', 500)\n",
    "pd.set_option('display.width', 150)"
   ]
  },
  {
   "cell_type": "markdown",
   "metadata": {},
   "source": [
    "Listing all the columns of the dataset"
   ]
  },
  {
   "cell_type": "code",
   "execution_count": 356,
   "metadata": {},
   "outputs": [
    {
     "data": {
      "text/plain": [
       "['Patient_ID',\n",
       " 'Month_of_Birth',\n",
       " 'Age',\n",
       " 'Sex',\n",
       " 'Occupation',\n",
       " 'T_Stage',\n",
       " 'N_Stage',\n",
       " '6th_Stage',\n",
       " 'Differentiated',\n",
       " 'Grade',\n",
       " 'A_Stage',\n",
       " 'Tumor_Size',\n",
       " 'Estrogen_Status',\n",
       " 'Progesterone_Status',\n",
       " 'Regional_Node_Examined',\n",
       " 'Reginol_Node_Positive',\n",
       " 'Survival_Months',\n",
       " 'Mortality_Status']"
      ]
     },
     "execution_count": 356,
     "metadata": {},
     "output_type": "execute_result"
    }
   ],
   "source": [
    "list(df.columns)"
   ]
  },
  {
   "cell_type": "markdown",
   "metadata": {},
   "source": [
    "Scanning the infromation of the dataset"
   ]
  },
  {
   "cell_type": "code",
   "execution_count": 357,
   "metadata": {},
   "outputs": [
    {
     "name": "stdout",
     "output_type": "stream",
     "text": [
      "<class 'pandas.core.frame.DataFrame'>\n",
      "RangeIndex: 4024 entries, 0 to 4023\n",
      "Data columns (total 18 columns):\n",
      " #   Column                  Non-Null Count  Dtype  \n",
      "---  ------                  --------------  -----  \n",
      " 0   Patient_ID              4024 non-null   object \n",
      " 1   Month_of_Birth          4024 non-null   int64  \n",
      " 2   Age                     4015 non-null   float64\n",
      " 3   Sex                     4020 non-null   object \n",
      " 4   Occupation              43 non-null     object \n",
      " 5   T_Stage                 4024 non-null   object \n",
      " 6   N_Stage                 4024 non-null   object \n",
      " 7   6th_Stage               4024 non-null   object \n",
      " 8   Differentiated          4024 non-null   object \n",
      " 9   Grade                   4024 non-null   int64  \n",
      " 10  A_Stage                 4024 non-null   object \n",
      " 11  Tumor_Size              4021 non-null   float64\n",
      " 12  Estrogen_Status         4024 non-null   object \n",
      " 13  Progesterone_Status     4024 non-null   object \n",
      " 14  Regional_Node_Examined  4023 non-null   float64\n",
      " 15  Reginol_Node_Positive   4024 non-null   int64  \n",
      " 16  Survival_Months         4024 non-null   int64  \n",
      " 17  Mortality_Status        4024 non-null   object \n",
      "dtypes: float64(3), int64(4), object(11)\n",
      "memory usage: 566.0+ KB\n"
     ]
    }
   ],
   "source": [
    "df.info()"
   ]
  },
  {
   "cell_type": "code",
   "execution_count": 358,
   "metadata": {},
   "outputs": [
    {
     "data": {
      "text/plain": [
       "(4024, 18)"
      ]
     },
     "execution_count": 358,
     "metadata": {},
     "output_type": "execute_result"
    }
   ],
   "source": [
    "df.shape"
   ]
  },
  {
   "cell_type": "code",
   "execution_count": 359,
   "metadata": {},
   "outputs": [
    {
     "data": {
      "text/html": [
       "<div>\n",
       "<style scoped>\n",
       "    .dataframe tbody tr th:only-of-type {\n",
       "        vertical-align: middle;\n",
       "    }\n",
       "\n",
       "    .dataframe tbody tr th {\n",
       "        vertical-align: top;\n",
       "    }\n",
       "\n",
       "    .dataframe thead th {\n",
       "        text-align: right;\n",
       "    }\n",
       "</style>\n",
       "<table border=\"1\" class=\"dataframe\">\n",
       "  <thead>\n",
       "    <tr style=\"text-align: right;\">\n",
       "      <th></th>\n",
       "      <th>Month_of_Birth</th>\n",
       "      <th>Age</th>\n",
       "      <th>Grade</th>\n",
       "      <th>Tumor_Size</th>\n",
       "      <th>Regional_Node_Examined</th>\n",
       "      <th>Reginol_Node_Positive</th>\n",
       "      <th>Survival_Months</th>\n",
       "    </tr>\n",
       "  </thead>\n",
       "  <tbody>\n",
       "    <tr>\n",
       "      <th>count</th>\n",
       "      <td>4024.000000</td>\n",
       "      <td>4015.000000</td>\n",
       "      <td>4024.000000</td>\n",
       "      <td>4021.000000</td>\n",
       "      <td>4023.000000</td>\n",
       "      <td>4024.000000</td>\n",
       "      <td>4024.000000</td>\n",
       "    </tr>\n",
       "    <tr>\n",
       "      <th>mean</th>\n",
       "      <td>6.481362</td>\n",
       "      <td>54.107098</td>\n",
       "      <td>2.150596</td>\n",
       "      <td>30.419299</td>\n",
       "      <td>14.373602</td>\n",
       "      <td>4.158052</td>\n",
       "      <td>71.472167</td>\n",
       "    </tr>\n",
       "    <tr>\n",
       "      <th>std</th>\n",
       "      <td>3.475442</td>\n",
       "      <td>11.715528</td>\n",
       "      <td>0.638234</td>\n",
       "      <td>21.161080</td>\n",
       "      <td>8.129293</td>\n",
       "      <td>5.109331</td>\n",
       "      <td>25.361855</td>\n",
       "    </tr>\n",
       "    <tr>\n",
       "      <th>min</th>\n",
       "      <td>1.000000</td>\n",
       "      <td>-50.000000</td>\n",
       "      <td>1.000000</td>\n",
       "      <td>-75.000000</td>\n",
       "      <td>1.000000</td>\n",
       "      <td>1.000000</td>\n",
       "      <td>1.000000</td>\n",
       "    </tr>\n",
       "    <tr>\n",
       "      <th>25%</th>\n",
       "      <td>3.000000</td>\n",
       "      <td>47.000000</td>\n",
       "      <td>2.000000</td>\n",
       "      <td>16.000000</td>\n",
       "      <td>9.000000</td>\n",
       "      <td>1.000000</td>\n",
       "      <td>56.000000</td>\n",
       "    </tr>\n",
       "    <tr>\n",
       "      <th>50%</th>\n",
       "      <td>6.000000</td>\n",
       "      <td>54.000000</td>\n",
       "      <td>2.000000</td>\n",
       "      <td>25.000000</td>\n",
       "      <td>14.000000</td>\n",
       "      <td>2.000000</td>\n",
       "      <td>73.000000</td>\n",
       "    </tr>\n",
       "    <tr>\n",
       "      <th>75%</th>\n",
       "      <td>10.000000</td>\n",
       "      <td>61.000000</td>\n",
       "      <td>3.000000</td>\n",
       "      <td>38.000000</td>\n",
       "      <td>19.000000</td>\n",
       "      <td>5.000000</td>\n",
       "      <td>90.000000</td>\n",
       "    </tr>\n",
       "    <tr>\n",
       "      <th>max</th>\n",
       "      <td>12.000000</td>\n",
       "      <td>502.000000</td>\n",
       "      <td>4.000000</td>\n",
       "      <td>140.000000</td>\n",
       "      <td>61.000000</td>\n",
       "      <td>46.000000</td>\n",
       "      <td>760.000000</td>\n",
       "    </tr>\n",
       "  </tbody>\n",
       "</table>\n",
       "</div>"
      ],
      "text/plain": [
       "       Month_of_Birth          Age        Grade   Tumor_Size  Regional_Node_Examined  Reginol_Node_Positive  Survival_Months\n",
       "count     4024.000000  4015.000000  4024.000000  4021.000000             4023.000000            4024.000000      4024.000000\n",
       "mean         6.481362    54.107098     2.150596    30.419299               14.373602               4.158052        71.472167\n",
       "std          3.475442    11.715528     0.638234    21.161080                8.129293               5.109331        25.361855\n",
       "min          1.000000   -50.000000     1.000000   -75.000000                1.000000               1.000000         1.000000\n",
       "25%          3.000000    47.000000     2.000000    16.000000                9.000000               1.000000        56.000000\n",
       "50%          6.000000    54.000000     2.000000    25.000000               14.000000               2.000000        73.000000\n",
       "75%         10.000000    61.000000     3.000000    38.000000               19.000000               5.000000        90.000000\n",
       "max         12.000000   502.000000     4.000000   140.000000               61.000000              46.000000       760.000000"
      ]
     },
     "execution_count": 359,
     "metadata": {},
     "output_type": "execute_result"
    }
   ],
   "source": [
    "df.describe()"
   ]
  },
  {
   "cell_type": "code",
   "execution_count": 360,
   "metadata": {},
   "outputs": [],
   "source": [
    "df = df.drop(columns=[\"Patient_ID\"])"
   ]
  },
  {
   "cell_type": "markdown",
   "metadata": {},
   "source": [
    "Plotting a histogram of the Grade column to visualize the count of grades"
   ]
  },
  {
   "cell_type": "code",
   "execution_count": 361,
   "metadata": {},
   "outputs": [
    {
     "data": {
      "application/vnd.plotly.v1+json": {
       "config": {
        "plotlyServerURL": "https://plot.ly"
       },
       "data": [
        {
         "bingroup": "x",
         "hovertemplate": "Grade=%{x}<br>count=%{y}<extra></extra>",
         "legendgroup": "",
         "marker": {
          "color": "#636efa",
          "pattern": {
           "shape": ""
          }
         },
         "name": "",
         "orientation": "v",
         "showlegend": false,
         "type": "histogram",
         "x": {
          "bdata": "AwICAwMCAQIDAQIDAwMCAgICAgIBAgMDAwIDAQEDAQICAgIBAgICAgICAgMCAgICAgICAgMBAgICAgICAgICAgIDAwMDAgMDAwICAgICAQIDAgICAQMCAgIBAwIBAwIBAgIDAQIDAgMCAgMCAgICAQIDAgICAwMDAQMCAwECAgMDAgIDAgIDAgEBAgMBAgICAgIBAwICAwICAgMCAwICAwICAwMCAgICAgICAwMBAgICAgIDAQICAQMCAgICAgICAwICAQMDAwMDAgIDAQICAQIDAgIBAgIDAwMDAwMCAgIDAwIDAgICAgIDAgICAwMCAwIDAgMDAQMCAgICAQMCAwMCAQICAgECAQECAgECAgECAgMDAQQBAgEBAwICAgIDAgMDAgIDAgICAwECAgICAwEDAgICAgICAQIDAgICAgIBAgMCAQIDAQMBAwMCAgECAgICAgIDAwIDAgECAwMCAQIDAwMDAgEBAwMCAgMDAQIDAwICAgECAwICAwIDAgICAwIDAgICAwIDAgMCAgEDAgIBAgIDAgIDAgIDAgIDAgEDAgECAwMCAQICAQIDAgIDAgECAwICAgICAgMCAwICAQIDAQICAgMDAgICAgICAwICAwICAgICAQIDAgIBAQEBAwIDAgECAgICAwIBAwMCAQICAgEBAwMCAwMBAgICAwICAQICAgMDAgICAgICAgICAgIBAQICAwMCAgICAwICAgICAwECAgIBAwMDAgMCAgMCAgMCAgMBAQEDAgEDAwIDAgICAwICAwMCAgEBAwICAwICAwMDAgICAgMCAwMBAgICAgMCAgIDAwQBBAICAgIDAwEDAgICAgICAwICAgMCAgECAwECAQICAgMBAQICAwEDAgMDAgMDAgECAgICAgIDAQICAwIDAgICAgECAgIDAgICAgMCAgICAgMCAgECAgMCAgICAgEDAgIBAgIBAQICAgICAwICAQICAwMCAwICAgICAwICAgIDAwICAgICAQMDAgICAgMCAgICAgIBAwIEAwICAgICAgICAQMCAgIDAgMDAgIBAgICAgICAgICAgICAwIBAwIDAgIDAwMBAwIDAQICAgICAgMCAgICAQICAwICAgICAgICAgMBAgIDAwMCAQMCAgMCAwICAQMBAwMCAgMCAgMCAgIDAgMCAgIDAgICAgMBAwIDAgMCAgMCAQEDAwICAgIBAwICAgICAwICAgIBAgIDAgMBAgICAwEBAQIBAwIDAgIDAwIDAgICAwMBAgICAgMCAwMBAgICAgICAgMCAgIDAgIDAgICAQIDAwMCAgEBAQICAwMCAwECAgICAQIDAgECAgICAwIDAQMCAgMDAgIEAgMCAgICAwEDAgICAgICAwECAgMCAwIDAQICAgICAgICAgEDAgICAgICAgIDAgIEAgMDAgICAwMDAgICAwIDAgIDAwIDAwMCAgMDAgMDAgECAgICAQICAgICAgIDAwIBAgICAwICAgIDAgEBAgIDAgMCAgMCAgIDAgIDAgICAgICAgEDAQEDAgICAwIDAgMCAgIDAwMCAgIDAwICAgICAgEDAwIDAwICAgICAgMCAgIBAwIBAgIDAgIBAgICAwICAgMBAwIDAwECAwMBAgIDAwMBAwIBAgECAQMCAgEDAgICAgMBAgIDAgIBAQMCAQIBAgICAgEBAwMCAgMDAgMCAgICAgIBAwIDAwIDAQMCAgIBAgICAgIDAQIDAQICAwIDAgMCAwIDAgEBAgICAwICAwICAwIDAgMDAwICAQMCAgIDAQECAwICAQICAgICAgIDAgICAgEDAgMBAQICAQIBAwIBAgMDAQICAgICAQMCAgMCAwICAQICAgEDAQIDAgICAgIDAwICAQICAgMCAgICAgMCAgMCAwECAgEDAgICAwMCAwECAgEDAgMCAwIDAgECAgEDAwMCAwIBAwICBAMCAgICAwICAgMCAgMCAwICAwMCAgMDAgIDAQIDAgICAgIDAwIDAgICAQICAgIDAgECAgICAgICAwECAwIDAgMCAQICAQICAQMBAgICAwIDAwMEAwICAgIDAwICAQICAgMDAwICBAMDAgICAwIBAgMCAgICAwICAgICAgMDAwEDAQMDAgICAgICAgIDAgICAgIDAgICAgMDAQMDAwMCAwICAgIDAQICAQEDAgEDAgIDAwICAwIBAwICAwICAwICAwICAgICAgIDAgICAwMCAgICAgMCAgEBAwECAQICAgIDAQICAwMDAgMBAgIDAQIDAgMCAgIBAgIDAgMCAQEBAgICBAIDAgICAQECAgMDAgICAwIBAgECAwIDAgMCAgMCAgICAwICAQIDAwICAgICAQIDAQECAwICAwEBAgIDAgICAwICAgICAwEBAgICAgIBAgMDAwEBAgICAgMCAgMDAgMDAwICAwIDAgIBAgEDAQMDAQMDAwICAgIDAgICAgIBAgIBAwICAgMCAgMBAwICAgIDAQMCAwICAgEDAgEDAwEBAwIBAgIDAQIBAwIDAgMCAgMCAgMCAgIBAwMCAgIDAQICAgEDAwIDAwECAgECAgICAgIDAgIDAQIBAwICAgICAgICAgICAwMDAQIDAwMCAgEBAQICAgMCAgEDAgICAwICAgIDAgMCAgICAgIBAgMDAQMCAwEDAwIDAgICAwICAwIBAgICAgIDAQICAwICAgEDAwICAgMDAwMCAwMCAgMDAgIDAgMDAgECAgICAQICAwICAQICAgMDAwMCAwMCAgMDAQICAwIDAgIDAgICAQMBAQMCAgICAgEBAQEDAwMCAgMDAgIBAgIDAgMCAgMCAgICAQICAgICAgMCAgMDAgIDAQICAgMCAQIBAwICAgICAgICAgICAgMBAQMDAgEDAwMCAgECAgICAQICBAMCAgIEAQECAQMDAwIBAwICAgIDAwMCAwIDAQICAgICAgMCAgECAgECAQMDAgICAwECAQIDAgICAgICAgICAgMBAwMCAQICAgIEAQICAgECAwICAwICAQIDAwECAQICAwICAgIBAgECAgICAwMDAQICAgMCAwMCAgMCAwICAQIDAwICAgICAgMCAgIDAgMCAgIDAgMBAwEDAwIDAQIDAgICAQICAgIDAwMCAgIDAgICAgMDAwECAgIBAwMBAwMCAgICAgMBAgIDAQICAwIDAQMBAgMDAgECAwICAgEBAgMCAgIBAgECAQMCAwICAgIEAgICAQMCAgECAgMDAgMCAgICAgICAgICAwIBAQMCAQICAwICAgICAwIBAgECAwICAgIDAgMDAgICAwMCAgMCAgIDAgIDAQICAgMDAgIDAwICAgIDAgECAgMDAgEDAwMCAQIDAwICAgMCAgEDAgICAgIBAgIDAQIDAQECAgIBAgICAQIBAgMDAgMCAwMDAgIBAQICAgIDAQMDAgECAgEBAgIDAwICAQICAgIDAgICAwMDAwMCAgECAgMCAQIDAgMCAgMBAwIDAgMCAwICAwICAgECAwICAgMDAwIDAgMCAQECAgICAwMCAQMCAgMDAwIDAgIBAwIBAgIDAQICAwIBAgECAwMCAQICAgMBAQICAwMCAgMBAgICAgICAgMCAwEDAwEBAwICAgICAgICAwMDAwIEAgIDAgICAgMCAwMBAgECAgICAQMCAwMDAQMBAwICAgIBAwIDAwIBAgMCAgMCAgICAgICAgICAgMCAgIDAgICAwICAgICAgIDAgICAgMCAwMDAwICAgIDAgIDAgMCAgMDAQIBAgICAgICAgMCAQIDAwICAQIBAwECAgMBAgICAwICAgICAgIDAgIDAgIBAgMDAgICAgMCAQICAgICAgMDAgMCAwICAwMBAQICAgICAwICAgICAwMDAwICAgIDAQMDAQICAgIDAQICAgIDAgICAgMCAwIBAgICAQICAwMCAQMCAwIBAwIDAwICAQICAwICAwMBAgMCAgMDAgICAgIDAwICAwMCAgMDAgICAgICAgECAgIDAgIBAwIDAgECAgICAwICAQIDAwICAgICAgIDAgECAgICAwICAgECAgICAQEBAwICAgICAgECAgMBAgICAgECAgICAwMCAgEDAwMDAgMCAQQCAgIDAwIBAgEDAQIBAgICAwICAwEDAwMCAgIDAwIBAgICAwMDAgECAwIDAgIDAgICAgICAgIDAwMCAwIDAwECAwICAwICAgMCAgIDAgMCAgECAwMCAQEBAgIBAwICAwICAgICAwICAwMDAgICAgICAgIBAwIBAwMCAwMCAgIDAgMCAwIDAwECAwIEAwICAgICAQEDAgMCAgMDAgEDAwICAgMCAwICAgICAQMDAwIEAwIDAgICAQECAQICAgEDAQICAgICAgECAgICAgMBAgECAgICAgMDAwICAgMCAgICAQICAwICAwICAwIBAgICAwIDAwIDAgIDAwICAwICAgICAQMDAgICAgICAgICAwIBAgIBAQICAgMCAgMCAgEBAwIDAgMCAwICAgICAgICAwICAwEBAgICAgMDAgIDAgICAgMBAgECAgIDAgICAgICAgICAgICAgMCAgICAgIBAgMDAgIDAgICAgIBAgEDAwMCAgMDAQICAwIBAwIDAgMCAwICAwMCAgIDAgEDAgICAgEBAgMDAgMBAQICAgIBAgICAgIDAgICAQECAgIDAgMDAgICAwECAwMDAgICAQMBAwICAgICAQQBAQICAgIDAgICAQMCAQICAgICAgMDAgMCAgIDAwICAQIDAgMCAgIDAwICAgICAgIDAwICAgMCAwICAgIDAwMCAwIDAwIBAgIBAwMCAQICAgICAgIBAwICAgIBAgICAgIDAgECAgMCAwMCAgIBAgMBAgIBAQMCAgIBAgIDAwICAwIDAwIBAgECAQIBAgICAwICAQMCAgICAwICAwECAQICAgICAgICAgICAgMCAwIBAgMDAgICAwICAwICAgIDAwECAwMDAgECAgMCAwIBAwIDAwMCAgIBAwMBAgMCAgEBAgICAgIDAwIDAQIDAQECAwECAQICAgMCAgIBAQIBAgIDAgICAgICAwMDAgMCAgICAgICAgECAgICAwMCAgMDAgICAgMCAgIDAgICAwECAwICAQECAgIDAgICAQMDAgECAQIBAgMCAwMBAwMDAwMCAgICAwICAQICAwMCAgMDAQMCAgICAQIDAwIDAwMCAgICAwICAgIBAgICAwICAgECAwECAgICAgIDAgMCAwICAgICAgEDAgICAgICAQICAgIBAwMBAwECAwMCAgECAwMCAgICAgIDAQMBAgICAgMDAgIDAwICAgEDAgMCAgMDAgMDAgMDAgICAgIBAgMCAQICAgMCAQIDAgMBAgIBAgICAgICAg==",
          "dtype": "i1"
         },
         "xaxis": "x",
         "yaxis": "y"
        }
       ],
       "layout": {
        "barmode": "relative",
        "legend": {
         "tracegroupgap": 0
        },
        "margin": {
         "t": 60
        },
        "template": {
         "data": {
          "bar": [
           {
            "error_x": {
             "color": "#2a3f5f"
            },
            "error_y": {
             "color": "#2a3f5f"
            },
            "marker": {
             "line": {
              "color": "#E5ECF6",
              "width": 0.5
             },
             "pattern": {
              "fillmode": "overlay",
              "size": 10,
              "solidity": 0.2
             }
            },
            "type": "bar"
           }
          ],
          "barpolar": [
           {
            "marker": {
             "line": {
              "color": "#E5ECF6",
              "width": 0.5
             },
             "pattern": {
              "fillmode": "overlay",
              "size": 10,
              "solidity": 0.2
             }
            },
            "type": "barpolar"
           }
          ],
          "carpet": [
           {
            "aaxis": {
             "endlinecolor": "#2a3f5f",
             "gridcolor": "white",
             "linecolor": "white",
             "minorgridcolor": "white",
             "startlinecolor": "#2a3f5f"
            },
            "baxis": {
             "endlinecolor": "#2a3f5f",
             "gridcolor": "white",
             "linecolor": "white",
             "minorgridcolor": "white",
             "startlinecolor": "#2a3f5f"
            },
            "type": "carpet"
           }
          ],
          "choropleth": [
           {
            "colorbar": {
             "outlinewidth": 0,
             "ticks": ""
            },
            "type": "choropleth"
           }
          ],
          "contour": [
           {
            "colorbar": {
             "outlinewidth": 0,
             "ticks": ""
            },
            "colorscale": [
             [
              0,
              "#0d0887"
             ],
             [
              0.1111111111111111,
              "#46039f"
             ],
             [
              0.2222222222222222,
              "#7201a8"
             ],
             [
              0.3333333333333333,
              "#9c179e"
             ],
             [
              0.4444444444444444,
              "#bd3786"
             ],
             [
              0.5555555555555556,
              "#d8576b"
             ],
             [
              0.6666666666666666,
              "#ed7953"
             ],
             [
              0.7777777777777778,
              "#fb9f3a"
             ],
             [
              0.8888888888888888,
              "#fdca26"
             ],
             [
              1,
              "#f0f921"
             ]
            ],
            "type": "contour"
           }
          ],
          "contourcarpet": [
           {
            "colorbar": {
             "outlinewidth": 0,
             "ticks": ""
            },
            "type": "contourcarpet"
           }
          ],
          "heatmap": [
           {
            "colorbar": {
             "outlinewidth": 0,
             "ticks": ""
            },
            "colorscale": [
             [
              0,
              "#0d0887"
             ],
             [
              0.1111111111111111,
              "#46039f"
             ],
             [
              0.2222222222222222,
              "#7201a8"
             ],
             [
              0.3333333333333333,
              "#9c179e"
             ],
             [
              0.4444444444444444,
              "#bd3786"
             ],
             [
              0.5555555555555556,
              "#d8576b"
             ],
             [
              0.6666666666666666,
              "#ed7953"
             ],
             [
              0.7777777777777778,
              "#fb9f3a"
             ],
             [
              0.8888888888888888,
              "#fdca26"
             ],
             [
              1,
              "#f0f921"
             ]
            ],
            "type": "heatmap"
           }
          ],
          "histogram": [
           {
            "marker": {
             "pattern": {
              "fillmode": "overlay",
              "size": 10,
              "solidity": 0.2
             }
            },
            "type": "histogram"
           }
          ],
          "histogram2d": [
           {
            "colorbar": {
             "outlinewidth": 0,
             "ticks": ""
            },
            "colorscale": [
             [
              0,
              "#0d0887"
             ],
             [
              0.1111111111111111,
              "#46039f"
             ],
             [
              0.2222222222222222,
              "#7201a8"
             ],
             [
              0.3333333333333333,
              "#9c179e"
             ],
             [
              0.4444444444444444,
              "#bd3786"
             ],
             [
              0.5555555555555556,
              "#d8576b"
             ],
             [
              0.6666666666666666,
              "#ed7953"
             ],
             [
              0.7777777777777778,
              "#fb9f3a"
             ],
             [
              0.8888888888888888,
              "#fdca26"
             ],
             [
              1,
              "#f0f921"
             ]
            ],
            "type": "histogram2d"
           }
          ],
          "histogram2dcontour": [
           {
            "colorbar": {
             "outlinewidth": 0,
             "ticks": ""
            },
            "colorscale": [
             [
              0,
              "#0d0887"
             ],
             [
              0.1111111111111111,
              "#46039f"
             ],
             [
              0.2222222222222222,
              "#7201a8"
             ],
             [
              0.3333333333333333,
              "#9c179e"
             ],
             [
              0.4444444444444444,
              "#bd3786"
             ],
             [
              0.5555555555555556,
              "#d8576b"
             ],
             [
              0.6666666666666666,
              "#ed7953"
             ],
             [
              0.7777777777777778,
              "#fb9f3a"
             ],
             [
              0.8888888888888888,
              "#fdca26"
             ],
             [
              1,
              "#f0f921"
             ]
            ],
            "type": "histogram2dcontour"
           }
          ],
          "mesh3d": [
           {
            "colorbar": {
             "outlinewidth": 0,
             "ticks": ""
            },
            "type": "mesh3d"
           }
          ],
          "parcoords": [
           {
            "line": {
             "colorbar": {
              "outlinewidth": 0,
              "ticks": ""
             }
            },
            "type": "parcoords"
           }
          ],
          "pie": [
           {
            "automargin": true,
            "type": "pie"
           }
          ],
          "scatter": [
           {
            "fillpattern": {
             "fillmode": "overlay",
             "size": 10,
             "solidity": 0.2
            },
            "type": "scatter"
           }
          ],
          "scatter3d": [
           {
            "line": {
             "colorbar": {
              "outlinewidth": 0,
              "ticks": ""
             }
            },
            "marker": {
             "colorbar": {
              "outlinewidth": 0,
              "ticks": ""
             }
            },
            "type": "scatter3d"
           }
          ],
          "scattercarpet": [
           {
            "marker": {
             "colorbar": {
              "outlinewidth": 0,
              "ticks": ""
             }
            },
            "type": "scattercarpet"
           }
          ],
          "scattergeo": [
           {
            "marker": {
             "colorbar": {
              "outlinewidth": 0,
              "ticks": ""
             }
            },
            "type": "scattergeo"
           }
          ],
          "scattergl": [
           {
            "marker": {
             "colorbar": {
              "outlinewidth": 0,
              "ticks": ""
             }
            },
            "type": "scattergl"
           }
          ],
          "scattermap": [
           {
            "marker": {
             "colorbar": {
              "outlinewidth": 0,
              "ticks": ""
             }
            },
            "type": "scattermap"
           }
          ],
          "scattermapbox": [
           {
            "marker": {
             "colorbar": {
              "outlinewidth": 0,
              "ticks": ""
             }
            },
            "type": "scattermapbox"
           }
          ],
          "scatterpolar": [
           {
            "marker": {
             "colorbar": {
              "outlinewidth": 0,
              "ticks": ""
             }
            },
            "type": "scatterpolar"
           }
          ],
          "scatterpolargl": [
           {
            "marker": {
             "colorbar": {
              "outlinewidth": 0,
              "ticks": ""
             }
            },
            "type": "scatterpolargl"
           }
          ],
          "scatterternary": [
           {
            "marker": {
             "colorbar": {
              "outlinewidth": 0,
              "ticks": ""
             }
            },
            "type": "scatterternary"
           }
          ],
          "surface": [
           {
            "colorbar": {
             "outlinewidth": 0,
             "ticks": ""
            },
            "colorscale": [
             [
              0,
              "#0d0887"
             ],
             [
              0.1111111111111111,
              "#46039f"
             ],
             [
              0.2222222222222222,
              "#7201a8"
             ],
             [
              0.3333333333333333,
              "#9c179e"
             ],
             [
              0.4444444444444444,
              "#bd3786"
             ],
             [
              0.5555555555555556,
              "#d8576b"
             ],
             [
              0.6666666666666666,
              "#ed7953"
             ],
             [
              0.7777777777777778,
              "#fb9f3a"
             ],
             [
              0.8888888888888888,
              "#fdca26"
             ],
             [
              1,
              "#f0f921"
             ]
            ],
            "type": "surface"
           }
          ],
          "table": [
           {
            "cells": {
             "fill": {
              "color": "#EBF0F8"
             },
             "line": {
              "color": "white"
             }
            },
            "header": {
             "fill": {
              "color": "#C8D4E3"
             },
             "line": {
              "color": "white"
             }
            },
            "type": "table"
           }
          ]
         },
         "layout": {
          "annotationdefaults": {
           "arrowcolor": "#2a3f5f",
           "arrowhead": 0,
           "arrowwidth": 1
          },
          "autotypenumbers": "strict",
          "coloraxis": {
           "colorbar": {
            "outlinewidth": 0,
            "ticks": ""
           }
          },
          "colorscale": {
           "diverging": [
            [
             0,
             "#8e0152"
            ],
            [
             0.1,
             "#c51b7d"
            ],
            [
             0.2,
             "#de77ae"
            ],
            [
             0.3,
             "#f1b6da"
            ],
            [
             0.4,
             "#fde0ef"
            ],
            [
             0.5,
             "#f7f7f7"
            ],
            [
             0.6,
             "#e6f5d0"
            ],
            [
             0.7,
             "#b8e186"
            ],
            [
             0.8,
             "#7fbc41"
            ],
            [
             0.9,
             "#4d9221"
            ],
            [
             1,
             "#276419"
            ]
           ],
           "sequential": [
            [
             0,
             "#0d0887"
            ],
            [
             0.1111111111111111,
             "#46039f"
            ],
            [
             0.2222222222222222,
             "#7201a8"
            ],
            [
             0.3333333333333333,
             "#9c179e"
            ],
            [
             0.4444444444444444,
             "#bd3786"
            ],
            [
             0.5555555555555556,
             "#d8576b"
            ],
            [
             0.6666666666666666,
             "#ed7953"
            ],
            [
             0.7777777777777778,
             "#fb9f3a"
            ],
            [
             0.8888888888888888,
             "#fdca26"
            ],
            [
             1,
             "#f0f921"
            ]
           ],
           "sequentialminus": [
            [
             0,
             "#0d0887"
            ],
            [
             0.1111111111111111,
             "#46039f"
            ],
            [
             0.2222222222222222,
             "#7201a8"
            ],
            [
             0.3333333333333333,
             "#9c179e"
            ],
            [
             0.4444444444444444,
             "#bd3786"
            ],
            [
             0.5555555555555556,
             "#d8576b"
            ],
            [
             0.6666666666666666,
             "#ed7953"
            ],
            [
             0.7777777777777778,
             "#fb9f3a"
            ],
            [
             0.8888888888888888,
             "#fdca26"
            ],
            [
             1,
             "#f0f921"
            ]
           ]
          },
          "colorway": [
           "#636efa",
           "#EF553B",
           "#00cc96",
           "#ab63fa",
           "#FFA15A",
           "#19d3f3",
           "#FF6692",
           "#B6E880",
           "#FF97FF",
           "#FECB52"
          ],
          "font": {
           "color": "#2a3f5f"
          },
          "geo": {
           "bgcolor": "white",
           "lakecolor": "white",
           "landcolor": "#E5ECF6",
           "showlakes": true,
           "showland": true,
           "subunitcolor": "white"
          },
          "hoverlabel": {
           "align": "left"
          },
          "hovermode": "closest",
          "mapbox": {
           "style": "light"
          },
          "paper_bgcolor": "white",
          "plot_bgcolor": "#E5ECF6",
          "polar": {
           "angularaxis": {
            "gridcolor": "white",
            "linecolor": "white",
            "ticks": ""
           },
           "bgcolor": "#E5ECF6",
           "radialaxis": {
            "gridcolor": "white",
            "linecolor": "white",
            "ticks": ""
           }
          },
          "scene": {
           "xaxis": {
            "backgroundcolor": "#E5ECF6",
            "gridcolor": "white",
            "gridwidth": 2,
            "linecolor": "white",
            "showbackground": true,
            "ticks": "",
            "zerolinecolor": "white"
           },
           "yaxis": {
            "backgroundcolor": "#E5ECF6",
            "gridcolor": "white",
            "gridwidth": 2,
            "linecolor": "white",
            "showbackground": true,
            "ticks": "",
            "zerolinecolor": "white"
           },
           "zaxis": {
            "backgroundcolor": "#E5ECF6",
            "gridcolor": "white",
            "gridwidth": 2,
            "linecolor": "white",
            "showbackground": true,
            "ticks": "",
            "zerolinecolor": "white"
           }
          },
          "shapedefaults": {
           "line": {
            "color": "#2a3f5f"
           }
          },
          "ternary": {
           "aaxis": {
            "gridcolor": "white",
            "linecolor": "white",
            "ticks": ""
           },
           "baxis": {
            "gridcolor": "white",
            "linecolor": "white",
            "ticks": ""
           },
           "bgcolor": "#E5ECF6",
           "caxis": {
            "gridcolor": "white",
            "linecolor": "white",
            "ticks": ""
           }
          },
          "title": {
           "x": 0.05
          },
          "xaxis": {
           "automargin": true,
           "gridcolor": "white",
           "linecolor": "white",
           "ticks": "",
           "title": {
            "standoff": 15
           },
           "zerolinecolor": "white",
           "zerolinewidth": 2
          },
          "yaxis": {
           "automargin": true,
           "gridcolor": "white",
           "linecolor": "white",
           "ticks": "",
           "title": {
            "standoff": 15
           },
           "zerolinecolor": "white",
           "zerolinewidth": 2
          }
         }
        },
        "xaxis": {
         "anchor": "y",
         "domain": [
          0,
          1
         ],
         "title": {
          "text": "Grade"
         }
        },
        "yaxis": {
         "anchor": "x",
         "domain": [
          0,
          1
         ],
         "title": {
          "text": "count"
         }
        }
       }
      }
     },
     "metadata": {},
     "output_type": "display_data"
    }
   ],
   "source": [
    "Grade_hist = px.histogram(df, x=\"Grade\")\n",
    "Grade_hist.show()"
   ]
  },
  {
   "cell_type": "markdown",
   "metadata": {},
   "source": [
    "Plotting a box for the age column to spot outliers "
   ]
  },
  {
   "cell_type": "code",
   "execution_count": 362,
   "metadata": {},
   "outputs": [
    {
     "data": {
      "application/vnd.plotly.v1+json": {
       "config": {
        "plotlyServerURL": "https://plot.ly"
       },
       "data": [
        {
         "alignmentgroup": "True",
         "hovertemplate": "Age=%{x}<extra></extra>",
         "legendgroup": "",
         "marker": {
          "color": "#636efa"
         },
         "name": "",
         "notched": false,
         "offsetgroup": "",
         "orientation": "h",
         "showlegend": false,
         "type": "box",
         "x": {
          "bdata": "AAAAAAAAUUAAAAAAAABJQAAAAAAAAE1AAAAAAAAATUAAAAAAAIBHQAAAAAAAgElAAAAAAACASUAAAAAAAABEQAAAAAAAAERAAAAAAABAUUAAAAAAAABRQAAAAAAAAEdAAAAAAABAUEAAAAAAAABIQAAAAAAAAE9AAAAAAACATkAAAAAAAABMQAAAAAAAgEVAAAAAAAAASEAAAAAAAABOQAAAAAAAAEhAAAAAAACATEAAAAAAAIBLQAAAAAAAAEhAAAAAAAAAT0AAAAAAAIBPQAAAAAAAAEhAAAAAAAAAR0AAAAAAAIBMQAAAAAAAgFBAAAAAAACAR0AAAAAAAIBKQAAAAAAAgE1AAAAAAAAATkAAAAAAAABHQAAAAAAAgElAAAAAAAAAS0AAAAAAAIBJQAAAAAAAgEhAAAAAAACASUAAAAAAAIBMQAAAAAAAAFBAAAAAAAAAT0AAAAAAAIBKQAAAAAAAgEtAAAAAAACAUEAAAAAAAABFQAAAAAAAAE9AAAAAAAAA+H8AAAAAAEBRQAAAAAAAgEJAAAAAAABAUUAAAAAAAAD4fwAAAAAAgE9AAAAAAACATEAAAAAAAIBLQAAAAAAAAE9AAAAAAAAASUAAAAAAAABJQAAAAAAAgEtAAAAAAAAATEAAAAAAAIBJQAAAAAAAAEVAAAAAAACATUAAAAAAAMBQQAAAAAAAAEdAAAAAAAAAP0AAAAAAAABEQAAAAAAAAE1AAAAAAAAASkAAAAAAAAD4fwAAAAAAAFBAAAAAAAAAP0AAAAAAAIBQQAAAAAAAwFBAAAAAAAAATEAAAAAAAIBQQAAAAAAAAEVAAAAAAACASUAAAAAAAABRQAAAAAAAgEpAAAAAAADAUEAAAAAAAIBQQAAAAAAAgEpAAAAAAACASUAAAAAAAABHQAAAAAAAAEhAAAAAAAAASkAAAAAAAIBLQAAAAAAAQFBAAAAAAACASkAAAAAAAIBAQAAAAAAAgE9AAAAAAACARkAAAAAAAIBNQAAAAAAAAE5AAAAAAAAASUAAAAAAAIBOQAAAAAAAAElAAAAAAAAAUUAAAAAAAABDQAAAAAAAgEdAAAAAAACAQ0AAAAAAAIBMQAAAAAAAAEpAAAAAAAAATkAAAAAAAABLQAAAAAAAAFFAAAAAAAAAQ0AAAAAAAIBPQAAAAAAAgE5AAAAAAACAQkAAAAAAAABHQAAAAAAAgEZAAAAAAAAAS0AAAAAAAIBKQAAAAAAAAElAAAAAAABAUUAAAAAAAABIQAAAAAAAgEpAAAAAAADAUEAAAAAAAIBFQAAAAAAAAElAAAAAAACATUAAAAAAAIBKQAAAAAAAAE9AAAAAAACAQ0AAAAAAAIBNQAAAAAAAAExAAAAAAACARkAAAAAAAABOQAAAAAAAAElAAAAAAAAATUAAAAAAAABJQAAAAAAAgEtAAAAAAACAQkAAAAAAAABHQAAAAAAAQFBAAAAAAACATkAAAAAAAABKQAAAAAAAAEtAAAAAAAAAQkAAAAAAAIBmQAAAAAAAAE9AAAAAAAAAS0AAAAAAAIBOQAAAAAAAAEdAAAAAAAAAQ0AAAAAAAIBQQAAAAAAAgE1AAAAAAAAAQ0AAAAAAAMBQQAAAAAAAAE5AAAAAAACATkAAAAAAAMBQQAAAAAAAQFFAAAAAAACAR0AAAAAAAIBDQAAAAAAAgEpAAAAAAACAS0AAAAAAAIBNQAAAAAAAgEpAAAAAAACATUAAAAAAAIBMQAAAAAAAgE5AAAAAAAAAUUAAAAAAAABLQAAAAAAAgEJAAAAAAAAASEAAAAAAAIBKQAAAAAAAQFFAAAAAAACAT0AAAAAAAIBIQAAAAAAAgE9AAAAAAAAATkAAAAAAAIBEQAAAAAAAgE1AAAAAAACARUAAAAAAAABKQAAAAAAAgE5AAAAAAAAATkAAAAAAAIBOQAAAAAAAgE9AAAAAAAAASEAAAAAAAIBJQAAAAAAAgFBAAAAAAAAAUUAAAAAAAABNQAAAAAAAAE9AAAAAAAAAR0AAAAAAAABNQAAAAAAAAE5AAAAAAAAAT0AAAAAAAIBKQAAAAAAAAEVAAAAAAACAT0AAAAAAAIBLQAAAAAAAAElAAAAAAAAASkAAAAAAAIBHQAAAAAAAgEtAAAAAAAAATkAAAAAAAIBQQAAAAAAAAElAAAAAAAAAUEAAAAAAAMBQQAAAAAAAAExAAAAAAAAATkAAAAAAAABMQAAAAAAAAEhAAAAAAAAARkAAAAAAAIBCQAAAAAAAAEnAAAAAAACAT0AAAAAAAABLQAAAAAAAgE9AAAAAAAAARkAAAAAAAABRQAAAAAAAAFBAAAAAAAAASUAAAAAAAIBLQAAAAAAAgFBAAAAAAAAAR0AAAAAAAIBFQAAAAAAAgEVAAAAAAACARUAAAAAAAIBNQAAAAAAAgEtAAAAAAACATkAAAAAAAIBQQAAAAAAAgEtAAAAAAABAUEAAAAAAAEBRQAAAAAAAgE1AAAAAAACAT0AAAAAAAABRQAAAAAAAAEhAAAAAAACATkAAAAAAAIBFQAAAAAAAAEZAAAAAAACAR0AAAAAAAABKQAAAAAAAQFFAAAAAAACAQ0AAAAAAAIBFQAAAAAAAAFBAAAAAAACAUEAAAAAAAIBGQAAAAAAAgEJAAAAAAAAASUAAAAAAAABEQAAAAAAAAEpAAAAAAAAA+H8AAAAAAABAQAAAAAAAQFBAAAAAAADAUEAAAAAAAIBMQAAAAAAAgE9AAAAAAAAARUAAAAAAAIBMQAAAAAAAAEVAAAAAAAAAR0AAAAAAAIBHQAAAAAAAwFBAAAAAAADAUEAAAAAAAEBQQAAAAAAAQFBAAAAAAACAQEAAAAAAAABQQAAAAAAAgFBAAAAAAAAAQUAAAAAAAIBLQAAAAAAAgEdAAAAAAAAATUAAAAAAAABDQAAAAAAAgExAAAAAAABAUEAAAAAAAABKQAAAAAAAwFBAAAAAAACATEAAAAAAAIBOQAAAAAAAgEZAAAAAAAAASUAAAAAAAABJQAAAAAAAgEpAAAAAAAAAS0AAAAAAAABNQAAAAAAAAExAAAAAAAAAUUAAAAAAAIBEQAAAAAAAgE5AAAAAAABAUEAAAAAAAEBRQAAAAAAAgEVAAAAAAACAR0AAAAAAAMBQQAAAAAAAgEZAAAAAAABAUEAAAAAAAIBKQAAAAAAAwFBAAAAAAACARUAAAAAAAIBHQAAAAAAAAEhAAAAAAAAAT0AAAAAAAABRQAAAAAAAgExAAAAAAAAAREAAAAAAAABMQAAAAAAAAEpAAAAAAAAAREAAAAAAAIBJQAAAAAAAwFBAAAAAAAAAS0AAAAAAAABMQAAAAAAAAEhAAAAAAACATEAAAAAAAIBHQAAAAAAAAEtAAAAAAACAREAAAAAAAEBQQAAAAAAAAE1AAAAAAAAAQ0AAAAAAAABDQAAAAAAAAE5AAAAAAAAATUAAAAAAAIBPQAAAAAAAgEpAAAAAAACARUAAAAAAAABOQAAAAAAAAE5AAAAAAACAR0AAAAAAAABIQAAAAAAAgE1AAAAAAAAATEAAAAAAAIBKQAAAAAAAAEhAAAAAAAAASkAAAAAAAIBOQAAAAAAAgFBAAAAAAACARkAAAAAAAABKQAAAAAAAwFBAAAAAAAAAREAAAAAAAABJQAAAAAAAQFBAAAAAAACAS0AAAAAAAIBHQAAAAAAAgEhAAAAAAACASkAAAAAAAIBKQAAAAAAAAEZAAAAAAAAAS0AAAAAAAIBJQAAAAAAAAEdAAAAAAACAR0AAAAAAAABRQAAAAAAAAElAAAAAAADAUEAAAAAAAIBHQAAAAAAAAFFAAAAAAACAS0AAAAAAAIBHQAAAAAAAAExAAAAAAACASUAAAAAAAIBEQAAAAAAAwFBAAAAAAAAATUAAAAAAAMBQQAAAAAAAgE9AAAAAAABAUUAAAAAAAIBNQAAAAAAAAPh/AAAAAABAUEAAAAAAAABIQAAAAAAAgENAAAAAAACAS0AAAAAAAABJQAAAAAAAgENAAAAAAACASEAAAAAAAABNQAAAAAAAAEFAAAAAAACASEAAAAAAAABKQAAAAAAAAE9AAAAAAACAS0AAAAAAAIBMQAAAAAAAAERAAAAAAAAASkAAAAAAAIBPQAAAAAAAgExAAAAAAAAAREAAAAAAAIBLQAAAAAAAAEVAAAAAAAAASkAAAAAAAIBDQAAAAAAAgEpAAAAAAACAR0AAAAAAAIBCQAAAAAAAgE9AAAAAAAAA+H8AAAAAAABJQAAAAAAAAExAAAAAAAAATEAAAAAAAABKQAAAAAAAAENAAAAAAACATEAAAAAAAABMQAAAAAAAAPh/AAAAAAAAS0AAAAAAAEBRQAAAAAAAAE9AAAAAAACAT0AAAAAAAABHQAAAAAAAgEdAAAAAAACAS0AAAAAAAABEQAAAAAAAgEdAAAAAAAAASkAAAAAAAEBQQAAAAAAAgE9AAAAAAACATEAAAAAAAIBGQAAAAAAAAE9AAAAAAAAAS0AAAAAAAEBQQAAAAAAAAFBAAAAAAACAR0AAAAAAAIBPQAAAAAAAgFBAAAAAAABAUUAAAAAAAABIQAAAAAAAAE5AAAAAAACATkAAAAAAAIBOQAAAAAAAgEVAAAAAAACASEAAAAAAAIBPQAAAAAAAgE5AAAAAAACATkAAAAAAAEBRQAAAAAAAgFBAAAAAAACAQ0AAAAAAAABKQAAAAAAAgEhAAAAAAACAS0AAAAAAAABPQAAAAAAAAEVAAAAAAAAASUAAAAAAAABKQAAAAAAAAENAAAAAAACAQ0AAAAAAAIBMQAAAAAAAAE9AAAAAAACAS0AAAAAAAIBHQAAAAAAAAFFAAAAAAAAASUAAAAAAAABFQAAAAAAAAPh/AAAAAAAARUAAAAAAAABHQAAAAAAAAElAAAAAAAAAT0AAAAAAAABNQAAAAAAAgEpAAAAAAAAAR0AAAAAAAABDQAAAAAAAAERAAAAAAAAATkAAAAAAAIBPQAAAAAAAgEhAAAAAAACATEAAAAAAAABIQAAAAAAAAEdAAAAAAACATkAAAAAAAIBOQAAAAAAAgEpAAAAAAACASkAAAAAAAABFQAAAAAAAgExAAAAAAAAATEAAAAAAAABIQAAAAAAAgE1AAAAAAACATEAAAAAAAABMQAAAAAAAAFBAAAAAAAAASUAAAAAAAABEQAAAAAAAAERAAAAAAAAASkAAAAAAAIBNQAAAAAAAgEpAAAAAAAAAS0AAAAAAAIBOQAAAAAAAAPh/AAAAAACAREAAAAAAAIBMQAAAAAAAAERAAAAAAACAT0AAAAAAAABPQAAAAAAAAE9AAAAAAAAARUAAAAAAAIBHQAAAAAAAgEpAAAAAAAAAUEAAAAAAAIBJQAAAAAAAAExAAAAAAAAASUAAAAAAAIBQQAAAAAAAAExAAAAAAAAAR0AAAAAAAIBQQAAAAAAAgExAAAAAAACAS0AAAAAAAABAQAAAAAAAAE1AAAAAAACAT0AAAAAAAABIQAAAAAAAAFBAAAAAAAAARkAAAAAAAIBMQAAAAAAAgE5AAAAAAABgf0AAAAAAAIBGQAAAAAAAAEpAAAAAAADAUEAAAAAAAIBGQAAAAAAAgE9AAAAAAAAATEAAAAAAAABHQAAAAAAAgEpAAAAAAAAAT0AAAAAAAIBHQAAAAAAAgENAAAAAAACAQEAAAAAAAABMQAAAAAAAgEtAAAAAAABAUUAAAAAAAABNQAAAAAAAAEVAAAAAAAAATUAAAAAAAIBJQAAAAAAAAFBAAAAAAAAAT0AAAAAAAABKQAAAAAAAgEVAAAAAAABAUEAAAAAAAIBNQAAAAAAAAE9AAAAAAACASUAAAAAAAIBMQAAAAAAAAEdAAAAAAAAAREAAAAAAAIBIQAAAAAAAAEdAAAAAAAAAREAAAAAAAIBIQAAAAAAAgE5AAAAAAAAATEAAAAAAAABJQAAAAAAAgEtAAAAAAAAATkAAAAAAAABBQAAAAAAAgElAAAAAAACASkAAAAAAAABNQAAAAAAAgE5AAAAAAAAASEAAAAAAAIBPQAAAAAAAAExAAAAAAACAUEAAAAAAAABQQAAAAAAAgEhAAAAAAAAATEAAAAAAAMBQQAAAAAAAAEVAAAAAAACAR0AAAAAAAABOQAAAAAAAgEVAAAAAAAAARUAAAAAAAABOQAAAAAAAAEpAAAAAAACAT0AAAAAAAABOQAAAAAAAgE5AAAAAAAAATUAAAAAAAABKQAAAAAAAAFBAAAAAAAAAUUAAAAAAAIBHQAAAAAAAgElAAAAAAACASkAAAAAAAIBPQAAAAAAAAElAAAAAAACARkAAAAAAAABRQAAAAAAAAEdAAAAAAAAAS0AAAAAAAEBQQAAAAAAAgElAAAAAAACARkAAAAAAAIBGQAAAAAAAgExAAAAAAACAQUAAAAAAAABLQAAAAAAAAFFAAAAAAAAATUAAAAAAAABIQAAAAAAAgE1AAAAAAACAR0AAAAAAAABKQAAAAAAAAEdAAAAAAAAAQUAAAAAAAABBQAAAAAAAAEJAAAAAAAAAREAAAAAAAABDQAAAAAAAgE5AAAAAAACAQkAAAAAAAABOQAAAAAAAAENAAAAAAAAATEAAAAAAAIBIQAAAAAAAQFBAAAAAAACATkAAAAAAAEBRQAAAAAAAgEpAAAAAAACATkAAAAAAAIBHQAAAAAAAAE9AAAAAAAAAT0AAAAAAAIBEQAAAAAAAgERAAAAAAAAASEAAAAAAAABIQAAAAAAAAEtAAAAAAACAT0AAAAAAAABGQAAAAAAAgElAAAAAAACAS0AAAAAAAIBIQAAAAAAAAFBAAAAAAACAT0AAAAAAAABHQAAAAAAAAEdAAAAAAACATkAAAAAAAABKQAAAAAAAAE9AAAAAAAAASkAAAAAAAIBDQAAAAAAAAEJAAAAAAAAAUEAAAAAAAIBLQAAAAAAAQFBAAAAAAACARkAAAAAAAABRQAAAAAAAgExAAAAAAAAARkAAAAAAAIBJQAAAAAAAAElAAAAAAAAASkAAAAAAAIBKQAAAAAAAgEhAAAAAAABAUEAAAAAAAMBQQAAAAAAAgE9AAAAAAACARUAAAAAAAIBMQAAAAAAAgE9AAAAAAAAASkAAAAAAAIBOQAAAAAAAAE1AAAAAAAAAT0AAAAAAAABMQAAAAAAAAEhAAAAAAAAAUEAAAAAAAMBQQAAAAAAAgExAAAAAAACAREAAAAAAAABPQAAAAAAAgElAAAAAAABAUEAAAAAAAIBJQAAAAAAAAEdAAAAAAAAAR0AAAAAAAABIQAAAAAAAgEVAAAAAAACATUAAAAAAAIBIQAAAAAAAAExAAAAAAACASkAAAAAAAABNQAAAAAAAgElAAAAAAACAS0AAAAAAAABLQAAAAAAAAEFAAAAAAAAARUAAAAAAAIBGQAAAAAAAAEdAAAAAAAAAT0AAAAAAAIBIQAAAAAAAAENAAAAAAAAAPkAAAAAAAABRQAAAAAAAgE1AAAAAAACASEAAAAAAAIBMQAAAAAAAgEhAAAAAAABAUEAAAAAAAIBHQAAAAAAAAERAAAAAAACARkAAAAAAAABLQAAAAAAAgEtAAAAAAACATEAAAAAAAMBQQAAAAAAAgElAAAAAAAAAS0AAAAAAAABKQAAAAAAAgE9AAAAAAAAASEAAAAAAAIBIQAAAAAAAAEdAAAAAAAAAR0AAAAAAAABHQAAAAAAAQFBAAAAAAABAUUAAAAAAAIBNQAAAAAAAAEhAAAAAAACARUAAAAAAAIBLQAAAAAAAgE1AAAAAAADAUEAAAAAAAEBRQAAAAAAAAEtAAAAAAABAUUAAAAAAAABOQAAAAAAAgEZAAAAAAAAASEAAAAAAAABOQAAAAAAAgEhAAAAAAACAQEAAAAAAAABOQAAAAAAAAFFAAAAAAADAUEAAAAAAAABJQAAAAAAAAEdAAAAAAACAQ0AAAAAAAIBLQAAAAAAAgE1AAAAAAAAAQEAAAAAAAIBPQAAAAAAAgEpAAAAAAAAAS0AAAAAAAABJQAAAAAAAgEZAAAAAAAAAR0AAAAAAAABHQAAAAAAAwFBAAAAAAAAATUAAAAAAAABOQAAAAAAAgEtAAAAAAAAAR0AAAAAAAABPQAAAAAAAgE1AAAAAAACATUAAAAAAAABGQAAAAAAAQFFAAAAAAACARUAAAAAAAIBPQAAAAAAAgEVAAAAAAAAAQkAAAAAAAIBPQAAAAAAAAE5AAAAAAAAATEAAAAAAAABGQAAAAAAAQFFAAAAAAAAASUAAAAAAAIBLQAAAAAAAQFBAAAAAAACAR0AAAAAAAABPQAAAAAAAAE5AAAAAAAAAT0AAAAAAAABPQAAAAAAAgE9AAAAAAACATkAAAAAAAIBLQAAAAAAAgFBAAAAAAABAUUAAAAAAAABOQAAAAAAAgE5AAAAAAACASUAAAAAAAIBIQAAAAAAAAE1AAAAAAAAATkAAAAAAAABIQAAAAAAAgE9AAAAAAAAAREAAAAAAAEBRQAAAAAAAwFBAAAAAAACAREAAAAAAAMBQQAAAAAAAgEZAAAAAAACAUEAAAAAAAIBLQAAAAAAAAEhAAAAAAAAATUAAAAAAAIBOQAAAAAAAgE1AAAAAAACASUAAAAAAAABGQAAAAAAAgE1AAAAAAAAATUAAAAAAAIBFQAAAAAAAAEpAAAAAAACATEAAAAAAAABKQAAAAAAAAExAAAAAAABAUUAAAAAAAIBIQAAAAAAAAFBAAAAAAAAASEAAAAAAAIBEQAAAAAAAgElAAAAAAACARkAAAAAAAIBKQAAAAAAAgEdAAAAAAAAATkAAAAAAAABPQAAAAAAAAElAAAAAAACAS0AAAAAAAABOQAAAAAAAQFBAAAAAAAAAUEAAAAAAAABQQAAAAAAAwFBAAAAAAACATEAAAAAAAABDQAAAAAAAAEpAAAAAAAAAQkAAAAAAAIBIQAAAAAAAQFZAAAAAAAAAUEAAAAAAAIBOQAAAAAAAAFFAAAAAAAAATEAAAAAAAIBHQAAAAAAAAD9AAAAAAACAS0AAAAAAAABPQAAAAAAAAEhAAAAAAAAAR0AAAAAAAABPQAAAAAAAgE5AAAAAAAAATEAAAAAAAEBQQAAAAAAAAENAAAAAAACATEAAAAAAAABPQAAAAAAAgExAAAAAAACAT0AAAAAAAABPQAAAAAAAgEhAAAAAAAAAP0AAAAAAAMBQQAAAAAAAgENAAAAAAAAASEAAAAAAAABDQAAAAAAAgEdAAAAAAACAR0AAAAAAAIBKQAAAAAAAAEdAAAAAAAAAQ0AAAAAAAABKQAAAAAAAAEdAAAAAAACATkAAAAAAAABDQAAAAAAAAElAAAAAAAAAREAAAAAAAIBJQAAAAAAAgE5AAAAAAAAARUAAAAAAAIBPQAAAAAAAAFBAAAAAAACAUEAAAAAAAABFQAAAAAAAgElAAAAAAACARkAAAAAAAABHQAAAAAAAgEtAAAAAAACASEAAAAAAAEBQQAAAAAAAAE1AAAAAAACAR0AAAAAAAEBQQAAAAAAAwFBAAAAAAACAQ0AAAAAAAIBNQAAAAAAAAENAAAAAAACAREAAAAAAAEBQQAAAAAAAAEpAAAAAAACASEAAAAAAAABNQAAAAAAAgEtAAAAAAAAAUEAAAAAAAIBKQAAAAAAAgENAAAAAAAAAS0AAAAAAAMBQQAAAAAAAQFBAAAAAAACARkAAAAAAAIBPQAAAAAAAAExAAAAAAAAAQ0AAAAAAAIBHQAAAAAAAAEdAAAAAAACAUEAAAAAAAIBJQAAAAAAAgE9AAAAAAACARUAAAAAAAIBIQAAAAAAAQFFAAAAAAACASUAAAAAAAIBIQAAAAAAAAEZAAAAAAACARkAAAAAAAABQQAAAAAAAAE5AAAAAAAAATkAAAAAAAABOQAAAAAAAgEpAAAAAAACAT0AAAAAAAIBKQAAAAAAAgEpAAAAAAAAAR0AAAAAAAEBQQAAAAAAAAD5AAAAAAACARUAAAAAAAIBOQAAAAAAAwFBAAAAAAAAARUAAAAAAAABRQAAAAAAAAE1AAAAAAACATEAAAAAAAIBFQAAAAAAAgENAAAAAAACASkAAAAAAAIBLQAAAAAAAgFBAAAAAAAAATUAAAAAAAIBEQAAAAAAAAElAAAAAAACAQ0AAAAAAAIBCQAAAAAAAAEdAAAAAAACAS0AAAAAAAABFQAAAAAAAgEpAAAAAAACAUEAAAAAAAIBLQAAAAAAAAEhAAAAAAACASEAAAAAAAABOQAAAAAAAgE5AAAAAAACAT0AAAAAAAIBOQAAAAAAAgEdAAAAAAACASkAAAAAAAIBGQAAAAAAAAE9AAAAAAACAR0AAAAAAAABEQAAAAAAAgE9AAAAAAAAARUAAAAAAAIBHQAAAAAAAgElAAAAAAACASUAAAAAAAABJQAAAAAAAAEdAAAAAAACAR0AAAAAAAABHQAAAAAAAAExAAAAAAAAAUEAAAAAAAIBIQAAAAAAAgFBAAAAAAAAATkAAAAAAAABOQAAAAAAAgEpAAAAAAACAT0AAAAAAAIBOQAAAAAAAgEZAAAAAAACAR0AAAAAAAIBLQAAAAAAAgEFAAAAAAACAS0AAAAAAAABOQAAAAAAAAD9AAAAAAACASUAAAAAAAABNQAAAAAAAAElAAAAAAAAASEAAAAAAAIBMQAAAAAAAQFFAAAAAAACATEAAAAAAAABGQAAAAAAAAE5AAAAAAAAATEAAAAAAAIBLQAAAAAAAAFFAAAAAAAAARUAAAAAAAIBHQAAAAAAAgE1AAAAAAABAUEAAAAAAAABAQAAAAAAAgEhAAAAAAAAATkAAAAAAAIBLQAAAAAAAAFBAAAAAAACARUAAAAAAAIBOQAAAAAAAAEVAAAAAAAAATUAAAAAAAIBJQAAAAAAAAFFAAAAAAAAATUAAAAAAAABPQAAAAAAAgFBAAAAAAAAASkAAAAAAAEBRQAAAAAAAAFBAAAAAAACAUEAAAAAAAABPQAAAAAAAgEtAAAAAAACAS0AAAAAAAIBMQAAAAAAAAEtAAAAAAADAUEAAAAAAAABPQAAAAAAAgFBAAAAAAAAATEAAAAAAAABQQAAAAAAAwFBAAAAAAACAREAAAAAAAEBQQAAAAAAAgElAAAAAAACASEAAAAAAAABMQAAAAAAAAEZAAAAAAAAATEAAAAAAAABIQAAAAAAAAEtAAAAAAAAAT0AAAAAAAIBKQAAAAAAAgEZAAAAAAAAASUAAAAAAAABLQAAAAAAAAEBAAAAAAABAUEAAAAAAAIBPQAAAAAAAwFBAAAAAAAAAT0AAAAAAAMBQQAAAAAAAAEVAAAAAAAAATkAAAAAAAABIQAAAAAAAAE5AAAAAAABAUUAAAAAAAABLQAAAAAAAAExAAAAAAAAASEAAAAAAAIBGQAAAAAAAgE1AAAAAAACATUAAAAAAAIBIQAAAAAAAAFBAAAAAAACAR0AAAAAAAABHQAAAAAAAgE9AAAAAAACATkAAAAAAAEBQQAAAAAAAAFBAAAAAAACASkAAAAAAAABFQAAAAAAAgEhAAAAAAACAUEAAAAAAAABCQAAAAAAAAEdAAAAAAACASkAAAAAAAABPQAAAAAAAgEtAAAAAAACASkAAAAAAAIBMQAAAAAAAAE1AAAAAAAAAUUAAAAAAAIBEQAAAAAAAQFFAAAAAAACATkAAAAAAAABHQAAAAAAAAE5AAAAAAACAT0AAAAAAAIBGQAAAAAAAAE5AAAAAAAAASUAAAAAAAABQQAAAAAAAgElAAAAAAAAATUAAAAAAAIBPQAAAAAAAgE5AAAAAAACASEAAAAAAAIBMQAAAAAAAgElAAAAAAAAATkAAAAAAAIBQQAAAAAAAAElAAAAAAACASkAAAAAAAIBAQAAAAAAAgEZAAAAAAACATEAAAAAAAABKQAAAAAAAAEpAAAAAAAAATUAAAAAAAABOQAAAAAAAgE1AAAAAAACARUAAAAAAAIBHQAAAAAAAAEpAAAAAAACAT0AAAAAAAIBJQAAAAAAAgE9AAAAAAACASEAAAAAAAIBOQAAAAAAAAFBAAAAAAACATEAAAAAAAABNQAAAAAAAgEtAAAAAAAAAS0AAAAAAAMBQQAAAAAAAgExAAAAAAACAQkAAAAAAAIBOQAAAAAAAAEdAAAAAAAAAP0AAAAAAAIBNQAAAAAAAAElAAAAAAACATUAAAAAAAIBEQAAAAAAAAFBAAAAAAAAATkAAAAAAAABRQAAAAAAAAEdAAAAAAACARUAAAAAAAIBIQAAAAAAAAExAAAAAAAAATkAAAAAAAMBQQAAAAAAAwFBAAAAAAAAASUAAAAAAAABRQAAAAAAAgFBAAAAAAAAAREAAAAAAAIBGQAAAAAAAgE5AAAAAAAAAUUAAAAAAAIBNQAAAAAAAQFBAAAAAAAAASUAAAAAAAABPQAAAAAAAgE1AAAAAAAAATEAAAAAAAABHQAAAAAAAgERAAAAAAACARkAAAAAAAABGQAAAAAAAgEdAAAAAAACAUEAAAAAAAABMQAAAAAAAgEhAAAAAAAAAUEAAAAAAAIBQQAAAAAAAgEZAAAAAAABAUEAAAAAAAABLQAAAAAAAAEhAAAAAAACASEAAAAAAAABEQAAAAAAAAFBAAAAAAACATkAAAAAAAIBOQAAAAAAAgEtAAAAAAACARUAAAAAAAIBPQAAAAAAAAEhAAAAAAAAAR0AAAAAAAIBPQAAAAAAAgEVAAAAAAAAAR0AAAAAAAIBBQAAAAAAAAFFAAAAAAACAR0AAAAAAAIBFQAAAAAAAgExAAAAAAAAAUEAAAAAAAIBOQAAAAAAAAEZAAAAAAAAASUAAAAAAAIBIQAAAAAAAwFBAAAAAAAAAR0AAAAAAAIBJQAAAAAAAAE1AAAAAAAAAR0AAAAAAAIBNQAAAAAAAgEpAAAAAAAAAT0AAAAAAAIBMQAAAAAAAgElAAAAAAABAUUAAAAAAAIBHQAAAAAAAgExAAAAAAACAS0AAAAAAAABKQAAAAAAAgEZAAAAAAACAQ0AAAAAAAABMQAAAAAAAgEZAAAAAAACAREAAAAAAAIBPQAAAAAAAAFFAAAAAAAAAUEAAAAAAAIBIQAAAAAAAAFFAAAAAAAAAR0AAAAAAAIBNQAAAAAAAAERAAAAAAACAR0AAAAAAAIBKQAAAAAAAgE1AAAAAAAAASUAAAAAAAIBHQAAAAAAAAEdAAAAAAAAAR0AAAAAAAMBQQAAAAAAAgElAAAAAAABAUEAAAAAAAABMQAAAAAAAAFFAAAAAAACATEAAAAAAAIBIQAAAAAAAAEhAAAAAAADAUEAAAAAAAABQQAAAAAAAgEpAAAAAAAAARUAAAAAAAABJQAAAAAAAAExAAAAAAACASkAAAAAAAIBNQAAAAAAAwFBAAAAAAACARkAAAAAAAIBGQAAAAAAAgEhAAAAAAABAUEAAAAAAAIBGQAAAAAAAAExAAAAAAAAATkAAAAAAAIBMQAAAAAAAAEtAAAAAAAAASUAAAAAAAIBPQAAAAAAAgERAAAAAAACASUAAAAAAAEBQQAAAAAAAgE1AAAAAAACAUEAAAAAAAIBEQAAAAAAAgFBAAAAAAADAUEAAAAAAAABEQAAAAAAAgENAAAAAAACAUEAAAAAAAABNQAAAAAAAgEZAAAAAAABAUEAAAAAAAIBFQAAAAAAAgExAAAAAAACAR0AAAAAAAABGQAAAAAAAAEdAAAAAAAAAUEAAAAAAAIBNQAAAAAAAgElAAAAAAACAUEAAAAAAAABHQAAAAAAAAEpAAAAAAACASEAAAAAAAABFQAAAAAAAgE9AAAAAAACAUEAAAAAAAABIQAAAAAAAgFBAAAAAAACAREAAAAAAAIBOQAAAAAAAgEtAAAAAAAAAT0AAAAAAAIBBQAAAAAAAgE1AAAAAAAAAS0AAAAAAAABQQAAAAAAAAFBAAAAAAAAAQ0AAAAAAAABOQAAAAAAAgEtAAAAAAACAREAAAAAAAMBQQAAAAAAAgEpAAAAAAACASkAAAAAAAABBQAAAAAAAgENAAAAAAAAAP0AAAAAAAABQQAAAAAAAAERAAAAAAACATUAAAAAAAIBLQAAAAAAAAEdAAAAAAAAATUAAAAAAAIBQQAAAAAAAAExAAAAAAACAR0AAAAAAAIBDQAAAAAAAAEdAAAAAAAAAT0AAAAAAAABHQAAAAAAAAE5AAAAAAAAAQkAAAAAAAIBJQAAAAAAAAE5AAAAAAACAT0AAAAAAAEBQQAAAAAAAgE1AAAAAAAAASUAAAAAAAIBKQAAAAAAAAEdAAAAAAAAAR0AAAAAAAABHQAAAAAAAgEdAAAAAAACATkAAAAAAAABKQAAAAAAAgExAAAAAAACATUAAAAAAAIBPQAAAAAAAAEhAAAAAAACATUAAAAAAAABNQAAAAAAAgEdAAAAAAAAATEAAAAAAAABGQAAAAAAAAEZAAAAAAACAQEAAAAAAAABLQAAAAAAAgEZAAAAAAAAATkAAAAAAAABPQAAAAAAAgEpAAAAAAACAREAAAAAAAIBDQAAAAAAAAEZAAAAAAACATEAAAAAAAIBAQAAAAAAAAFFAAAAAAACASEAAAAAAAABJQAAAAAAAAE5AAAAAAAAASUAAAAAAAABEQAAAAAAAAEdAAAAAAACASEAAAAAAAEBRQAAAAAAAAEtAAAAAAACASUAAAAAAAIBJQAAAAAAAAFFAAAAAAACAREAAAAAAAABNQAAAAAAAAE9AAAAAAAAARUAAAAAAAABHQAAAAAAAAEtAAAAAAAAAS0AAAAAAAIBHQAAAAAAAgFBAAAAAAAAARUAAAAAAAIBLQAAAAAAAAE5AAAAAAAAASkAAAAAAAIBOQAAAAAAAAEhAAAAAAAAATUAAAAAAAABGQAAAAAAAgEVAAAAAAACASkAAAAAAAABIQAAAAAAAgE9AAAAAAAAAUEAAAAAAAIBDQAAAAAAAgE1AAAAAAACASUAAAAAAAIBDQAAAAAAAAExAAAAAAACASUAAAAAAAIBIQAAAAAAAAFFAAAAAAACASUAAAAAAAABLQAAAAAAAAFBAAAAAAACARUAAAAAAAIBDQAAAAAAAQFFAAAAAAACAUEAAAAAAAIBLQAAAAAAAQFFAAAAAAACASUAAAAAAAIBMQAAAAAAAgE9AAAAAAACAS0AAAAAAAIBLQAAAAAAAgE1AAAAAAACATkAAAAAAAIBIQAAAAAAAAE5AAAAAAAAASUAAAAAAAIBOQAAAAAAAgEdAAAAAAACAS0AAAAAAAIBMQAAAAAAAgEpAAAAAAAAARkAAAAAAAIBPQAAAAAAAAE9AAAAAAACARUAAAAAAAEBRQAAAAAAAAEdAAAAAAACASkAAAAAAAABEQAAAAAAAgE9AAAAAAAAAUEAAAAAAAIBMQAAAAAAAgEVAAAAAAAAATkAAAAAAAABFQAAAAAAAAERAAAAAAACARUAAAAAAAIBMQAAAAAAAAFFAAAAAAABAUEAAAAAAAABOQAAAAAAAwFBAAAAAAACAQ0AAAAAAAIBNQAAAAAAAAEpAAAAAAAAATUAAAAAAAABIQAAAAAAAgE5AAAAAAAAAQUAAAAAAAABMQAAAAAAAgE1AAAAAAAAASkAAAAAAAIBMQAAAAAAAwFBAAAAAAABAUEAAAAAAAABIQAAAAAAAAFBAAAAAAAAAUEAAAAAAAIBMQAAAAAAAgEdAAAAAAACASEAAAAAAAABEQAAAAAAAgExAAAAAAACAR0AAAAAAAIBPQAAAAAAAgEVAAAAAAACAUEAAAAAAAIBQQAAAAAAAAEZAAAAAAAAAUEAAAAAAAIBGQAAAAAAAAFFAAAAAAACAS0AAAAAAAABLQAAAAAAAgFBAAAAAAACATUAAAAAAAIBOQAAAAAAAAE1AAAAAAACASUAAAAAAAABRQAAAAAAAgERAAAAAAACATUAAAAAAAABQQAAAAAAAgE9AAAAAAABAUEAAAAAAAIBJQAAAAAAAgFBAAAAAAACAQUAAAAAAAABFQAAAAAAAgEhAAAAAAACAR0AAAAAAAIBQQAAAAAAAgEhAAAAAAACAR0AAAAAAAIBGQAAAAAAAgEtAAAAAAACAT0AAAAAAAIBJQAAAAAAAgE1AAAAAAACARUAAAAAAAIBNQAAAAAAAgEtAAAAAAACASEAAAAAAAIBGQAAAAAAAgERAAAAAAACAT0AAAAAAAIBEQAAAAAAAgE1AAAAAAAAAT0AAAAAAAEBQQAAAAAAAgEdAAAAAAADAUEAAAAAAAIBKQAAAAAAAAEdAAAAAAAAATEAAAAAAAIBPQAAAAAAAwFBAAAAAAACAT0AAAAAAAIBHQAAAAAAAgE9AAAAAAAAASEAAAAAAAIBOQAAAAAAAgENAAAAAAAAAUUAAAAAAAIBJQAAAAAAAQFFAAAAAAACAQ0AAAAAAAABIQAAAAAAAAD5AAAAAAAAAREAAAAAAAIBDQAAAAAAAAEZAAAAAAAAATUAAAAAAAABDQAAAAAAAgEdAAAAAAACATUAAAAAAAIBKQAAAAAAAgERAAAAAAAAASkAAAAAAAABLQAAAAAAAgElAAAAAAACAREAAAAAAAABNQAAAAAAAgEhAAAAAAAAATUAAAAAAAABFQAAAAAAAAFFAAAAAAACAQUAAAAAAAABHQAAAAAAAgEpAAAAAAAAAREAAAAAAAIBQQAAAAAAAAE9AAAAAAACASkAAAAAAAIBCQAAAAAAAgEpAAAAAAAAASUAAAAAAAABQQAAAAAAAgFBAAAAAAABAUEAAAAAAAABQQAAAAAAAgEhAAAAAAACASkAAAAAAAABJQAAAAAAAgE5AAAAAAACATEAAAAAAAABPQAAAAAAAAEpAAAAAAACAR0AAAAAAAABQQAAAAAAAAEFAAAAAAACATkAAAAAAAIBOQAAAAAAAAE1AAAAAAAAASkAAAAAAAABJQAAAAAAAgFBAAAAAAACAUEAAAAAAAIBFQAAAAAAAgERAAAAAAAAATEAAAAAAAIBKQAAAAAAAgEpAAAAAAACARUAAAAAAAABQQAAAAAAAgElAAAAAAAAATUAAAAAAAABRQAAAAAAAgFBAAAAAAACASUAAAAAAAIBLQAAAAAAAAE9AAAAAAAAAT0AAAAAAAABFQAAAAAAAgEtAAAAAAACATUAAAAAAAIBQQAAAAAAAgExAAAAAAAAAR0AAAAAAAABQQAAAAAAAQFBAAAAAAAAASEAAAAAAAABEQAAAAAAAAEtAAAAAAAAATkAAAAAAAIBPQAAAAAAAgE5AAAAAAABAUUAAAAAAAIBGQAAAAAAAgEZAAAAAAACASEAAAAAAAEBRQAAAAAAAAEVAAAAAAAAAS0AAAAAAAABQQAAAAAAAgEhAAAAAAAAARkAAAAAAAABKQAAAAAAAgEdAAAAAAACATUAAAAAAAMBQQAAAAAAAgE9AAAAAAAAAUUAAAAAAAABKQAAAAAAAgE5AAAAAAACAQ0AAAAAAAIBQQAAAAAAAgEpAAAAAAACASUAAAAAAAABEQAAAAAAAAExAAAAAAACAQEAAAAAAAMBQQAAAAAAAgEtAAAAAAACARkAAAAAAAABOQAAAAAAAgEdAAAAAAACARkAAAAAAAABMQAAAAAAAgERAAAAAAABAUEAAAAAAAIBQQAAAAAAAAEpAAAAAAACAS0AAAAAAAIBMQAAAAAAAgEhAAAAAAAAASEAAAAAAAAA/QAAAAAAAgE1AAAAAAACARUAAAAAAAIBGQAAAAAAAgE5AAAAAAAAAP0AAAAAAAIBHQAAAAAAAAEBAAAAAAACASEAAAAAAAABLQAAAAAAAgElAAAAAAACAR0AAAAAAAIBKQAAAAAAAAERAAAAAAACATUAAAAAAAEBQQAAAAAAAgEdAAAAAAACATUAAAAAAAIBDQAAAAAAAAEtAAAAAAAAAQkAAAAAAAABHQAAAAAAAgERAAAAAAAAAT0AAAAAAAIBGQAAAAAAAgERAAAAAAACARUAAAAAAAEBRQAAAAAAAAExAAAAAAAAAT0AAAAAAAEBQQAAAAAAAAEBAAAAAAACAUEAAAAAAAABPQAAAAAAAAEBAAAAAAAAAQEAAAAAAAABJQAAAAAAAgEpAAAAAAAAATkAAAAAAAIBNQAAAAAAAAEdAAAAAAACASEAAAAAAAIBDQAAAAAAAAElAAAAAAACATUAAAAAAAABOQAAAAAAAgE9AAAAAAACATkAAAAAAAIBPQAAAAAAAgEhAAAAAAAAARUAAAAAAAABHQAAAAAAAgElAAAAAAACARUAAAAAAAIBIQAAAAAAAgEZAAAAAAAAAR0AAAAAAAEBRQAAAAAAAAElAAAAAAACAUEAAAAAAAIBFQAAAAAAAAExAAAAAAACAQkAAAAAAAABKQAAAAAAAgEpAAAAAAACAS0AAAAAAAIBFQAAAAAAAAEpAAAAAAACATkAAAAAAAIBGQAAAAAAAAEVAAAAAAAAASUAAAAAAAIBQQAAAAAAAAE9AAAAAAADAUEAAAAAAAABOQAAAAAAAgExAAAAAAABAUUAAAAAAAABOQAAAAAAAAEhAAAAAAAAASUAAAAAAAIBKQAAAAAAAgE9AAAAAAAAASkAAAAAAAIBMQAAAAAAAgEtAAAAAAACAT0AAAAAAAIBJQAAAAAAAAEdAAAAAAAAASUAAAAAAAABMQAAAAAAAgExAAAAAAAAAP0AAAAAAAIBNQAAAAAAAgEpAAAAAAACAUEAAAAAAAABHQAAAAAAAwFBAAAAAAACATkAAAAAAAABFQAAAAAAAAEJAAAAAAACASEAAAAAAAABRQAAAAAAAgEtAAAAAAAAAUUAAAAAAAABKQAAAAAAAgE9AAAAAAACARkAAAAAAAIBKQAAAAAAAAEdAAAAAAACATUAAAAAAAIBKQAAAAAAAgEpAAAAAAAAARUAAAAAAAIBKQAAAAAAAgElAAAAAAAAAREAAAAAAAABGQAAAAAAAAE5AAAAAAACAT0AAAAAAAIBQQAAAAAAAgExAAAAAAAAATUAAAAAAAIBOQAAAAAAAAEdAAAAAAACATUAAAAAAAIBMQAAAAAAAgEtAAAAAAACATkAAAAAAAABGQAAAAAAAgEtAAAAAAACASkAAAAAAAEBRQAAAAAAAgEtAAAAAAAAAQ0AAAAAAAABIQAAAAAAAwFBAAAAAAACASUAAAAAAAIBLQAAAAAAAgEdAAAAAAACAQkAAAAAAAABLQAAAAAAAgE5AAAAAAAAASUAAAAAAAABLQAAAAAAAgEdAAAAAAAAAT0AAAAAAAIBMQAAAAAAAgE1AAAAAAACASEAAAAAAAIBGQAAAAAAAQFFAAAAAAACAS0AAAAAAAEBRQAAAAAAAgEZAAAAAAACATEAAAAAAAABLQAAAAAAAgEhAAAAAAAAATEAAAAAAAEBRQAAAAAAAAE5AAAAAAACAQUAAAAAAAABNQAAAAAAAQFFAAAAAAABAUEAAAAAAAMBQQAAAAAAAgElAAAAAAAAAREAAAAAAAIBAQAAAAAAAAExAAAAAAACATUAAAAAAAIBOQAAAAAAAAEdAAAAAAADAUEAAAAAAAEBRQAAAAAAAAEpAAAAAAACAREAAAAAAAIBMQAAAAAAAAEtAAAAAAAAATkAAAAAAAABCQAAAAAAAAEpAAAAAAACAQUAAAAAAAIBMQAAAAAAAAFFAAAAAAAAAUEAAAAAAAIBIQAAAAAAAgExAAAAAAACASEAAAAAAAIBKQAAAAAAAAEpAAAAAAAAAR0AAAAAAAABLQAAAAAAAAE5AAAAAAAAAR0AAAAAAAIBQQAAAAAAAgEtAAAAAAACAR0AAAAAAAIBIQAAAAAAAAEZAAAAAAACASEAAAAAAAABOQAAAAAAAAEdAAAAAAACASEAAAAAAAABJQAAAAAAAgEhAAAAAAACASUAAAAAAAABKQAAAAAAAAEdAAAAAAAAAUUAAAAAAAABIQAAAAAAAAEhAAAAAAACASkAAAAAAAABLQAAAAAAAAElAAAAAAAAATEAAAAAAAABMQAAAAAAAAEtAAAAAAACARkAAAAAAAIBLQAAAAAAAAFBAAAAAAAAAR0AAAAAAAABMQAAAAAAAAE1AAAAAAACARkAAAAAAAAA+QAAAAAAAwFBAAAAAAAAAR0AAAAAAAIBIQAAAAAAAgE9AAAAAAACASEAAAAAAAMBQQAAAAAAAAE5AAAAAAAAAR0AAAAAAAIBCQAAAAAAAQFBAAAAAAACARUAAAAAAAIBOQAAAAAAAAFBAAAAAAAAASkAAAAAAAIBFQAAAAAAAwFBAAAAAAACASUAAAAAAAEBRQAAAAAAAwFBAAAAAAACATUAAAAAAAABJQAAAAAAAQFBAAAAAAACAR0AAAAAAAIBJQAAAAAAAAEdAAAAAAACASkAAAAAAAIBMQAAAAAAAgEpAAAAAAACAT0AAAAAAAABOQAAAAAAAgEdAAAAAAAAAR0AAAAAAAIBFQAAAAAAAAEdAAAAAAAAATkAAAAAAAIBKQAAAAAAAAE9AAAAAAACAR0AAAAAAAEBQQAAAAAAAgE1AAAAAAACATkAAAAAAAEBRQAAAAAAAgEtAAAAAAACASkAAAAAAAABLQAAAAAAAgEhAAAAAAACATkAAAAAAAABPQAAAAAAAAERAAAAAAACARkAAAAAAAIBHQAAAAAAAgE1AAAAAAAAARUAAAAAAAIBQQAAAAAAAAEFAAAAAAABAUEAAAAAAAIBFQAAAAAAAAElAAAAAAAAATEAAAAAAAIBOQAAAAAAAgEtAAAAAAACARkAAAAAAAABKQAAAAAAAAEVAAAAAAABAUEAAAAAAAEBQQAAAAAAAgENAAAAAAAAARkAAAAAAAABJQAAAAAAAwFBAAAAAAACATkAAAAAAAIBOQAAAAAAAAE5AAAAAAAAAUEAAAAAAAIBGQAAAAAAAAE5AAAAAAAAATEAAAAAAAIBIQAAAAAAAgElAAAAAAACATkAAAAAAAIBKQAAAAAAAgE1AAAAAAAAAQ0AAAAAAAABQQAAAAAAAgEpAAAAAAADAUEAAAAAAAEBRQAAAAAAAgE9AAAAAAAAATUAAAAAAAABGQAAAAAAAwFBAAAAAAACASkAAAAAAAABIQAAAAAAAAE1AAAAAAACAR0AAAAAAAABRQAAAAAAAQFFAAAAAAAAATkAAAAAAAABOQAAAAAAAAElAAAAAAAAASUAAAAAAAIBNQAAAAAAAgE9AAAAAAAAAT0AAAAAAAABEQAAAAAAAAEhAAAAAAAAATkAAAAAAAABHQAAAAAAAAElAAAAAAAAAR0AAAAAAAABQQAAAAAAAAFBAAAAAAAAAUUAAAAAAAABRQAAAAAAAQFBAAAAAAAAAUEAAAAAAAIBLQAAAAAAAQFBAAAAAAAAASUAAAAAAAABEQAAAAAAAgEFAAAAAAAAASUAAAAAAAABKQAAAAAAAgENAAAAAAACAS0AAAAAAAEBRQAAAAAAAgEtAAAAAAAAATkAAAAAAAABJQAAAAAAAAE9AAAAAAAAAUEAAAAAAAIBHQAAAAAAAgERAAAAAAAAATkAAAAAAAEBRQAAAAAAAAENAAAAAAACAREAAAAAAAABPQAAAAAAAAEtAAAAAAADAUEAAAAAAAIBPQAAAAAAAAElAAAAAAACASkAAAAAAAABHQAAAAAAAAEdAAAAAAAAAUEAAAAAAAIBHQAAAAAAAAFFAAAAAAACASUAAAAAAAIBOQAAAAAAAgEtAAAAAAAAASUAAAAAAAABKQAAAAAAAgEdAAAAAAACAQkAAAAAAAIBMQAAAAAAAgEdAAAAAAAAASEAAAAAAAIBHQAAAAAAAgEZAAAAAAACAQkAAAAAAAABNQAAAAAAAgEVAAAAAAAAATEAAAAAAAABQQAAAAAAAAERAAAAAAAAATUAAAAAAAABMQAAAAAAAAEVAAAAAAACAT0AAAAAAAIBNQAAAAAAAAE9AAAAAAABAUUAAAAAAAABNQAAAAAAAAFBAAAAAAACAR0AAAAAAAIBNQAAAAAAAAEhAAAAAAAAARkAAAAAAAIBIQAAAAAAAAEdAAAAAAAAASEAAAAAAAIBKQAAAAAAAgE9AAAAAAACAR0AAAAAAAABKQAAAAAAAAE9AAAAAAAAARUAAAAAAAIBHQAAAAAAAgEVAAAAAAAAATUAAAAAAAIBNQAAAAAAAgEFAAAAAAAAAUEAAAAAAAIBFQAAAAAAAAExAAAAAAAAATkAAAAAAAMBQQAAAAAAAgExAAAAAAADAUEAAAAAAAABCQAAAAAAAAERAAAAAAACASEAAAAAAAIBJQAAAAAAAgE9AAAAAAAAAQ0AAAAAAAABGQAAAAAAAAExAAAAAAAAARkAAAAAAAIBOQAAAAAAAAENAAAAAAAAAUUAAAAAAAEBQQAAAAAAAgEtAAAAAAACAUEAAAAAAAIBFQAAAAAAAgExAAAAAAACAUEAAAAAAAIBNQAAAAAAAgExAAAAAAAAAUUAAAAAAAIBJQAAAAAAAAFFAAAAAAACAR0AAAAAAAABPQAAAAAAAAElAAAAAAABAUUAAAAAAAIBQQAAAAAAAwFBAAAAAAAAAT0AAAAAAAMBQQAAAAAAAgFBAAAAAAAAASEAAAAAAAABGQAAAAAAAAElAAAAAAAAATEAAAAAAAIBIQAAAAAAAAEdAAAAAAAAASUAAAAAAAABPQAAAAAAAAERAAAAAAABAUUAAAAAAAABQQAAAAAAAAEJAAAAAAAAASUAAAAAAAIBIQAAAAAAAQFBAAAAAAAAAREAAAAAAAABQQAAAAAAAAElAAAAAAACASUAAAAAAAMBQQAAAAAAAgElAAAAAAAAAT0AAAAAAAABPQAAAAAAAgEtAAAAAAACAT0AAAAAAAABFQAAAAAAAAExAAAAAAAAAP0AAAAAAAABMQAAAAAAAgE1AAAAAAAAASEAAAAAAAIBQQAAAAAAAgElAAAAAAABAUUAAAAAAAIBPQAAAAAAAAEhAAAAAAAAAR0AAAAAAAEBRQAAAAAAAAE5AAAAAAACATkAAAAAAAABOQAAAAAAAAE1AAAAAAAAARkAAAAAAAABIQAAAAAAAgEZAAAAAAAAASkAAAAAAAABNQAAAAAAAAEhAAAAAAAAATUAAAAAAAIBGQAAAAAAAgFBAAAAAAAAAT0AAAAAAAABOQAAAAAAAAEtAAAAAAACAT0AAAAAAAIBMQAAAAAAAgE9AAAAAAACASEAAAAAAAIBGQAAAAAAAwFBAAAAAAAAAS0AAAAAAAIBNQAAAAAAAgElAAAAAAAAAR0AAAAAAAABQQAAAAAAAAFFAAAAAAACAR0AAAAAAAABKQAAAAAAAQFFAAAAAAACATUAAAAAAAEBQQAAAAAAAAExAAAAAAACARkAAAAAAAABIQAAAAAAAgEVAAAAAAADAUEAAAAAAAEBQQAAAAAAAgExAAAAAAAAASEAAAAAAAIBGQAAAAAAAAFBAAAAAAABAUEAAAAAAAIBKQAAAAAAAgE9AAAAAAAAATkAAAAAAAIBGQAAAAAAAgElAAAAAAAAAS0AAAAAAAABLQAAAAAAAgEhAAAAAAACASEAAAAAAAIBEQAAAAAAAgElAAAAAAAAAUUAAAAAAAABGQAAAAAAAAFFAAAAAAADAUEAAAAAAAABPQAAAAAAAgEZAAAAAAAAAR0AAAAAAAABIQAAAAAAAgE5AAAAAAAAASkAAAAAAAABIQAAAAAAAgE5AAAAAAACAR0AAAAAAAABLQAAAAAAAgEtAAAAAAAAASEAAAAAAAIBHQAAAAAAAAE9AAAAAAACASUAAAAAAAIBIQAAAAAAAAEdAAAAAAAAATEAAAAAAAIBBQAAAAAAAgFBAAAAAAACAR0AAAAAAAIBPQAAAAAAAgERAAAAAAAAAR0AAAAAAAABRQAAAAAAAgEhAAAAAAACATkAAAAAAAIBFQAAAAAAAAElAAAAAAAAAS0AAAAAAAABFQAAAAAAAAFFAAAAAAAAASEAAAAAAAIBIQAAAAAAAAEdAAAAAAAAAQ0AAAAAAAIBPQAAAAAAAQFBAAAAAAAAAR0AAAAAAAIBNQAAAAAAAgE5AAAAAAACAR0AAAAAAAABNQAAAAAAAgEtAAAAAAAAASEAAAAAAAABJQAAAAAAAgE1AAAAAAAAASUAAAAAAAIBHQAAAAAAAAE1AAAAAAACASUAAAAAAAMBQQAAAAAAAAEZAAAAAAAAASEAAAAAAAABMQAAAAAAAAEhAAAAAAACAS0AAAAAAAIBGQAAAAAAAgElAAAAAAAAATkAAAAAAAABKQAAAAAAAAE9AAAAAAABAUUAAAAAAAABDQAAAAAAAgExAAAAAAACASkAAAAAAAIBIQAAAAAAAAE1AAAAAAAAARkAAAAAAAIBAQAAAAAAAAEdAAAAAAAAAUUAAAAAAAIBKQAAAAAAAgEhAAAAAAACATEAAAAAAAIBKQAAAAAAAwFBAAAAAAACAR0AAAAAAAABJQAAAAAAAAE5AAAAAAAAASEAAAAAAAABFQAAAAAAAAExAAAAAAAAATEAAAAAAAIBLQAAAAAAAAEdAAAAAAACARUAAAAAAAABKQAAAAAAAAFBAAAAAAAAAS0AAAAAAAABEQAAAAAAAAE1AAAAAAAAAT0AAAAAAAMBQQAAAAAAAgFBAAAAAAAAAUUAAAAAAAABNQAAAAAAAAEtAAAAAAABAUUAAAAAAAABMQAAAAAAAgE5AAAAAAAAARUAAAAAAAABDQAAAAAAAgExAAAAAAACAQ0AAAAAAAIBQQAAAAAAAgE1AAAAAAAAAP0AAAAAAAABHQAAAAAAAgEpAAAAAAACASEAAAAAAAABRQAAAAAAAgEZAAAAAAACAT0AAAAAAAIBEQAAAAAAAgE5AAAAAAABAUUAAAAAAAABMQAAAAAAAgEZAAAAAAACAQkAAAAAAAABPQAAAAAAAQFFAAAAAAAAARkAAAAAAAABLQAAAAAAAgEpAAAAAAAAATkAAAAAAAIBGQAAAAAAAAEVAAAAAAACAR0AAAAAAAABIQAAAAAAAgEhAAAAAAACASUAAAAAAAIBJQAAAAAAAgEtAAAAAAAAAUEAAAAAAAABQQAAAAAAAAE1AAAAAAABAUUAAAAAAAEBRQAAAAAAAgE5AAAAAAAAASkAAAAAAAABLQAAAAAAAAFBAAAAAAACARkAAAAAAAIBCQAAAAAAAAExAAAAAAAAAS0AAAAAAAIBLQAAAAAAAAExAAAAAAAAATUAAAAAAAABGQAAAAAAAgElAAAAAAACAS0AAAAAAAIBMQAAAAAAAAElAAAAAAACAUEAAAAAAAABPQAAAAAAAAE9AAAAAAAAAT0AAAAAAAIBIQAAAAAAAgEhAAAAAAACAS0AAAAAAAABDQAAAAAAAgE9AAAAAAACAR0AAAAAAAEBQQAAAAAAAgE9AAAAAAAAAQEAAAAAAAABIQAAAAAAAAE5AAAAAAACARkAAAAAAAIBLQAAAAAAAAEVAAAAAAADAUEAAAAAAAIBQQAAAAAAAAEZAAAAAAACATUAAAAAAAABRQAAAAAAAAEZAAAAAAACASEAAAAAAAIBPQAAAAAAAgE9AAAAAAAAATkAAAAAAAIBIQAAAAAAAAEdAAAAAAAAAT0AAAAAAAABJQAAAAAAAAEhAAAAAAAAATkAAAAAAAIBLQAAAAAAAgFBAAAAAAACATUAAAAAAAEBRQAAAAAAAgExAAAAAAACARkAAAAAAAIBLQAAAAAAAAEJAAAAAAAAAR0AAAAAAAMBQQAAAAAAAgE1AAAAAAAAASUAAAAAAAABOQAAAAAAAgE9AAAAAAAAASUAAAAAAAABQQAAAAAAAgEtAAAAAAACAR0AAAAAAAABQQAAAAAAAAFBAAAAAAAAASUAAAAAAAABHQAAAAAAAgE5AAAAAAACATkAAAAAAAEBRQAAAAAAAQFFAAAAAAAAASEAAAAAAAABFQAAAAAAAgEZAAAAAAACARUAAAAAAAIBNQAAAAAAAAE9AAAAAAAAAT0AAAAAAAABDQAAAAAAAQFFAAAAAAAAARUAAAAAAAIBNQAAAAAAAgFBAAAAAAACAT0AAAAAAAABMQAAAAAAAgEJAAAAAAAAASUAAAAAAAABKQAAAAAAAAEtAAAAAAAAATUAAAAAAAABFQAAAAAAAgE1AAAAAAAAATEAAAAAAAABJQAAAAAAAAEVAAAAAAACAR0AAAAAAAIBGQAAAAAAAgERAAAAAAACAR0AAAAAAAABMQAAAAAAAgElAAAAAAACARkAAAAAAAIBFQAAAAAAAAEtAAAAAAABAUEAAAAAAAABIQAAAAAAAgEhAAAAAAACASUAAAAAAAABKQAAAAAAAAEtAAAAAAACAREAAAAAAAIBPQAAAAAAAAEtAAAAAAABAUUAAAAAAAABQQAAAAAAAQFFAAAAAAACAUEAAAAAAAABQQAAAAAAAAEdAAAAAAAAASUAAAAAAAABHQAAAAAAAAE5AAAAAAACAQ0AAAAAAAABOQAAAAAAAAEhAAAAAAACASUAAAAAAAIBLQAAAAAAAAE9AAAAAAAAATEAAAAAAAABCQAAAAAAAQFBAAAAAAAAATUAAAAAAAABPQAAAAAAAAEpAAAAAAACAUEAAAAAAAABMQAAAAAAAAEtAAAAAAAAATEAAAAAAAABPQAAAAAAAAEtAAAAAAABAUEAAAAAAAIBNQAAAAAAAgElAAAAAAABAUEAAAAAAAABLQAAAAAAAgExAAAAAAAAATkAAAAAAAABOQAAAAAAAAEhAAAAAAACASkAAAAAAAABIQAAAAAAAAFFAAAAAAACASEAAAAAAAABLQAAAAAAAgEhAAAAAAACAS0AAAAAAAABHQAAAAAAAgERAAAAAAACASkAAAAAAAABKQAAAAAAAgEtAAAAAAACAT0AAAAAAAIBKQAAAAAAAgFBAAAAAAAAATEAAAAAAAABNQAAAAAAAAElAAAAAAAAASkAAAAAAAABMQAAAAAAAgEpAAAAAAACAR0AAAAAAAABKQAAAAAAAgEtAAAAAAAAAT0AAAAAAAIBJQAAAAAAAgE9AAAAAAACAR0AAAAAAAABJQAAAAAAAAE5AAAAAAACATkAAAAAAAMBQQAAAAAAAgE1AAAAAAACAUEAAAAAAAABGQAAAAAAAAEZAAAAAAAAATEAAAAAAAABDQAAAAAAAgEhAAAAAAACATEAAAAAAAIBNQAAAAAAAgEhAAAAAAAAASEAAAAAAAIBJQAAAAAAAAEtAAAAAAACATUAAAAAAAABMQAAAAAAAAEpAAAAAAACASEAAAAAAAIBLQAAAAAAAAE5AAAAAAACAT0AAAAAAAABNQAAAAAAAgENAAAAAAAAAT0AAAAAAAABOQAAAAAAAgEZAAAAAAACARkAAAAAAAABPQAAAAAAAQFBAAAAAAAAAUUAAAAAAAIBFQAAAAAAAAEJAAAAAAACAT0AAAAAAAABCQAAAAAAAgEdAAAAAAACASUAAAAAAAIBOQAAAAAAAgFBAAAAAAACAR0AAAAAAAIBEQAAAAAAAAEhAAAAAAACARkAAAAAAAMBQQAAAAAAAAE1AAAAAAAAASUAAAAAAAIBHQAAAAAAAgE1AAAAAAADAUEAAAAAAAIBPQAAAAAAAAE9AAAAAAAAASkAAAAAAAEBQQAAAAAAAgEFAAAAAAACASUAAAAAAAABLQAAAAAAAAEZAAAAAAACATEAAAAAAAIBMQAAAAAAAAEJAAAAAAACARkAAAAAAAABJQAAAAAAAgEVAAAAAAAAAQkAAAAAAAABLQAAAAAAAQFBAAAAAAACAREAAAAAAAEBQQAAAAAAAgE1AAAAAAACATkAAAAAAAIBGQAAAAAAAQFFAAAAAAAAAS0AAAAAAAABJQAAAAAAAgEpAAAAAAAAASUAAAAAAAMBQQAAAAAAAgEVAAAAAAACAQ0AAAAAAAIBGQAAAAAAAAEdAAAAAAABAUEAAAAAAAABFQAAAAAAAAFFAAAAAAABAUUAAAAAAAIBHQAAAAAAAAEhAAAAAAAAASEAAAAAAAIBJQAAAAAAAAFFAAAAAAAAASEAAAAAAAIBBQAAAAAAAgEhAAAAAAAAATkAAAAAAAABQQAAAAAAAgEtAAAAAAAAASkAAAAAAAABOQAAAAAAAAFFAAAAAAACASEAAAAAAAIBGQAAAAAAAAEdAAAAAAACASEAAAAAAAMBQQAAAAAAAAE9AAAAAAAAAT0AAAAAAAABLQAAAAAAAAElAAAAAAACASkAAAAAAAIBJQAAAAAAAgExAAAAAAAAASEAAAAAAAIBKQAAAAAAAAEtAAAAAAACASEAAAAAAAIBQQAAAAAAAQFBAAAAAAACAS0AAAAAAAIBIQAAAAAAAgEdAAAAAAAAATUAAAAAAAABNQAAAAAAAgEdAAAAAAACAQkAAAAAAAIBOQAAAAAAAAE1AAAAAAAAAUUAAAAAAAIBPQAAAAAAAgExAAAAAAAAAQkAAAAAAAIBHQAAAAAAAgE1AAAAAAACAS0AAAAAAAIBEQAAAAAAAAEZAAAAAAACATkAAAAAAAIBIQAAAAAAAQFBAAAAAAABAUUAAAAAAAABKQAAAAAAAAFBAAAAAAABAUUAAAAAAAABGQAAAAAAAgEhAAAAAAAAAUEAAAAAAAIBFQAAAAAAAgEtAAAAAAACASUAAAAAAAIBDQAAAAAAAgEJAAAAAAACATkAAAAAAAABLQAAAAAAAgE1AAAAAAACARkAAAAAAAIBOQAAAAAAAAElAAAAAAACASEAAAAAAAABEQAAAAAAAAEhAAAAAAACASEAAAAAAAIBKQAAAAAAAAEZAAAAAAACASkAAAAAAAABKQAAAAAAAgEpAAAAAAAAASEAAAAAAAIBMQAAAAAAAAEZAAAAAAACATUAAAAAAAIBIQAAAAAAAgEpAAAAAAACAS0AAAAAAAABPQAAAAAAAAENAAAAAAAAATEAAAAAAAIBKQAAAAAAAAERAAAAAAACARUAAAAAAAMBQQAAAAAAAgEVAAAAAAAAASUAAAAAAAIBOQAAAAAAAAE9AAAAAAACASkAAAAAAAIBLQAAAAAAAAE1AAAAAAABAUUAAAAAAAABKQAAAAAAAAE9AAAAAAAAAUEAAAAAAAABRQAAAAAAAAEhAAAAAAACASUAAAAAAAMBQQAAAAAAAAE1AAAAAAAAAT0AAAAAAAEBRQAAAAAAAgExAAAAAAACASkAAAAAAAIBHQAAAAAAAAE1AAAAAAAAAR0AAAAAAAIBKQAAAAAAAgEhAAAAAAABAUEAAAAAAAABJQAAAAAAAgENAAAAAAAAARUAAAAAAAIBGQAAAAAAAgEdAAAAAAACASkAAAAAAAIBLQAAAAAAAgE9AAAAAAAAAT0AAAAAAAIBJQAAAAAAAgExAAAAAAAAAR0AAAAAAAABFQAAAAAAAgE9AAAAAAACATEAAAAAAAABKQAAAAAAAAExAAAAAAAAATUAAAAAAAIBQQAAAAAAAAEJAAAAAAAAAQkAAAAAAAIBLQAAAAAAAAEZAAAAAAACATUAAAAAAAABDQAAAAAAAAERAAAAAAAAAUUAAAAAAAIBHQAAAAAAAgExAAAAAAAAARUAAAAAAAIBFQAAAAAAAAEpAAAAAAABAUEAAAAAAAIBMQAAAAAAAgEdAAAAAAACAREAAAAAAAIBJQAAAAAAAAE5AAAAAAACASkAAAAAAAIBHQAAAAAAAAEpAAAAAAACAT0AAAAAAAIBLQAAAAAAAQFFAAAAAAAAAREAAAAAAAABGQAAAAAAAAERAAAAAAACAQEAAAAAAAIBJQAAAAAAAgERAAAAAAACATkAAAAAAAIBKQAAAAAAAgE5AAAAAAAAAR0AAAAAAAABHQAAAAAAAAEVAAAAAAAAARkAAAAAAAABGQAAAAAAAAEpAAAAAAACAT0AAAAAAAABMQAAAAAAAgEpAAAAAAACARUAAAAAAAABPQAAAAAAAgEhAAAAAAAAATEAAAAAAAABNQAAAAAAAAE9AAAAAAACATkAAAAAAAABPQAAAAAAAAEtAAAAAAACASUAAAAAAAABKQAAAAAAAAENAAAAAAAAARkAAAAAAAIBNQAAAAAAAAEpAAAAAAAAASEAAAAAAAABBQAAAAAAAwFBAAAAAAACAR0AAAAAAAABPQAAAAAAAgEhAAAAAAACASkAAAAAAAIBHQAAAAAAAAEtAAAAAAAAAR0AAAAAAAABLQAAAAAAAAEhAAAAAAACATEAAAAAAAIBIQAAAAAAAAEhAAAAAAAAASUAAAAAAAIBJQAAAAAAAAEVAAAAAAACAS0AAAAAAAIBPQAAAAAAAAE9AAAAAAAAATUAAAAAAAABLQAAAAAAAAE9AAAAAAAAAUUAAAAAAAIBHQAAAAAAAAEpAAAAAAACAQkAAAAAAAIBLQAAAAAAAQFBAAAAAAAAAR0AAAAAAAIBPQAAAAAAAAE9AAAAAAABAUEAAAAAAAABRQAAAAAAAAE1AAAAAAACAUEAAAAAAAABPQAAAAAAAAFFAAAAAAAAAQEAAAAAAAIBFQAAAAAAAAE9AAAAAAAAAREAAAAAAAIBOQAAAAAAAAEdAAAAAAAAASEAAAAAAAABQQAAAAAAAAE5AAAAAAACATEAAAAAAAABQQAAAAAAAAEtAAAAAAAAASEAAAAAAAEBQQAAAAAAAgEFAAAAAAAAAS0AAAAAAAABLQAAAAAAAQFFAAAAAAAAARkAAAAAAAABIQAAAAAAAQFFAAAAAAACAS0AAAAAAAIBIQAAAAAAAQFBAAAAAAACAR0AAAAAAAABQQAAAAAAAAEpAAAAAAAAAUEAAAAAAAEBRQAAAAAAAAEhAAAAAAABAUEAAAAAAAABRQAAAAAAAgEhAAAAAAAAAS0AAAAAAAIBPQAAAAAAAgExAAAAAAACAQ0AAAAAAAIBGQAAAAAAAAEtAAAAAAABAUEAAAAAAAIBJQAAAAAAAAFBAAAAAAAAASEAAAAAAAABRQAAAAAAAgEhAAAAAAACATEAAAAAAAIBBQAAAAAAAgFBAAAAAAAAASEAAAAAAAMBQQAAAAAAAgEpAAAAAAACAUEAAAAAAAABEQAAAAAAAgE1AAAAAAABAUUAAAAAAAMBQQAAAAAAAAE5AAAAAAAAAUEAAAAAAAABIQAAAAAAAgE9AAAAAAACASEAAAAAAAIBKQAAAAAAAAElAAAAAAACASkAAAAAAAIBPQAAAAAAAAEZAAAAAAACARkAAAAAAAIBJQAAAAAAAAEtAAAAAAACAR0AAAAAAAABMQAAAAAAAAEtAAAAAAACASUAAAAAAAIBPQAAAAAAAgE1AAAAAAAAAT0AAAAAAAIBMQAAAAAAAAElAAAAAAACASUAAAAAAAABIQAAAAAAAAEhAAAAAAAAAS0AAAAAAAABHQAAAAAAAQFFAAAAAAACAQ0AAAAAAAABEQAAAAAAAAExAAAAAAACATEAAAAAAAIBJQAAAAAAAgEhAAAAAAAAAT0AAAAAAAIBNQAAAAAAAgEpAAAAAAACARkAAAAAAAIBKQAAAAAAAQFBAAAAAAACAQ0AAAAAAAABIQAAAAAAAgEpAAAAAAACASkAAAAAAAMBQQAAAAAAAAE9AAAAAAAAAUUAAAAAAAABDQAAAAAAAAFBAAAAAAACAR0AAAAAAAIBPQAAAAAAAgE5AAAAAAAAAUUAAAAAAAABNQAAAAAAAgERAAAAAAACAR0AAAAAAAABMQAAAAAAAAExAAAAAAAAATEAAAAAAAABHQAAAAAAAgEpAAAAAAACARkAAAAAAAIBQQAAAAAAAgE5AAAAAAACASkAAAAAAAIBJQAAAAAAAAFFAAAAAAADAUEAAAAAAAIBNQAAAAAAAAFBAAAAAAACATEAAAAAAAABLQAAAAAAAgERAAAAAAACASEAAAAAAAIBJQAAAAAAAAEVAAAAAAAAAR0AAAAAAAIBOQAAAAAAAAEZAAAAAAACAS0AAAAAAAABJQAAAAAAAAE9AAAAAAAAAT0AAAAAAAABHQAAAAAAAAExAAAAAAACATEAAAAAAAIBHQAAAAAAAAEVAAAAAAAAATEAAAAAAAABJQAAAAAAAgEVAAAAAAAAAR0AAAAAAAABHQAAAAAAAAE5AAAAAAAAARkAAAAAAAIBHQAAAAAAAAEdAAAAAAAAATkAAAAAAAABOQAAAAAAAgE5AAAAAAADAUEAAAAAAAIBOQAAAAAAAgEVAAAAAAACAUEAAAAAAAIBJQAAAAAAAAExAAAAAAADAUEAAAAAAAIBJQAAAAAAAAElAAAAAAAAASkAAAAAAAABMQAAAAAAAgE5AAAAAAACASkAAAAAAAIBPQAAAAAAAgE1AAAAAAABAUEAAAAAAAIBQQAAAAAAAgExAAAAAAAAARkAAAAAAAIBOQAAAAAAAgERAAAAAAAAAREAAAAAAAIBKQAAAAAAAgElAAAAAAACAS0AAAAAAAABJQAAAAAAAAE5AAAAAAACAS0AAAAAAAABNQAAAAAAAgERAAAAAAAAASUAAAAAAAIBNQAAAAAAAAE5AAAAAAAAASEAAAAAAAABJQAAAAAAAwFBAAAAAAAAAT0AAAAAAAEBQQAAAAAAAAEtAAAAAAACATkAAAAAAAIBIQAAAAAAAAEtAAAAAAACATUAAAAAAAABIQAAAAAAAAEVAAAAAAAAAUEAAAAAAAIBNQAAAAAAAgEpAAAAAAACASUAAAAAAAABBQAAAAAAAgEhAAAAAAAAATEAAAAAAAIBKQAAAAAAAgE1AAAAAAACAS0AAAAAAAIBFQAAAAAAAQFFAAAAAAACASEAAAAAAAIBMQAAAAAAAAEhAAAAAAAAAUEAAAAAAAIBNQAAAAAAAAFBAAAAAAACARUAAAAAAAIBIQAAAAAAAgERAAAAAAAAATUAAAAAAAABIQAAAAAAAAERAAAAAAACAS0AAAAAAAIBHQAAAAAAAgE9AAAAAAACAT0AAAAAAAIBOQAAAAAAAAEdAAAAAAAAASUAAAAAAAEBQQAAAAAAAAEpAAAAAAAAATEAAAAAAAABOQAAAAAAAAEdAAAAAAAAAT0AAAAAAAIBOQAAAAAAAAEpAAAAAAACASEAAAAAAAMBQQAAAAAAAAElAAAAAAAAAS0AAAAAAAEBRQAAAAAAAAEVAAAAAAACATkAAAAAAAIBHQAAAAAAAAERAAAAAAABAUEAAAAAAAABKQAAAAAAAAEhAAAAAAAAAUEAAAAAAAABJQAAAAAAAQFFAAAAAAAAAR0AAAAAAAIBOQAAAAAAAgFBAAAAAAABAUEAAAAAAAIBEQAAAAAAAAElAAAAAAAAAUUAAAAAAAIBIQAAAAAAAgEVAAAAAAAAASUAAAAAAAABNQAAAAAAAAE5AAAAAAACARUAAAAAAAIBFQAAAAAAAgEpAAAAAAAAARUAAAAAAAIBLQAAAAAAAgEVAAAAAAAAAREAAAAAAAEBRQAAAAAAAgEhAAAAAAACATUAAAAAAAABOQAAAAAAAgE9AAAAAAAAASUAAAAAAAIBNQAAAAAAAAExAAAAAAACAUEAAAAAAAIBOQAAAAAAAAEtAAAAAAACASUAAAAAAAIBPQAAAAAAAAERAAAAAAAAASEAAAAAAAIBIQAAAAAAAgE5AAAAAAAAATkAAAAAAAIBIQAAAAAAAAEpAAAAAAACATUAAAAAAAIBMQAAAAAAAQFBAAAAAAAAATUAAAAAAAIBLQAAAAAAAgE9AAAAAAACATUAAAAAAAIBMQAAAAAAAgE5AAAAAAAAATEAAAAAAAABRQAAAAAAAAE9AAAAAAACAT0AAAAAAAIBOQAAAAAAAQFBAAAAAAACAT0AAAAAAAABQQAAAAAAAAFFAAAAAAACASkAAAAAAAMBQQAAAAAAAAERAAAAAAACASEAAAAAAAIBIQAAAAAAAgEpAAAAAAACAUEAAAAAAAABKQAAAAAAAgEVAAAAAAAAATkAAAAAAAABEQAAAAAAAAEdAAAAAAAAAT0AAAAAAAABJQAAAAAAAgFBAAAAAAADAUEAAAAAAAABKQAAAAAAAgEtAAAAAAAAAUUAAAAAAAIBPQAAAAAAAgE1AAAAAAAAARkAAAAAAAIBPQAAAAAAAQFBAAAAAAACAS0AAAAAAAIBOQAAAAAAAgE1AAAAAAACAUEAAAAAAAABOQAAAAAAAgE9AAAAAAACASEAAAAAAAABKQAAAAAAAgEBAAAAAAABAUUAAAAAAAIBJQAAAAAAAAEhAAAAAAACAR0AAAAAAAIBFQAAAAAAAAEtAAAAAAAAAR0AAAAAAAABRQAAAAAAAAE9AAAAAAABAUUAAAAAAAIBNQAAAAAAAAEhAAAAAAACATkAAAAAAAABHQAAAAAAAgElAAAAAAAAATUAAAAAAAIBIQAAAAAAAgEVAAAAAAAAAS0AAAAAAAABHQAAAAAAAgEdAAAAAAAAATUAAAAAAAABOQAAAAAAAAENAAAAAAACAR0AAAAAAAABNQAAAAAAAgEZAAAAAAAAAR0AAAAAAAABFQAAAAAAAwFBAAAAAAAAAUEAAAAAAAMBQQAAAAAAAAElAAAAAAAAASEAAAAAAAIBMQAAAAAAAAExAAAAAAAAAT0AAAAAAAIBLQAAAAAAAAE1AAAAAAACATEAAAAAAAEBQQAAAAAAAgEZAAAAAAACAQ0AAAAAAAABMQAAAAAAAgElAAAAAAACAUEAAAAAAAABNQAAAAAAAgExAAAAAAAAATkAAAAAAAABIQAAAAAAAgE9AAAAAAAAARUAAAAAAAABEQAAAAAAAwFBAAAAAAACAUEAAAAAAAABFQAAAAAAAgEhAAAAAAACASkAAAAAAAIBJQAAAAAAAAEhAAAAAAADAUEAAAAAAAABJQAAAAAAAAEhAAAAAAACAQkAAAAAAAIBLQAAAAAAAgEhAAAAAAACAT0AAAAAAAIBLQAAAAAAAAFBAAAAAAACASUAAAAAAAIBHQAAAAAAAAFBAAAAAAAAARUAAAAAAAABJQAAAAAAAgERAAAAAAACARUAAAAAAAABMQAAAAAAAgE1AAAAAAAAAUUAAAAAAAABLQAAAAAAAgEpAAAAAAACAT0AAAAAAAABNQAAAAAAAAElAAAAAAACASEAAAAAAAIBMQAAAAAAAAExAAAAAAAAATkAAAAAAAIBPQAAAAAAAgEdAAAAAAAAASUAAAAAAAABLQAAAAAAAgEpAAAAAAACASEAAAAAAAABHQAAAAAAAAExAAAAAAAAAUUAAAAAAAIBFQAAAAAAAAEdAAAAAAAAAT0AAAAAAAIBQQAAAAAAAAFFAAAAAAAAAS0AAAAAAAAA+QAAAAAAAAE9AAAAAAAAASEAAAAAAAEBQQAAAAAAAgElAAAAAAABAUEAAAAAAAMBQQAAAAAAAAEVAAAAAAAAAUUAAAAAAAABAQAAAAAAAgEpAAAAAAACASEAAAAAAAABJQAAAAAAAgEtAAAAAAACAR0AAAAAAAMBQQAAAAAAAAEVAAAAAAAAATkAAAAAAAABPQAAAAAAAgE1AAAAAAADAUEAAAAAAAABGQAAAAAAAgEhAAAAAAADAUEAAAAAAAMBQQAAAAAAAAFBAAAAAAACARUAAAAAAAEBRQAAAAAAAgEtAAAAAAAAAR0AAAAAAAIBHQAAAAAAAAE5AAAAAAACAR0AAAAAAAABNQAAAAAAAgFBAAAAAAACATkAAAAAAAIBAQAAAAAAAgEtAAAAAAACAREAAAAAAAABJQAAAAAAAgE9AAAAAAACAR0AAAAAAAIBMQAAAAAAAAEVAAAAAAACAQEAAAAAAAIBMQAAAAAAAAExAAAAAAACAR0AAAAAAAIBPQAAAAAAAgEpAAAAAAAAARUAAAAAAAABJQAAAAAAAAEZAAAAAAAAATUAAAAAAAEBQQAAAAAAAAEZAAAAAAACATUAAAAAAAIBMQAAAAAAAgExAAAAAAACASkAAAAAAAABGQAAAAAAAAEdAAAAAAACATUAAAAAAAABPQAAAAAAAAEhAAAAAAAAARkAAAAAAAABPQAAAAAAAQFBAAAAAAAAATUAAAAAAAIBHQAAAAAAAAEVAAAAAAACASEAAAAAAAIBMQAAAAAAAAEZAAAAAAACAUEAAAAAAAIBKQAAAAAAAgEZAAAAAAACAR0AAAAAAAIBIQAAAAAAAgEdAAAAAAACASEAAAAAAAIBMQAAAAAAAgE1AAAAAAACATkAAAAAAAABNQAAAAAAAAEhAAAAAAAAASEAAAAAAAABJQAAAAAAAAEhAAAAAAADAUEAAAAAAAIBJQAAAAAAAAElAAAAAAABAUUAAAAAAAIBPQAAAAAAAAEpAAAAAAACATEAAAAAAAABHQAAAAAAAgE9AAAAAAAAAUUAAAAAAAABPQAAAAAAAAENAAAAAAAAATUAAAAAAAABIQAAAAAAAgEhAAAAAAACAREAAAAAAAABPQAAAAAAAAEdAAAAAAACAUEAAAAAAAIBHQAAAAAAAgElAAAAAAACASkAAAAAAAEBQQAAAAAAAgEpAAAAAAACATEAAAAAAAIBKQAAAAAAAgEhAAAAAAADAUEAAAAAAAIBJQAAAAAAAgEtAAAAAAACAS0AAAAAAAIBNQAAAAAAAQFBAAAAAAAAARUAAAAAAAABJQAAAAAAAAEpAAAAAAACATUAAAAAAAIBLQAAAAAAAAEdAAAAAAACASUAAAAAAAIBHQAAAAAAAAE9AAAAAAAAATEAAAAAAAIBPQAAAAAAAAEhAAAAAAACATUAAAAAAAMBQQAAAAAAAgEFAAAAAAACAS0AAAAAAAIBNQAAAAAAAgE5AAAAAAAAASEAAAAAAAIBQQAAAAAAAgEhAAAAAAAAATUAAAAAAAABNQAAAAAAAgEtAAAAAAACATEAAAAAAAABOQAAAAAAAAEtAAAAAAACAQUAAAAAAAEBRQAAAAAAAgEtAAAAAAACAT0AAAAAAAABKQAAAAAAAgEhAAAAAAAAAUUAAAAAAAABIQAAAAAAAgE5AAAAAAAAAUUAAAAAAAIBFQAAAAAAAAE9AAAAAAACATEAAAAAAAEBQQAAAAAAAgFBAAAAAAAAATUAAAAAAAIBIQAAAAAAAAE9AAAAAAAAAS0AAAAAAAIBHQAAAAAAAAEdAAAAAAAAASkAAAAAAAIBJQAAAAAAAAE5AAAAAAACATUAAAAAAAABQQAAAAAAAAEdAAAAAAACATUAAAAAAAABMQAAAAAAAAFFAAAAAAABAUEAAAAAAAIBKQAAAAAAAgFBAAAAAAACAREAAAAAAAIBKQAAAAAAAgE9AAAAAAABAUEAAAAAAAABJQAAAAAAAAE9AAAAAAAAASkAAAAAAAEBQQAAAAAAAgEVAAAAAAACAT0AAAAAAAABQQAAAAAAAQFFAAAAAAABAUEAAAAAAAIBFQAAAAAAAgFBAAAAAAAAASEAAAAAAAIBMQAAAAAAAAE5AAAAAAACATUAAAAAAAIBNQAAAAAAAAEZAAAAAAAAAS0AAAAAAAIBLQAAAAAAAAE9AAAAAAABAUEAAAAAAAIBLQAAAAAAAgE9AAAAAAACAREAAAAAAAABNQAAAAAAAAFFAAAAAAAAAS0AAAAAAAIBFQAAAAAAAAERAAAAAAAAAT0AAAAAAAIBIQAAAAAAAAEtAAAAAAACAUEAAAAAAAIBHQAAAAAAAAEpAAAAAAAAATEAAAAAAAABJQAAAAAAAgExAAAAAAACARkAAAAAAAEBRQAAAAAAAgERAAAAAAACAS0AAAAAAAIBNQAAAAAAAwFBAAAAAAACASkAAAAAAAIBOQAAAAAAAgEZAAAAAAACATkAAAAAAAEBRQAAAAAAAgEVAAAAAAACATkAAAAAAAIBJQAAAAAAAgE5AAAAAAACATEAAAAAAAABNQAAAAAAAAEpAAAAAAACARUAAAAAAAIBPQAAAAAAAQFBAAAAAAACAQUAAAAAAAIBJQAAAAAAAAElAAAAAAAAASUAAAAAAAIBJQAAAAAAAAFFAAAAAAACASUAAAAAAAABDQAAAAAAAAEtAAAAAAACASUAAAAAAAEBRQAAAAAAAAE9AAAAAAAAASkAAAAAAAIBNQAAAAAAAgE5AAAAAAACARUAAAAAAAIBOQAAAAAAAAFFAAAAAAAAASUAAAAAAAABOQAAAAAAAgEdAAAAAAAAATkAAAAAAAABOQAAAAAAAgEdAAAAAAABAUEAAAAAAAABQQAAAAAAAgEZAAAAAAACATEAAAAAAAIBHQAAAAAAAQFBAAAAAAAAATkAAAAAAAIBNQAAAAAAAgERAAAAAAAAASUAAAAAAAABQQAAAAAAAgE1AAAAAAAAATUAAAAAAAABHQAAAAAAAQFFAAAAAAAAATkAAAAAAAEBRQAAAAAAAAEtAAAAAAACAR0AAAAAAAABHQAAAAAAAgEdAAAAAAACATkAAAAAAAIBLQAAAAAAAgEhAAAAAAACASEAAAAAAAIBJQAAAAAAAgEdAAAAAAAAAUUAAAAAAAABNQAAAAAAAAExAAAAAAACATUAAAAAAAIBJQAAAAAAAgElAAAAAAACAQkAAAAAAAMBQQAAAAAAAAEZAAAAAAAAAUUAAAAAAAIBMQAAAAAAAgFBAAAAAAABAUEAAAAAAAABKQAAAAAAAgEdAAAAAAACARUAAAAAAAIBKQAAAAAAAAExAAAAAAACASEAAAAAAAABHQAAAAAAAgERAAAAAAAAAQ0AAAAAAAABLQAAAAAAAAE1AAAAAAAAAS0AAAAAAAABGQAAAAAAAgE1AAAAAAACAT0AAAAAAAIBMQAAAAAAAgEhAAAAAAAAATEAAAAAAAIBEQAAAAAAAgEtAAAAAAAAATUAAAAAAAABQQAAAAAAAAEZAAAAAAACASUAAAAAAAMBQQAAAAAAAgExAAAAAAAAAS0AAAAAAAIBLQAAAAAAAgE5AAAAAAACAQ0AAAAAAAIBMQAAAAAAAAElAAAAAAAAATEAAAAAAAABFQAAAAAAAgElAAAAAAAAAR0AAAAAAAABFQAAAAAAAAENAAAAAAACARkAAAAAAAABMQAAAAAAAAEdAAAAAAACATkAAAAAAAABHQAAAAAAAAEhAAAAAAAAATkAAAAAAAIBQQAAAAAAAgEhAAAAAAAAAR0AAAAAAAIBDQAAAAAAAgE5AAAAAAAAAR0AAAAAAAABKQAAAAAAAAE5AAAAAAAAARUAAAAAAAIBHQAAAAAAAAEVAAAAAAACARUAAAAAAAIBPQAAAAAAAgEtAAAAAAAAASkAAAAAAAABEQAAAAAAAAENAAAAAAACAQEAAAAAAAIBNQAAAAAAAgE9AAAAAAAAARkAAAAAAAABNQAAAAAAAQFFAAAAAAACATEAAAAAAAABJQAAAAAAAAEJAAAAAAACAQkAAAAAAAIBPQAAAAAAAgEZAAAAAAAAARUAAAAAAAABEQAAAAAAAgEZAAAAAAAAAS0AAAAAAAIBLQAAAAAAAgEdAAAAAAACASUAAAAAAAIBPQAAAAAAAQFBAAAAAAAAAQUAAAAAAAIBHQAAAAAAAQFFAAAAAAACAUEAAAAAAAIBEQAAAAAAAAE1AAAAAAAAAUEAAAAAAAIBKQAAAAAAAgEVAAAAAAAAAP0AAAAAAAIBFQAAAAAAAAEtAAAAAAAAATkAAAAAAAIBNQAAAAAAAgEdAAAAAAACAREAAAAAAAEBRQAAAAAAAAEhAAAAAAAAAREAAAAAAAABRQAAAAAAAAExAAAAAAAAAR0AAAAAAAIBNQAAAAAAAAEdAAAAAAAAAR0AAAAAAAIBMQAAAAAAAgElAAAAAAACAS0AAAAAAAIBKQAAAAAAAAFBAAAAAAAAAUUAAAAAAAIBJQAAAAAAAAEJAAAAAAAAAUUAAAAAAAIBHQAAAAAAAAERAAAAAAABAUEAAAAAAAABQQAAAAAAAAEpAAAAAAACAREAAAAAAAIBQQAAAAAAAQFFAAAAAAAAATEAAAAAAAABLQAAAAAAAAE5AAAAAAACASEAAAAAAAABOQAAAAAAAQFBAAAAAAACAS0AAAAAAAABLQAAAAAAAAE5AAAAAAAAAR0AAAAAAAABPQAAAAAAAgEhAAAAAAAAASkAAAAAAAABHQAAAAAAAgExAAAAAAAAASUAAAAAAAABRQAAAAAAAAElAAAAAAAAASUAAAAAAAABIQAAAAAAAAEhAAAAAAACAT0AAAAAAAMBQQAAAAAAAAExAAAAAAACAR0AAAAAAAIBLQAAAAAAAAERAAAAAAABAUUAAAAAAAIBEQAAAAAAAgERAAAAAAACASEAAAAAAAEBRQAAAAAAAAEtAAAAAAAAASkAAAAAAAABLQAAAAAAAgExAAAAAAAAARUAAAAAAAIBCQAAAAAAAgEZAAAAAAAAATEAAAAAAAABLQAAAAAAAgEtAAAAAAACATEAAAAAAAIBJQAAAAAAAAEhAAAAAAAAATUAAAAAAAIBMQAAAAAAAAE9AAAAAAACAS0AAAAAAAABOQAAAAAAAQFBAAAAAAACAUEAAAAAAAABOQAAAAAAAAE1AAAAAAACAUEAAAAAAAIBQQAAAAAAAQFFAAAAAAACASEAAAAAAAMBQQAAAAAAAgEpAAAAAAACAQ0AAAAAAAABMQAAAAAAAAE9AAAAAAACAR0AAAAAAAIBCQAAAAAAAAExAAAAAAACASkAAAAAAAIBKQAAAAAAAAEhAAAAAAAAAS0AAAAAAAIBEQAAAAAAAAEBAAAAAAAAARkAAAAAAAABHQAAAAAAAgEdAAAAAAAAATUAAAAAAAIBPQAAAAAAAwFBAAAAAAACAS0AAAAAAAIBJQAAAAAAAAEZAAAAAAACASUAAAAAAAIBPQAAAAAAAgFBAAAAAAACARkAAAAAAAIBPQAAAAAAAAE5AAAAAAAAASUAAAAAAAMBQQAAAAAAAAExAAAAAAAAASkAAAAAAAIBKQAAAAAAAgExAAAAAAABAUEAAAAAAAIBQQAAAAAAAgEdAAAAAAAAARkAAAAAAAABPQAAAAAAAAElAAAAAAAAAUUAAAAAAAIBHQAAAAAAAAEpAAAAAAABAUUAAAAAAAIBOQAAAAAAAAEtAAAAAAACAQkAAAAAAAABNQAAAAAAAAE1AAAAAAAAAREAAAAAAAIBQQAAAAAAAQFFAAAAAAACAR0AAAAAAAABGQAAAAAAAgE5AAAAAAAAARUAAAAAAAABBQAAAAAAAgE1AAAAAAACAS0AAAAAAAIBNQAAAAAAAgElAAAAAAACASEAAAAAAAABRQAAAAAAAAE9AAAAAAAAATEAAAAAAAABQQAAAAAAAAEZAAAAAAACARkAAAAAAAIBBQAAAAAAAAExAAAAAAAAASUAAAAAAAIBGQAAAAAAAgE5AAAAAAACATEAAAAAAAABJQAAAAAAAgEVAAAAAAAAATkAAAAAAAEBRQAAAAAAAAERAAAAAAABAUUAAAAAAAABPQAAAAAAAgE1AAAAAAAAAQkAAAAAAAABLQAAAAAAAgE1AAAAAAABAUEAAAAAAAIBDQAAAAAAAQFBAAAAAAAAAS0AAAAAAAIBNQAAAAAAAAEpAAAAAAAAASUAAAAAAAABPQAAAAAAAAE1AAAAAAACASkAAAAAAAIBMQAAAAAAAgE1AAAAAAACAS0AAAAAAAIBIQAAAAAAAgEhAAAAAAAAAS0AAAAAAAIBKQAAAAAAAAE1AAAAAAAAAT0AAAAAAAMBQQAAAAAAAgE5AAAAAAACAR0AAAAAAAABIQAAAAAAAAE5AAAAAAAAAT0AAAAAAAABJQAAAAAAAgElAAAAAAACATEAAAAAAAABQQAAAAAAAAFBAAAAAAAAAT0AAAAAAAIBIQAAAAAAAgElAAAAAAAAAUUAAAAAAAIBJQAAAAAAAgEdAAAAAAAAAREAAAAAAAIBQQAAAAAAAAFFAAAAAAAAATEAAAAAAAABHQAAAAAAAAFFAAAAAAAAAQ0AAAAAAAABGQAAAAAAAAEdAAAAAAAAATEAAAAAAAIBDQAAAAAAAAEtAAAAAAACAR0AAAAAAAABQQAAAAAAAAEhAAAAAAACATEAAAAAAAIBKQAAAAAAAgERAAAAAAAAARkAAAAAAAABLQAAAAAAAgExAAAAAAACAQ0AAAAAAAABQQAAAAAAAgE1AAAAAAACAT0AAAAAAAEBQQAAAAAAAgEdAAAAAAACAREAAAAAAAIBOQAAAAAAAAFBAAAAAAAAAS0AAAAAAAABIQAAAAAAAAEhAAAAAAACAQ0AAAAAAAABJQAAAAAAAAEtAAAAAAAAATUAAAAAAAABMQAAAAAAAAE9AAAAAAAAAREAAAAAAAABLQAAAAAAAgEdAAAAAAADAUEAAAAAAAABIQAAAAAAAAFFAAAAAAACAUEAAAAAAAIBPQAAAAAAAAE9AAAAAAAAAT0AAAAAAAIBMQAAAAAAAgFBAAAAAAAAAUUAAAAAAAIBLQAAAAAAAgFBAAAAAAADAUEAAAAAAAIBLQAAAAAAAgEhAAAAAAAAAQ0AAAAAAAABKQAAAAAAAQFBAAAAAAACATkAAAAAAAIBJQAAAAAAAgEtAAAAAAAAAS0AAAAAAAIBOQAAAAAAAgENAAAAAAACATkAAAAAAAIBJQAAAAAAAAEVAAAAAAACATEAAAAAAAIBJQAAAAAAAAE9AAAAAAABAUUAAAAAAAIBBQAAAAAAAAFFAAAAAAACASkAAAAAAAAA/QAAAAAAAgEtAAAAAAACATEAAAAAAAIBQQAAAAAAAAE1AAAAAAAAAUUAAAAAAAIBEQAAAAAAAAEZAAAAAAAAATkAAAAAAAIBKQAAAAAAAgE1AAAAAAAAAT0AAAAAAAIBJQAAAAAAAAFFAAAAAAAAAREAAAAAAAEBQQAAAAAAAAEtAAAAAAAAAR0AAAAAAAABQQAAAAAAAAE9AAAAAAAAATEAAAAAAAABRQAAAAAAAAE1AAAAAAAAAR0A=",
          "dtype": "f8"
         },
         "x0": " ",
         "xaxis": "x",
         "y0": " ",
         "yaxis": "y"
        }
       ],
       "layout": {
        "boxmode": "group",
        "legend": {
         "tracegroupgap": 0
        },
        "margin": {
         "t": 60
        },
        "template": {
         "data": {
          "bar": [
           {
            "error_x": {
             "color": "#2a3f5f"
            },
            "error_y": {
             "color": "#2a3f5f"
            },
            "marker": {
             "line": {
              "color": "#E5ECF6",
              "width": 0.5
             },
             "pattern": {
              "fillmode": "overlay",
              "size": 10,
              "solidity": 0.2
             }
            },
            "type": "bar"
           }
          ],
          "barpolar": [
           {
            "marker": {
             "line": {
              "color": "#E5ECF6",
              "width": 0.5
             },
             "pattern": {
              "fillmode": "overlay",
              "size": 10,
              "solidity": 0.2
             }
            },
            "type": "barpolar"
           }
          ],
          "carpet": [
           {
            "aaxis": {
             "endlinecolor": "#2a3f5f",
             "gridcolor": "white",
             "linecolor": "white",
             "minorgridcolor": "white",
             "startlinecolor": "#2a3f5f"
            },
            "baxis": {
             "endlinecolor": "#2a3f5f",
             "gridcolor": "white",
             "linecolor": "white",
             "minorgridcolor": "white",
             "startlinecolor": "#2a3f5f"
            },
            "type": "carpet"
           }
          ],
          "choropleth": [
           {
            "colorbar": {
             "outlinewidth": 0,
             "ticks": ""
            },
            "type": "choropleth"
           }
          ],
          "contour": [
           {
            "colorbar": {
             "outlinewidth": 0,
             "ticks": ""
            },
            "colorscale": [
             [
              0,
              "#0d0887"
             ],
             [
              0.1111111111111111,
              "#46039f"
             ],
             [
              0.2222222222222222,
              "#7201a8"
             ],
             [
              0.3333333333333333,
              "#9c179e"
             ],
             [
              0.4444444444444444,
              "#bd3786"
             ],
             [
              0.5555555555555556,
              "#d8576b"
             ],
             [
              0.6666666666666666,
              "#ed7953"
             ],
             [
              0.7777777777777778,
              "#fb9f3a"
             ],
             [
              0.8888888888888888,
              "#fdca26"
             ],
             [
              1,
              "#f0f921"
             ]
            ],
            "type": "contour"
           }
          ],
          "contourcarpet": [
           {
            "colorbar": {
             "outlinewidth": 0,
             "ticks": ""
            },
            "type": "contourcarpet"
           }
          ],
          "heatmap": [
           {
            "colorbar": {
             "outlinewidth": 0,
             "ticks": ""
            },
            "colorscale": [
             [
              0,
              "#0d0887"
             ],
             [
              0.1111111111111111,
              "#46039f"
             ],
             [
              0.2222222222222222,
              "#7201a8"
             ],
             [
              0.3333333333333333,
              "#9c179e"
             ],
             [
              0.4444444444444444,
              "#bd3786"
             ],
             [
              0.5555555555555556,
              "#d8576b"
             ],
             [
              0.6666666666666666,
              "#ed7953"
             ],
             [
              0.7777777777777778,
              "#fb9f3a"
             ],
             [
              0.8888888888888888,
              "#fdca26"
             ],
             [
              1,
              "#f0f921"
             ]
            ],
            "type": "heatmap"
           }
          ],
          "histogram": [
           {
            "marker": {
             "pattern": {
              "fillmode": "overlay",
              "size": 10,
              "solidity": 0.2
             }
            },
            "type": "histogram"
           }
          ],
          "histogram2d": [
           {
            "colorbar": {
             "outlinewidth": 0,
             "ticks": ""
            },
            "colorscale": [
             [
              0,
              "#0d0887"
             ],
             [
              0.1111111111111111,
              "#46039f"
             ],
             [
              0.2222222222222222,
              "#7201a8"
             ],
             [
              0.3333333333333333,
              "#9c179e"
             ],
             [
              0.4444444444444444,
              "#bd3786"
             ],
             [
              0.5555555555555556,
              "#d8576b"
             ],
             [
              0.6666666666666666,
              "#ed7953"
             ],
             [
              0.7777777777777778,
              "#fb9f3a"
             ],
             [
              0.8888888888888888,
              "#fdca26"
             ],
             [
              1,
              "#f0f921"
             ]
            ],
            "type": "histogram2d"
           }
          ],
          "histogram2dcontour": [
           {
            "colorbar": {
             "outlinewidth": 0,
             "ticks": ""
            },
            "colorscale": [
             [
              0,
              "#0d0887"
             ],
             [
              0.1111111111111111,
              "#46039f"
             ],
             [
              0.2222222222222222,
              "#7201a8"
             ],
             [
              0.3333333333333333,
              "#9c179e"
             ],
             [
              0.4444444444444444,
              "#bd3786"
             ],
             [
              0.5555555555555556,
              "#d8576b"
             ],
             [
              0.6666666666666666,
              "#ed7953"
             ],
             [
              0.7777777777777778,
              "#fb9f3a"
             ],
             [
              0.8888888888888888,
              "#fdca26"
             ],
             [
              1,
              "#f0f921"
             ]
            ],
            "type": "histogram2dcontour"
           }
          ],
          "mesh3d": [
           {
            "colorbar": {
             "outlinewidth": 0,
             "ticks": ""
            },
            "type": "mesh3d"
           }
          ],
          "parcoords": [
           {
            "line": {
             "colorbar": {
              "outlinewidth": 0,
              "ticks": ""
             }
            },
            "type": "parcoords"
           }
          ],
          "pie": [
           {
            "automargin": true,
            "type": "pie"
           }
          ],
          "scatter": [
           {
            "fillpattern": {
             "fillmode": "overlay",
             "size": 10,
             "solidity": 0.2
            },
            "type": "scatter"
           }
          ],
          "scatter3d": [
           {
            "line": {
             "colorbar": {
              "outlinewidth": 0,
              "ticks": ""
             }
            },
            "marker": {
             "colorbar": {
              "outlinewidth": 0,
              "ticks": ""
             }
            },
            "type": "scatter3d"
           }
          ],
          "scattercarpet": [
           {
            "marker": {
             "colorbar": {
              "outlinewidth": 0,
              "ticks": ""
             }
            },
            "type": "scattercarpet"
           }
          ],
          "scattergeo": [
           {
            "marker": {
             "colorbar": {
              "outlinewidth": 0,
              "ticks": ""
             }
            },
            "type": "scattergeo"
           }
          ],
          "scattergl": [
           {
            "marker": {
             "colorbar": {
              "outlinewidth": 0,
              "ticks": ""
             }
            },
            "type": "scattergl"
           }
          ],
          "scattermap": [
           {
            "marker": {
             "colorbar": {
              "outlinewidth": 0,
              "ticks": ""
             }
            },
            "type": "scattermap"
           }
          ],
          "scattermapbox": [
           {
            "marker": {
             "colorbar": {
              "outlinewidth": 0,
              "ticks": ""
             }
            },
            "type": "scattermapbox"
           }
          ],
          "scatterpolar": [
           {
            "marker": {
             "colorbar": {
              "outlinewidth": 0,
              "ticks": ""
             }
            },
            "type": "scatterpolar"
           }
          ],
          "scatterpolargl": [
           {
            "marker": {
             "colorbar": {
              "outlinewidth": 0,
              "ticks": ""
             }
            },
            "type": "scatterpolargl"
           }
          ],
          "scatterternary": [
           {
            "marker": {
             "colorbar": {
              "outlinewidth": 0,
              "ticks": ""
             }
            },
            "type": "scatterternary"
           }
          ],
          "surface": [
           {
            "colorbar": {
             "outlinewidth": 0,
             "ticks": ""
            },
            "colorscale": [
             [
              0,
              "#0d0887"
             ],
             [
              0.1111111111111111,
              "#46039f"
             ],
             [
              0.2222222222222222,
              "#7201a8"
             ],
             [
              0.3333333333333333,
              "#9c179e"
             ],
             [
              0.4444444444444444,
              "#bd3786"
             ],
             [
              0.5555555555555556,
              "#d8576b"
             ],
             [
              0.6666666666666666,
              "#ed7953"
             ],
             [
              0.7777777777777778,
              "#fb9f3a"
             ],
             [
              0.8888888888888888,
              "#fdca26"
             ],
             [
              1,
              "#f0f921"
             ]
            ],
            "type": "surface"
           }
          ],
          "table": [
           {
            "cells": {
             "fill": {
              "color": "#EBF0F8"
             },
             "line": {
              "color": "white"
             }
            },
            "header": {
             "fill": {
              "color": "#C8D4E3"
             },
             "line": {
              "color": "white"
             }
            },
            "type": "table"
           }
          ]
         },
         "layout": {
          "annotationdefaults": {
           "arrowcolor": "#2a3f5f",
           "arrowhead": 0,
           "arrowwidth": 1
          },
          "autotypenumbers": "strict",
          "coloraxis": {
           "colorbar": {
            "outlinewidth": 0,
            "ticks": ""
           }
          },
          "colorscale": {
           "diverging": [
            [
             0,
             "#8e0152"
            ],
            [
             0.1,
             "#c51b7d"
            ],
            [
             0.2,
             "#de77ae"
            ],
            [
             0.3,
             "#f1b6da"
            ],
            [
             0.4,
             "#fde0ef"
            ],
            [
             0.5,
             "#f7f7f7"
            ],
            [
             0.6,
             "#e6f5d0"
            ],
            [
             0.7,
             "#b8e186"
            ],
            [
             0.8,
             "#7fbc41"
            ],
            [
             0.9,
             "#4d9221"
            ],
            [
             1,
             "#276419"
            ]
           ],
           "sequential": [
            [
             0,
             "#0d0887"
            ],
            [
             0.1111111111111111,
             "#46039f"
            ],
            [
             0.2222222222222222,
             "#7201a8"
            ],
            [
             0.3333333333333333,
             "#9c179e"
            ],
            [
             0.4444444444444444,
             "#bd3786"
            ],
            [
             0.5555555555555556,
             "#d8576b"
            ],
            [
             0.6666666666666666,
             "#ed7953"
            ],
            [
             0.7777777777777778,
             "#fb9f3a"
            ],
            [
             0.8888888888888888,
             "#fdca26"
            ],
            [
             1,
             "#f0f921"
            ]
           ],
           "sequentialminus": [
            [
             0,
             "#0d0887"
            ],
            [
             0.1111111111111111,
             "#46039f"
            ],
            [
             0.2222222222222222,
             "#7201a8"
            ],
            [
             0.3333333333333333,
             "#9c179e"
            ],
            [
             0.4444444444444444,
             "#bd3786"
            ],
            [
             0.5555555555555556,
             "#d8576b"
            ],
            [
             0.6666666666666666,
             "#ed7953"
            ],
            [
             0.7777777777777778,
             "#fb9f3a"
            ],
            [
             0.8888888888888888,
             "#fdca26"
            ],
            [
             1,
             "#f0f921"
            ]
           ]
          },
          "colorway": [
           "#636efa",
           "#EF553B",
           "#00cc96",
           "#ab63fa",
           "#FFA15A",
           "#19d3f3",
           "#FF6692",
           "#B6E880",
           "#FF97FF",
           "#FECB52"
          ],
          "font": {
           "color": "#2a3f5f"
          },
          "geo": {
           "bgcolor": "white",
           "lakecolor": "white",
           "landcolor": "#E5ECF6",
           "showlakes": true,
           "showland": true,
           "subunitcolor": "white"
          },
          "hoverlabel": {
           "align": "left"
          },
          "hovermode": "closest",
          "mapbox": {
           "style": "light"
          },
          "paper_bgcolor": "white",
          "plot_bgcolor": "#E5ECF6",
          "polar": {
           "angularaxis": {
            "gridcolor": "white",
            "linecolor": "white",
            "ticks": ""
           },
           "bgcolor": "#E5ECF6",
           "radialaxis": {
            "gridcolor": "white",
            "linecolor": "white",
            "ticks": ""
           }
          },
          "scene": {
           "xaxis": {
            "backgroundcolor": "#E5ECF6",
            "gridcolor": "white",
            "gridwidth": 2,
            "linecolor": "white",
            "showbackground": true,
            "ticks": "",
            "zerolinecolor": "white"
           },
           "yaxis": {
            "backgroundcolor": "#E5ECF6",
            "gridcolor": "white",
            "gridwidth": 2,
            "linecolor": "white",
            "showbackground": true,
            "ticks": "",
            "zerolinecolor": "white"
           },
           "zaxis": {
            "backgroundcolor": "#E5ECF6",
            "gridcolor": "white",
            "gridwidth": 2,
            "linecolor": "white",
            "showbackground": true,
            "ticks": "",
            "zerolinecolor": "white"
           }
          },
          "shapedefaults": {
           "line": {
            "color": "#2a3f5f"
           }
          },
          "ternary": {
           "aaxis": {
            "gridcolor": "white",
            "linecolor": "white",
            "ticks": ""
           },
           "baxis": {
            "gridcolor": "white",
            "linecolor": "white",
            "ticks": ""
           },
           "bgcolor": "#E5ECF6",
           "caxis": {
            "gridcolor": "white",
            "linecolor": "white",
            "ticks": ""
           }
          },
          "title": {
           "x": 0.05
          },
          "xaxis": {
           "automargin": true,
           "gridcolor": "white",
           "linecolor": "white",
           "ticks": "",
           "title": {
            "standoff": 15
           },
           "zerolinecolor": "white",
           "zerolinewidth": 2
          },
          "yaxis": {
           "automargin": true,
           "gridcolor": "white",
           "linecolor": "white",
           "ticks": "",
           "title": {
            "standoff": 15
           },
           "zerolinecolor": "white",
           "zerolinewidth": 2
          }
         }
        },
        "xaxis": {
         "anchor": "y",
         "domain": [
          0,
          1
         ],
         "title": {
          "text": "Age"
         }
        },
        "yaxis": {
         "anchor": "x",
         "domain": [
          0,
          1
         ]
        }
       }
      }
     },
     "metadata": {},
     "output_type": "display_data"
    }
   ],
   "source": [
    "Age_fig = px.box(df, x=\"Age\")\n",
    "Age_fig.show()"
   ]
  },
  {
   "cell_type": "markdown",
   "metadata": {},
   "source": [
    "Plotting a bar for the mortality status column to show the count if dead and alive pacients"
   ]
  },
  {
   "cell_type": "code",
   "execution_count": 363,
   "metadata": {},
   "outputs": [
    {
     "data": {
      "application/vnd.plotly.v1+json": {
       "config": {
        "plotlyServerURL": "https://plot.ly"
       },
       "data": [
        {
         "hovertemplate": "Mortality_Status=%{x}<br>count=%{y}<extra></extra>",
         "legendgroup": "",
         "marker": {
          "color": "#636efa",
          "pattern": {
           "shape": ""
          }
         },
         "name": "",
         "orientation": "v",
         "showlegend": false,
         "textposition": "auto",
         "type": "bar",
         "x": [
          "Alive",
          "Alive",
          "Alive",
          "Alive",
          "Alive",
          "Alive",
          "Alive",
          "Dead",
          "Alive",
          "Alive",
          "Dead",
          "Alive",
          "Alive",
          "Alive",
          "Alive",
          "Alive",
          "Alive",
          "Alive",
          "Alive",
          "Alive",
          "Alive",
          "Alive",
          "Alive",
          "Alive",
          "Alive",
          "Alive",
          "Alive",
          "Alive",
          "Alive",
          "Alive",
          "Alive",
          "Alive",
          "Alive",
          "Alive",
          "Alive",
          "Alive",
          "Alive",
          "Alive",
          "Alive",
          "Alive",
          "Dead",
          "Alive",
          "Alive",
          "Alive",
          "Alive",
          "Alive",
          "Dead",
          "Alive",
          "Alive",
          "Alive",
          "Alive",
          "Alive",
          "Alive",
          "Alive",
          "Alive",
          "Alive",
          "Alive",
          "Alive",
          "Alive",
          "Alive",
          "Alive",
          "Alive",
          "Alive",
          "Alive",
          "Dead",
          "Alive",
          "Dead",
          "Alive",
          "Alive",
          "Alive",
          "Alive",
          "Dead",
          "Alive",
          "Alive",
          "Alive",
          "Alive",
          "Alive",
          "Alive",
          "Alive",
          "Alive",
          "Alive",
          "Alive",
          "Alive",
          "Alive",
          "Alive",
          "Alive",
          "Alive",
          "Alive",
          "Alive",
          "Alive",
          "Dead",
          "Alive",
          "Dead",
          "Dead",
          "Alive",
          "Alive",
          "Dead",
          "Alive",
          "Dead",
          "Alive",
          "Dead",
          "Alive",
          "Alive",
          "Dead",
          "Alive",
          "Alive",
          "Dead",
          "Alive",
          "Alive",
          "Alive",
          "Alive",
          "Dead",
          "Alive",
          "Alive",
          "Alive",
          "Alive",
          "Alive",
          "Alive",
          "Alive",
          "Alive",
          "Alive",
          "Alive",
          "Alive",
          "Alive",
          "Alive",
          "Dead",
          "Alive",
          "Alive",
          "Alive",
          "Alive",
          "Alive",
          "Alive",
          "Alive",
          "Alive",
          "Dead",
          "Dead",
          "Alive",
          "Dead",
          "Dead",
          "Alive",
          "Alive",
          "Alive",
          "Alive",
          "Dead",
          "Dead",
          "Alive",
          "Alive",
          "Dead",
          "Alive",
          "Alive",
          "Alive",
          "Alive",
          "Dead",
          "Alive",
          "Alive",
          "Alive",
          "Alive",
          "Alive",
          "Alive",
          "Dead",
          "Alive",
          "Alive",
          "Alive",
          "Alive",
          "Alive",
          "Alive",
          "Alive",
          "Alive",
          "Alive",
          "Alive",
          "Dead",
          "Alive",
          "Alive",
          "Alive",
          "Alive",
          "Alive",
          "Dead",
          "Alive",
          "Alive",
          "Dead",
          "Alive",
          "Dead",
          "Dead",
          "Alive",
          "Alive",
          "Alive",
          "Alive",
          "Alive",
          "Dead",
          "Alive",
          "Alive",
          "Alive",
          "Alive",
          "Alive",
          "Alive",
          "Alive",
          "Alive",
          "Alive",
          "Alive",
          "Alive",
          "Alive",
          "Alive",
          "Dead",
          "Dead",
          "Alive",
          "Alive",
          "Alive",
          "Alive",
          "Alive",
          "Alive",
          "Alive",
          "Dead",
          "Alive",
          "Alive",
          "Alive",
          "Dead",
          "Dead",
          "Alive",
          "Alive",
          "Dead",
          "Dead",
          "Dead",
          "Alive",
          "Alive",
          "Alive",
          "Alive",
          "Alive",
          "Alive",
          "Alive",
          "Alive",
          "Alive",
          "Alive",
          "Alive",
          "Alive",
          "Alive",
          "Alive",
          "Alive",
          "Alive",
          "Dead",
          "Alive",
          "Dead",
          "Alive",
          "Alive",
          "Alive",
          "Alive",
          "Alive",
          "Alive",
          "Dead",
          "Alive",
          "Alive",
          "Alive",
          "Alive",
          "Alive",
          "Alive",
          "Alive",
          "Alive",
          "Alive",
          "Alive",
          "Alive",
          "Alive",
          "Alive",
          "Alive",
          "Alive",
          "Dead",
          "Alive",
          "Alive",
          "Alive",
          "Alive",
          "Dead",
          "Alive",
          "Dead",
          "Alive",
          "Alive",
          "Alive",
          "Alive",
          "Alive",
          "Alive",
          "Dead",
          "Alive",
          "Alive",
          "Alive",
          "Alive",
          "Dead",
          "Alive",
          "Alive",
          "Dead",
          "Alive",
          "Alive",
          "Alive",
          "Dead",
          "Alive",
          "Alive",
          "Dead",
          "Alive",
          "Alive",
          "Alive",
          "Alive",
          "Alive",
          "Alive",
          "Alive",
          "Alive",
          "Alive",
          "Alive",
          "Alive",
          "Alive",
          "Dead",
          "Alive",
          "Alive",
          "Alive",
          "Alive",
          "Alive",
          "Alive",
          "Alive",
          "Dead",
          "Alive",
          "Alive",
          "Alive",
          "Alive",
          "Alive",
          "Alive",
          "Alive",
          "Alive",
          "Alive",
          "Alive",
          "Alive",
          "Alive",
          "Alive",
          "Alive",
          "Alive",
          "Alive",
          "Alive",
          "Dead",
          "Alive",
          "Alive",
          "Alive",
          "Alive",
          "Alive",
          "Alive",
          "Alive",
          "Alive",
          "Alive",
          "Alive",
          "Alive",
          "Alive",
          "Alive",
          "Alive",
          "Alive",
          "Alive",
          "Alive",
          "Alive",
          "Alive",
          "Alive",
          "Alive",
          "Alive",
          "Alive",
          "Alive",
          "Alive",
          "Dead",
          "Alive",
          "Alive",
          "Alive",
          "Alive",
          "Dead",
          "Dead",
          "Alive",
          "Alive",
          "Alive",
          "Alive",
          "Alive",
          "Dead",
          "Alive",
          "Dead",
          "Alive",
          "Alive",
          "Alive",
          "Alive",
          "Alive",
          "Alive",
          "Alive",
          "Dead",
          "Alive",
          "Alive",
          "Alive",
          "Alive",
          "Alive",
          "Alive",
          "Alive",
          "Alive",
          "Alive",
          "Alive",
          "Alive",
          "Alive",
          "Alive",
          "Alive",
          "Dead",
          "Alive",
          "Alive",
          "Alive",
          "Alive",
          "Alive",
          "Alive",
          "Alive",
          "Alive",
          "Alive",
          "Alive",
          "Alive",
          "Alive",
          "Alive",
          "Alive",
          "Alive",
          "Alive",
          "Alive",
          "Alive",
          "Dead",
          "Alive",
          "Alive",
          "Alive",
          "Alive",
          "Alive",
          "Alive",
          "Alive",
          "Alive",
          "Alive",
          "Alive",
          "Alive",
          "Alive",
          "Alive",
          "Alive",
          "Dead",
          "Alive",
          "Alive",
          "Alive",
          "Alive",
          "Alive",
          "Alive",
          "Dead",
          "Alive",
          "Alive",
          "Alive",
          "Alive",
          "Alive",
          "Dead",
          "Alive",
          "Alive",
          "Alive",
          "Dead",
          "Alive",
          "Alive",
          "Alive",
          "Alive",
          "Alive",
          "Alive",
          "Alive",
          "Alive",
          "Alive",
          "Dead",
          "Alive",
          "Dead",
          "Alive",
          "Alive",
          "Alive",
          "Alive",
          "Alive",
          "Alive",
          "Alive",
          "Alive",
          "Alive",
          "Alive",
          "Alive",
          "Alive",
          "Alive",
          "Alive",
          "Alive",
          "Alive",
          "Dead",
          "Alive",
          "Alive",
          "Alive",
          "Alive",
          "Alive",
          "Alive",
          "Alive",
          "Dead",
          "Alive",
          "Dead",
          "Alive",
          "Dead",
          "Alive",
          "Alive",
          "Alive",
          "Alive",
          "Alive",
          "Alive",
          "Dead",
          "Alive",
          "Alive",
          "Alive",
          "Alive",
          "Alive",
          "Alive",
          "Alive",
          "Alive",
          "Alive",
          "Alive",
          "Alive",
          "Alive",
          "Alive",
          "Dead",
          "Alive",
          "Alive",
          "Alive",
          "Dead",
          "Alive",
          "Alive",
          "Alive",
          "Alive",
          "Alive",
          "Alive",
          "Alive",
          "Alive",
          "Dead",
          "Alive",
          "Dead",
          "Dead",
          "Alive",
          "Dead",
          "Alive",
          "Alive",
          "Alive",
          "Alive",
          "Alive",
          "Alive",
          "Alive",
          "Alive",
          "Dead",
          "Alive",
          "Alive",
          "Dead",
          "Alive",
          "Alive",
          "Alive",
          "Alive",
          "Alive",
          "Alive",
          "Alive",
          "Alive",
          "Dead",
          "Alive",
          "Dead",
          "Alive",
          "Dead",
          "Alive",
          "Alive",
          "Alive",
          "Alive",
          "Alive",
          "Dead",
          "Alive",
          "Alive",
          "Alive",
          "ALIVE",
          "ALIVE",
          "ALIVE",
          "ALIVE",
          "ALIVE",
          "Dead",
          "Dead",
          "Alive",
          "Alive",
          "Alive",
          "Alive",
          "Alive",
          "Dead",
          "Alive",
          "Alive",
          "Alive",
          "Alive",
          "Alive",
          "Alive",
          "Alive",
          "Dead",
          "Dead",
          "Alive",
          "Alive",
          "Alive",
          "Alive",
          "Alive",
          "Alive",
          "Dead",
          "Alive",
          "Alive",
          "Alive",
          "Alive",
          "Dead",
          "Alive",
          "Alive",
          "Alive",
          "Alive",
          "Alive",
          "Alive",
          "Alive",
          "Alive",
          "Alive",
          "Alive",
          "Alive",
          "Alive",
          "Alive",
          "Dead",
          "Alive",
          "Alive",
          "Alive",
          "Alive",
          "Alive",
          "Alive",
          "Alive",
          "Alive",
          "Alive",
          "Alive",
          "Alive",
          "Alive",
          "Dead",
          "Alive",
          "Alive",
          "Alive",
          "Alive",
          "Alive",
          "Alive",
          "Alive",
          "Alive",
          "Alive",
          "Alive",
          "Dead",
          "Alive",
          "Dead",
          "Alive",
          "Alive",
          "Alive",
          "Alive",
          "Alive",
          "Alive",
          "Alive",
          "Dead",
          "Alive",
          "Alive",
          "Alive",
          "Alive",
          "Alive",
          "Alive",
          "Alive",
          "DEAD",
          "Alive",
          "Alive",
          "ALive",
          "Alive",
          "Alive",
          "Alive",
          "DEAD",
          "Alive",
          "Alive",
          "Dead",
          "Alive",
          "Alive",
          "Alive",
          "Dead",
          "Alive",
          "Dead",
          "Alive",
          "Alive",
          "Alive",
          "Alive",
          "Alive",
          "Alive",
          "Alive",
          "Alive",
          "Alive",
          "Alive",
          "Alive",
          "Dead",
          "Alive",
          "Dead",
          "Alive",
          "Alive",
          "Alive",
          "DEAD",
          "Alive",
          "Alive",
          "Alive",
          "Alive",
          "Alive",
          "Alive",
          "Alive",
          "Alive",
          "Alive",
          "Alive",
          "Alive",
          "Alive",
          "Dead",
          "Alive",
          "Alive",
          "Alive",
          "Alive",
          "Alive",
          "Alive",
          "Dead",
          "Alive",
          "Alive",
          "Alive",
          "Alive",
          "Dead",
          "Alive",
          "Alive",
          "Alive",
          "Alive",
          "Alive",
          "Alive",
          "Alive",
          "Alive",
          "Alive",
          "Alive",
          "Alive",
          "Alive",
          "Alive",
          "Alive",
          "Alive",
          "DEAD",
          "Alive",
          "Dead",
          "Dead",
          "Dead",
          "Dead",
          "Dead",
          "Alive",
          "Alive",
          "Dead",
          "Alive",
          "Alive",
          "Dead",
          "Alive",
          "Alive",
          "Alive",
          "Alive",
          "Alive",
          "Dead",
          "Alive",
          "Alive",
          "Alive",
          "Alive",
          "Alive",
          "Alive",
          "Alive",
          "Alive",
          "Alive",
          "Dead",
          "Dead",
          "Dead",
          "Alive",
          "Alive",
          "Dead",
          "DEAD",
          "Alive",
          "Alive",
          "Alive",
          "Alive",
          "Alive",
          "Alive",
          "Alive",
          "Alive",
          "Alive",
          "Alive",
          "Alive",
          "Alive",
          "alive",
          "Alive",
          "Alive",
          "alive",
          "Alive",
          "Dead",
          "Alive",
          "Alive",
          "Dead",
          "Alive",
          "Alive",
          "Alive",
          "Dead",
          "Alive",
          "Alive",
          "Alive",
          "Alive",
          "Alive",
          "Alive",
          "Alive",
          "Alive",
          "Alive",
          "Alive",
          "Alive",
          "Alive",
          "Alive",
          "Alive",
          "Alive",
          "Dead",
          "Dead",
          "Dead",
          "Alive",
          "Alive",
          "Alive",
          "Alive",
          "Alive",
          "Alive",
          "Alive",
          "Alive",
          "Alive",
          "Alive",
          "Alive",
          "Alive",
          "Alive",
          "Alive",
          "Alive",
          "Alive",
          "Alive",
          "Alive",
          "alive",
          "Alive",
          "Alive",
          "Alive",
          "Alive",
          "Alive",
          "Alive",
          "Alive",
          "Alive",
          "Alive",
          "Alive",
          "Alive",
          "Dead",
          "Alive",
          "Dead",
          "Alive",
          "Alive",
          "Alive",
          "Dead",
          "Alive",
          "Alive",
          "Alive",
          "Alive",
          "Dead",
          "Alive",
          "Alive",
          "Alive",
          "Alive",
          "Alive",
          "Alive",
          "Dead",
          "Dead",
          "Alive",
          "Dead",
          "Alive",
          "Alive",
          "Alive",
          "Dead",
          "Alive",
          "Alive",
          "Dead",
          "Alive",
          "Alive",
          "Dead",
          "Dead",
          "Alive",
          "Alive",
          "Dead",
          "Alive",
          "Alive",
          "Dead",
          "Alive",
          "Alive",
          "Alive",
          "Alive",
          "Alive",
          "Alive",
          "dead",
          "Alive",
          "Alive",
          "Alive",
          "Alive",
          "Alive",
          "Alive",
          "Alive",
          "Alive",
          "Alive",
          "Dead",
          "Alive",
          "Alive",
          "Alive",
          "Alive",
          "Dead",
          "Alive",
          "Alive",
          "Alive",
          "Dead",
          "dead",
          "Alive",
          "Alive",
          "Alive",
          "Alive",
          "Alive",
          "Alive",
          "Alive",
          "Alive",
          "Alive",
          "Alive",
          "Dead",
          "Dead",
          "Alive",
          "Dead",
          "Alive",
          "Alive",
          "Alive",
          "Alive",
          "Alive",
          "Dead",
          "Alive",
          "Alive",
          "Alive",
          "Alive",
          "Dead",
          "Alive",
          "Alive",
          "Alive",
          "Alive",
          "Alive",
          "Dead",
          "Alive",
          "Alive",
          "Dead",
          "Alive",
          "Alive",
          "Alive",
          "Dead",
          "Alive",
          "Dead",
          "Dead",
          "Alive",
          "Alive",
          "Alive",
          "Alive",
          "Alive",
          "Alive",
          "Alive",
          "Alive",
          "Dead",
          "Alive",
          "Dead",
          "Dead",
          "Alive",
          "Alive",
          "Alive",
          "Alive",
          "Alive",
          "Alive",
          "Alive",
          "Dead",
          "Alive",
          "Dead",
          "Alive",
          "Alive",
          "Alive",
          "Alive",
          "Alive",
          "Alive",
          "Alive",
          "Alive",
          "Dead",
          "Alive",
          "Dead",
          "Alive",
          "Alive",
          "Dead",
          "Dead",
          "Alive",
          "Alive",
          "Alive",
          "Alive",
          "Alive",
          "Alive",
          "Alive",
          "Alive",
          "Alive",
          "Alive",
          "Alive",
          "Alive",
          "Alive",
          "Alive",
          "Alive",
          "Alive",
          "Alive",
          "Alive",
          "Alive",
          "Alive",
          "Alive",
          "Alive",
          "Alive",
          "Alive",
          "Alive",
          "Alive",
          "Alive",
          "Alive",
          "Dead",
          "Alive",
          "Alive",
          "Alive",
          "Alive",
          "Alive",
          "Alive",
          "Alive",
          "Alive",
          "Dead",
          "Alive",
          "Dead",
          "Alive",
          "Alive",
          "Alive",
          "Alive",
          "Alive",
          "Alive",
          "Alive",
          "Dead",
          "Alive",
          "Alive",
          "Alive",
          "Alive",
          "Alive",
          "Dead",
          "Alive",
          "Alive",
          "Alive",
          "Dead",
          "Alive",
          "Alive",
          "Alive",
          "Alive",
          "Alive",
          "Alive",
          "Dead",
          "Alive",
          "Dead",
          "Alive",
          "Alive",
          "Alive",
          "Dead",
          "Alive",
          "Alive",
          "Dead",
          "Alive",
          "Alive",
          "Alive",
          "Dead",
          "Alive",
          "Alive",
          "Alive",
          "Alive",
          "Alive",
          "Alive",
          "Alive",
          "Alive",
          "Dead",
          "Alive",
          "Alive",
          "Alive",
          "Alive",
          "Alive",
          "Alive",
          "Alive",
          "Dead",
          "Alive",
          "Alive",
          "Alive",
          "Alive",
          "Alive",
          "Alive",
          "Alive",
          "Alive",
          "Dead",
          "Alive",
          "Dead",
          "Dead",
          "Alive",
          "Alive",
          "Alive",
          "Alive",
          "Alive",
          "Dead",
          "Alive",
          "Alive",
          "Alive",
          "Dead",
          "Alive",
          "Alive",
          "Alive",
          "Dead",
          "Alive",
          "Alive",
          "Alive",
          "Alive",
          "Alive",
          "Alive",
          "Alive",
          "Alive",
          "Alive",
          "dead",
          "Dead",
          "Alive",
          "Alive",
          "Alive",
          "Alive",
          "Alive",
          "Alive",
          "Alive",
          "Alive",
          "Alive",
          "Alive",
          "Alive",
          "Dead",
          "Dead",
          "Alive",
          "Alive",
          "Alive",
          "Alive",
          "Alive",
          "Dead",
          "Alive",
          "Alive",
          "Alive",
          "Alive",
          "Alive",
          "Alive",
          "Dead",
          "Alive",
          "Alive",
          "Alive",
          "Alive",
          "Dead",
          "Alive",
          "Alive",
          "Alive",
          "Alive",
          "Alive",
          "Alive",
          "Dead",
          "Alive",
          "Alive",
          "Dead",
          "Alive",
          "Alive",
          "Alive",
          "Alive",
          "Alive",
          "Alive",
          "Dead",
          "Dead",
          "Alive",
          "Alive",
          "Dead",
          "Alive",
          "Alive",
          "Alive",
          "Alive",
          "Alive",
          "Alive",
          "Alive",
          "Alive",
          "Alive",
          "Alive",
          "Dead",
          "Alive",
          "Alive",
          "Alive",
          "Alive",
          "Alive",
          "Alive",
          "Alive",
          "Dead",
          "Alive",
          "Alive",
          "Alive",
          "Alive",
          "Alive",
          "Alive",
          "Alive",
          "Alive",
          "Alive",
          "Alive",
          "Alive",
          "Alive",
          "Alive",
          "Alive",
          "Alive",
          "Alive",
          "Alive",
          "Alive",
          "Alive",
          "Alive",
          "Dead",
          "Alive",
          "Dead",
          "Alive",
          "Alive",
          "Alive",
          "Alive",
          "Alive",
          "Alive",
          "Alive",
          "Alive",
          "Dead",
          "Dead",
          "Dead",
          "Dead",
          "Alive",
          "Alive",
          "Alive",
          "Alive",
          "Alive",
          "Alive",
          "Alive",
          "Alive",
          "Alive",
          "Alive",
          "Alive",
          "Alive",
          "Alive",
          "Alive",
          "Dead",
          "Alive",
          "Alive",
          "Alive",
          "Alive",
          "Alive",
          "Alive",
          "Alive",
          "Alive",
          "Alive",
          "Alive",
          "Alive",
          "Alive",
          "Alive",
          "Alive",
          "Alive",
          "Alive",
          "Dead",
          "Dead",
          "Alive",
          "Alive",
          "Alive",
          "Alive",
          "Alive",
          "Alive",
          "Alive",
          "Alive",
          "Alive",
          "Alive",
          "Alive",
          "Alive",
          "Alive",
          "Alive",
          "Alive",
          "Alive",
          "Dead",
          "Alive",
          "Dead",
          "Alive",
          "Dead",
          "Alive",
          "Alive",
          "Alive",
          "Alive",
          "Alive",
          "Alive",
          "Alive",
          "Alive",
          "Alive",
          "Alive",
          "Dead",
          "Alive",
          "Alive",
          "Alive",
          "Dead",
          "Alive",
          "Alive",
          "Alive",
          "Alive",
          "Alive",
          "Alive",
          "Alive",
          "Alive",
          "Alive",
          "Alive",
          "Alive",
          "Alive",
          "Alive",
          "Alive",
          "Alive",
          "Dead",
          "Dead",
          "Alive",
          "Alive",
          "Alive",
          "Alive",
          "Alive",
          "Alive",
          "Alive",
          "Dead",
          "Alive",
          "Alive",
          "Alive",
          "Alive",
          "Alive",
          "Alive",
          "Alive",
          "Alive",
          "Alive",
          "Alive",
          "Alive",
          "Alive",
          "Dead",
          "Alive",
          "Alive",
          "Alive",
          "Alive",
          "Dead",
          "Alive",
          "Alive",
          "Alive",
          "Alive",
          "Alive",
          "Alive",
          "Dead",
          "Alive",
          "Alive",
          "Dead",
          "Alive",
          "Alive",
          "Alive",
          "Dead",
          "Alive",
          "Alive",
          "Alive",
          "Alive",
          "Alive",
          "Alive",
          "Dead",
          "Alive",
          "Alive",
          "Alive",
          "Alive",
          "Alive",
          "Alive",
          "Alive",
          "Alive",
          "Alive",
          "Alive",
          "Alive",
          "Alive",
          "Alive",
          "Alive",
          "Alive",
          "Alive",
          "Alive",
          "Alive",
          "Alive",
          "Alive",
          "Alive",
          "Alive",
          "Dead",
          "Alive",
          "Alive",
          "Alive",
          "Alive",
          "Alive",
          "Dead",
          "Alive",
          "Dead",
          "Dead",
          "Alive",
          "Alive",
          "Dead",
          "Dead",
          "Alive",
          "Dead",
          "Alive",
          "Alive",
          "Alive",
          "Alive",
          "Alive",
          "Alive",
          "Alive",
          "Alive",
          "Alive",
          "Alive",
          "Alive",
          "Alive",
          "Dead",
          "Alive",
          "Alive",
          "Dead",
          "Alive",
          "Alive",
          "Alive",
          "Alive",
          "Alive",
          "Alive",
          "Alive",
          "Alive",
          "Alive",
          "Alive",
          "Dead",
          "Alive",
          "Alive",
          "Alive",
          "Alive",
          "Alive",
          "Alive",
          "Alive",
          "Alive",
          "Dead",
          "Alive",
          "Alive",
          "Alive",
          "Dead",
          "Alive",
          "Alive",
          "Alive",
          "Alive",
          "Alive",
          "Alive",
          "Alive",
          "Dead",
          "Alive",
          "Alive",
          "Alive",
          "Alive",
          "Alive",
          "Alive",
          "Alive",
          "Alive",
          "Alive",
          "Alive",
          "Alive",
          "Alive",
          "Dead",
          "Alive",
          "Alive",
          "Alive",
          "Alive",
          "Alive",
          "Alive",
          "Alive",
          "Alive",
          "Alive",
          "Alive",
          "Alive",
          "Dead",
          "Dead",
          "Dead",
          "Alive",
          "Alive",
          "Alive",
          "Alive",
          "Alive",
          "Alive",
          "Alive",
          "Alive",
          "Alive",
          "Alive",
          "Alive",
          "Alive",
          "Dead",
          "Alive",
          "Alive",
          "Alive",
          "Alive",
          "Alive",
          "Alive",
          "Alive",
          "Alive",
          "Alive",
          "Alive",
          "Dead",
          "Dead",
          "Alive",
          "Alive",
          "Dead",
          "Alive",
          "Alive",
          "Dead",
          "Alive",
          "Alive",
          "Alive",
          "Alive",
          "Alive",
          "Dead",
          "Dead",
          "Alive",
          "Alive",
          "Alive",
          "Alive",
          "Alive",
          "Alive",
          "Alive",
          "Alive",
          "Alive",
          "Alive",
          "Alive",
          "Dead",
          "Alive",
          "Alive",
          "Alive",
          "Alive",
          "Alive",
          "Alive",
          "Alive",
          "Alive",
          "Alive",
          "Alive",
          "Alive",
          "Alive",
          "Alive",
          "Alive",
          "Alive",
          "Alive",
          "Alive",
          "Alive",
          "Alive",
          "Dead",
          "Alive",
          "Alive",
          "Alive",
          "Alive",
          "Alive",
          "Alive",
          "Alive",
          "Alive",
          "Alive",
          "Alive",
          "Alive",
          "Dead",
          "Alive",
          "Alive",
          "Alive",
          "Alive",
          "Alive",
          "Alive",
          "Alive",
          "Alive",
          "Alive",
          "Alive",
          "Alive",
          "Alive",
          "Dead",
          "Alive",
          "Alive",
          "Alive",
          "Alive",
          "Alive",
          "Dead",
          "Alive",
          "Dead",
          "Alive",
          "Alive",
          "Alive",
          "Dead",
          "Dead",
          "Alive",
          "Alive",
          "Alive",
          "Alive",
          "Dead",
          "Alive",
          "Alive",
          "Alive",
          "Alive",
          "Alive",
          "Alive",
          "Alive",
          "Alive",
          "Dead",
          "Dead",
          "Alive",
          "Alive",
          "Alive",
          "Alive",
          "Alive",
          "Dead",
          "Alive",
          "Dead",
          "Alive",
          "Alive",
          "Alive",
          "Dead",
          "Alive",
          "Alive",
          "Alive",
          "Dead",
          "Alive",
          "Alive",
          "Alive",
          "Alive",
          "Alive",
          "Dead",
          "Alive",
          "Alive",
          "Alive",
          "Alive",
          "Alive",
          "Alive",
          "Alive",
          "Alive",
          "Alive",
          "Alive",
          "Alive",
          "Alive",
          "Alive",
          "Alive",
          "Alive",
          "Alive",
          "Alive",
          "Alive",
          "Alive",
          "Alive",
          "Alive",
          "Alive",
          "Alive",
          "Dead",
          "Alive",
          "Alive",
          "Alive",
          "Alive",
          "Dead",
          "Alive",
          "Alive",
          "Alive",
          "Alive",
          "Dead",
          "Alive",
          "Alive",
          "Alive",
          "Alive",
          "Alive",
          "Alive",
          "Alive",
          "Alive",
          "Alive",
          "Alive",
          "Alive",
          "Alive",
          "Alive",
          "Alive",
          "Alive",
          "Alive",
          "Alive",
          "Alive",
          "Alive",
          "Alive",
          "Alive",
          "Alive",
          "Alive",
          "Alive",
          "Alive",
          "Alive",
          "Alive",
          "Alive",
          "Dead",
          "Alive",
          "Dead",
          "Alive",
          "Alive",
          "Alive",
          "Alive",
          "Alive",
          "Alive",
          "Alive",
          "Alive",
          "Alive",
          "Alive",
          "Alive",
          "Alive",
          "Alive",
          "Alive",
          "Alive",
          "Alive",
          "Dead",
          "Alive",
          "Alive",
          "Alive",
          "Alive",
          "Alive",
          "Alive",
          "Alive",
          "Alive",
          "Alive",
          "Alive",
          "Alive",
          "Dead",
          "Alive",
          "Alive",
          "Alive",
          "Dead",
          "Alive",
          "Alive",
          "Alive",
          "Alive",
          "Alive",
          "Alive",
          "Dead",
          "Alive",
          "Dead",
          "Alive",
          "Alive",
          "Alive",
          "Alive",
          "Dead",
          "Alive",
          "Alive",
          "Alive",
          "Alive",
          "Alive",
          "Dead",
          "Alive",
          "Alive",
          "Alive",
          "Alive",
          "Alive",
          "Alive",
          "Dead",
          "Alive",
          "Dead",
          "Alive",
          "Alive",
          "Alive",
          "Alive",
          "Alive",
          "Dead",
          "Alive",
          "Alive",
          "Alive",
          "Alive",
          "Alive",
          "Alive",
          "Alive",
          "Alive",
          "Alive",
          "Alive",
          "Alive",
          "Alive",
          "Alive",
          "Dead",
          "Alive",
          "Alive",
          "Dead",
          "Alive",
          "Alive",
          "Alive",
          "Alive",
          "Alive",
          "Alive",
          "Alive",
          "Alive",
          "Alive",
          "Alive",
          "Alive",
          "Alive",
          "Alive",
          "Alive",
          "Dead",
          "Alive",
          "Alive",
          "Alive",
          "Alive",
          "Alive",
          "Alive",
          "Dead",
          "Dead",
          "Alive",
          "Alive",
          "Alive",
          "Alive",
          "Alive",
          "Dead",
          "Alive",
          "Alive",
          "Alive",
          "Alive",
          "Alive",
          "Alive",
          "Alive",
          "Alive",
          "Alive",
          "Alive",
          "Alive",
          "Alive",
          "Dead",
          "Alive",
          "Alive",
          "Alive",
          "Alive",
          "Dead",
          "Alive",
          "Alive",
          "Alive",
          "Alive",
          "Alive",
          "Alive",
          "Alive",
          "Alive",
          "Alive",
          "Dead",
          "Alive",
          "Alive",
          "Alive",
          "Alive",
          "Alive",
          "Alive",
          "Alive",
          "Alive",
          "Alive",
          "Alive",
          "Dead",
          "Alive",
          "Alive",
          "Alive",
          "Dead",
          "Alive",
          "Dead",
          "Dead",
          "Alive",
          "Alive",
          "Alive",
          "Dead",
          "Dead",
          "Dead",
          "Alive",
          "Alive",
          "Alive",
          "Alive",
          "Alive",
          "Alive",
          "Alive",
          "Alive",
          "Alive",
          "Dead",
          "Alive",
          "Alive",
          "Alive",
          "Alive",
          "Alive",
          "Dead",
          "Alive",
          "Alive",
          "Dead",
          "Alive",
          "Alive",
          "Alive",
          "Alive",
          "Alive",
          "Alive",
          "Dead",
          "Alive",
          "Alive",
          "Alive",
          "Alive",
          "Alive",
          "Alive",
          "Alive",
          "Alive",
          "Alive",
          "Alive",
          "Alive",
          "Alive",
          "Alive",
          "Dead",
          "Alive",
          "Alive",
          "Alive",
          "Alive",
          "Alive",
          "Alive",
          "Alive",
          "Alive",
          "Alive",
          "Alive",
          "Alive",
          "Alive",
          "Dead",
          "Alive",
          "Alive",
          "Alive",
          "Alive",
          "Dead",
          "Alive",
          "Alive",
          "Alive",
          "Alive",
          "Alive",
          "Alive",
          "Alive",
          "Alive",
          "Alive",
          "Alive",
          "Alive",
          "Alive",
          "Alive",
          "Alive",
          "Alive",
          "Alive",
          "Alive",
          "Alive",
          "Alive",
          "Alive",
          "Alive",
          "Alive",
          "Dead",
          "Dead",
          "Alive",
          "Alive",
          "Alive",
          "Alive",
          "Alive",
          "Alive",
          "Alive",
          "Alive",
          "dead",
          "dead",
          "Alive",
          "Alive",
          "Alive",
          "dead",
          "Alive",
          "Alive",
          "Alive",
          "Alive",
          "Alive",
          "dead",
          "Alive",
          "Alive",
          "Alive",
          "Alive",
          "dead",
          "Alive",
          "Alive",
          "Alive",
          "Dead",
          "Alive",
          "Alive",
          "Alive",
          "Dead",
          "Alive",
          "Dead",
          "Alive",
          "Alive",
          "Alive",
          "Alive",
          "Alive",
          "Alive",
          "Alive",
          "Alive",
          "Dead",
          "Alive",
          "Dead",
          "Alive",
          "Alive",
          "Alive",
          "Dead",
          "Dead",
          "Alive",
          "Alive",
          "Alive",
          "Alive",
          "Alive",
          "Alive",
          "Alive",
          "Alive",
          "Dead",
          "Alive",
          "Alive",
          "Alive",
          "Alive",
          "Alive",
          "Alive",
          "Dead",
          "Alive",
          "Dead",
          "Alive",
          "Alive",
          "Alive",
          "Alive",
          "Alive",
          "Alive",
          "Alive",
          "Dead",
          "Alive",
          "Alive",
          "Alive",
          "Alive",
          "Alive",
          "Alive",
          "Alive",
          "Alive",
          "Alive",
          "Alive",
          "Alive",
          "Alive",
          "Alive",
          "Alive",
          "Alive",
          "Alive",
          "Alive",
          "Alive",
          "Alive",
          "Alive",
          "Alive",
          "Alive",
          "Alive",
          "Alive",
          "Alive",
          "Alive",
          "Alive",
          "Alive",
          "Dead",
          "Alive",
          "Dead",
          "Alive",
          "Alive",
          "Dead",
          "Alive",
          "Dead",
          "Alive",
          "Dead",
          "Alive",
          "Alive",
          "Dead",
          "Dead",
          "Alive",
          "Alive",
          "Alive",
          "Alive",
          "Alive",
          "Alive",
          "Alive",
          "Alive",
          "Alive",
          "Alive",
          "Alive",
          "Alive",
          "Dead",
          "Alive",
          "Alive",
          "Alive",
          "Dead",
          "Alive",
          "Alive",
          "Alive",
          "Alive",
          "Alive",
          "Alive",
          "Dead",
          "Alive",
          "Dead",
          "Alive",
          "Alive",
          "Alive",
          "Alive",
          "Alive",
          "Alive",
          "Alive",
          "Alive",
          "Alive",
          "Alive",
          "Alive",
          "Alive",
          "Alive",
          "Alive",
          "Alive",
          "Alive",
          "Alive",
          "Alive",
          "Alive",
          "Alive",
          "Dead",
          "Alive",
          "Alive",
          "Alive",
          "Alive",
          "Dead",
          "Alive",
          "Alive",
          "Alive",
          "Alive",
          "Alive",
          "Dead",
          "Dead",
          "Dead",
          "Alive",
          "Dead",
          "Alive",
          "Alive",
          "Alive",
          "Alive",
          "Alive",
          "Alive",
          "Alive",
          "Dead",
          "Dead",
          "Alive",
          "Alive",
          "Alive",
          "Alive",
          "Alive",
          "Alive",
          "Alive",
          "Alive",
          "Alive",
          "Alive",
          "Dead",
          "Alive",
          "Alive",
          "Alive",
          "Alive",
          "Alive",
          "Alive",
          "Alive",
          "Alive",
          "Alive",
          "Alive",
          "Alive",
          "Alive",
          "Alive",
          "Alive",
          "Alive",
          "Alive",
          "Alive",
          "Alive",
          "Alive",
          "Alive",
          "Dead",
          "Alive",
          "Alive",
          "Alive",
          "Dead",
          "Alive",
          "Alive",
          "Alive",
          "Alive",
          "Alive",
          "Dead",
          "Alive",
          "Alive",
          "Alive",
          "Alive",
          "Alive",
          "Alive",
          "Alive",
          "Alive",
          "Alive",
          "Alive",
          "Alive",
          "Alive",
          "Alive",
          "Alive",
          "Alive",
          "Dead",
          "Alive",
          "Alive",
          "Alive",
          "Alive",
          "Alive",
          "Alive",
          "Dead",
          "Alive",
          "Alive",
          "Alive",
          "Alive",
          "Dead",
          "Alive",
          "Alive",
          "Alive",
          "Alive",
          "Alive",
          "Dead",
          "Alive",
          "Alive",
          "Alive",
          "Alive",
          "Alive",
          "Alive",
          "Alive",
          "Alive",
          "Dead",
          "Alive",
          "Alive",
          "Alive",
          "Alive",
          "Dead",
          "Alive",
          "Alive",
          "Alive",
          "Alive",
          "Alive",
          "Alive",
          "Alive",
          "Alive",
          "Alive",
          "Alive",
          "Alive",
          "Alive",
          "Alive",
          "Dead",
          "Alive",
          "Alive",
          "Alive",
          "Alive",
          "Alive",
          "Alive",
          "Alive",
          "Alive",
          "Alive",
          "Alive",
          "Alive",
          "Alive",
          "Alive",
          "Alive",
          "Alive",
          "Alive",
          "Alive",
          "Alive",
          "Alive",
          "Alive",
          "Alive",
          "Alive",
          "Alive",
          "Alive",
          "Alive",
          "Alive",
          "Dead",
          "Alive",
          "Alive",
          "Alive",
          "Alive",
          "Alive",
          "Dead",
          "Alive",
          "Alive",
          "Alive",
          "Alive",
          "Alive",
          "Alive",
          "Alive",
          "Alive",
          "Alive",
          "Alive",
          "Alive",
          "Alive",
          "Alive",
          "Dead",
          "Alive",
          "Alive",
          "Dead",
          "Alive",
          "Alive",
          "Alive",
          "Alive",
          "Alive",
          "Alive",
          "Alive",
          "Alive",
          "Alive",
          "Alive",
          "Alive",
          "Alive",
          "Alive",
          "Alive",
          "Alive",
          "Alive",
          "Dead",
          "Alive",
          "Alive",
          "Dead",
          "Alive",
          "Alive",
          "Alive",
          "Dead",
          "Alive",
          "Alive",
          "Dead",
          "Alive",
          "Alive",
          "Alive",
          "Alive",
          "Alive",
          "Alive",
          "Alive",
          "Alive",
          "Alive",
          "Alive",
          "Alive",
          "Alive",
          "Alive",
          "Alive",
          "Alive",
          "Dead",
          "Alive",
          "Alive",
          "Alive",
          "Alive",
          "Dead",
          "Alive",
          "Alive",
          "Alive",
          "Alive",
          "Dead",
          "Alive",
          "Dead",
          "Alive",
          "Alive",
          "Alive",
          "Alive",
          "Alive",
          "Dead",
          "Dead",
          "Alive",
          "Alive",
          "Alive",
          "Alive",
          "Alive",
          "Alive",
          "Alive",
          "Alive",
          "Alive",
          "Alive",
          "Dead",
          "Alive",
          "Alive",
          "Alive",
          "Alive",
          "Dead",
          "Dead",
          "Alive",
          "Alive",
          "Alive",
          "Alive",
          "Alive",
          "Alive",
          "Alive",
          "Alive",
          "Alive",
          "Alive",
          "Alive",
          "Alive",
          "Alive",
          "Dead",
          "Alive",
          "Alive",
          "Alive",
          "Dead",
          "Alive",
          "Alive",
          "Dead",
          "Alive",
          "Alive",
          "Alive",
          "Alive",
          "Alive",
          "Alive",
          "Alive",
          "Alive",
          "Dead",
          "Alive",
          "Dead",
          "Alive",
          "Alive",
          "Alive",
          "Alive",
          "Alive",
          "Alive",
          "Alive",
          "Dead",
          "Alive",
          "Alive",
          "Dead",
          "Alive",
          "Alive",
          "Alive",
          "Alive",
          "Alive",
          "Dead",
          "Alive",
          "Alive",
          "Alive",
          "Alive",
          "Alive",
          "Alive",
          "Alive",
          "Alive",
          "Alive",
          "Alive",
          "Alive",
          "Alive",
          "Alive",
          "Alive",
          "Alive",
          "Alive",
          "Dead",
          "Alive",
          "Dead",
          "Alive",
          "Dead",
          "Alive",
          "Alive",
          "Alive",
          "Alive",
          "Alive",
          "Alive",
          "Alive",
          "Alive",
          "Dead",
          "Alive",
          "Alive",
          "Alive",
          "Alive",
          "Alive",
          "Dead",
          "Alive",
          "Alive",
          "Dead",
          "Alive",
          "Alive",
          "Alive",
          "Alive",
          "Alive",
          "Alive",
          "Alive",
          "Alive",
          "Dead",
          "Alive",
          "Alive",
          "Alive",
          "Alive",
          "Alive",
          "Alive",
          "Alive",
          "Dead",
          "Alive",
          "Alive",
          "Alive",
          "Alive",
          "Alive",
          "Alive",
          "Alive",
          "Alive",
          "Dead",
          "Alive",
          "Alive",
          "Alive",
          "Alive",
          "Alive",
          "Alive",
          "Alive",
          "Dead",
          "Alive",
          "Alive",
          "Alive",
          "Alive",
          "Alive",
          "Alive",
          "Alive",
          "Alive",
          "Alive",
          "Alive",
          "Alive",
          "Alive",
          "Alive",
          "Alive",
          "Alive",
          "Alive",
          "Alive",
          "Dead",
          "Alive",
          "Alive",
          "Alive",
          "Alive",
          "Alive",
          "Alive",
          "Alive",
          "Alive",
          "Dead",
          "Alive",
          "Alive",
          "Dead",
          "Alive",
          "Dead",
          "Alive",
          "Alive",
          "Alive",
          "Alive",
          "Alive",
          "Dead",
          "Alive",
          "Dead",
          "Dead",
          "Alive",
          "Dead",
          "Alive",
          "Alive",
          "Alive",
          "Alive",
          "Dead",
          "Alive",
          "Alive",
          "Alive",
          "Alive",
          "Alive",
          "Alive",
          "Dead",
          "Alive",
          "Alive",
          "Alive",
          "Alive",
          "Alive",
          "Alive",
          "Dead",
          "Dead",
          "Alive",
          "Alive",
          "Dead",
          "Alive",
          "Alive",
          "Alive",
          "Alive",
          "Dead",
          "Alive",
          "Alive",
          "Alive",
          "Alive",
          "Alive",
          "Alive",
          "Alive",
          "Alive",
          "Alive",
          "Alive",
          "Alive",
          "Dead",
          "Alive",
          "Alive",
          "Dead",
          "Alive",
          "Alive",
          "Alive",
          "Alive",
          "Alive",
          "Alive",
          "Alive",
          "Alive",
          "Alive",
          "Alive",
          "Alive",
          "Alive",
          "Alive",
          "Alive",
          "Alive",
          "Alive",
          "Alive",
          "Alive",
          "Alive",
          "Alive",
          "Alive",
          "Alive",
          "Dead",
          "Alive",
          "Alive",
          "Dead",
          "Alive",
          "Alive",
          "Alive",
          "Dead",
          "Alive",
          "Alive",
          "Alive",
          "Alive",
          "Alive",
          "Alive",
          "Alive",
          "Alive",
          "Alive",
          "Alive",
          "Alive",
          "Alive",
          "Alive",
          "Alive",
          "Alive",
          "Alive",
          "Alive",
          "Alive",
          "Alive",
          "Alive",
          "Dead",
          "Dead",
          "Alive",
          "Alive",
          "Alive",
          "Dead",
          "Alive",
          "Alive",
          "Dead",
          "Alive",
          "Dead",
          "Alive",
          "Alive",
          "Dead",
          "Alive",
          "Alive",
          "Dead",
          "Alive",
          "Alive",
          "Alive",
          "Alive",
          "Alive",
          "Alive",
          "Alive",
          "Alive",
          "Dead",
          "Alive",
          "Alive",
          "Alive",
          "Alive",
          "Dead",
          "Alive",
          "Alive",
          "Alive",
          "Alive",
          "Alive",
          "Alive",
          "Alive",
          "Dead",
          "Dead",
          "Alive",
          "Alive",
          "Dead",
          "Alive",
          "Dead",
          "Dead",
          "Alive",
          "Dead",
          "Alive",
          "Alive",
          "Dead",
          "Alive",
          "Alive",
          "Alive",
          "Dead",
          "Alive",
          "Alive",
          "Dead",
          "Alive",
          "Alive",
          "Alive",
          "Alive",
          "Dead",
          "Alive",
          "Alive",
          "Alive",
          "Alive",
          "Alive",
          "Dead",
          "Alive",
          "Alive",
          "Alive",
          "Alive",
          "Alive",
          "Alive",
          "Alive",
          "Alive",
          "Alive",
          "Alive",
          "Alive",
          "Alive",
          "Alive",
          "Alive",
          "Dead",
          "Alive",
          "Alive",
          "Alive",
          "Alive",
          "Alive",
          "Alive",
          "Alive",
          "Alive",
          "Alive",
          "Alive",
          "Alive",
          "Dead",
          "Alive",
          "Alive",
          "Alive",
          "Alive",
          "Alive",
          "Dead",
          "Alive",
          "Alive",
          "Alive",
          "Alive",
          "Alive",
          "Alive",
          "Alive",
          "Alive",
          "Alive",
          "Alive",
          "Alive",
          "Dead",
          "Alive",
          "Dead",
          "Alive",
          "Alive",
          "Alive",
          "Alive",
          "Alive",
          "Alive",
          "Alive",
          "Alive",
          "Alive",
          "Alive",
          "Alive",
          "Alive",
          "Alive",
          "Alive",
          "Alive",
          "Alive",
          "Alive",
          "Dead",
          "Alive",
          "Alive",
          "Alive",
          "Alive",
          "Dead",
          "Alive",
          "Dead",
          "Dead",
          "Dead",
          "Alive",
          "Alive",
          "Alive",
          "Alive",
          "Alive",
          "Alive",
          "Alive",
          "Alive",
          "Alive",
          "Alive",
          "Alive",
          "Alive",
          "Alive",
          "Alive",
          "Alive",
          "Alive",
          "Alive",
          "Alive",
          "Alive",
          "Dead",
          "Alive",
          "Alive",
          "Alive",
          "Alive",
          "Alive",
          "Alive",
          "Alive",
          "Alive",
          "Alive",
          "Alive",
          "Alive",
          "Dead",
          "Alive",
          "Alive",
          "Alive",
          "Alive",
          "Alive",
          "Alive",
          "Alive",
          "Alive",
          "Alive",
          "Alive",
          "Alive",
          "Alive",
          "Dead",
          "Dead",
          "Alive",
          "Dead",
          "Alive",
          "Alive",
          "Alive",
          "Alive",
          "Alive",
          "Alive",
          "Alive",
          "Alive",
          "Alive",
          "Alive",
          "Alive",
          "Alive",
          "Alive",
          "Alive",
          "Dead",
          "Alive",
          "Alive",
          "Alive",
          "Dead",
          "Alive",
          "Alive",
          "Alive",
          "Dead",
          "Alive",
          "Alive",
          "Dead",
          "Alive",
          "Alive",
          "Alive",
          "Dead",
          "Alive",
          "Alive",
          "Alive",
          "Alive",
          "Alive",
          "Alive",
          "Alive",
          "Alive",
          "Alive",
          "Dead",
          "Alive",
          "Alive",
          "Alive",
          "Alive",
          "Alive",
          "Alive",
          "Dead",
          "Alive",
          "Alive",
          "Alive",
          "Alive",
          "Alive",
          "Alive",
          "Alive",
          "Alive",
          "Alive",
          "Alive",
          "Alive",
          "Alive",
          "Alive",
          "Alive",
          "Alive",
          "Dead",
          "Dead",
          "Alive",
          "Alive",
          "Alive",
          "Alive",
          "Alive",
          "Dead",
          "Alive",
          "Dead",
          "Alive",
          "Alive",
          "Alive",
          "Dead",
          "Alive",
          "Dead",
          "Alive",
          "Alive",
          "Alive",
          "Alive",
          "Dead",
          "Alive",
          "Alive",
          "Alive",
          "Alive",
          "Alive",
          "Dead",
          "Alive",
          "Alive",
          "Dead",
          "Dead",
          "Alive",
          "Alive",
          "Alive",
          "Alive",
          "Alive",
          "Alive",
          "Alive",
          "Alive",
          "Alive",
          "Alive",
          "Alive",
          "Alive",
          "Alive",
          "Alive",
          "Alive",
          "Dead",
          "Alive",
          "Alive",
          "Alive",
          "Alive",
          "Dead",
          "Alive",
          "Alive",
          "Dead",
          "Alive",
          "Alive",
          "Dead",
          "Alive",
          "Alive",
          "Alive",
          "Alive",
          "Alive",
          "Alive",
          "Dead",
          "Alive",
          "Alive",
          "Alive",
          "Alive",
          "Dead",
          "Alive",
          "Alive",
          "Alive",
          "Alive",
          "Alive",
          "Alive",
          "Dead",
          "Dead",
          "Alive",
          "Alive",
          "Alive",
          "Alive",
          "Dead",
          "Dead",
          "Alive",
          "Alive",
          "Alive",
          "Alive",
          "Alive",
          "Alive",
          "Alive",
          "Alive",
          "Alive",
          "Alive",
          "Alive",
          "Dead",
          "Alive",
          "Alive",
          "Alive",
          "Dead",
          "Alive",
          "Alive",
          "Alive",
          "Alive",
          "Alive",
          "Alive",
          "Alive",
          "Alive",
          "Alive",
          "Alive",
          "Alive",
          "Alive",
          "Alive",
          "Alive",
          "Dead",
          "Alive",
          "Alive",
          "Alive",
          "Alive",
          "Alive",
          "Alive",
          "Alive",
          "Alive",
          "Alive",
          "Alive",
          "Alive",
          "Alive",
          "Alive",
          "Alive",
          "Alive",
          "Alive",
          "Alive",
          "Alive",
          "Alive",
          "Dead",
          "Alive",
          "Dead",
          "Alive",
          "Alive",
          "Alive",
          "Alive",
          "Alive",
          "Alive",
          "Alive",
          "Alive",
          "Alive",
          "Alive",
          "Dead",
          "Alive",
          "Alive",
          "Alive",
          "Alive",
          "Alive",
          "Alive",
          "Alive",
          "Dead",
          "Alive",
          "Alive",
          "Alive",
          "Alive",
          "Alive",
          "Alive",
          "Alive",
          "Alive",
          "Alive",
          "Alive",
          "Dead",
          "Alive",
          "Alive",
          "Alive",
          "Alive",
          "Alive",
          "Dead",
          "Alive",
          "Alive",
          "Alive",
          "Alive",
          "Dead",
          "Alive",
          "Alive",
          "Alive",
          "Alive",
          "Alive",
          "Alive",
          "Alive",
          "Dead",
          "Alive",
          "Alive",
          "Alive",
          "Alive",
          "Alive",
          "Alive",
          "Alive",
          "Alive",
          "Alive",
          "Alive",
          "Alive",
          "Alive",
          "Alive",
          "Alive",
          "Dead",
          "Alive",
          "Alive",
          "Alive",
          "Alive",
          "Alive",
          "Alive",
          "Alive",
          "Alive",
          "Alive",
          "Alive",
          "Alive",
          "Alive",
          "Alive",
          "Alive",
          "Alive",
          "Dead",
          "Dead",
          "Dead",
          "Alive",
          "Alive",
          "Alive",
          "Alive",
          "Alive",
          "Alive",
          "Alive",
          "Alive",
          "Alive",
          "Alive",
          "Alive",
          "Dead",
          "Alive",
          "Alive",
          "Alive",
          "Alive",
          "Alive",
          "Alive",
          "Dead",
          "Alive",
          "Alive",
          "Alive",
          "Alive",
          "Alive",
          "Dead",
          "Alive",
          "Alive",
          "Dead",
          "Alive",
          "Alive",
          "Alive",
          "Dead",
          "Alive",
          "Alive",
          "Alive",
          "Dead",
          "Alive",
          "Dead",
          "Alive",
          "Alive",
          "Alive",
          "Alive",
          "Alive",
          "Alive",
          "Alive",
          "Alive",
          "Alive",
          "Alive",
          "Alive",
          "Alive",
          "Alive",
          "Alive",
          "Alive",
          "Alive",
          "Alive",
          "Alive",
          "Alive",
          "Alive",
          "Alive",
          "Alive",
          "Alive",
          "Alive",
          "Alive",
          "Alive",
          "Dead",
          "Alive",
          "Dead",
          "Dead",
          "Alive",
          "Alive",
          "Dead",
          "Alive",
          "Alive",
          "Alive",
          "Dead",
          "Alive",
          "Alive",
          "Alive",
          "Alive",
          "Alive",
          "Alive",
          "Alive",
          "Alive",
          "Alive",
          "Alive",
          "Alive",
          "Alive",
          "Alive",
          "Alive",
          "Alive",
          "Alive",
          "Alive",
          "Alive",
          "Alive",
          "Alive",
          "Alive",
          "Alive",
          "Alive",
          "Dead",
          "Alive",
          "Alive",
          "Alive",
          "Alive",
          "Alive",
          "Alive",
          "Alive",
          "Alive",
          "Alive",
          "Dead",
          "Alive",
          "Dead",
          "Alive",
          "Alive",
          "Alive",
          "Alive",
          "Alive",
          "Alive",
          "Alive",
          "Alive",
          "Dead",
          "Alive",
          "Alive",
          "Alive",
          "Alive",
          "Dead",
          "Alive",
          "Alive",
          "Alive",
          "Alive",
          "Alive",
          "Dead",
          "Alive",
          "Alive",
          "Alive",
          "Alive",
          "Dead",
          "Alive",
          "Alive",
          "Alive",
          "Alive",
          "Alive",
          "Alive",
          "Alive",
          "Alive",
          "Alive",
          "Alive",
          "Alive",
          "Alive",
          "Alive",
          "Alive",
          "Dead",
          "Alive",
          "Alive",
          "Alive",
          "Alive",
          "Alive",
          "Alive",
          "Alive",
          "Alive",
          "Alive",
          "Alive",
          "Alive",
          "Alive",
          "Dead",
          "Alive",
          "Dead",
          "Alive",
          "Alive",
          "Dead",
          "Alive",
          "Alive",
          "Alive",
          "Alive",
          "Dead",
          "Dead",
          "Alive",
          "Alive",
          "Alive",
          "Dead",
          "Alive",
          "Alive",
          "Alive",
          "Dead",
          "Alive",
          "Alive",
          "Alive",
          "Dead",
          "Alive",
          "Alive",
          "Alive",
          "Alive",
          "Alive",
          "Alive",
          "Alive",
          "Alive",
          "Alive",
          "Alive",
          "Alive",
          "Alive",
          "Alive",
          "Alive",
          "Alive",
          "Alive",
          "Alive",
          "Alive",
          "Alive",
          "Dead",
          "Alive",
          "Alive",
          "Alive",
          "Alive",
          "Alive",
          "Alive",
          "Alive",
          "Alive",
          "Dead",
          "Alive",
          "Alive",
          "Alive",
          "Alive",
          "Alive",
          "Alive",
          "Alive",
          "Alive",
          "Alive",
          "Alive",
          "Alive",
          "Alive",
          "Alive",
          "Alive",
          "Alive",
          "Alive",
          "Dead",
          "Alive",
          "Alive",
          "Alive",
          "Alive",
          "Alive",
          "Alive",
          "Alive",
          "Alive",
          "Alive",
          "Alive",
          "Alive",
          "Dead",
          "Alive",
          "Alive",
          "Alive",
          "Alive",
          "Alive",
          "Alive",
          "Alive",
          "Dead",
          "Alive",
          "Alive",
          "Alive",
          "Alive",
          "Alive",
          "Alive",
          "Alive",
          "Alive",
          "Alive",
          "Dead",
          "Alive",
          "Alive",
          "Alive",
          "Alive",
          "Alive",
          "Alive",
          "Alive",
          "Alive",
          "Alive",
          "Alive",
          "Alive",
          "Alive",
          "Alive",
          "Alive",
          "Alive",
          "Dead",
          "Alive",
          "Dead",
          "Alive",
          "Alive",
          "Alive",
          "Alive",
          "Alive",
          "Alive",
          "Alive",
          "Alive",
          "Alive",
          "Alive",
          "Alive",
          "Alive",
          "Alive",
          "Alive",
          "Dead",
          "Alive",
          "Alive",
          "Alive",
          "Alive",
          "Alive",
          "Alive",
          "Alive",
          "Alive",
          "Alive",
          "Alive",
          "Alive",
          "Alive",
          "Alive",
          "Alive",
          "Alive",
          "Alive",
          "Alive",
          "Alive",
          "Alive",
          "Alive",
          "Dead",
          "Alive",
          "Alive",
          "Dead",
          "Alive",
          "Alive",
          "Alive",
          "Dead",
          "Alive",
          "Alive",
          "Alive",
          "Alive",
          "Dead",
          "Alive",
          "Dead",
          "Alive",
          "Alive",
          "Alive",
          "Dead",
          "Alive",
          "Alive",
          "Alive",
          "Alive",
          "Alive",
          "Dead",
          "Dead",
          "Alive",
          "Alive",
          "Alive",
          "Alive",
          "Dead",
          "Dead",
          "Alive",
          "Alive",
          "Alive",
          "Alive",
          "Alive",
          "Alive",
          "Alive",
          "Alive",
          "Dead",
          "Alive",
          "Alive",
          "Alive",
          "Alive",
          "Alive",
          "Alive",
          "Alive",
          "Alive",
          "Alive",
          "Dead",
          "Alive",
          "Alive",
          "Alive",
          "Alive",
          "Dead",
          "Dead",
          "Alive",
          "Dead",
          "Alive",
          "Alive",
          "Alive",
          "Alive",
          "Alive",
          "Alive",
          "Alive",
          "Alive",
          "Alive",
          "Alive",
          "Alive",
          "Dead",
          "Alive",
          "Dead",
          "Alive",
          "Alive",
          "Dead",
          "Dead",
          "Alive",
          "Alive",
          "Alive",
          "Alive",
          "Alive",
          "Alive",
          "Alive",
          "Alive",
          "Alive",
          "Alive",
          "Dead",
          "Alive",
          "Dead",
          "Alive",
          "Alive",
          "Alive",
          "Alive",
          "Alive",
          "Alive",
          "Alive",
          "Dead",
          "Alive",
          "Alive",
          "Alive",
          "Alive",
          "Alive",
          "Alive",
          "Alive",
          "Dead",
          "Alive",
          "Dead",
          "Alive",
          "Alive",
          "Alive",
          "Alive",
          "Alive",
          "Dead",
          "Alive",
          "Alive",
          "Dead",
          "Dead",
          "Alive",
          "Alive",
          "Alive",
          "Alive",
          "Alive",
          "Dead",
          "Alive",
          "Alive",
          "Alive",
          "Dead",
          "Alive",
          "Alive",
          "Alive",
          "Alive",
          "Alive",
          "Alive",
          "Alive",
          "Alive",
          "Alive",
          "Alive",
          "Alive",
          "Dead",
          "Alive",
          "Alive",
          "Alive",
          "Alive",
          "Alive",
          "Alive",
          "Alive",
          "Dead",
          "Dead",
          "Alive",
          "Alive",
          "Alive",
          "Dead",
          "Alive",
          "Alive",
          "Alive",
          "Alive",
          "Dead",
          "Alive",
          "Alive",
          "Dead",
          "Alive",
          "Alive",
          "Dead",
          "Alive",
          "Alive",
          "Alive",
          "Dead",
          "Alive",
          "Alive",
          "Alive",
          "Alive",
          "Alive",
          "Alive",
          "Alive",
          "Alive",
          "Alive",
          "Dead",
          "Alive",
          "Alive",
          "Alive",
          "Alive",
          "Alive",
          "Alive",
          "Alive",
          "Alive",
          "Alive",
          "Dead",
          "Dead",
          "Alive",
          "Alive",
          "Alive",
          "Alive",
          "Alive",
          "Alive",
          "Alive",
          "Alive",
          "Alive",
          "Alive",
          "Alive",
          "Alive",
          "Dead",
          "Alive",
          "Alive",
          "Dead",
          "Alive",
          "Dead",
          "Dead",
          "Dead",
          "Alive",
          "Alive",
          "Alive",
          "Alive",
          "Dead",
          "Dead",
          "Alive",
          "Alive",
          "Alive",
          "Alive",
          "Alive",
          "Alive",
          "Alive",
          "Alive",
          "Alive",
          "Alive",
          "Alive",
          "Alive",
          "Alive",
          "Alive",
          "Alive",
          "Alive",
          "Alive",
          "Alive",
          "Alive",
          "Alive",
          "Alive",
          "Alive",
          "Alive",
          "Alive",
          "Alive",
          "Alive",
          "Alive",
          "Alive",
          "Alive",
          "Dead",
          "Alive",
          "Alive",
          "Alive",
          "Alive",
          "Alive",
          "Alive",
          "Dead",
          "Alive",
          "Dead",
          "Alive",
          "Alive",
          "Dead",
          "Alive",
          "Alive",
          "Alive",
          "Alive",
          "Alive",
          "Alive",
          "Dead",
          "Alive",
          "Alive",
          "Alive",
          "Alive",
          "Alive",
          "Alive",
          "Alive",
          "Alive",
          "Alive",
          "Dead",
          "Alive",
          "Alive",
          "Alive",
          "Dead",
          "Alive",
          "Alive",
          "Alive",
          "Alive",
          "Dead",
          "Alive",
          "Alive",
          "Alive",
          "Alive",
          "Alive",
          "Alive",
          "Alive",
          "Alive",
          "Alive",
          "Alive",
          "Alive",
          "Dead",
          "Dead",
          "Alive",
          "Alive",
          "Dead",
          "Dead",
          "Alive",
          "Alive",
          "Alive",
          "Alive",
          "Alive",
          "Alive",
          "Alive",
          "Alive",
          "Alive",
          "Alive",
          "Alive",
          "Alive",
          "Alive",
          "Alive",
          "Alive",
          "Alive",
          "Alive",
          "Dead",
          "Alive",
          "Alive",
          "Alive",
          "Alive",
          "Alive",
          "Alive",
          "Dead",
          "Alive",
          "Alive",
          "Alive",
          "Alive",
          "Alive",
          "DEAD",
          "Alive",
          "Alive",
          "Alive",
          "Alive",
          "DEAD",
          "Alive",
          "Alive",
          "Alive",
          "DEAD",
          "Alive",
          "Alive",
          "Alive",
          "Alive",
          "DEAD",
          "Alive",
          "Alive",
          "DEAD",
          "Alive",
          "Dead",
          "Alive",
          "Alive",
          "Alive",
          "Alive",
          "Alive",
          "Alive",
          "Alive",
          "Alive",
          "Dead",
          "Alive",
          "Alive",
          "Alive",
          "Alive",
          "Alive",
          "Alive",
          "Alive",
          "Alive",
          "Alive",
          "Alive",
          "Dead",
          "Alive",
          "Alive",
          "Alive",
          "Dead",
          "Alive",
          "Alive",
          "Alive",
          "Alive",
          "Alive",
          "Alive",
          "Alive",
          "Alive",
          "Dead",
          "Alive",
          "Dead",
          "Alive",
          "Alive",
          "Alive",
          "Alive",
          "Alive",
          "Alive",
          "Alive",
          "Alive",
          "Alive",
          "Alive",
          "Alive",
          "Alive",
          "Alive",
          "Alive",
          "Alive",
          "Alive",
          "Alive",
          "Alive",
          "Alive",
          "Alive",
          "Alive",
          "Alive",
          "Alive",
          "Alive",
          "Alive",
          "Alive",
          "Alive",
          "Alive",
          "Alive",
          "Alive",
          "Alive",
          "Alive",
          "Alive",
          "Alive",
          "Alive",
          "Alive",
          "Alive",
          "Alive",
          "Alive",
          "Alive",
          "Alive",
          "Dead",
          "Alive",
          "Alive",
          "Alive",
          "Alive",
          "Alive",
          "Alive",
          "Alive",
          "Alive",
          "Alive",
          "Alive",
          "Alive",
          "Alive",
          "Alive",
          "Alive",
          "Alive",
          "Alive",
          "Alive",
          "Alive",
          "Alive",
          "Alive",
          "Alive",
          "Alive",
          "Alive",
          "Alive",
          "Dead",
          "Alive",
          "Alive",
          "Alive",
          "Dead",
          "Alive",
          "Alive",
          "Alive",
          "Alive",
          "Alive",
          "Alive",
          "Alive",
          "Alive",
          "Alive",
          "Dead",
          "Alive",
          "Alive",
          "Alive",
          "Alive",
          "Alive",
          "Dead",
          "Alive",
          "Alive",
          "Alive",
          "Alive",
          "Alive",
          "Alive",
          "Dead",
          "Alive",
          "Alive",
          "Alive",
          "Alive",
          "Alive",
          "Alive",
          "Alive",
          "Dead",
          "Alive",
          "Alive",
          "Alive",
          "Alive",
          "Alive",
          "Alive",
          "Alive",
          "Alive",
          "Alive",
          "Dead",
          "Alive",
          "Alive",
          "Alive",
          "Dead",
          "Alive",
          "Dead",
          "Dead",
          "Alive",
          "Alive",
          "Alive",
          "Dead",
          "Alive",
          "Alive",
          "Alive",
          "Alive",
          "Alive",
          "Alive",
          "Alive",
          "Alive",
          "Alive",
          "Alive",
          "Alive",
          "Dead",
          "Alive",
          "Alive",
          "Alive",
          "Alive",
          "Alive",
          "Alive",
          "Alive",
          "Alive",
          "Alive",
          "Dead",
          "Dead",
          "Alive",
          "Alive",
          "Alive",
          "Alive",
          "Alive",
          "Alive",
          "Alive",
          "Alive",
          "Dead",
          "Alive",
          "Dead",
          "Alive",
          "Alive",
          "Alive",
          "Alive",
          "Alive",
          "Alive",
          "Alive",
          "Alive",
          "Alive",
          "Alive",
          "Alive",
          "Alive",
          "Alive",
          "Alive",
          "Alive",
          "Alive",
          "Dead",
          "Alive",
          "Alive",
          "Dead",
          "Alive",
          "Alive",
          "Alive",
          "Alive",
          "Alive",
          "Alive",
          "Alive",
          "Alive",
          "Alive",
          "Alive",
          "Alive",
          "Dead",
          "Alive",
          "Alive",
          "Alive",
          "Alive",
          "Alive",
          "Alive",
          "Alive",
          "Alive",
          "Dead",
          "Alive",
          "Alive",
          "Alive",
          "Alive",
          "Dead",
          "Alive",
          "Alive",
          "Alive",
          "Alive",
          "Alive",
          "Alive",
          "Alive",
          "Alive",
          "Alive",
          "Alive",
          "Dead",
          "Alive",
          "Alive",
          "Alive",
          "Alive",
          "Alive",
          "Alive",
          "Dead",
          "Alive",
          "Alive",
          "Alive",
          "Dead",
          "Alive",
          "Alive",
          "Alive",
          "Alive",
          "Alive",
          "Alive",
          "Dead",
          "Dead",
          "Alive",
          "Alive",
          "Alive",
          "Alive",
          "Alive",
          "Dead",
          "Alive",
          "Alive",
          "Alive",
          "Alive",
          "Alive",
          "Alive",
          "Dead",
          "Alive",
          "Alive",
          "Alive",
          "Alive",
          "Alive",
          "Alive"
         ],
         "xaxis": "x",
         "y": {
          "bdata": "AQEBAQEBAQEBAQEBAQEBAQEBAQEBAQEBAQEBAQEBAQEBAQEBAQEBAQEBAQEBAQEBAQEBAQEBAQEBAQEBAQEBAQEBAQEBAQEBAQEBAQEBAQEBAQEBAQEBAQEBAQEBAQEBAQEBAQEBAQEBAQEBAQEBAQEBAQEBAQEBAQEBAQEBAQEBAQEBAQEBAQEBAQEBAQEBAQEBAQEBAQEBAQEBAQEBAQEBAQEBAQEBAQEBAQEBAQEBAQEBAQEBAQEBAQEBAQEBAQEBAQEBAQEBAQEBAQEBAQEBAQEBAQEBAQEBAQEBAQEBAQEBAQEBAQEBAQEBAQEBAQEBAQEBAQEBAQEBAQEBAQEBAQEBAQEBAQEBAQEBAQEBAQEBAQEBAQEBAQEBAQEBAQEBAQEBAQEBAQEBAQEBAQEBAQEBAQEBAQEBAQEBAQEBAQEBAQEBAQEBAQEBAQEBAQEBAQEBAQEBAQEBAQEBAQEBAQEBAQEBAQEBAQEBAQEBAQEBAQEBAQEBAQEBAQEBAQEBAQEBAQEBAQEBAQEBAQEBAQEBAQEBAQEBAQEBAQEBAQEBAQEBAQEBAQEBAQEBAQEBAQEBAQEBAQEBAQEBAQEBAQEBAQEBAQEBAQEBAQEBAQEBAQEBAQEBAQEBAQEBAQEBAQEBAQEBAQEBAQEBAQEBAQEBAQEBAQEBAQEBAQEBAQEBAQEBAQEBAQEBAQEBAQEBAQEBAQEBAQEBAQEBAQEBAQEBAQEBAQEBAQEBAQEBAQEBAQEBAQEBAQEBAQEBAQEBAQEBAQEBAQEBAQEBAQEBAQEBAQEBAQEBAQEBAQEBAQEBAQEBAQEBAQEBAQEBAQEBAQEBAQEBAQEBAQEBAQEBAQEBAQEBAQEBAQEBAQEBAQEBAQEBAQEBAQEBAQEBAQEBAQEBAQEBAQEBAQEBAQEBAQEBAQEBAQEBAQEBAQEBAQEBAQEBAQEBAQEBAQEBAQEBAQEBAQEBAQEBAQEBAQEBAQEBAQEBAQEBAQEBAQEBAQEBAQEBAQEBAQEBAQEBAQEBAQEBAQEBAQEBAQEBAQEBAQEBAQEBAQEBAQEBAQEBAQEBAQEBAQEBAQEBAQEBAQEBAQEBAQEBAQEBAQEBAQEBAQEBAQEBAQEBAQEBAQEBAQEBAQEBAQEBAQEBAQEBAQEBAQEBAQEBAQEBAQEBAQEBAQEBAQEBAQEBAQEBAQEBAQEBAQEBAQEBAQEBAQEBAQEBAQEBAQEBAQEBAQEBAQEBAQEBAQEBAQEBAQEBAQEBAQEBAQEBAQEBAQEBAQEBAQEBAQEBAQEBAQEBAQEBAQEBAQEBAQEBAQEBAQEBAQEBAQEBAQEBAQEBAQEBAQEBAQEBAQEBAQEBAQEBAQEBAQEBAQEBAQEBAQEBAQEBAQEBAQEBAQEBAQEBAQEBAQEBAQEBAQEBAQEBAQEBAQEBAQEBAQEBAQEBAQEBAQEBAQEBAQEBAQEBAQEBAQEBAQEBAQEBAQEBAQEBAQEBAQEBAQEBAQEBAQEBAQEBAQEBAQEBAQEBAQEBAQEBAQEBAQEBAQEBAQEBAQEBAQEBAQEBAQEBAQEBAQEBAQEBAQEBAQEBAQEBAQEBAQEBAQEBAQEBAQEBAQEBAQEBAQEBAQEBAQEBAQEBAQEBAQEBAQEBAQEBAQEBAQEBAQEBAQEBAQEBAQEBAQEBAQEBAQEBAQEBAQEBAQEBAQEBAQEBAQEBAQEBAQEBAQEBAQEBAQEBAQEBAQEBAQEBAQEBAQEBAQEBAQEBAQEBAQEBAQEBAQEBAQEBAQEBAQEBAQEBAQEBAQEBAQEBAQEBAQEBAQEBAQEBAQEBAQEBAQEBAQEBAQEBAQEBAQEBAQEBAQEBAQEBAQEBAQEBAQEBAQEBAQEBAQEBAQEBAQEBAQEBAQEBAQEBAQEBAQEBAQEBAQEBAQEBAQEBAQEBAQEBAQEBAQEBAQEBAQEBAQEBAQEBAQEBAQEBAQEBAQEBAQEBAQEBAQEBAQEBAQEBAQEBAQEBAQEBAQEBAQEBAQEBAQEBAQEBAQEBAQEBAQEBAQEBAQEBAQEBAQEBAQEBAQEBAQEBAQEBAQEBAQEBAQEBAQEBAQEBAQEBAQEBAQEBAQEBAQEBAQEBAQEBAQEBAQEBAQEBAQEBAQEBAQEBAQEBAQEBAQEBAQEBAQEBAQEBAQEBAQEBAQEBAQEBAQEBAQEBAQEBAQEBAQEBAQEBAQEBAQEBAQEBAQEBAQEBAQEBAQEBAQEBAQEBAQEBAQEBAQEBAQEBAQEBAQEBAQEBAQEBAQEBAQEBAQEBAQEBAQEBAQEBAQEBAQEBAQEBAQEBAQEBAQEBAQEBAQEBAQEBAQEBAQEBAQEBAQEBAQEBAQEBAQEBAQEBAQEBAQEBAQEBAQEBAQEBAQEBAQEBAQEBAQEBAQEBAQEBAQEBAQEBAQEBAQEBAQEBAQEBAQEBAQEBAQEBAQEBAQEBAQEBAQEBAQEBAQEBAQEBAQEBAQEBAQEBAQEBAQEBAQEBAQEBAQEBAQEBAQEBAQEBAQEBAQEBAQEBAQEBAQEBAQEBAQEBAQEBAQEBAQEBAQEBAQEBAQEBAQEBAQEBAQEBAQEBAQEBAQEBAQEBAQEBAQEBAQEBAQEBAQEBAQEBAQEBAQEBAQEBAQEBAQEBAQEBAQEBAQEBAQEBAQEBAQEBAQEBAQEBAQEBAQEBAQEBAQEBAQEBAQEBAQEBAQEBAQEBAQEBAQEBAQEBAQEBAQEBAQEBAQEBAQEBAQEBAQEBAQEBAQEBAQEBAQEBAQEBAQEBAQEBAQEBAQEBAQEBAQEBAQEBAQEBAQEBAQEBAQEBAQEBAQEBAQEBAQEBAQEBAQEBAQEBAQEBAQEBAQEBAQEBAQEBAQEBAQEBAQEBAQEBAQEBAQEBAQEBAQEBAQEBAQEBAQEBAQEBAQEBAQEBAQEBAQEBAQEBAQEBAQEBAQEBAQEBAQEBAQEBAQEBAQEBAQEBAQEBAQEBAQEBAQEBAQEBAQEBAQEBAQEBAQEBAQEBAQEBAQEBAQEBAQEBAQEBAQEBAQEBAQEBAQEBAQEBAQEBAQEBAQEBAQEBAQEBAQEBAQEBAQEBAQEBAQEBAQEBAQEBAQEBAQEBAQEBAQEBAQEBAQEBAQEBAQEBAQEBAQEBAQEBAQEBAQEBAQEBAQEBAQEBAQEBAQEBAQEBAQEBAQEBAQEBAQEBAQEBAQEBAQEBAQEBAQEBAQEBAQEBAQEBAQEBAQEBAQEBAQEBAQEBAQEBAQEBAQEBAQEBAQEBAQEBAQEBAQEBAQEBAQEBAQEBAQEBAQEBAQEBAQEBAQEBAQEBAQEBAQEBAQEBAQEBAQEBAQEBAQEBAQEBAQEBAQEBAQEBAQEBAQEBAQEBAQEBAQEBAQEBAQEBAQEBAQEBAQEBAQEBAQEBAQEBAQEBAQEBAQEBAQEBAQEBAQEBAQEBAQEBAQEBAQEBAQEBAQEBAQEBAQEBAQEBAQEBAQEBAQEBAQEBAQEBAQEBAQEBAQEBAQEBAQEBAQEBAQEBAQEBAQEBAQEBAQEBAQEBAQEBAQEBAQEBAQEBAQEBAQEBAQEBAQEBAQEBAQEBAQEBAQEBAQEBAQEBAQEBAQEBAQEBAQEBAQEBAQEBAQEBAQEBAQEBAQEBAQEBAQEBAQEBAQEBAQEBAQEBAQEBAQEBAQEBAQEBAQEBAQEBAQEBAQEBAQEBAQEBAQEBAQEBAQEBAQEBAQEBAQEBAQEBAQEBAQEBAQEBAQEBAQEBAQEBAQEBAQEBAQEBAQEBAQEBAQEBAQEBAQEBAQEBAQEBAQEBAQEBAQEBAQEBAQEBAQEBAQEBAQEBAQEBAQEBAQEBAQEBAQEBAQEBAQEBAQEBAQEBAQEBAQEBAQEBAQEBAQEBAQEBAQEBAQEBAQEBAQEBAQEBAQEBAQEBAQEBAQEBAQEBAQEBAQEBAQEBAQEBAQEBAQEBAQEBAQEBAQEBAQEBAQEBAQEBAQEBAQEBAQEBAQEBAQEBAQEBAQEBAQEBAQEBAQEBAQEBAQEBAQEBAQEBAQEBAQEBAQEBAQEBAQEBAQEBAQEBAQEBAQEBAQEBAQEBAQEBAQEBAQEBAQEBAQEBAQEBAQEBAQEBAQEBAQEBAQEBAQEBAQEBAQEBAQEBAQEBAQEBAQEBAQEBAQEBAQEBAQEBAQEBAQEBAQEBAQEBAQEBAQEBAQEBAQEBAQEBAQEBAQEBAQEBAQEBAQEBAQEBAQEBAQEBAQEBAQEBAQEBAQEBAQEBAQEBAQEBAQEBAQEBAQEBAQEBAQEBAQEBAQEBAQEBAQEBAQEBAQEBAQEBAQEBAQEBAQEBAQEBAQEBAQEBAQEBAQEBAQEBAQEBAQEBAQEBAQEBAQEBAQEBAQEBAQEBAQEBAQEBAQEBAQEBAQEBAQEBAQEBAQEBAQEBAQEBAQEBAQEBAQEBAQEBAQEBAQEBAQEBAQEBAQEBAQEBAQEBAQEBAQEBAQEBAQEBAQEBAQEBAQEBAQEBAQEBAQEBAQEBAQEBAQEBAQEBAQEBAQEBAQEBAQEBAQEBAQEBAQEBAQEBAQEBAQEBAQEBAQEBAQEBAQEBAQEBAQEBAQEBAQEBAQEBAQEBAQEBAQEBAQEBAQEBAQEBAQEBAQEBAQEBAQEBAQEBAQEBAQEBAQEBAQEBAQEBAQEBAQEBAQEBAQEBAQEBAQEBAQEBAQEBAQEBAQEBAQEBAQEBAQEBAQEBAQEBAQEBAQEBAQEBAQEBAQEBAQEBAQEBAQEBAQEBAQEBAQEBAQEBAQEBAQEBAQEBAQEBAQEBAQEBAQEBAQEBAQEBAQEBAQEBAQEBAQEBAQEBAQEBAQEBAQEBAQEBAQEBAQEBAQEBAQEBAQEBAQEBAQEBAQEBAQEBAQEBAQEBAQEBAQEBAQEBAQEBAQEBAQEBAQEBAQEBAQEBAQEBAQEBAQEBAQEBAQEBAQEBAQEBAQEBAQEBAQEBAQEBAQEBAQEBAQEBAQEBAQEBAQEBAQEBAQEBAQEBAQEBAQEBAQEBAQEBAQEBAQEBAQEBAQEBAQEBAQEBAQEBAQEBAQEBAQEBAQEBAQEBAQEBAQEBAQEBAQEBAQEBAQEBAQEBAQEBAQEBAQEBAQEBAQEBAQEBAQEBAQEBAQEBAQEBAQEBAQEBAQEBAQEBAQEBAQEBAQEBAQEBAQEBAQEBAQEBAQEBAQEBAQEBAQEBAQEBAQEBAQEBAQEBAQEBAQEBAQEBAQEBAQEBAQEBAQEBAQEBAQEBAQEBAQEBAQEBAQEBAQEBAQEBAQEBAQEBAQEBAQEBAQEBAQEBAQEBAQEBAQEBAQEBAQEBAQEBAQEBAQEBAQEBAQEBAQEBAQEBAQEBAQEBAQEBAQEBAQEBAQEBAQEBAQEBAQEBAQEBAQEBAQEBAQ==",
          "dtype": "i1"
         },
         "yaxis": "y"
        }
       ],
       "layout": {
        "barmode": "relative",
        "legend": {
         "tracegroupgap": 0
        },
        "margin": {
         "t": 60
        },
        "template": {
         "data": {
          "bar": [
           {
            "error_x": {
             "color": "#2a3f5f"
            },
            "error_y": {
             "color": "#2a3f5f"
            },
            "marker": {
             "line": {
              "color": "#E5ECF6",
              "width": 0.5
             },
             "pattern": {
              "fillmode": "overlay",
              "size": 10,
              "solidity": 0.2
             }
            },
            "type": "bar"
           }
          ],
          "barpolar": [
           {
            "marker": {
             "line": {
              "color": "#E5ECF6",
              "width": 0.5
             },
             "pattern": {
              "fillmode": "overlay",
              "size": 10,
              "solidity": 0.2
             }
            },
            "type": "barpolar"
           }
          ],
          "carpet": [
           {
            "aaxis": {
             "endlinecolor": "#2a3f5f",
             "gridcolor": "white",
             "linecolor": "white",
             "minorgridcolor": "white",
             "startlinecolor": "#2a3f5f"
            },
            "baxis": {
             "endlinecolor": "#2a3f5f",
             "gridcolor": "white",
             "linecolor": "white",
             "minorgridcolor": "white",
             "startlinecolor": "#2a3f5f"
            },
            "type": "carpet"
           }
          ],
          "choropleth": [
           {
            "colorbar": {
             "outlinewidth": 0,
             "ticks": ""
            },
            "type": "choropleth"
           }
          ],
          "contour": [
           {
            "colorbar": {
             "outlinewidth": 0,
             "ticks": ""
            },
            "colorscale": [
             [
              0,
              "#0d0887"
             ],
             [
              0.1111111111111111,
              "#46039f"
             ],
             [
              0.2222222222222222,
              "#7201a8"
             ],
             [
              0.3333333333333333,
              "#9c179e"
             ],
             [
              0.4444444444444444,
              "#bd3786"
             ],
             [
              0.5555555555555556,
              "#d8576b"
             ],
             [
              0.6666666666666666,
              "#ed7953"
             ],
             [
              0.7777777777777778,
              "#fb9f3a"
             ],
             [
              0.8888888888888888,
              "#fdca26"
             ],
             [
              1,
              "#f0f921"
             ]
            ],
            "type": "contour"
           }
          ],
          "contourcarpet": [
           {
            "colorbar": {
             "outlinewidth": 0,
             "ticks": ""
            },
            "type": "contourcarpet"
           }
          ],
          "heatmap": [
           {
            "colorbar": {
             "outlinewidth": 0,
             "ticks": ""
            },
            "colorscale": [
             [
              0,
              "#0d0887"
             ],
             [
              0.1111111111111111,
              "#46039f"
             ],
             [
              0.2222222222222222,
              "#7201a8"
             ],
             [
              0.3333333333333333,
              "#9c179e"
             ],
             [
              0.4444444444444444,
              "#bd3786"
             ],
             [
              0.5555555555555556,
              "#d8576b"
             ],
             [
              0.6666666666666666,
              "#ed7953"
             ],
             [
              0.7777777777777778,
              "#fb9f3a"
             ],
             [
              0.8888888888888888,
              "#fdca26"
             ],
             [
              1,
              "#f0f921"
             ]
            ],
            "type": "heatmap"
           }
          ],
          "histogram": [
           {
            "marker": {
             "pattern": {
              "fillmode": "overlay",
              "size": 10,
              "solidity": 0.2
             }
            },
            "type": "histogram"
           }
          ],
          "histogram2d": [
           {
            "colorbar": {
             "outlinewidth": 0,
             "ticks": ""
            },
            "colorscale": [
             [
              0,
              "#0d0887"
             ],
             [
              0.1111111111111111,
              "#46039f"
             ],
             [
              0.2222222222222222,
              "#7201a8"
             ],
             [
              0.3333333333333333,
              "#9c179e"
             ],
             [
              0.4444444444444444,
              "#bd3786"
             ],
             [
              0.5555555555555556,
              "#d8576b"
             ],
             [
              0.6666666666666666,
              "#ed7953"
             ],
             [
              0.7777777777777778,
              "#fb9f3a"
             ],
             [
              0.8888888888888888,
              "#fdca26"
             ],
             [
              1,
              "#f0f921"
             ]
            ],
            "type": "histogram2d"
           }
          ],
          "histogram2dcontour": [
           {
            "colorbar": {
             "outlinewidth": 0,
             "ticks": ""
            },
            "colorscale": [
             [
              0,
              "#0d0887"
             ],
             [
              0.1111111111111111,
              "#46039f"
             ],
             [
              0.2222222222222222,
              "#7201a8"
             ],
             [
              0.3333333333333333,
              "#9c179e"
             ],
             [
              0.4444444444444444,
              "#bd3786"
             ],
             [
              0.5555555555555556,
              "#d8576b"
             ],
             [
              0.6666666666666666,
              "#ed7953"
             ],
             [
              0.7777777777777778,
              "#fb9f3a"
             ],
             [
              0.8888888888888888,
              "#fdca26"
             ],
             [
              1,
              "#f0f921"
             ]
            ],
            "type": "histogram2dcontour"
           }
          ],
          "mesh3d": [
           {
            "colorbar": {
             "outlinewidth": 0,
             "ticks": ""
            },
            "type": "mesh3d"
           }
          ],
          "parcoords": [
           {
            "line": {
             "colorbar": {
              "outlinewidth": 0,
              "ticks": ""
             }
            },
            "type": "parcoords"
           }
          ],
          "pie": [
           {
            "automargin": true,
            "type": "pie"
           }
          ],
          "scatter": [
           {
            "fillpattern": {
             "fillmode": "overlay",
             "size": 10,
             "solidity": 0.2
            },
            "type": "scatter"
           }
          ],
          "scatter3d": [
           {
            "line": {
             "colorbar": {
              "outlinewidth": 0,
              "ticks": ""
             }
            },
            "marker": {
             "colorbar": {
              "outlinewidth": 0,
              "ticks": ""
             }
            },
            "type": "scatter3d"
           }
          ],
          "scattercarpet": [
           {
            "marker": {
             "colorbar": {
              "outlinewidth": 0,
              "ticks": ""
             }
            },
            "type": "scattercarpet"
           }
          ],
          "scattergeo": [
           {
            "marker": {
             "colorbar": {
              "outlinewidth": 0,
              "ticks": ""
             }
            },
            "type": "scattergeo"
           }
          ],
          "scattergl": [
           {
            "marker": {
             "colorbar": {
              "outlinewidth": 0,
              "ticks": ""
             }
            },
            "type": "scattergl"
           }
          ],
          "scattermap": [
           {
            "marker": {
             "colorbar": {
              "outlinewidth": 0,
              "ticks": ""
             }
            },
            "type": "scattermap"
           }
          ],
          "scattermapbox": [
           {
            "marker": {
             "colorbar": {
              "outlinewidth": 0,
              "ticks": ""
             }
            },
            "type": "scattermapbox"
           }
          ],
          "scatterpolar": [
           {
            "marker": {
             "colorbar": {
              "outlinewidth": 0,
              "ticks": ""
             }
            },
            "type": "scatterpolar"
           }
          ],
          "scatterpolargl": [
           {
            "marker": {
             "colorbar": {
              "outlinewidth": 0,
              "ticks": ""
             }
            },
            "type": "scatterpolargl"
           }
          ],
          "scatterternary": [
           {
            "marker": {
             "colorbar": {
              "outlinewidth": 0,
              "ticks": ""
             }
            },
            "type": "scatterternary"
           }
          ],
          "surface": [
           {
            "colorbar": {
             "outlinewidth": 0,
             "ticks": ""
            },
            "colorscale": [
             [
              0,
              "#0d0887"
             ],
             [
              0.1111111111111111,
              "#46039f"
             ],
             [
              0.2222222222222222,
              "#7201a8"
             ],
             [
              0.3333333333333333,
              "#9c179e"
             ],
             [
              0.4444444444444444,
              "#bd3786"
             ],
             [
              0.5555555555555556,
              "#d8576b"
             ],
             [
              0.6666666666666666,
              "#ed7953"
             ],
             [
              0.7777777777777778,
              "#fb9f3a"
             ],
             [
              0.8888888888888888,
              "#fdca26"
             ],
             [
              1,
              "#f0f921"
             ]
            ],
            "type": "surface"
           }
          ],
          "table": [
           {
            "cells": {
             "fill": {
              "color": "#EBF0F8"
             },
             "line": {
              "color": "white"
             }
            },
            "header": {
             "fill": {
              "color": "#C8D4E3"
             },
             "line": {
              "color": "white"
             }
            },
            "type": "table"
           }
          ]
         },
         "layout": {
          "annotationdefaults": {
           "arrowcolor": "#2a3f5f",
           "arrowhead": 0,
           "arrowwidth": 1
          },
          "autotypenumbers": "strict",
          "coloraxis": {
           "colorbar": {
            "outlinewidth": 0,
            "ticks": ""
           }
          },
          "colorscale": {
           "diverging": [
            [
             0,
             "#8e0152"
            ],
            [
             0.1,
             "#c51b7d"
            ],
            [
             0.2,
             "#de77ae"
            ],
            [
             0.3,
             "#f1b6da"
            ],
            [
             0.4,
             "#fde0ef"
            ],
            [
             0.5,
             "#f7f7f7"
            ],
            [
             0.6,
             "#e6f5d0"
            ],
            [
             0.7,
             "#b8e186"
            ],
            [
             0.8,
             "#7fbc41"
            ],
            [
             0.9,
             "#4d9221"
            ],
            [
             1,
             "#276419"
            ]
           ],
           "sequential": [
            [
             0,
             "#0d0887"
            ],
            [
             0.1111111111111111,
             "#46039f"
            ],
            [
             0.2222222222222222,
             "#7201a8"
            ],
            [
             0.3333333333333333,
             "#9c179e"
            ],
            [
             0.4444444444444444,
             "#bd3786"
            ],
            [
             0.5555555555555556,
             "#d8576b"
            ],
            [
             0.6666666666666666,
             "#ed7953"
            ],
            [
             0.7777777777777778,
             "#fb9f3a"
            ],
            [
             0.8888888888888888,
             "#fdca26"
            ],
            [
             1,
             "#f0f921"
            ]
           ],
           "sequentialminus": [
            [
             0,
             "#0d0887"
            ],
            [
             0.1111111111111111,
             "#46039f"
            ],
            [
             0.2222222222222222,
             "#7201a8"
            ],
            [
             0.3333333333333333,
             "#9c179e"
            ],
            [
             0.4444444444444444,
             "#bd3786"
            ],
            [
             0.5555555555555556,
             "#d8576b"
            ],
            [
             0.6666666666666666,
             "#ed7953"
            ],
            [
             0.7777777777777778,
             "#fb9f3a"
            ],
            [
             0.8888888888888888,
             "#fdca26"
            ],
            [
             1,
             "#f0f921"
            ]
           ]
          },
          "colorway": [
           "#636efa",
           "#EF553B",
           "#00cc96",
           "#ab63fa",
           "#FFA15A",
           "#19d3f3",
           "#FF6692",
           "#B6E880",
           "#FF97FF",
           "#FECB52"
          ],
          "font": {
           "color": "#2a3f5f"
          },
          "geo": {
           "bgcolor": "white",
           "lakecolor": "white",
           "landcolor": "#E5ECF6",
           "showlakes": true,
           "showland": true,
           "subunitcolor": "white"
          },
          "hoverlabel": {
           "align": "left"
          },
          "hovermode": "closest",
          "mapbox": {
           "style": "light"
          },
          "paper_bgcolor": "white",
          "plot_bgcolor": "#E5ECF6",
          "polar": {
           "angularaxis": {
            "gridcolor": "white",
            "linecolor": "white",
            "ticks": ""
           },
           "bgcolor": "#E5ECF6",
           "radialaxis": {
            "gridcolor": "white",
            "linecolor": "white",
            "ticks": ""
           }
          },
          "scene": {
           "xaxis": {
            "backgroundcolor": "#E5ECF6",
            "gridcolor": "white",
            "gridwidth": 2,
            "linecolor": "white",
            "showbackground": true,
            "ticks": "",
            "zerolinecolor": "white"
           },
           "yaxis": {
            "backgroundcolor": "#E5ECF6",
            "gridcolor": "white",
            "gridwidth": 2,
            "linecolor": "white",
            "showbackground": true,
            "ticks": "",
            "zerolinecolor": "white"
           },
           "zaxis": {
            "backgroundcolor": "#E5ECF6",
            "gridcolor": "white",
            "gridwidth": 2,
            "linecolor": "white",
            "showbackground": true,
            "ticks": "",
            "zerolinecolor": "white"
           }
          },
          "shapedefaults": {
           "line": {
            "color": "#2a3f5f"
           }
          },
          "ternary": {
           "aaxis": {
            "gridcolor": "white",
            "linecolor": "white",
            "ticks": ""
           },
           "baxis": {
            "gridcolor": "white",
            "linecolor": "white",
            "ticks": ""
           },
           "bgcolor": "#E5ECF6",
           "caxis": {
            "gridcolor": "white",
            "linecolor": "white",
            "ticks": ""
           }
          },
          "title": {
           "x": 0.05
          },
          "xaxis": {
           "automargin": true,
           "gridcolor": "white",
           "linecolor": "white",
           "ticks": "",
           "title": {
            "standoff": 15
           },
           "zerolinecolor": "white",
           "zerolinewidth": 2
          },
          "yaxis": {
           "automargin": true,
           "gridcolor": "white",
           "linecolor": "white",
           "ticks": "",
           "title": {
            "standoff": 15
           },
           "zerolinecolor": "white",
           "zerolinewidth": 2
          }
         }
        },
        "xaxis": {
         "anchor": "y",
         "domain": [
          0,
          1
         ],
         "title": {
          "text": "Mortality_Status"
         }
        },
        "yaxis": {
         "anchor": "x",
         "domain": [
          0,
          1
         ],
         "title": {
          "text": "count"
         }
        }
       }
      }
     },
     "metadata": {},
     "output_type": "display_data"
    }
   ],
   "source": [
    "Mortality_Status = px.bar(df, x=\"Mortality_Status\")\n",
    "Mortality_Status.show()"
   ]
  },
  {
   "cell_type": "markdown",
   "metadata": {},
   "source": [
    "Fuction for finding outliers in a column using interquartile range."
   ]
  },
  {
   "cell_type": "code",
   "execution_count": 364,
   "metadata": {},
   "outputs": [],
   "source": [
    "def find_outliers_IQR(data):\n",
    "  q1=data.quantile(0.25)\n",
    "  q3=data.quantile(0.75)\n",
    "  IQR=q3-q1\n",
    "  outliers = data[((data<(q1-1.5*IQR))|(data> (q3+1.5*IQR)))]\n",
    "  return outliers"
   ]
  },
  {
   "cell_type": "markdown",
   "metadata": {},
   "source": [
    "converting the dead and alive pacients to lower case and mapping it to 0 and 1 after"
   ]
  },
  {
   "cell_type": "code",
   "execution_count": 365,
   "metadata": {},
   "outputs": [],
   "source": [
    "df[\"Mortality_Status\"] = df[\"Mortality_Status\"].str.lower()\n",
    "df[\"Mortality_Status\"] = df[\"Mortality_Status\"].map({\"dead\": 0, \"alive\": 1})\n",
    "\n"
   ]
  },
  {
   "cell_type": "markdown",
   "metadata": {},
   "source": [
    "Plotting a histogram for the new mortality status column"
   ]
  },
  {
   "cell_type": "code",
   "execution_count": 366,
   "metadata": {},
   "outputs": [
    {
     "data": {
      "application/vnd.plotly.v1+json": {
       "config": {
        "plotlyServerURL": "https://plot.ly"
       },
       "data": [
        {
         "bingroup": "x",
         "hovertemplate": "Mortality_Status=%{x}<br>count=%{y}<extra></extra>",
         "legendgroup": "",
         "marker": {
          "color": "#636efa",
          "pattern": {
           "shape": ""
          }
         },
         "name": "",
         "orientation": "v",
         "showlegend": false,
         "type": "histogram",
         "x": {
          "bdata": "AQEBAQEBAQABAQABAQEBAQEBAQEBAQEBAQEBAQEBAQEBAQEBAQEBAQABAQEBAQABAQEBAQEBAQEBAQEBAQEBAQABAAEBAQEAAQEBAQEBAQEBAQEBAQEBAQEBAAEAAAEBAAEAAQABAQABAQABAQEBAAEBAQEBAQEBAQEBAQEAAQEBAQEBAQEAAAEAAAEBAQEAAAEBAAEBAQEAAQEBAQEBAAEBAQEBAQEBAQEAAQEBAQEAAQEAAQAAAQEBAQEAAQEBAQEBAQEBAQEBAQAAAQEBAQEBAQABAQEAAAEBAAAAAQEBAQEBAQEBAQEBAQEBAQABAAEBAQEBAQABAQEBAQEBAQEBAQEBAQEAAQEBAQABAAEBAQEBAQABAQEBAAEBAAEBAQABAQABAQEBAQEBAQEBAQEAAQEBAQEBAQABAQEBAQEBAQEBAQEBAQEBAQABAQEBAQEBAQEBAQEBAQEBAQEBAQEBAQEBAAEBAQEAAAEBAQEBAAEAAQEBAQEBAQABAQEBAQEBAQEBAQEBAQABAQEBAQEBAQEBAQEBAQEBAQEAAQEBAQEBAQEBAQEBAQEAAQEBAQEBAAEBAQEBAAEBAQABAQEBAQEBAQEAAQABAQEBAQEBAQEBAQEBAQEBAAEBAQEBAQEAAQABAAEBAQEBAQABAQEBAQEBAQEBAQEBAAEBAQABAQEBAQEBAQABAAABAAEBAQEBAQEBAAEBAAEBAQEBAQEBAAEAAQABAQEBAQABAQEBAQEBAQAAAQEBAQEAAQEBAQEBAQAAAQEBAQEBAAEBAQEAAQEBAQEBAQEBAQEBAQABAQEBAQEBAQEBAQEAAQEBAQEBAQEBAQABAAEBAQEBAQEAAQEBAQEBAQABAQEBAQEAAQEAAQEBAAEAAQEBAQEBAQEBAQEAAQABAQEAAQEBAQEBAQEBAQEBAAEBAQEBAQABAQEBAAEBAQEBAQEBAQEBAQEBAQABAAAAAAABAQABAQABAQEBAQABAQEBAQEBAQEAAAABAQAAAQEBAQEBAQEBAQEBAQEBAQEAAQEAAQEBAAEBAQEBAQEBAQEBAQEBAQAAAAEBAQEBAQEBAQEBAQEBAQEBAQEBAQEBAQEBAQEBAQABAAEBAQABAQEBAAEBAQEBAQAAAQABAQEAAQEAAQEAAAEBAAEBAAEBAQEBAQABAQEBAQEBAQEAAQEBAQABAQEAAAEBAQEBAQEBAQEAAAEAAQEBAQEAAQEBAQABAQEBAQABAQABAQEAAQAAAQEBAQEBAQEAAQAAAQEBAQEBAQABAAEBAQEBAQEBAAEAAQEAAAEBAQEBAQEBAQEBAQEBAQEBAQEBAQEBAQEBAQEAAQEBAQEBAQEAAQABAQEBAQEBAAEBAQEBAAEBAQABAQEBAQEAAQABAQEAAQEAAQEBAAEBAQEBAQEBAAEBAQEBAQEAAQEBAQEBAQEAAQAAAQEBAQEAAQEBAAEBAQABAQEBAQEBAQEAAAEBAQEBAQEBAQEBAAABAQEBAQABAQEBAQEAAQEBAQABAQEBAQEAAQEAAQEBAQEBAAABAQABAQEBAQEBAQEBAAEBAQEBAQEAAQEBAQEBAQEBAQEBAQEBAQEBAQEAAQABAQEBAQEBAQAAAAABAQEBAQEBAQEBAQEBAQABAQEBAQEBAQEBAQEBAQEBAAABAQEBAQEBAQEBAQEBAQEBAAEAAQABAQEBAQEBAQEBAAEBAQABAQEBAQEBAQEBAQEBAQEAAAEBAQEBAQEAAQEBAQEBAQEBAQEBAAEBAQEAAQEBAQEBAAEBAAEBAQABAQEBAQEAAQEBAQEBAQEBAQEBAQEBAQEBAQEBAQABAQEBAQABAAABAQAAAQABAQEBAQEBAQEBAQEAAQEAAQEBAQEBAQEBAQABAQEBAQEBAQABAQEAAQEBAQEBAQABAQEBAQEBAQEBAQEAAQEBAQEBAQEBAQEAAAABAQEBAQEBAQEBAQEAAQEBAQEBAQEBAQAAAQEAAQEAAQEBAQEAAAEBAQEBAQEBAQEBAAEBAQEBAQEBAQEBAQEBAQEBAQEAAQEBAQEBAQEBAQEAAQEBAQEBAQEBAQEBAAEBAQEBAAEAAQEBAAABAQEBAAEBAQEBAQEBAAABAQEBAQABAAEBAQABAQEAAQEBAQEAAQEBAQEBAQEBAQEBAQEBAQEBAQEBAQEAAQEBAQABAQEBAAEBAQEBAQEBAQEBAQEBAQEBAQEBAQEBAQEBAQEAAQABAQEBAQEBAQEBAQEBAQEBAAEBAQEBAQEBAQEBAAEBAQABAQEBAQEAAQABAQEBAAEBAQEBAAEBAQEBAQABAAEBAQEBAAEBAQEBAQEBAQEBAQEAAQEAAQEBAQEBAQEBAQEBAQEAAQEBAQEBAAABAQEBAQABAQEBAQEBAQEBAQEAAQEBAQABAQEBAQEBAQEAAQEBAQEBAQEBAQABAQEAAQAAAQEBAAAAAQEBAQEBAQEBAAEBAQEBAAEBAAEBAQEBAQABAQEBAQEBAQEBAQEBAAEBAQEBAQEBAQEBAQABAQEBAAEBAQEBAQEBAQEBAQEBAQEBAQEBAQEAAAEBAQEBAQEBAAABAQEAAQEBAQEAAQEBAQABAQEAAQEBAAEAAQEBAQEBAQEAAQABAQEAAAEBAQEBAQEBAAEBAQEBAQABAAEBAQEBAQEAAQEBAQEBAQEBAQEBAQEBAQEBAQEBAQEBAQEBAQABAAEBAAEAAQABAQAAAQEBAQEBAQEBAQEBAAEBAQABAQEBAQEAAQABAQEBAQEBAQEBAQEBAQEBAQEBAQABAQEBAAEBAQEBAAAAAQABAQEBAQEBAAABAQEBAQEBAQEBAAEBAQEBAQEBAQEBAQEBAQEBAQEBAAEBAQABAQEBAQABAQEBAQEBAQEBAQEBAQEAAQEBAQEBAAEBAQEAAQEBAQEAAQEBAQEBAQEAAQEBAQABAQEBAQEBAQEBAQEBAAEBAQEBAQEBAQEBAQEBAQEBAQEBAQEBAQEBAAEBAQEBAAEBAQEBAQEBAQEBAQEAAQEAAQEBAQEBAQEBAQEBAQEBAQABAQABAQEAAQEAAQEBAQEBAQEBAQEBAQEBAAEBAQEAAQEBAQABAAEBAQEBAAABAQEBAQEBAQEBAAEBAQEAAAEBAQEBAQEBAQEBAQEAAQEBAAEBAAEBAQEBAQEBAAEAAQEBAQEBAQABAQABAQEBAQABAQEBAQEBAQEBAQEBAQEBAAEAAQABAQEBAQEBAQABAQEBAQABAQABAQEBAQEBAQABAQEBAQEBAAEBAQEBAQEBAAEBAQEBAQEAAQEBAQEBAQEBAQEBAQEBAQEAAQEBAQEBAQEAAQEAAQABAQEBAQABAAABAAEBAQEAAQEBAQEBAAEBAQEBAQAAAQEAAQEBAQABAQEBAQEBAQEBAQABAQABAQEBAQEBAQEBAQEBAQEBAQEBAQEBAAEBAAEBAQABAQEBAQEBAQEBAQEBAQEBAQEBAQAAAQEBAAEBAAEAAQEAAQEAAQEBAQEBAQEAAQEBAQABAQEBAQEBAAABAQABAAABAAEBAAEBAQABAQABAQEBAAEBAQEBAAEBAQEBAQEBAQEBAQEBAAEBAQEBAQEBAQEBAAEBAQEBAAEBAQEBAQEBAQEBAAEAAQEBAQEBAQEBAQEBAQEBAQEAAQEBAQABAAAAAQEBAQEBAQEBAQEBAQEBAQEBAQABAQEBAQEBAQEBAQABAQEBAQEBAQEBAQEAAAEAAQEBAQEBAQEBAQEBAQEAAQEBAAEBAQABAQABAQEAAQEBAQEBAQEBAAEBAQEBAQABAQEBAQEBAQEBAQEBAQEAAAEBAQEBAAEAAQEBAAEAAQEBAQABAQEBAQABAQAAAQEBAQEBAQEBAQEBAQEBAAEBAQEAAQEAAQEAAQEBAQEBAAEBAQEAAQEBAQEBAAABAQEBAAABAQEBAQEBAQEBAQABAQEAAQEBAQEBAQEBAQEBAQEAAQEBAQEBAQEBAQEBAQEBAQEBAQABAAEBAQEBAQEBAQEAAQEBAQEBAQABAQEBAQEBAQEBAAEBAQEBAAEBAQEAAQEBAQEBAQABAQEBAQEBAQEBAQEBAQABAQEBAQEBAQEBAQEBAQEAAAABAQEBAQEBAQEBAQABAQEBAQEAAQEBAQEAAQEAAQEBAAEBAQABAAEBAQEBAQEBAQEBAQEBAQEBAQEBAQEBAQEBAAEAAAEBAAEBAQABAQEBAQEBAQEBAQEBAQEBAQEBAQEBAQABAQEBAQEBAQEAAQABAQEBAQEBAQABAQEBAAEBAQEBAAEBAQEAAQEBAQEBAQEBAQEBAQEAAQEBAQEBAQEBAQEBAAEAAQEAAQEBAQAAAQEBAAEBAQABAQEAAQEBAQEBAQEBAQEBAQEBAQEBAQABAQEBAQEBAQABAQEBAQEBAQEBAQEBAQEBAAEBAQEBAQEBAQEBAAEBAQEBAQEAAQEBAQEBAQEBAAEBAQEBAQEBAQEBAQEBAQABAAEBAQEBAQEBAQEBAQEBAAEBAQEBAQEBAQEBAQEBAQEBAQEBAAEBAAEBAQABAQEBAAEAAQEBAAEBAQEBAAABAQEBAAABAQEBAQEBAQABAQEBAQEBAQEAAQEBAQAAAQABAQEBAQEBAQEBAQABAAEBAAABAQEBAQEBAQEBAAEAAQEBAQEBAQABAQEBAQEBAAEAAQEBAQEAAQEAAAEBAQEBAAEBAQABAQEBAQEBAQEBAQABAQEBAQEBAAABAQEAAQEBAQABAQABAQABAQEAAQEBAQEBAQEBAAEBAQEBAQEBAQAAAQEBAQEBAQEBAQEBAAEBAAEAAAABAQEBAAABAQEBAQEBAQEBAQEBAQEBAQEBAQEBAQEBAQEBAQABAQEBAQEAAQABAQABAQEBAQEAAQEBAQEBAQEBAAEBAQABAQEBAAEBAQEBAQEBAQEBAAABAQAAAQEBAQEBAQEBAQEBAQEBAQEAAQEBAQEBAAEBAQEBAAEBAQEAAQEBAAEBAQEAAQEAAQABAQEBAQEBAQABAQEBAQEBAQEBAAEBAQABAQEBAQEBAQABAAEBAQEBAQEBAQEBAQEBAQEBAQEBAQEBAQEBAQEBAQEBAQEBAQEBAQEBAAEBAQEBAQEBAQEBAQEBAQEBAQEBAQEBAQABAQEAAQEBAQEBAQEBAAEBAQEBAAEBAQEBAQABAQEBAQEBAAEBAQEBAQEBAQABAQEAAQAAAQEBAAEBAQEBAQEBAQEBAAEBAQEBAQEBAQAAAQEBAQEBAQEAAQABAQEBAQEBAQEBAQEBAQEBAAEBAAEBAQEBAQEBAQEBAAEBAQEBAQEBAAEBAQEAAQEBAQEBAQEBAQABAQEBAQEAAQEBAAEBAQEBAQAAAQEBAQEAAQEBAQEBAAEBAQEBAQ==",
          "dtype": "i1"
         },
         "xaxis": "x",
         "yaxis": "y"
        }
       ],
       "layout": {
        "barmode": "relative",
        "legend": {
         "tracegroupgap": 0
        },
        "margin": {
         "t": 60
        },
        "template": {
         "data": {
          "bar": [
           {
            "error_x": {
             "color": "#2a3f5f"
            },
            "error_y": {
             "color": "#2a3f5f"
            },
            "marker": {
             "line": {
              "color": "#E5ECF6",
              "width": 0.5
             },
             "pattern": {
              "fillmode": "overlay",
              "size": 10,
              "solidity": 0.2
             }
            },
            "type": "bar"
           }
          ],
          "barpolar": [
           {
            "marker": {
             "line": {
              "color": "#E5ECF6",
              "width": 0.5
             },
             "pattern": {
              "fillmode": "overlay",
              "size": 10,
              "solidity": 0.2
             }
            },
            "type": "barpolar"
           }
          ],
          "carpet": [
           {
            "aaxis": {
             "endlinecolor": "#2a3f5f",
             "gridcolor": "white",
             "linecolor": "white",
             "minorgridcolor": "white",
             "startlinecolor": "#2a3f5f"
            },
            "baxis": {
             "endlinecolor": "#2a3f5f",
             "gridcolor": "white",
             "linecolor": "white",
             "minorgridcolor": "white",
             "startlinecolor": "#2a3f5f"
            },
            "type": "carpet"
           }
          ],
          "choropleth": [
           {
            "colorbar": {
             "outlinewidth": 0,
             "ticks": ""
            },
            "type": "choropleth"
           }
          ],
          "contour": [
           {
            "colorbar": {
             "outlinewidth": 0,
             "ticks": ""
            },
            "colorscale": [
             [
              0,
              "#0d0887"
             ],
             [
              0.1111111111111111,
              "#46039f"
             ],
             [
              0.2222222222222222,
              "#7201a8"
             ],
             [
              0.3333333333333333,
              "#9c179e"
             ],
             [
              0.4444444444444444,
              "#bd3786"
             ],
             [
              0.5555555555555556,
              "#d8576b"
             ],
             [
              0.6666666666666666,
              "#ed7953"
             ],
             [
              0.7777777777777778,
              "#fb9f3a"
             ],
             [
              0.8888888888888888,
              "#fdca26"
             ],
             [
              1,
              "#f0f921"
             ]
            ],
            "type": "contour"
           }
          ],
          "contourcarpet": [
           {
            "colorbar": {
             "outlinewidth": 0,
             "ticks": ""
            },
            "type": "contourcarpet"
           }
          ],
          "heatmap": [
           {
            "colorbar": {
             "outlinewidth": 0,
             "ticks": ""
            },
            "colorscale": [
             [
              0,
              "#0d0887"
             ],
             [
              0.1111111111111111,
              "#46039f"
             ],
             [
              0.2222222222222222,
              "#7201a8"
             ],
             [
              0.3333333333333333,
              "#9c179e"
             ],
             [
              0.4444444444444444,
              "#bd3786"
             ],
             [
              0.5555555555555556,
              "#d8576b"
             ],
             [
              0.6666666666666666,
              "#ed7953"
             ],
             [
              0.7777777777777778,
              "#fb9f3a"
             ],
             [
              0.8888888888888888,
              "#fdca26"
             ],
             [
              1,
              "#f0f921"
             ]
            ],
            "type": "heatmap"
           }
          ],
          "histogram": [
           {
            "marker": {
             "pattern": {
              "fillmode": "overlay",
              "size": 10,
              "solidity": 0.2
             }
            },
            "type": "histogram"
           }
          ],
          "histogram2d": [
           {
            "colorbar": {
             "outlinewidth": 0,
             "ticks": ""
            },
            "colorscale": [
             [
              0,
              "#0d0887"
             ],
             [
              0.1111111111111111,
              "#46039f"
             ],
             [
              0.2222222222222222,
              "#7201a8"
             ],
             [
              0.3333333333333333,
              "#9c179e"
             ],
             [
              0.4444444444444444,
              "#bd3786"
             ],
             [
              0.5555555555555556,
              "#d8576b"
             ],
             [
              0.6666666666666666,
              "#ed7953"
             ],
             [
              0.7777777777777778,
              "#fb9f3a"
             ],
             [
              0.8888888888888888,
              "#fdca26"
             ],
             [
              1,
              "#f0f921"
             ]
            ],
            "type": "histogram2d"
           }
          ],
          "histogram2dcontour": [
           {
            "colorbar": {
             "outlinewidth": 0,
             "ticks": ""
            },
            "colorscale": [
             [
              0,
              "#0d0887"
             ],
             [
              0.1111111111111111,
              "#46039f"
             ],
             [
              0.2222222222222222,
              "#7201a8"
             ],
             [
              0.3333333333333333,
              "#9c179e"
             ],
             [
              0.4444444444444444,
              "#bd3786"
             ],
             [
              0.5555555555555556,
              "#d8576b"
             ],
             [
              0.6666666666666666,
              "#ed7953"
             ],
             [
              0.7777777777777778,
              "#fb9f3a"
             ],
             [
              0.8888888888888888,
              "#fdca26"
             ],
             [
              1,
              "#f0f921"
             ]
            ],
            "type": "histogram2dcontour"
           }
          ],
          "mesh3d": [
           {
            "colorbar": {
             "outlinewidth": 0,
             "ticks": ""
            },
            "type": "mesh3d"
           }
          ],
          "parcoords": [
           {
            "line": {
             "colorbar": {
              "outlinewidth": 0,
              "ticks": ""
             }
            },
            "type": "parcoords"
           }
          ],
          "pie": [
           {
            "automargin": true,
            "type": "pie"
           }
          ],
          "scatter": [
           {
            "fillpattern": {
             "fillmode": "overlay",
             "size": 10,
             "solidity": 0.2
            },
            "type": "scatter"
           }
          ],
          "scatter3d": [
           {
            "line": {
             "colorbar": {
              "outlinewidth": 0,
              "ticks": ""
             }
            },
            "marker": {
             "colorbar": {
              "outlinewidth": 0,
              "ticks": ""
             }
            },
            "type": "scatter3d"
           }
          ],
          "scattercarpet": [
           {
            "marker": {
             "colorbar": {
              "outlinewidth": 0,
              "ticks": ""
             }
            },
            "type": "scattercarpet"
           }
          ],
          "scattergeo": [
           {
            "marker": {
             "colorbar": {
              "outlinewidth": 0,
              "ticks": ""
             }
            },
            "type": "scattergeo"
           }
          ],
          "scattergl": [
           {
            "marker": {
             "colorbar": {
              "outlinewidth": 0,
              "ticks": ""
             }
            },
            "type": "scattergl"
           }
          ],
          "scattermap": [
           {
            "marker": {
             "colorbar": {
              "outlinewidth": 0,
              "ticks": ""
             }
            },
            "type": "scattermap"
           }
          ],
          "scattermapbox": [
           {
            "marker": {
             "colorbar": {
              "outlinewidth": 0,
              "ticks": ""
             }
            },
            "type": "scattermapbox"
           }
          ],
          "scatterpolar": [
           {
            "marker": {
             "colorbar": {
              "outlinewidth": 0,
              "ticks": ""
             }
            },
            "type": "scatterpolar"
           }
          ],
          "scatterpolargl": [
           {
            "marker": {
             "colorbar": {
              "outlinewidth": 0,
              "ticks": ""
             }
            },
            "type": "scatterpolargl"
           }
          ],
          "scatterternary": [
           {
            "marker": {
             "colorbar": {
              "outlinewidth": 0,
              "ticks": ""
             }
            },
            "type": "scatterternary"
           }
          ],
          "surface": [
           {
            "colorbar": {
             "outlinewidth": 0,
             "ticks": ""
            },
            "colorscale": [
             [
              0,
              "#0d0887"
             ],
             [
              0.1111111111111111,
              "#46039f"
             ],
             [
              0.2222222222222222,
              "#7201a8"
             ],
             [
              0.3333333333333333,
              "#9c179e"
             ],
             [
              0.4444444444444444,
              "#bd3786"
             ],
             [
              0.5555555555555556,
              "#d8576b"
             ],
             [
              0.6666666666666666,
              "#ed7953"
             ],
             [
              0.7777777777777778,
              "#fb9f3a"
             ],
             [
              0.8888888888888888,
              "#fdca26"
             ],
             [
              1,
              "#f0f921"
             ]
            ],
            "type": "surface"
           }
          ],
          "table": [
           {
            "cells": {
             "fill": {
              "color": "#EBF0F8"
             },
             "line": {
              "color": "white"
             }
            },
            "header": {
             "fill": {
              "color": "#C8D4E3"
             },
             "line": {
              "color": "white"
             }
            },
            "type": "table"
           }
          ]
         },
         "layout": {
          "annotationdefaults": {
           "arrowcolor": "#2a3f5f",
           "arrowhead": 0,
           "arrowwidth": 1
          },
          "autotypenumbers": "strict",
          "coloraxis": {
           "colorbar": {
            "outlinewidth": 0,
            "ticks": ""
           }
          },
          "colorscale": {
           "diverging": [
            [
             0,
             "#8e0152"
            ],
            [
             0.1,
             "#c51b7d"
            ],
            [
             0.2,
             "#de77ae"
            ],
            [
             0.3,
             "#f1b6da"
            ],
            [
             0.4,
             "#fde0ef"
            ],
            [
             0.5,
             "#f7f7f7"
            ],
            [
             0.6,
             "#e6f5d0"
            ],
            [
             0.7,
             "#b8e186"
            ],
            [
             0.8,
             "#7fbc41"
            ],
            [
             0.9,
             "#4d9221"
            ],
            [
             1,
             "#276419"
            ]
           ],
           "sequential": [
            [
             0,
             "#0d0887"
            ],
            [
             0.1111111111111111,
             "#46039f"
            ],
            [
             0.2222222222222222,
             "#7201a8"
            ],
            [
             0.3333333333333333,
             "#9c179e"
            ],
            [
             0.4444444444444444,
             "#bd3786"
            ],
            [
             0.5555555555555556,
             "#d8576b"
            ],
            [
             0.6666666666666666,
             "#ed7953"
            ],
            [
             0.7777777777777778,
             "#fb9f3a"
            ],
            [
             0.8888888888888888,
             "#fdca26"
            ],
            [
             1,
             "#f0f921"
            ]
           ],
           "sequentialminus": [
            [
             0,
             "#0d0887"
            ],
            [
             0.1111111111111111,
             "#46039f"
            ],
            [
             0.2222222222222222,
             "#7201a8"
            ],
            [
             0.3333333333333333,
             "#9c179e"
            ],
            [
             0.4444444444444444,
             "#bd3786"
            ],
            [
             0.5555555555555556,
             "#d8576b"
            ],
            [
             0.6666666666666666,
             "#ed7953"
            ],
            [
             0.7777777777777778,
             "#fb9f3a"
            ],
            [
             0.8888888888888888,
             "#fdca26"
            ],
            [
             1,
             "#f0f921"
            ]
           ]
          },
          "colorway": [
           "#636efa",
           "#EF553B",
           "#00cc96",
           "#ab63fa",
           "#FFA15A",
           "#19d3f3",
           "#FF6692",
           "#B6E880",
           "#FF97FF",
           "#FECB52"
          ],
          "font": {
           "color": "#2a3f5f"
          },
          "geo": {
           "bgcolor": "white",
           "lakecolor": "white",
           "landcolor": "#E5ECF6",
           "showlakes": true,
           "showland": true,
           "subunitcolor": "white"
          },
          "hoverlabel": {
           "align": "left"
          },
          "hovermode": "closest",
          "mapbox": {
           "style": "light"
          },
          "paper_bgcolor": "white",
          "plot_bgcolor": "#E5ECF6",
          "polar": {
           "angularaxis": {
            "gridcolor": "white",
            "linecolor": "white",
            "ticks": ""
           },
           "bgcolor": "#E5ECF6",
           "radialaxis": {
            "gridcolor": "white",
            "linecolor": "white",
            "ticks": ""
           }
          },
          "scene": {
           "xaxis": {
            "backgroundcolor": "#E5ECF6",
            "gridcolor": "white",
            "gridwidth": 2,
            "linecolor": "white",
            "showbackground": true,
            "ticks": "",
            "zerolinecolor": "white"
           },
           "yaxis": {
            "backgroundcolor": "#E5ECF6",
            "gridcolor": "white",
            "gridwidth": 2,
            "linecolor": "white",
            "showbackground": true,
            "ticks": "",
            "zerolinecolor": "white"
           },
           "zaxis": {
            "backgroundcolor": "#E5ECF6",
            "gridcolor": "white",
            "gridwidth": 2,
            "linecolor": "white",
            "showbackground": true,
            "ticks": "",
            "zerolinecolor": "white"
           }
          },
          "shapedefaults": {
           "line": {
            "color": "#2a3f5f"
           }
          },
          "ternary": {
           "aaxis": {
            "gridcolor": "white",
            "linecolor": "white",
            "ticks": ""
           },
           "baxis": {
            "gridcolor": "white",
            "linecolor": "white",
            "ticks": ""
           },
           "bgcolor": "#E5ECF6",
           "caxis": {
            "gridcolor": "white",
            "linecolor": "white",
            "ticks": ""
           }
          },
          "title": {
           "x": 0.05
          },
          "xaxis": {
           "automargin": true,
           "gridcolor": "white",
           "linecolor": "white",
           "ticks": "",
           "title": {
            "standoff": 15
           },
           "zerolinecolor": "white",
           "zerolinewidth": 2
          },
          "yaxis": {
           "automargin": true,
           "gridcolor": "white",
           "linecolor": "white",
           "ticks": "",
           "title": {
            "standoff": 15
           },
           "zerolinecolor": "white",
           "zerolinewidth": 2
          }
         }
        },
        "xaxis": {
         "anchor": "y",
         "domain": [
          0,
          1
         ],
         "title": {
          "text": "Mortality_Status"
         }
        },
        "yaxis": {
         "anchor": "x",
         "domain": [
          0,
          1
         ],
         "title": {
          "text": "count"
         }
        }
       }
      }
     },
     "metadata": {},
     "output_type": "display_data"
    }
   ],
   "source": [
    "New_Mortality_Status = px.histogram(df, x=\"Mortality_Status\")\n",
    "New_Mortality_Status.show()"
   ]
  },
  {
   "cell_type": "code",
   "execution_count": 367,
   "metadata": {},
   "outputs": [
    {
     "data": {
      "application/vnd.plotly.v1+json": {
       "config": {
        "plotlyServerURL": "https://plot.ly"
       },
       "data": [
        {
         "bingroup": "x",
         "hovertemplate": "Progesterone_Status=%{x}<br>count=%{y}<extra></extra>",
         "legendgroup": "",
         "marker": {
          "color": "#636efa",
          "pattern": {
           "shape": ""
          }
         },
         "name": "",
         "orientation": "v",
         "showlegend": false,
         "type": "histogram",
         "x": [
          "Positive",
          "Positive",
          "Positive",
          "Positive",
          "Positive",
          "Positive",
          "Positive",
          "Positive",
          "Positive",
          "Positive",
          "Positive",
          "Negative",
          "Positive",
          "Positive",
          "Positive",
          "Positive",
          "Positive",
          "Positive",
          "Positive",
          "Negative",
          "Positive",
          "Positive",
          "Positive",
          "Negative",
          "Positive",
          "Positive",
          "Positive",
          "Positive",
          "Negative",
          "Positive",
          "Positive",
          "Positive",
          "Positive",
          "Negative",
          "Positive",
          "Positive",
          "Negative",
          "Positive",
          "Positive",
          "Positive",
          "Positive",
          "Positive",
          "Negative",
          "Negative",
          "Positive",
          "Positive",
          "Negative",
          "Positive",
          "Positive",
          "Positive",
          "Positive",
          "Negative",
          "Negative",
          "Negative",
          "Negative",
          "Positive",
          "Positive",
          "Negative",
          "Positive",
          "Positive",
          "Negative",
          "Negative",
          "Positive",
          "Positive",
          "Positive",
          "Positive",
          "Positive",
          "Positive",
          "Positive",
          "Positive",
          "Negative",
          "Negative",
          "Positive",
          "Positive",
          "Negative",
          "Positive",
          "Positive",
          "Positive",
          "Positive",
          "Positive",
          "Positive",
          "Positive",
          "Positive",
          "Negative",
          "Positive",
          "Negative",
          "Positive",
          "Positive",
          "Positive",
          "Positive",
          "Positive",
          "Positive",
          "Positive",
          "Positive",
          "Positive",
          "Positive",
          "Negative",
          "Positive",
          "Positive",
          "Positive",
          "Positive",
          "Positive",
          "Positive",
          "Positive",
          "Positive",
          "Positive",
          "Negative",
          "Positive",
          "Positive",
          "Positive",
          "Positive",
          "Positive",
          "Positive",
          "Positive",
          "Positive",
          "Positive",
          "Positive",
          "Positive",
          "Positive",
          "Positive",
          "Positive",
          "Positive",
          "Positive",
          "Positive",
          "Positive",
          "Positive",
          "Positive",
          "Negative",
          "Positive",
          "Positive",
          "Positive",
          "Negative",
          "Positive",
          "Positive",
          "Negative",
          "Positive",
          "Positive",
          "Negative",
          "Positive",
          "Negative",
          "Positive",
          "Positive",
          "Positive",
          "Positive",
          "Positive",
          "Positive",
          "Positive",
          "Positive",
          "Positive",
          "Positive",
          "Positive",
          "Positive",
          "Negative",
          "Positive",
          "Positive",
          "Negative",
          "Negative",
          "Positive",
          "Negative",
          "Positive",
          "Positive",
          "Positive",
          "Positive",
          "Positive",
          "Positive",
          "Positive",
          "Positive",
          "Positive",
          "Positive",
          "Positive",
          "Positive",
          "Negative",
          "Positive",
          "Positive",
          "Positive",
          "Positive",
          "Negative",
          "Positive",
          "Positive",
          "Positive",
          "Positive",
          "Positive",
          "Negative",
          "Positive",
          "Negative",
          "Negative",
          "Positive",
          "Positive",
          "Negative",
          "Positive",
          "Positive",
          "Positive",
          "Positive",
          "Negative",
          "Positive",
          "Positive",
          "Positive",
          "Positive",
          "Positive",
          "Positive",
          "Positive",
          "Positive",
          "Negative",
          "Positive",
          "Positive",
          "Positive",
          "Positive",
          "Positive",
          "Negative",
          "Positive",
          "Positive",
          "Positive",
          "Negative",
          "Positive",
          "Positive",
          "Negative",
          "Positive",
          "Positive",
          "Positive",
          "Negative",
          "Negative",
          "Positive",
          "Positive",
          "Positive",
          "Positive",
          "Positive",
          "Positive",
          "Positive",
          "Positive",
          "Positive",
          "Positive",
          "Positive",
          "Positive",
          "Positive",
          "Positive",
          "Positive",
          "Positive",
          "Negative",
          "Negative",
          "Positive",
          "Positive",
          "Positive",
          "Positive",
          "Positive",
          "Positive",
          "Negative",
          "Positive",
          "Negative",
          "Positive",
          "Positive",
          "Positive",
          "Positive",
          "Positive",
          "Negative",
          "Positive",
          "Negative",
          "Positive",
          "Positive",
          "Positive",
          "Positive",
          "Positive",
          "Positive",
          "Negative",
          "Positive",
          "Positive",
          "Positive",
          "Positive",
          "Positive",
          "Positive",
          "Positive",
          "Positive",
          "Positive",
          "Positive",
          "Positive",
          "Negative",
          "Negative",
          "Positive",
          "Positive",
          "Positive",
          "Positive",
          "Positive",
          "Positive",
          "Negative",
          "Positive",
          "Positive",
          "Negative",
          "Positive",
          "Positive",
          "Negative",
          "Positive",
          "Positive",
          "Positive",
          "Positive",
          "Negative",
          "Positive",
          "Positive",
          "Positive",
          "Positive",
          "Positive",
          "Positive",
          "Negative",
          "Positive",
          "Positive",
          "Positive",
          "Positive",
          "Positive",
          "Positive",
          "Negative",
          "Positive",
          "Positive",
          "Negative",
          "Positive",
          "Positive",
          "Positive",
          "Positive",
          "Positive",
          "Positive",
          "Positive",
          "Negative",
          "Positive",
          "Positive",
          "Positive",
          "Positive",
          "Negative",
          "Positive",
          "Positive",
          "Positive",
          "Positive",
          "Positive",
          "Positive",
          "Positive",
          "Negative",
          "Positive",
          "Negative",
          "Positive",
          "Positive",
          "Positive",
          "Positive",
          "Positive",
          "Positive",
          "Positive",
          "Positive",
          "Positive",
          "Positive",
          "Positive",
          "Positive",
          "Positive",
          "Positive",
          "Positive",
          "Positive",
          "Positive",
          "Positive",
          "Positive",
          "Negative",
          "Positive",
          "Positive",
          "Positive",
          "Positive",
          "Positive",
          "Positive",
          "Positive",
          "Positive",
          "Negative",
          "Positive",
          "Positive",
          "Positive",
          "Positive",
          "Positive",
          "Negative",
          "Positive",
          "Negative",
          "Positive",
          "Positive",
          "Positive",
          "Positive",
          "Negative",
          "Positive",
          "Positive",
          "Positive",
          "Positive",
          "Positive",
          "Negative",
          "Negative",
          "Positive",
          "Positive",
          "Negative",
          "Positive",
          "Positive",
          "Positive",
          "Negative",
          "Positive",
          "Positive",
          "Positive",
          "Positive",
          "Negative",
          "Positive",
          "Positive",
          "Negative",
          "Negative",
          "Positive",
          "Positive",
          "Positive",
          "Positive",
          "Positive",
          "Positive",
          "Positive",
          "Negative",
          "Positive",
          "Positive",
          "Positive",
          "Positive",
          "Positive",
          "Positive",
          "Positive",
          "Positive",
          "Positive",
          "Positive",
          "Positive",
          "Positive",
          "Positive",
          "Positive",
          "Negative",
          "Positive",
          "Positive",
          "Positive",
          "Positive",
          "Positive",
          "Positive",
          "Negative",
          "Positive",
          "Positive",
          "Positive",
          "Positive",
          "Positive",
          "Positive",
          "Negative",
          "Positive",
          "Positive",
          "Positive",
          "Positive",
          "Positive",
          "Positive",
          "Negative",
          "Positive",
          "Negative",
          "Negative",
          "Positive",
          "Positive",
          "Positive",
          "Positive",
          "Positive",
          "Positive",
          "Positive",
          "Positive",
          "Positive",
          "Negative",
          "Positive",
          "Positive",
          "Positive",
          "Positive",
          "Positive",
          "Positive",
          "Positive",
          "Negative",
          "Positive",
          "Positive",
          "Positive",
          "Positive",
          "Negative",
          "Positive",
          "Positive",
          "Positive",
          "Positive",
          "Positive",
          "Positive",
          "Positive",
          "Negative",
          "Positive",
          "Positive",
          "Positive",
          "Negative",
          "Positive",
          "Positive",
          "Negative",
          "Positive",
          "Positive",
          "Positive",
          "Positive",
          "Negative",
          "Positive",
          "Positive",
          "Positive",
          "Negative",
          "Negative",
          "Positive",
          "Positive",
          "Positive",
          "Positive",
          "Positive",
          "Positive",
          "Positive",
          "Positive",
          "Negative",
          "Negative",
          "Positive",
          "Negative",
          "Negative",
          "Positive",
          "Positive",
          "Positive",
          "Positive",
          "Negative",
          "Positive",
          "Positive",
          "Negative",
          "Positive",
          "Positive",
          "Negative",
          "Positive",
          "Positive",
          "Positive",
          "Positive",
          "Positive",
          "Positive",
          "Positive",
          "Negative",
          "Positive",
          "Positive",
          "Positive",
          "Positive",
          "Positive",
          "Positive",
          "Positive",
          "Positive",
          "Positive",
          "Negative",
          "Negative",
          "Positive",
          "Positive",
          "Positive",
          "Positive",
          "Positive",
          "Positive",
          "Positive",
          "Positive",
          "Positive",
          "Positive",
          "Positive",
          "Positive",
          "Positive",
          "Negative",
          "Positive",
          "Positive",
          "Positive",
          "Positive",
          "Positive",
          "Positive",
          "Positive",
          "Positive",
          "Positive",
          "Positive",
          "Positive",
          "Positive",
          "Positive",
          "Positive",
          "Negative",
          "Positive",
          "Positive",
          "Positive",
          "Positive",
          "Positive",
          "Positive",
          "Positive",
          "Positive",
          "Positive",
          "Positive",
          "Positive",
          "Positive",
          "Positive",
          "Positive",
          "Positive",
          "Positive",
          "Positive",
          "Positive",
          "Positive",
          "Positive",
          "Positive",
          "Positive",
          "Negative",
          "Positive",
          "Positive",
          "Positive",
          "Positive",
          "Positive",
          "Positive",
          "Positive",
          "Positive",
          "Positive",
          "Positive",
          "Positive",
          "Positive",
          "Positive",
          "Positive",
          "Positive",
          "Negative",
          "Positive",
          "Positive",
          "Positive",
          "Positive",
          "Positive",
          "Positive",
          "Positive",
          "Negative",
          "Positive",
          "Negative",
          "Positive",
          "Positive",
          "Positive",
          "Positive",
          "Positive",
          "Positive",
          "Positive",
          "Positive",
          "Positive",
          "Positive",
          "Negative",
          "Positive",
          "Positive",
          "Positive",
          "Positive",
          "Positive",
          "Negative",
          "Positive",
          "Negative",
          "Positive",
          "Positive",
          "Positive",
          "Positive",
          "Positive",
          "Positive",
          "Positive",
          "Positive",
          "Positive",
          "Positive",
          "Positive",
          "Positive",
          "Negative",
          "Positive",
          "Positive",
          "Negative",
          "Positive",
          "Positive",
          "Positive",
          "Positive",
          "Negative",
          "Positive",
          "Positive",
          "Positive",
          "Positive",
          "Negative",
          "Positive",
          "Positive",
          "Positive",
          "Negative",
          "Positive",
          "Negative",
          "Positive",
          "Positive",
          "Positive",
          "Positive",
          "Negative",
          "Negative",
          "Positive",
          "Positive",
          "Positive",
          "Positive",
          "Positive",
          "Positive",
          "Positive",
          "Positive",
          "Positive",
          "Positive",
          "Positive",
          "Positive",
          "Negative",
          "Positive",
          "Positive",
          "Positive",
          "Positive",
          "Positive",
          "Positive",
          "Positive",
          "Positive",
          "Positive",
          "Negative",
          "Positive",
          "Positive",
          "Positive",
          "Positive",
          "Positive",
          "Positive",
          "Positive",
          "Positive",
          "Negative",
          "Positive",
          "Positive",
          "Positive",
          "Negative",
          "Positive",
          "Positive",
          "Positive",
          "Positive",
          "Positive",
          "Positive",
          "Positive",
          "Positive",
          "Positive",
          "Positive",
          "Positive",
          "Positive",
          "Negative",
          "Positive",
          "Negative",
          "Positive",
          "Positive",
          "Positive",
          "Positive",
          "Positive",
          "Positive",
          "Positive",
          "Negative",
          "Positive",
          "Positive",
          "Positive",
          "Positive",
          "Negative",
          "Positive",
          "Positive",
          "Positive",
          "Positive",
          "Positive",
          "Negative",
          "Positive",
          "Positive",
          "Positive",
          "Positive",
          "Positive",
          "Positive",
          "Positive",
          "Positive",
          "Positive",
          "Positive",
          "Positive",
          "Positive",
          "Positive",
          "Positive",
          "Positive",
          "Positive",
          "Positive",
          "Positive",
          "Positive",
          "Positive",
          "Positive",
          "Positive",
          "Positive",
          "Positive",
          "Positive",
          "Positive",
          "Positive",
          "Positive",
          "Positive",
          "Negative",
          "Positive",
          "Positive",
          "Negative",
          "Positive",
          "Positive",
          "Positive",
          "Positive",
          "Positive",
          "Positive",
          "Positive",
          "Positive",
          "Positive",
          "Positive",
          "Positive",
          "Positive",
          "Negative",
          "Positive",
          "Positive",
          "Positive",
          "Negative",
          "Negative",
          "Positive",
          "Negative",
          "Positive",
          "Positive",
          "Positive",
          "Positive",
          "Positive",
          "Positive",
          "Negative",
          "Negative",
          "Positive",
          "Positive",
          "Positive",
          "Positive",
          "Positive",
          "Positive",
          "Negative",
          "Positive",
          "Positive",
          "Positive",
          "Positive",
          "Negative",
          "Positive",
          "Positive",
          "Positive",
          "Positive",
          "Negative",
          "Positive",
          "Negative",
          "Positive",
          "Positive",
          "Positive",
          "Positive",
          "Positive",
          "Positive",
          "Negative",
          "Positive",
          "Positive",
          "Positive",
          "Positive",
          "Positive",
          "Negative",
          "Positive",
          "Positive",
          "Positive",
          "Positive",
          "Positive",
          "Positive",
          "Positive",
          "Positive",
          "Positive",
          "Positive",
          "Positive",
          "Negative",
          "Positive",
          "Positive",
          "Positive",
          "Positive",
          "Positive",
          "Positive",
          "Positive",
          "Positive",
          "Positive",
          "Positive",
          "Negative",
          "Positive",
          "Negative",
          "Positive",
          "Positive",
          "Negative",
          "Positive",
          "Positive",
          "Positive",
          "Negative",
          "Positive",
          "Positive",
          "Positive",
          "Positive",
          "Positive",
          "Positive",
          "Positive",
          "Positive",
          "Positive",
          "Positive",
          "Negative",
          "Positive",
          "Negative",
          "Positive",
          "Positive",
          "Positive",
          "Positive",
          "Negative",
          "Positive",
          "Positive",
          "Negative",
          "Negative",
          "Positive",
          "Positive",
          "Positive",
          "Positive",
          "Positive",
          "Positive",
          "Positive",
          "Positive",
          "Negative",
          "Negative",
          "Positive",
          "Positive",
          "Positive",
          "Positive",
          "Positive",
          "Positive",
          "Positive",
          "Positive",
          "Negative",
          "Negative",
          "Positive",
          "Positive",
          "Positive",
          "Positive",
          "Positive",
          "Positive",
          "Positive",
          "Positive",
          "Negative",
          "Positive",
          "Negative",
          "Positive",
          "Positive",
          "Positive",
          "Positive",
          "Positive",
          "Positive",
          "Positive",
          "Negative",
          "Positive",
          "Positive",
          "Positive",
          "Positive",
          "Negative",
          "Positive",
          "Positive",
          "Positive",
          "Positive",
          "Negative",
          "Negative",
          "Positive",
          "Positive",
          "Positive",
          "Positive",
          "Negative",
          "Positive",
          "Positive",
          "Positive",
          "Positive",
          "Positive",
          "Negative",
          "Negative",
          "Positive",
          "Positive",
          "Positive",
          "Positive",
          "Positive",
          "Positive",
          "Positive",
          "Positive",
          "Positive",
          "Positive",
          "Negative",
          "Positive",
          "Negative",
          "Positive",
          "Positive",
          "Positive",
          "Positive",
          "Negative",
          "Positive",
          "Positive",
          "Positive",
          "Positive",
          "Negative",
          "Negative",
          "Positive",
          "Positive",
          "Positive",
          "Positive",
          "Positive",
          "Negative",
          "Positive",
          "Positive",
          "Positive",
          "Negative",
          "Positive",
          "Negative",
          "Positive",
          "Positive",
          "Positive",
          "Positive",
          "Positive",
          "Positive",
          "Positive",
          "Positive",
          "Negative",
          "Positive",
          "Positive",
          "Positive",
          "Positive",
          "Positive",
          "Positive",
          "Positive",
          "Negative",
          "Positive",
          "Positive",
          "Positive",
          "Positive",
          "Positive",
          "Negative",
          "Positive",
          "Positive",
          "Positive",
          "Negative",
          "Positive",
          "Negative",
          "Positive",
          "Positive",
          "Positive",
          "Positive",
          "Positive",
          "Positive",
          "Negative",
          "Negative",
          "Positive",
          "Positive",
          "Positive",
          "Positive",
          "Positive",
          "Positive",
          "Positive",
          "Positive",
          "Positive",
          "Negative",
          "Positive",
          "Negative",
          "Positive",
          "Negative",
          "Positive",
          "Negative",
          "Positive",
          "Positive",
          "Positive",
          "Positive",
          "Positive",
          "Positive",
          "Negative",
          "Positive",
          "Negative",
          "Positive",
          "Positive",
          "Positive",
          "Positive",
          "Negative",
          "Positive",
          "Positive",
          "Positive",
          "Positive",
          "Positive",
          "Positive",
          "Positive",
          "Positive",
          "Positive",
          "Negative",
          "Positive",
          "Positive",
          "Positive",
          "Positive",
          "Positive",
          "Positive",
          "Negative",
          "Positive",
          "Positive",
          "Positive",
          "Positive",
          "Negative",
          "Negative",
          "Negative",
          "Positive",
          "Positive",
          "Positive",
          "Positive",
          "Negative",
          "Positive",
          "Positive",
          "Positive",
          "Positive",
          "Positive",
          "Positive",
          "Negative",
          "Negative",
          "Positive",
          "Positive",
          "Positive",
          "Positive",
          "Positive",
          "Positive",
          "Positive",
          "Positive",
          "Positive",
          "Positive",
          "Positive",
          "Positive",
          "Positive",
          "Positive",
          "Positive",
          "Negative",
          "Positive",
          "Positive",
          "Positive",
          "Positive",
          "Positive",
          "Positive",
          "Positive",
          "Positive",
          "Positive",
          "Positive",
          "Positive",
          "Positive",
          "Negative",
          "Positive",
          "Positive",
          "Positive",
          "Positive",
          "Positive",
          "Positive",
          "Positive",
          "Positive",
          "Positive",
          "Positive",
          "Negative",
          "Positive",
          "Negative",
          "Positive",
          "Positive",
          "Positive",
          "Positive",
          "Negative",
          "Positive",
          "Positive",
          "Positive",
          "Positive",
          "Positive",
          "Positive",
          "Positive",
          "Negative",
          "Positive",
          "Positive",
          "Positive",
          "Positive",
          "Positive",
          "Positive",
          "Positive",
          "Positive",
          "Positive",
          "Positive",
          "Positive",
          "Positive",
          "Positive",
          "Positive",
          "Positive",
          "Positive",
          "Positive",
          "Positive",
          "Positive",
          "Negative",
          "Positive",
          "Negative",
          "Positive",
          "Positive",
          "Negative",
          "Positive",
          "Positive",
          "Positive",
          "Positive",
          "Negative",
          "Negative",
          "Positive",
          "Negative",
          "Positive",
          "Negative",
          "Positive",
          "Negative",
          "Negative",
          "Positive",
          "Negative",
          "Positive",
          "Negative",
          "Positive",
          "Positive",
          "Positive",
          "Positive",
          "Positive",
          "Positive",
          "Negative",
          "Positive",
          "Negative",
          "Positive",
          "Positive",
          "Positive",
          "Positive",
          "Positive",
          "Positive",
          "Negative",
          "Positive",
          "Positive",
          "Positive",
          "Positive",
          "Positive",
          "Positive",
          "Positive",
          "Negative",
          "Negative",
          "Positive",
          "Negative",
          "Negative",
          "Positive",
          "Positive",
          "Positive",
          "Negative",
          "Positive",
          "Positive",
          "Negative",
          "Positive",
          "Positive",
          "Positive",
          "Positive",
          "Positive",
          "Positive",
          "Positive",
          "Positive",
          "Positive",
          "Positive",
          "Positive",
          "Positive",
          "Negative",
          "Positive",
          "Positive",
          "Positive",
          "Positive",
          "Positive",
          "Positive",
          "Positive",
          "Positive",
          "Positive",
          "Positive",
          "Negative",
          "Positive",
          "Positive",
          "Positive",
          "Positive",
          "Positive",
          "Negative",
          "Positive",
          "Positive",
          "Positive",
          "Positive",
          "Positive",
          "Negative",
          "Positive",
          "Positive",
          "Positive",
          "Positive",
          "Positive",
          "Positive",
          "Negative",
          "Positive",
          "Negative",
          "Positive",
          "Positive",
          "Positive",
          "Positive",
          "Positive",
          "Positive",
          "Positive",
          "Positive",
          "Positive",
          "Positive",
          "Negative",
          "Positive",
          "Positive",
          "Positive",
          "Positive",
          "Positive",
          "Positive",
          "Positive",
          "Positive",
          "Positive",
          "Positive",
          "Negative",
          "Positive",
          "Positive",
          "Positive",
          "Positive",
          "Positive",
          "Positive",
          "Positive",
          "Positive",
          "Positive",
          "Negative",
          "Positive",
          "Positive",
          "Positive",
          "Positive",
          "Positive",
          "Positive",
          "Negative",
          "Positive",
          "Positive",
          "Positive",
          "Positive",
          "Positive",
          "Positive",
          "Negative",
          "Positive",
          "Positive",
          "Positive",
          "Negative",
          "Positive",
          "Positive",
          "Negative",
          "Positive",
          "Negative",
          "Positive",
          "Positive",
          "Positive",
          "Negative",
          "Positive",
          "Positive",
          "Positive",
          "Positive",
          "Positive",
          "Positive",
          "Positive",
          "Positive",
          "Positive",
          "Positive",
          "Positive",
          "Positive",
          "Positive",
          "Positive",
          "Positive",
          "Positive",
          "Negative",
          "Positive",
          "Positive",
          "Positive",
          "Positive",
          "Positive",
          "Positive",
          "Negative",
          "Positive",
          "Positive",
          "Negative",
          "Positive",
          "Positive",
          "Positive",
          "Positive",
          "Positive",
          "Positive",
          "Positive",
          "Positive",
          "Positive",
          "Positive",
          "Positive",
          "Positive",
          "Positive",
          "Positive",
          "Positive",
          "Positive",
          "Negative",
          "Positive",
          "Positive",
          "Positive",
          "Positive",
          "Positive",
          "Positive",
          "Positive",
          "Negative",
          "Positive",
          "Positive",
          "Negative",
          "Positive",
          "Positive",
          "Negative",
          "Positive",
          "Positive",
          "Negative",
          "Positive",
          "Positive",
          "Positive",
          "Positive",
          "Positive",
          "Positive",
          "Positive",
          "Positive",
          "Positive",
          "Positive",
          "Positive",
          "Positive",
          "Negative",
          "Positive",
          "Positive",
          "Positive",
          "Positive",
          "Positive",
          "Positive",
          "Positive",
          "Positive",
          "Positive",
          "Negative",
          "Negative",
          "Positive",
          "Positive",
          "Negative",
          "Positive",
          "Positive",
          "Positive",
          "Positive",
          "Positive",
          "Positive",
          "Positive",
          "Positive",
          "Positive",
          "Positive",
          "Positive",
          "Positive",
          "Positive",
          "Positive",
          "Positive",
          "Positive",
          "Positive",
          "Positive",
          "Positive",
          "Negative",
          "Positive",
          "Negative",
          "Positive",
          "Positive",
          "Positive",
          "Positive",
          "Negative",
          "Negative",
          "Positive",
          "Positive",
          "Positive",
          "Positive",
          "Positive",
          "Positive",
          "Negative",
          "Positive",
          "Positive",
          "Positive",
          "Positive",
          "Positive",
          "Positive",
          "Positive",
          "Positive",
          "Positive",
          "Positive",
          "Positive",
          "Negative",
          "Positive",
          "Positive",
          "Positive",
          "Positive",
          "Positive",
          "Positive",
          "Negative",
          "Positive",
          "Positive",
          "Positive",
          "Positive",
          "Negative",
          "Positive",
          "Negative",
          "Positive",
          "Positive",
          "Positive",
          "Positive",
          "Positive",
          "Positive",
          "Positive",
          "Positive",
          "Positive",
          "Positive",
          "Positive",
          "Positive",
          "Negative",
          "Positive",
          "Negative",
          "Positive",
          "Positive",
          "Positive",
          "Negative",
          "Positive",
          "Positive",
          "Negative",
          "Positive",
          "Positive",
          "Positive",
          "Negative",
          "Negative",
          "Positive",
          "Positive",
          "Positive",
          "Positive",
          "Positive",
          "Positive",
          "Positive",
          "Positive",
          "Positive",
          "Positive",
          "Positive",
          "Positive",
          "Positive",
          "Positive",
          "Positive",
          "Positive",
          "Positive",
          "Positive",
          "Positive",
          "Positive",
          "Positive",
          "Positive",
          "Positive",
          "Negative",
          "Positive",
          "Positive",
          "Positive",
          "Positive",
          "Positive",
          "Positive",
          "Negative",
          "Positive",
          "Positive",
          "Positive",
          "Positive",
          "Positive",
          "Negative",
          "Positive",
          "Positive",
          "Positive",
          "Positive",
          "Positive",
          "Positive",
          "Positive",
          "Positive",
          "Positive",
          "Positive",
          "Positive",
          "Positive",
          "Positive",
          "Positive",
          "Positive",
          "Negative",
          "Negative",
          "Positive",
          "Positive",
          "Positive",
          "Negative",
          "Positive",
          "Negative",
          "Positive",
          "Positive",
          "Negative",
          "Negative",
          "Positive",
          "Positive",
          "Negative",
          "Positive",
          "Positive",
          "Negative",
          "Positive",
          "Positive",
          "Positive",
          "Positive",
          "Positive",
          "Positive",
          "Positive",
          "Positive",
          "Negative",
          "Positive",
          "Positive",
          "Negative",
          "Negative",
          "Positive",
          "Negative",
          "Positive",
          "Negative",
          "Positive",
          "Positive",
          "Positive",
          "Positive",
          "Positive",
          "Positive",
          "Positive",
          "Positive",
          "Positive",
          "Positive",
          "Positive",
          "Positive",
          "Negative",
          "Positive",
          "Positive",
          "Positive",
          "Positive",
          "Positive",
          "Positive",
          "Positive",
          "Positive",
          "Positive",
          "Negative",
          "Negative",
          "Negative",
          "Positive",
          "Negative",
          "Positive",
          "Positive",
          "Positive",
          "Positive",
          "Positive",
          "Negative",
          "Positive",
          "Positive",
          "Positive",
          "Positive",
          "Positive",
          "Negative",
          "Positive",
          "Positive",
          "Negative",
          "Positive",
          "Negative",
          "Positive",
          "Positive",
          "Positive",
          "Positive",
          "Negative",
          "Positive",
          "Positive",
          "Positive",
          "Positive",
          "Positive",
          "Positive",
          "Positive",
          "Positive",
          "Positive",
          "Positive",
          "Negative",
          "Positive",
          "Positive",
          "Positive",
          "Positive",
          "Positive",
          "Positive",
          "Negative",
          "Positive",
          "Negative",
          "Positive",
          "Negative",
          "Positive",
          "Positive",
          "Positive",
          "Positive",
          "Positive",
          "Positive",
          "Positive",
          "Positive",
          "Positive",
          "Negative",
          "Positive",
          "Positive",
          "Positive",
          "Positive",
          "Positive",
          "Positive",
          "Negative",
          "Positive",
          "Positive",
          "Positive",
          "Positive",
          "Positive",
          "Positive",
          "Positive",
          "Positive",
          "Positive",
          "Positive",
          "Positive",
          "Positive",
          "Positive",
          "Positive",
          "Positive",
          "Positive",
          "Positive",
          "Positive",
          "Positive",
          "Positive",
          "Positive",
          "Positive",
          "Positive",
          "Positive",
          "Positive",
          "Positive",
          "Positive",
          "Positive",
          "Positive",
          "Positive",
          "Positive",
          "Positive",
          "Positive",
          "Positive",
          "Positive",
          "Negative",
          "Positive",
          "Positive",
          "Negative",
          "Positive",
          "Positive",
          "Positive",
          "Positive",
          "Positive",
          "Positive",
          "Positive",
          "Positive",
          "Positive",
          "Positive",
          "Positive",
          "Positive",
          "Positive",
          "Negative",
          "Positive",
          "Positive",
          "Positive",
          "Positive",
          "Positive",
          "Positive",
          "Negative",
          "Positive",
          "Negative",
          "Positive",
          "Negative",
          "Positive",
          "Positive",
          "Positive",
          "Positive",
          "Negative",
          "Positive",
          "Negative",
          "Positive",
          "Positive",
          "Positive",
          "Positive",
          "Positive",
          "Negative",
          "Positive",
          "Positive",
          "Positive",
          "Positive",
          "Positive",
          "Positive",
          "Negative",
          "Positive",
          "Positive",
          "Positive",
          "Positive",
          "Positive",
          "Positive",
          "Positive",
          "Positive",
          "Positive",
          "Positive",
          "Positive",
          "Positive",
          "Positive",
          "Positive",
          "Negative",
          "Positive",
          "Positive",
          "Negative",
          "Negative",
          "Positive",
          "Negative",
          "Positive",
          "Positive",
          "Negative",
          "Positive",
          "Positive",
          "Positive",
          "Positive",
          "Positive",
          "Positive",
          "Positive",
          "Positive",
          "Positive",
          "Positive",
          "Negative",
          "Positive",
          "Positive",
          "Negative",
          "Positive",
          "Negative",
          "Positive",
          "Negative",
          "Positive",
          "Positive",
          "Positive",
          "Negative",
          "Positive",
          "Positive",
          "Positive",
          "Negative",
          "Positive",
          "Positive",
          "Positive",
          "Positive",
          "Positive",
          "Negative",
          "Positive",
          "Positive",
          "Positive",
          "Negative",
          "Positive",
          "Positive",
          "Positive",
          "Positive",
          "Negative",
          "Positive",
          "Negative",
          "Positive",
          "Positive",
          "Negative",
          "Positive",
          "Negative",
          "Positive",
          "Positive",
          "Positive",
          "Positive",
          "Negative",
          "Positive",
          "Negative",
          "Positive",
          "Negative",
          "Negative",
          "Positive",
          "Negative",
          "Negative",
          "Positive",
          "Positive",
          "Positive",
          "Positive",
          "Positive",
          "Negative",
          "Positive",
          "Negative",
          "Positive",
          "Negative",
          "Positive",
          "Positive",
          "Positive",
          "Positive",
          "Negative",
          "Positive",
          "Positive",
          "Positive",
          "Positive",
          "Positive",
          "Positive",
          "Positive",
          "Positive",
          "Positive",
          "Negative",
          "Positive",
          "Positive",
          "Positive",
          "Negative",
          "Positive",
          "Positive",
          "Positive",
          "Positive",
          "Positive",
          "Positive",
          "Positive",
          "Positive",
          "Positive",
          "Positive",
          "Positive",
          "Positive",
          "Negative",
          "Negative",
          "Positive",
          "Negative",
          "Negative",
          "Negative",
          "Positive",
          "Positive",
          "Positive",
          "Positive",
          "Positive",
          "Positive",
          "Positive",
          "Positive",
          "Negative",
          "Positive",
          "Negative",
          "Positive",
          "Positive",
          "Positive",
          "Positive",
          "Positive",
          "Positive",
          "Positive",
          "Positive",
          "Positive",
          "Positive",
          "Positive",
          "Positive",
          "Negative",
          "Positive",
          "Positive",
          "Negative",
          "Positive",
          "Positive",
          "Positive",
          "Positive",
          "Positive",
          "Positive",
          "Negative",
          "Positive",
          "Positive",
          "Positive",
          "Positive",
          "Positive",
          "Positive",
          "Positive",
          "Negative",
          "Positive",
          "Positive",
          "Positive",
          "Positive",
          "Negative",
          "Positive",
          "Positive",
          "Positive",
          "Positive",
          "Negative",
          "Positive",
          "Positive",
          "Positive",
          "Negative",
          "Positive",
          "Negative",
          "Positive",
          "Positive",
          "Positive",
          "Positive",
          "Positive",
          "Positive",
          "Positive",
          "Positive",
          "Positive",
          "Positive",
          "Positive",
          "Positive",
          "Positive",
          "Positive",
          "Positive",
          "Positive",
          "Positive",
          "Positive",
          "Positive",
          "Positive",
          "Positive",
          "Positive",
          "Positive",
          "Positive",
          "Positive",
          "Positive",
          "Negative",
          "Positive",
          "Positive",
          "Positive",
          "Positive",
          "Positive",
          "Positive",
          "Positive",
          "Positive",
          "Negative",
          "Positive",
          "Positive",
          "Positive",
          "Positive",
          "Positive",
          "Positive",
          "Negative",
          "Negative",
          "Positive",
          "Positive",
          "Positive",
          "Positive",
          "Positive",
          "Positive",
          "Positive",
          "Positive",
          "Positive",
          "Positive",
          "Negative",
          "Positive",
          "Positive",
          "Positive",
          "Positive",
          "Positive",
          "Negative",
          "Positive",
          "Positive",
          "Positive",
          "Negative",
          "Positive",
          "Positive",
          "Positive",
          "Positive",
          "Positive",
          "Positive",
          "Negative",
          "Positive",
          "Positive",
          "Positive",
          "Negative",
          "Positive",
          "Positive",
          "Positive",
          "Positive",
          "Positive",
          "Positive",
          "Positive",
          "Positive",
          "Negative",
          "Positive",
          "Positive",
          "Positive",
          "Positive",
          "Positive",
          "Positive",
          "Positive",
          "Negative",
          "Positive",
          "Positive",
          "Positive",
          "Positive",
          "Positive",
          "Positive",
          "Positive",
          "Positive",
          "Positive",
          "Negative",
          "Positive",
          "Positive",
          "Positive",
          "Positive",
          "Positive",
          "Positive",
          "Positive",
          "Positive",
          "Positive",
          "Negative",
          "Positive",
          "Positive",
          "Positive",
          "Positive",
          "Negative",
          "Positive",
          "Positive",
          "Positive",
          "Positive",
          "Positive",
          "Positive",
          "Positive",
          "Positive",
          "Positive",
          "Positive",
          "Positive",
          "Positive",
          "Positive",
          "Negative",
          "Positive",
          "Positive",
          "Positive",
          "Positive",
          "Negative",
          "Positive",
          "Positive",
          "Positive",
          "Positive",
          "Positive",
          "Positive",
          "Positive",
          "Positive",
          "Positive",
          "Positive",
          "Positive",
          "Positive",
          "Positive",
          "Positive",
          "Positive",
          "Positive",
          "Positive",
          "Positive",
          "Positive",
          "Negative",
          "Positive",
          "Positive",
          "Positive",
          "Positive",
          "Positive",
          "Positive",
          "Positive",
          "Positive",
          "Positive",
          "Positive",
          "Positive",
          "Positive",
          "Positive",
          "Negative",
          "Positive",
          "Positive",
          "Positive",
          "Positive",
          "Positive",
          "Positive",
          "Negative",
          "Negative",
          "Positive",
          "Positive",
          "Positive",
          "Positive",
          "Negative",
          "Positive",
          "Negative",
          "Positive",
          "Positive",
          "Positive",
          "Positive",
          "Positive",
          "Positive",
          "Negative",
          "Positive",
          "Positive",
          "Positive",
          "Positive",
          "Positive",
          "Positive",
          "Positive",
          "Positive",
          "Positive",
          "Positive",
          "Positive",
          "Positive",
          "Positive",
          "Positive",
          "Positive",
          "Negative",
          "Positive",
          "Positive",
          "Positive",
          "Positive",
          "Negative",
          "Positive",
          "Positive",
          "Positive",
          "Negative",
          "Positive",
          "Positive",
          "Positive",
          "Negative",
          "Positive",
          "Positive",
          "Positive",
          "Positive",
          "Positive",
          "Positive",
          "Positive",
          "Positive",
          "Positive",
          "Positive",
          "Positive",
          "Positive",
          "Positive",
          "Negative",
          "Positive",
          "Positive",
          "Positive",
          "Positive",
          "Positive",
          "Positive",
          "Negative",
          "Positive",
          "Positive",
          "Positive",
          "Positive",
          "Positive",
          "Positive",
          "Positive",
          "Positive",
          "Positive",
          "Positive",
          "Positive",
          "Positive",
          "Positive",
          "Negative",
          "Positive",
          "Positive",
          "Positive",
          "Positive",
          "Positive",
          "Positive",
          "Positive",
          "Positive",
          "Positive",
          "Negative",
          "Positive",
          "Positive",
          "Positive",
          "Positive",
          "Positive",
          "Positive",
          "Negative",
          "Positive",
          "Positive",
          "Negative",
          "Positive",
          "Positive",
          "Positive",
          "Positive",
          "Positive",
          "Positive",
          "Positive",
          "Positive",
          "Positive",
          "Negative",
          "Positive",
          "Positive",
          "Positive",
          "Negative",
          "Positive",
          "Positive",
          "Positive",
          "Positive",
          "Positive",
          "Positive",
          "Positive",
          "Positive",
          "Positive",
          "Positive",
          "Positive",
          "Positive",
          "Positive",
          "Negative",
          "Positive",
          "Negative",
          "Positive",
          "Positive",
          "Positive",
          "Positive",
          "Positive",
          "Positive",
          "Positive",
          "Positive",
          "Positive",
          "Positive",
          "Positive",
          "Positive",
          "Positive",
          "Positive",
          "Positive",
          "Negative",
          "Positive",
          "Positive",
          "Positive",
          "Positive",
          "Positive",
          "Positive",
          "Positive",
          "Positive",
          "Positive",
          "Positive",
          "Positive",
          "Negative",
          "Negative",
          "Positive",
          "Positive",
          "Negative",
          "Positive",
          "Positive",
          "Negative",
          "Positive",
          "Positive",
          "Positive",
          "Positive",
          "Positive",
          "Positive",
          "Positive",
          "Positive",
          "Positive",
          "Positive",
          "Positive",
          "Positive",
          "Negative",
          "Positive",
          "Positive",
          "Positive",
          "Positive",
          "Positive",
          "Negative",
          "Positive",
          "Negative",
          "Positive",
          "Positive",
          "Positive",
          "Positive",
          "Positive",
          "Positive",
          "Positive",
          "Negative",
          "Positive",
          "Positive",
          "Positive",
          "Negative",
          "Positive",
          "Negative",
          "Positive",
          "Positive",
          "Positive",
          "Positive",
          "Positive",
          "Positive",
          "Negative",
          "Positive",
          "Positive",
          "Positive",
          "Positive",
          "Negative",
          "Positive",
          "Positive",
          "Positive",
          "Positive",
          "Positive",
          "Positive",
          "Positive",
          "Positive",
          "Positive",
          "Positive",
          "Positive",
          "Negative",
          "Positive",
          "Positive",
          "Positive",
          "Positive",
          "Positive",
          "Negative",
          "Positive",
          "Positive",
          "Negative",
          "Positive",
          "Positive",
          "Positive",
          "Positive",
          "Positive",
          "Positive",
          "Positive",
          "Positive",
          "Negative",
          "Positive",
          "Negative",
          "Positive",
          "Positive",
          "Positive",
          "Negative",
          "Positive",
          "Negative",
          "Positive",
          "Negative",
          "Positive",
          "Positive",
          "Negative",
          "Positive",
          "Positive",
          "Positive",
          "Positive",
          "Positive",
          "Negative",
          "Positive",
          "Positive",
          "Positive",
          "Positive",
          "Positive",
          "Positive",
          "Positive",
          "Negative",
          "Positive",
          "Positive",
          "Positive",
          "Positive",
          "Positive",
          "Positive",
          "Positive",
          "Positive",
          "Positive",
          "Positive",
          "Positive",
          "Positive",
          "Negative",
          "Positive",
          "Positive",
          "Positive",
          "Positive",
          "Positive",
          "Positive",
          "Positive",
          "Positive",
          "Negative",
          "Positive",
          "Negative",
          "Positive",
          "Negative",
          "Positive",
          "Positive",
          "Positive",
          "Positive",
          "Positive",
          "Positive",
          "Positive",
          "Positive",
          "Positive",
          "Positive",
          "Positive",
          "Positive",
          "Positive",
          "Positive",
          "Positive",
          "Positive",
          "Negative",
          "Positive",
          "Positive",
          "Positive",
          "Positive",
          "Negative",
          "Positive",
          "Positive",
          "Negative",
          "Negative",
          "Positive",
          "Positive",
          "Positive",
          "Positive",
          "Negative",
          "Positive",
          "Positive",
          "Positive",
          "Negative",
          "Positive",
          "Positive",
          "Positive",
          "Positive",
          "Positive",
          "Positive",
          "Negative",
          "Positive",
          "Positive",
          "Positive",
          "Positive",
          "Positive",
          "Positive",
          "Positive",
          "Negative",
          "Positive",
          "Positive",
          "Positive",
          "Negative",
          "Positive",
          "Positive",
          "Negative",
          "Positive",
          "Negative",
          "Positive",
          "Negative",
          "Negative",
          "Positive",
          "Negative",
          "Positive",
          "Positive",
          "Positive",
          "Positive",
          "Positive",
          "Positive",
          "Positive",
          "Negative",
          "Positive",
          "Positive",
          "Positive",
          "Positive",
          "Positive",
          "Positive",
          "Negative",
          "Positive",
          "Negative",
          "Positive",
          "Positive",
          "Positive",
          "Positive",
          "Negative",
          "Positive",
          "Positive",
          "Positive",
          "Positive",
          "Positive",
          "Positive",
          "Positive",
          "Positive",
          "Positive",
          "Positive",
          "Positive",
          "Positive",
          "Positive",
          "Positive",
          "Positive",
          "Positive",
          "Positive",
          "Negative",
          "Negative",
          "Positive",
          "Positive",
          "Positive",
          "Positive",
          "Positive",
          "Positive",
          "Positive",
          "Negative",
          "Negative",
          "Positive",
          "Positive",
          "Positive",
          "Negative",
          "Positive",
          "Positive",
          "Negative",
          "Negative",
          "Negative",
          "Positive",
          "Negative",
          "Positive",
          "Positive",
          "Negative",
          "Negative",
          "Positive",
          "Negative",
          "Positive",
          "Positive",
          "Positive",
          "Positive",
          "Positive",
          "Negative",
          "Positive",
          "Positive",
          "Positive",
          "Negative",
          "Negative",
          "Positive",
          "Positive",
          "Positive",
          "Positive",
          "Positive",
          "Positive",
          "Positive",
          "Positive",
          "Positive",
          "Positive",
          "Positive",
          "Positive",
          "Positive",
          "Negative",
          "Positive",
          "Positive",
          "Positive",
          "Positive",
          "Positive",
          "Positive",
          "Positive",
          "Positive",
          "Positive",
          "Positive",
          "Positive",
          "Positive",
          "Positive",
          "Positive",
          "Positive",
          "Positive",
          "Positive",
          "Positive",
          "Positive",
          "Positive",
          "Negative",
          "Positive",
          "Positive",
          "Positive",
          "Positive",
          "Positive",
          "Positive",
          "Positive",
          "Negative",
          "Positive",
          "Positive",
          "Positive",
          "Positive",
          "Positive",
          "Negative",
          "Positive",
          "Negative",
          "Negative",
          "Positive",
          "Positive",
          "Positive",
          "Positive",
          "Positive",
          "Positive",
          "Negative",
          "Positive",
          "Positive",
          "Positive",
          "Positive",
          "Positive",
          "Positive",
          "Positive",
          "Positive",
          "Positive",
          "Positive",
          "Negative",
          "Positive",
          "Positive",
          "Positive",
          "Positive",
          "Positive",
          "Negative",
          "Positive",
          "Positive",
          "Positive",
          "Positive",
          "Negative",
          "Positive",
          "Positive",
          "Negative",
          "Negative",
          "Positive",
          "Positive",
          "Positive",
          "Positive",
          "Positive",
          "Positive",
          "Positive",
          "Positive",
          "Negative",
          "Negative",
          "Negative",
          "Positive",
          "Positive",
          "Positive",
          "Positive",
          "Positive",
          "Positive",
          "Positive",
          "Positive",
          "Positive",
          "Positive",
          "Positive",
          "Positive",
          "Positive",
          "Positive",
          "Positive",
          "Negative",
          "Positive",
          "Positive",
          "Negative",
          "Positive",
          "Negative",
          "Negative",
          "Positive",
          "Positive",
          "Positive",
          "Positive",
          "Positive",
          "Positive",
          "Positive",
          "Positive",
          "Positive",
          "Positive",
          "Positive",
          "Positive",
          "Positive",
          "Positive",
          "Positive",
          "Positive",
          "Negative",
          "Positive",
          "Positive",
          "Negative",
          "Positive",
          "Positive",
          "Positive",
          "Positive",
          "Positive",
          "Positive",
          "Positive",
          "Positive",
          "Negative",
          "Positive",
          "Negative",
          "Negative",
          "Positive",
          "Positive",
          "Positive",
          "Positive",
          "Positive",
          "Positive",
          "Negative",
          "Negative",
          "Positive",
          "Positive",
          "Positive",
          "Positive",
          "Positive",
          "Positive",
          "Positive",
          "Positive",
          "Positive",
          "Positive",
          "Positive",
          "Positive",
          "Positive",
          "Positive",
          "Positive",
          "Positive",
          "Positive",
          "Positive",
          "Positive",
          "Positive",
          "Positive",
          "Negative",
          "Positive",
          "Positive",
          "Positive",
          "Positive",
          "Positive",
          "Positive",
          "Positive",
          "Negative",
          "Negative",
          "Positive",
          "Positive",
          "Positive",
          "Positive",
          "Positive",
          "Positive",
          "Positive",
          "Positive",
          "Positive",
          "Positive",
          "Positive",
          "Positive",
          "Positive",
          "Positive",
          "Positive",
          "Positive",
          "Negative",
          "Positive",
          "Positive",
          "Positive",
          "Positive",
          "Positive",
          "Positive",
          "Positive",
          "Positive",
          "Positive",
          "Positive",
          "Positive",
          "Positive",
          "Positive",
          "Negative",
          "Positive",
          "Negative",
          "Positive",
          "Positive",
          "Positive",
          "Positive",
          "Positive",
          "Positive",
          "Positive",
          "Positive",
          "Negative",
          "Positive",
          "Positive",
          "Positive",
          "Positive",
          "Positive",
          "Positive",
          "Positive",
          "Negative",
          "Positive",
          "Negative",
          "Positive",
          "Negative",
          "Positive",
          "Positive",
          "Positive",
          "Negative",
          "Positive",
          "Positive",
          "Positive",
          "Positive",
          "Negative",
          "Positive",
          "Positive",
          "Positive",
          "Positive",
          "Positive",
          "Positive",
          "Positive",
          "Positive",
          "Positive",
          "Positive",
          "Positive",
          "Positive",
          "Positive",
          "Positive",
          "Positive",
          "Positive",
          "Positive",
          "Positive",
          "Positive",
          "Positive",
          "Positive",
          "Positive",
          "Positive",
          "Positive",
          "Positive",
          "Negative",
          "Positive",
          "Positive",
          "Positive",
          "Positive",
          "Positive",
          "Positive",
          "Positive",
          "Positive",
          "Positive",
          "Positive",
          "Positive",
          "Positive",
          "Positive",
          "Positive",
          "Negative",
          "Negative",
          "Positive",
          "Positive",
          "Negative",
          "Positive",
          "Positive",
          "Positive",
          "Negative",
          "Positive",
          "Positive",
          "Positive",
          "Positive",
          "Positive",
          "Positive",
          "Positive",
          "Positive",
          "Negative",
          "Negative",
          "Negative",
          "Negative",
          "Negative",
          "Positive",
          "Negative",
          "Positive",
          "Positive",
          "Negative",
          "Positive",
          "Positive",
          "Positive",
          "Positive",
          "Positive",
          "Positive",
          "Positive",
          "Negative",
          "Negative",
          "Positive",
          "Positive",
          "Positive",
          "Positive",
          "Positive",
          "Negative",
          "Negative",
          "Positive",
          "Positive",
          "Positive",
          "Positive",
          "Positive",
          "Negative",
          "Positive",
          "Positive",
          "Positive",
          "Positive",
          "Positive",
          "Positive",
          "Negative",
          "Positive",
          "Positive",
          "Positive",
          "Positive",
          "Positive",
          "Positive",
          "Positive",
          "Positive",
          "Positive",
          "Positive",
          "Positive",
          "Positive",
          "Positive",
          "Positive",
          "Positive",
          "Positive",
          "Positive",
          "Positive",
          "Positive",
          "Positive",
          "Positive",
          "Positive",
          "Positive",
          "Positive",
          "Positive",
          "Positive",
          "Positive",
          "Positive",
          "Positive",
          "Negative",
          "Positive",
          "Negative",
          "Negative",
          "Positive",
          "Negative",
          "Positive",
          "Positive",
          "Positive",
          "Negative",
          "Positive",
          "Positive",
          "Positive",
          "Positive",
          "Positive",
          "Positive",
          "Positive",
          "Positive",
          "Positive",
          "Positive",
          "Positive",
          "Positive",
          "Positive",
          "Positive",
          "Positive",
          "Negative",
          "Positive",
          "Negative",
          "Positive",
          "Positive",
          "Positive",
          "Positive",
          "Negative",
          "Negative",
          "Negative",
          "Positive",
          "Positive",
          "Negative",
          "Positive",
          "Positive",
          "Positive",
          "Negative",
          "Negative",
          "Negative",
          "Negative",
          "Negative",
          "Positive",
          "Positive",
          "Positive",
          "Positive",
          "Negative",
          "Positive",
          "Positive",
          "Positive",
          "Negative",
          "Positive",
          "Negative",
          "Positive",
          "Positive",
          "Positive",
          "Positive",
          "Positive",
          "Positive",
          "Positive",
          "Positive",
          "Positive",
          "Positive",
          "Positive",
          "Positive",
          "Negative",
          "Positive",
          "Positive",
          "Positive",
          "Positive",
          "Positive",
          "Positive",
          "Positive",
          "Positive",
          "Positive",
          "Positive",
          "Negative",
          "Positive",
          "Positive",
          "Positive",
          "Positive",
          "Negative",
          "Positive",
          "Positive",
          "Positive",
          "Negative",
          "Positive",
          "Positive",
          "Positive",
          "Positive",
          "Positive",
          "Positive",
          "Positive",
          "Positive",
          "Positive",
          "Positive",
          "Positive",
          "Positive",
          "Positive",
          "Positive",
          "Positive",
          "Positive",
          "Positive",
          "Positive",
          "Positive",
          "Positive",
          "Positive",
          "Positive",
          "Positive",
          "Positive",
          "Positive",
          "Positive",
          "Positive",
          "Positive",
          "Positive",
          "Positive",
          "Positive",
          "Positive",
          "Positive",
          "Negative",
          "Positive",
          "Negative",
          "Negative",
          "Negative",
          "Positive",
          "Negative",
          "Positive",
          "Positive",
          "Positive",
          "Positive",
          "Positive",
          "Negative",
          "Positive",
          "Positive",
          "Positive",
          "Positive",
          "Positive",
          "Positive",
          "Positive",
          "Positive",
          "Positive",
          "Positive",
          "Positive",
          "Positive",
          "Positive",
          "Negative",
          "Positive",
          "Positive",
          "Negative",
          "Negative",
          "Positive",
          "Negative",
          "Positive",
          "Positive",
          "Negative",
          "Positive",
          "Negative",
          "Positive",
          "Positive",
          "Positive",
          "Positive",
          "Negative",
          "Positive",
          "Negative",
          "Positive",
          "Positive",
          "Positive",
          "Positive",
          "Positive",
          "Positive",
          "Positive",
          "Positive",
          "Positive",
          "Positive",
          "Positive",
          "Positive",
          "Positive",
          "Positive",
          "Positive",
          "Positive",
          "Positive",
          "Negative",
          "Positive",
          "Positive",
          "Positive",
          "Positive",
          "Negative",
          "Positive",
          "Positive",
          "Negative",
          "Negative",
          "Positive",
          "Positive",
          "Positive",
          "Negative",
          "Positive",
          "Positive",
          "Positive",
          "Positive",
          "Positive",
          "Negative",
          "Positive",
          "Positive",
          "Positive",
          "Negative",
          "Positive",
          "Positive",
          "Positive",
          "Positive",
          "Negative",
          "Positive",
          "Positive",
          "Positive",
          "Positive",
          "Positive",
          "Positive",
          "Negative",
          "Positive",
          "Negative",
          "Positive",
          "Positive",
          "Positive",
          "Positive",
          "Positive",
          "Positive",
          "Positive",
          "Positive",
          "Positive",
          "Positive",
          "Positive",
          "Positive",
          "Positive",
          "Negative",
          "Positive",
          "Positive",
          "Negative",
          "Positive",
          "Positive",
          "Positive",
          "Positive",
          "Positive",
          "Positive",
          "Positive",
          "Negative",
          "Positive",
          "Positive",
          "Negative",
          "Positive",
          "Positive",
          "Positive",
          "Positive",
          "Positive",
          "Positive",
          "Positive",
          "Positive",
          "Positive",
          "Positive",
          "Negative",
          "Negative",
          "Negative",
          "Positive",
          "Positive",
          "Positive",
          "Positive",
          "Positive",
          "Negative",
          "Positive",
          "Positive",
          "Negative",
          "Positive",
          "Positive",
          "Positive",
          "Positive",
          "Positive",
          "Negative",
          "Positive",
          "Positive",
          "Positive",
          "Positive",
          "Positive",
          "Positive",
          "Positive",
          "Positive",
          "Negative",
          "Positive",
          "Positive",
          "Positive",
          "Positive",
          "Negative",
          "Positive",
          "Negative",
          "Positive",
          "Positive",
          "Positive",
          "Negative",
          "Positive",
          "Positive",
          "Negative",
          "Negative",
          "Positive",
          "Positive",
          "Positive",
          "Negative",
          "Negative",
          "Positive",
          "Positive",
          "Positive",
          "Positive",
          "Positive",
          "Positive",
          "Positive",
          "Positive",
          "Positive",
          "Positive",
          "Positive",
          "Positive",
          "Positive",
          "Positive",
          "Positive",
          "Positive",
          "Positive",
          "Positive",
          "Negative",
          "Positive",
          "Positive",
          "Positive",
          "Positive",
          "Negative",
          "Positive",
          "Positive",
          "Negative",
          "Positive",
          "Positive",
          "Positive",
          "Positive",
          "Positive",
          "Positive",
          "Positive",
          "Positive",
          "Negative",
          "Positive",
          "Positive",
          "Positive",
          "Positive",
          "Positive",
          "Positive",
          "Negative",
          "Positive",
          "Positive",
          "Positive",
          "Positive",
          "Negative",
          "Positive",
          "Positive",
          "Positive",
          "Positive",
          "Positive",
          "Positive",
          "Positive",
          "Positive",
          "Positive",
          "Negative",
          "Positive",
          "Positive",
          "Positive",
          "Negative",
          "Positive",
          "Positive",
          "Positive",
          "Negative",
          "Positive",
          "Positive",
          "Positive",
          "Positive",
          "Positive",
          "Positive",
          "Positive",
          "Positive",
          "Positive",
          "Positive",
          "Positive",
          "Negative",
          "Positive",
          "Positive",
          "Negative",
          "Positive",
          "Negative",
          "Positive",
          "Positive",
          "Negative",
          "Positive",
          "Positive",
          "Positive",
          "Positive",
          "Positive",
          "Positive",
          "Positive",
          "Positive",
          "Positive",
          "Positive",
          "Negative",
          "Positive",
          "Positive",
          "Positive",
          "Negative",
          "Positive",
          "Positive",
          "Positive",
          "Negative",
          "Positive",
          "Positive",
          "Positive",
          "Positive",
          "Negative",
          "Positive",
          "Positive",
          "Positive",
          "Positive",
          "Positive",
          "Negative",
          "Positive",
          "Positive",
          "Positive",
          "Positive",
          "Positive",
          "Positive",
          "Positive",
          "Positive",
          "Positive",
          "Negative",
          "Positive",
          "Positive",
          "Positive",
          "Positive",
          "Positive",
          "Positive",
          "Positive",
          "Negative",
          "Negative",
          "Positive",
          "Positive",
          "Positive",
          "Negative",
          "Positive",
          "Positive",
          "Positive",
          "Positive",
          "Negative",
          "Positive",
          "Positive",
          "Positive",
          "Positive",
          "Positive",
          "Positive",
          "Positive",
          "Positive",
          "Positive",
          "Positive",
          "Positive",
          "Positive",
          "Positive",
          "Positive",
          "Negative",
          "Positive",
          "Positive",
          "Positive",
          "Positive",
          "Negative",
          "Negative",
          "Positive",
          "Positive",
          "Negative",
          "Positive",
          "Positive",
          "Positive",
          "Positive",
          "Positive",
          "Negative",
          "Positive",
          "Positive",
          "Positive",
          "Negative",
          "Positive",
          "Positive",
          "Positive",
          "Positive",
          "Positive",
          "Positive",
          "Positive",
          "Positive",
          "Positive",
          "Positive",
          "Positive",
          "Negative",
          "Negative",
          "Positive",
          "Positive",
          "Negative",
          "Positive",
          "Positive",
          "Positive",
          "Positive",
          "Positive",
          "Positive",
          "Positive",
          "Positive",
          "Negative",
          "Positive",
          "Positive",
          "Negative",
          "Positive",
          "Positive",
          "Positive",
          "Positive",
          "Positive",
          "Positive",
          "Positive",
          "Positive",
          "Negative",
          "Positive",
          "Positive",
          "Positive",
          "Positive",
          "Positive",
          "Positive",
          "Positive",
          "Positive",
          "Negative",
          "Positive",
          "Positive",
          "Negative",
          "Positive",
          "Positive",
          "Positive",
          "Positive",
          "Positive",
          "Positive",
          "Positive",
          "Positive",
          "Positive",
          "Positive",
          "Positive",
          "Positive",
          "Positive",
          "Positive",
          "Positive",
          "Positive",
          "Positive",
          "Positive",
          "Positive",
          "Positive",
          "Positive",
          "Negative",
          "Negative",
          "Positive",
          "Positive",
          "Positive",
          "Negative",
          "Negative",
          "Positive",
          "Positive",
          "Positive",
          "Negative",
          "Negative",
          "Negative",
          "Positive",
          "Positive",
          "Positive",
          "Positive",
          "Positive",
          "Negative",
          "Positive",
          "Positive",
          "Positive",
          "Negative",
          "Positive",
          "Positive",
          "Positive",
          "Positive",
          "Positive",
          "Positive",
          "Positive",
          "Positive",
          "Negative",
          "Positive",
          "Positive",
          "Positive",
          "Positive",
          "Negative",
          "Positive",
          "Positive",
          "Positive",
          "Positive",
          "Positive",
          "Positive",
          "Positive",
          "Positive",
          "Positive",
          "Positive",
          "Positive",
          "Positive",
          "Positive",
          "Positive",
          "Positive",
          "Positive",
          "Positive",
          "Positive",
          "Positive",
          "Positive",
          "Positive",
          "Positive",
          "Positive",
          "Positive",
          "Positive",
          "Positive",
          "Positive",
          "Positive",
          "Positive",
          "Positive",
          "Positive",
          "Positive",
          "Positive",
          "Positive",
          "Positive",
          "Positive",
          "Positive",
          "Positive",
          "Positive",
          "Negative",
          "Positive",
          "Positive",
          "Positive",
          "Positive",
          "Positive",
          "Positive",
          "Positive",
          "Positive",
          "Positive",
          "Positive",
          "Positive",
          "Positive",
          "Positive",
          "Negative",
          "Positive",
          "Negative",
          "Positive",
          "Positive",
          "Negative",
          "Positive",
          "Positive",
          "Positive",
          "Positive",
          "Positive",
          "Positive",
          "Positive",
          "Positive",
          "Positive",
          "Positive",
          "Positive",
          "Positive",
          "Positive",
          "Positive",
          "Positive",
          "Positive",
          "Positive",
          "Positive",
          "Positive",
          "Positive",
          "Positive",
          "Negative",
          "Positive",
          "Positive",
          "Positive",
          "Negative",
          "Positive",
          "Positive",
          "Negative",
          "Positive",
          "Positive",
          "Positive",
          "Positive",
          "Negative",
          "Positive",
          "Positive",
          "Positive",
          "Positive",
          "Positive",
          "Positive",
          "Positive",
          "Negative",
          "Positive",
          "Negative",
          "Positive",
          "Negative",
          "Positive",
          "Positive",
          "Positive",
          "Positive",
          "Positive",
          "Positive",
          "Positive",
          "Positive",
          "Positive",
          "Positive",
          "Positive",
          "Positive",
          "Positive",
          "Positive",
          "Positive",
          "Positive",
          "Negative",
          "Positive",
          "Positive",
          "Positive",
          "Positive",
          "Positive",
          "Positive",
          "Positive",
          "Negative",
          "Positive",
          "Positive",
          "Positive",
          "Negative",
          "Positive",
          "Positive",
          "Negative",
          "Negative",
          "Positive",
          "Positive",
          "Positive",
          "Positive",
          "Negative",
          "Positive",
          "Positive",
          "Positive",
          "Negative",
          "Positive",
          "Positive",
          "Positive",
          "Positive",
          "Positive",
          "Positive",
          "Positive",
          "Positive",
          "Positive",
          "Positive",
          "Positive",
          "Positive",
          "Positive",
          "Positive",
          "Positive",
          "Negative",
          "Positive",
          "Positive",
          "Positive",
          "Positive",
          "Negative",
          "Positive",
          "Positive",
          "Positive",
          "Positive",
          "Positive",
          "Positive",
          "Positive",
          "Negative",
          "Positive",
          "Positive",
          "Positive",
          "Positive",
          "Positive",
          "Negative",
          "Positive",
          "Positive",
          "Negative",
          "Positive",
          "Positive",
          "Positive",
          "Positive",
          "Positive",
          "Positive",
          "Positive",
          "Positive",
          "Negative",
          "Positive",
          "Negative",
          "Positive",
          "Positive",
          "Negative",
          "Positive",
          "Positive",
          "Positive",
          "Positive",
          "Negative",
          "Positive",
          "Positive",
          "Positive",
          "Positive",
          "Positive",
          "Positive",
          "Positive",
          "Positive",
          "Positive",
          "Negative",
          "Positive",
          "Negative",
          "Positive",
          "Positive",
          "Positive",
          "Negative",
          "Positive",
          "Positive",
          "Positive",
          "Positive",
          "Positive",
          "Positive",
          "Positive",
          "Negative",
          "Positive",
          "Negative",
          "Negative",
          "Positive",
          "Positive",
          "Negative",
          "Positive",
          "Negative",
          "Positive",
          "Positive",
          "Positive",
          "Positive",
          "Positive",
          "Positive",
          "Positive",
          "Positive",
          "Positive",
          "Positive",
          "Positive",
          "Positive",
          "Positive",
          "Negative",
          "Positive",
          "Positive",
          "Positive",
          "Positive",
          "Negative",
          "Negative",
          "Positive",
          "Positive",
          "Positive",
          "Positive",
          "Positive",
          "Positive",
          "Positive",
          "Positive",
          "Positive",
          "Positive",
          "Positive",
          "Positive",
          "Positive",
          "Positive",
          "Negative",
          "Positive",
          "Negative",
          "Positive",
          "Positive",
          "Negative",
          "Positive",
          "Positive",
          "Negative",
          "Negative",
          "Positive",
          "Positive",
          "Positive",
          "Negative",
          "Positive",
          "Negative",
          "Negative",
          "Positive",
          "Positive",
          "Positive",
          "Positive",
          "Positive",
          "Positive",
          "Positive",
          "Positive",
          "Positive",
          "Positive",
          "Positive",
          "Positive",
          "Positive",
          "Negative",
          "Positive",
          "Positive",
          "Positive",
          "Positive",
          "Positive",
          "Positive",
          "Positive",
          "Positive",
          "Positive",
          "Positive",
          "Positive",
          "Positive",
          "Positive",
          "Positive",
          "Positive",
          "Positive",
          "Positive",
          "Positive",
          "Positive",
          "Positive",
          "Negative",
          "Positive",
          "Positive",
          "Positive",
          "Positive",
          "Positive",
          "Negative",
          "Negative",
          "Positive",
          "Positive",
          "Positive",
          "Positive",
          "Positive",
          "Positive",
          "Positive",
          "Positive",
          "Positive",
          "Positive",
          "Positive",
          "Negative",
          "Negative",
          "Positive",
          "Positive",
          "Positive",
          "Positive",
          "Positive",
          "Positive",
          "Positive",
          "Positive",
          "Positive",
          "Positive",
          "Negative",
          "Positive",
          "Negative",
          "Positive",
          "Positive",
          "Positive",
          "Negative",
          "Positive",
          "Negative",
          "Positive",
          "Positive",
          "Positive",
          "Positive",
          "Positive",
          "Positive",
          "Positive",
          "Negative",
          "Positive",
          "Negative",
          "Positive",
          "Positive",
          "Positive",
          "Positive",
          "Positive",
          "Negative",
          "Positive",
          "Positive",
          "Positive",
          "Negative",
          "Positive",
          "Positive",
          "Positive",
          "Positive",
          "Positive",
          "Positive",
          "Positive",
          "Positive",
          "Positive",
          "Negative",
          "Positive",
          "Positive",
          "Positive",
          "Positive",
          "Positive",
          "Positive",
          "Negative",
          "Positive",
          "Positive",
          "Positive",
          "Positive",
          "Positive",
          "Negative",
          "Negative",
          "Positive",
          "Negative",
          "Positive",
          "Positive",
          "Positive",
          "Positive",
          "Positive",
          "Positive",
          "Positive",
          "Positive",
          "Positive",
          "Positive",
          "Positive",
          "Positive",
          "Positive",
          "Positive",
          "Positive",
          "Positive",
          "Positive",
          "Negative",
          "Positive",
          "Positive",
          "Positive",
          "Negative",
          "Positive",
          "Positive",
          "Positive",
          "Positive",
          "Negative",
          "Positive",
          "Positive",
          "Positive",
          "Positive",
          "Positive",
          "Positive",
          "Positive",
          "Positive",
          "Positive",
          "Negative",
          "Positive",
          "Positive",
          "Positive",
          "Positive",
          "Positive",
          "Positive",
          "Negative",
          "Positive",
          "Positive",
          "Positive",
          "Negative",
          "Positive",
          "Positive",
          "Negative",
          "Positive",
          "Negative",
          "Positive",
          "Positive",
          "Positive",
          "Positive",
          "Positive",
          "Positive",
          "Positive",
          "Positive",
          "Negative",
          "Negative",
          "Negative",
          "Positive",
          "Positive",
          "Negative",
          "Negative",
          "Positive",
          "Positive",
          "Negative",
          "Positive",
          "Positive",
          "Positive",
          "Negative",
          "Positive",
          "Positive",
          "Positive",
          "Negative",
          "Positive",
          "Positive"
         ],
         "xaxis": "x",
         "yaxis": "y"
        }
       ],
       "layout": {
        "barmode": "relative",
        "legend": {
         "tracegroupgap": 0
        },
        "margin": {
         "t": 60
        },
        "template": {
         "data": {
          "bar": [
           {
            "error_x": {
             "color": "#2a3f5f"
            },
            "error_y": {
             "color": "#2a3f5f"
            },
            "marker": {
             "line": {
              "color": "#E5ECF6",
              "width": 0.5
             },
             "pattern": {
              "fillmode": "overlay",
              "size": 10,
              "solidity": 0.2
             }
            },
            "type": "bar"
           }
          ],
          "barpolar": [
           {
            "marker": {
             "line": {
              "color": "#E5ECF6",
              "width": 0.5
             },
             "pattern": {
              "fillmode": "overlay",
              "size": 10,
              "solidity": 0.2
             }
            },
            "type": "barpolar"
           }
          ],
          "carpet": [
           {
            "aaxis": {
             "endlinecolor": "#2a3f5f",
             "gridcolor": "white",
             "linecolor": "white",
             "minorgridcolor": "white",
             "startlinecolor": "#2a3f5f"
            },
            "baxis": {
             "endlinecolor": "#2a3f5f",
             "gridcolor": "white",
             "linecolor": "white",
             "minorgridcolor": "white",
             "startlinecolor": "#2a3f5f"
            },
            "type": "carpet"
           }
          ],
          "choropleth": [
           {
            "colorbar": {
             "outlinewidth": 0,
             "ticks": ""
            },
            "type": "choropleth"
           }
          ],
          "contour": [
           {
            "colorbar": {
             "outlinewidth": 0,
             "ticks": ""
            },
            "colorscale": [
             [
              0,
              "#0d0887"
             ],
             [
              0.1111111111111111,
              "#46039f"
             ],
             [
              0.2222222222222222,
              "#7201a8"
             ],
             [
              0.3333333333333333,
              "#9c179e"
             ],
             [
              0.4444444444444444,
              "#bd3786"
             ],
             [
              0.5555555555555556,
              "#d8576b"
             ],
             [
              0.6666666666666666,
              "#ed7953"
             ],
             [
              0.7777777777777778,
              "#fb9f3a"
             ],
             [
              0.8888888888888888,
              "#fdca26"
             ],
             [
              1,
              "#f0f921"
             ]
            ],
            "type": "contour"
           }
          ],
          "contourcarpet": [
           {
            "colorbar": {
             "outlinewidth": 0,
             "ticks": ""
            },
            "type": "contourcarpet"
           }
          ],
          "heatmap": [
           {
            "colorbar": {
             "outlinewidth": 0,
             "ticks": ""
            },
            "colorscale": [
             [
              0,
              "#0d0887"
             ],
             [
              0.1111111111111111,
              "#46039f"
             ],
             [
              0.2222222222222222,
              "#7201a8"
             ],
             [
              0.3333333333333333,
              "#9c179e"
             ],
             [
              0.4444444444444444,
              "#bd3786"
             ],
             [
              0.5555555555555556,
              "#d8576b"
             ],
             [
              0.6666666666666666,
              "#ed7953"
             ],
             [
              0.7777777777777778,
              "#fb9f3a"
             ],
             [
              0.8888888888888888,
              "#fdca26"
             ],
             [
              1,
              "#f0f921"
             ]
            ],
            "type": "heatmap"
           }
          ],
          "histogram": [
           {
            "marker": {
             "pattern": {
              "fillmode": "overlay",
              "size": 10,
              "solidity": 0.2
             }
            },
            "type": "histogram"
           }
          ],
          "histogram2d": [
           {
            "colorbar": {
             "outlinewidth": 0,
             "ticks": ""
            },
            "colorscale": [
             [
              0,
              "#0d0887"
             ],
             [
              0.1111111111111111,
              "#46039f"
             ],
             [
              0.2222222222222222,
              "#7201a8"
             ],
             [
              0.3333333333333333,
              "#9c179e"
             ],
             [
              0.4444444444444444,
              "#bd3786"
             ],
             [
              0.5555555555555556,
              "#d8576b"
             ],
             [
              0.6666666666666666,
              "#ed7953"
             ],
             [
              0.7777777777777778,
              "#fb9f3a"
             ],
             [
              0.8888888888888888,
              "#fdca26"
             ],
             [
              1,
              "#f0f921"
             ]
            ],
            "type": "histogram2d"
           }
          ],
          "histogram2dcontour": [
           {
            "colorbar": {
             "outlinewidth": 0,
             "ticks": ""
            },
            "colorscale": [
             [
              0,
              "#0d0887"
             ],
             [
              0.1111111111111111,
              "#46039f"
             ],
             [
              0.2222222222222222,
              "#7201a8"
             ],
             [
              0.3333333333333333,
              "#9c179e"
             ],
             [
              0.4444444444444444,
              "#bd3786"
             ],
             [
              0.5555555555555556,
              "#d8576b"
             ],
             [
              0.6666666666666666,
              "#ed7953"
             ],
             [
              0.7777777777777778,
              "#fb9f3a"
             ],
             [
              0.8888888888888888,
              "#fdca26"
             ],
             [
              1,
              "#f0f921"
             ]
            ],
            "type": "histogram2dcontour"
           }
          ],
          "mesh3d": [
           {
            "colorbar": {
             "outlinewidth": 0,
             "ticks": ""
            },
            "type": "mesh3d"
           }
          ],
          "parcoords": [
           {
            "line": {
             "colorbar": {
              "outlinewidth": 0,
              "ticks": ""
             }
            },
            "type": "parcoords"
           }
          ],
          "pie": [
           {
            "automargin": true,
            "type": "pie"
           }
          ],
          "scatter": [
           {
            "fillpattern": {
             "fillmode": "overlay",
             "size": 10,
             "solidity": 0.2
            },
            "type": "scatter"
           }
          ],
          "scatter3d": [
           {
            "line": {
             "colorbar": {
              "outlinewidth": 0,
              "ticks": ""
             }
            },
            "marker": {
             "colorbar": {
              "outlinewidth": 0,
              "ticks": ""
             }
            },
            "type": "scatter3d"
           }
          ],
          "scattercarpet": [
           {
            "marker": {
             "colorbar": {
              "outlinewidth": 0,
              "ticks": ""
             }
            },
            "type": "scattercarpet"
           }
          ],
          "scattergeo": [
           {
            "marker": {
             "colorbar": {
              "outlinewidth": 0,
              "ticks": ""
             }
            },
            "type": "scattergeo"
           }
          ],
          "scattergl": [
           {
            "marker": {
             "colorbar": {
              "outlinewidth": 0,
              "ticks": ""
             }
            },
            "type": "scattergl"
           }
          ],
          "scattermap": [
           {
            "marker": {
             "colorbar": {
              "outlinewidth": 0,
              "ticks": ""
             }
            },
            "type": "scattermap"
           }
          ],
          "scattermapbox": [
           {
            "marker": {
             "colorbar": {
              "outlinewidth": 0,
              "ticks": ""
             }
            },
            "type": "scattermapbox"
           }
          ],
          "scatterpolar": [
           {
            "marker": {
             "colorbar": {
              "outlinewidth": 0,
              "ticks": ""
             }
            },
            "type": "scatterpolar"
           }
          ],
          "scatterpolargl": [
           {
            "marker": {
             "colorbar": {
              "outlinewidth": 0,
              "ticks": ""
             }
            },
            "type": "scatterpolargl"
           }
          ],
          "scatterternary": [
           {
            "marker": {
             "colorbar": {
              "outlinewidth": 0,
              "ticks": ""
             }
            },
            "type": "scatterternary"
           }
          ],
          "surface": [
           {
            "colorbar": {
             "outlinewidth": 0,
             "ticks": ""
            },
            "colorscale": [
             [
              0,
              "#0d0887"
             ],
             [
              0.1111111111111111,
              "#46039f"
             ],
             [
              0.2222222222222222,
              "#7201a8"
             ],
             [
              0.3333333333333333,
              "#9c179e"
             ],
             [
              0.4444444444444444,
              "#bd3786"
             ],
             [
              0.5555555555555556,
              "#d8576b"
             ],
             [
              0.6666666666666666,
              "#ed7953"
             ],
             [
              0.7777777777777778,
              "#fb9f3a"
             ],
             [
              0.8888888888888888,
              "#fdca26"
             ],
             [
              1,
              "#f0f921"
             ]
            ],
            "type": "surface"
           }
          ],
          "table": [
           {
            "cells": {
             "fill": {
              "color": "#EBF0F8"
             },
             "line": {
              "color": "white"
             }
            },
            "header": {
             "fill": {
              "color": "#C8D4E3"
             },
             "line": {
              "color": "white"
             }
            },
            "type": "table"
           }
          ]
         },
         "layout": {
          "annotationdefaults": {
           "arrowcolor": "#2a3f5f",
           "arrowhead": 0,
           "arrowwidth": 1
          },
          "autotypenumbers": "strict",
          "coloraxis": {
           "colorbar": {
            "outlinewidth": 0,
            "ticks": ""
           }
          },
          "colorscale": {
           "diverging": [
            [
             0,
             "#8e0152"
            ],
            [
             0.1,
             "#c51b7d"
            ],
            [
             0.2,
             "#de77ae"
            ],
            [
             0.3,
             "#f1b6da"
            ],
            [
             0.4,
             "#fde0ef"
            ],
            [
             0.5,
             "#f7f7f7"
            ],
            [
             0.6,
             "#e6f5d0"
            ],
            [
             0.7,
             "#b8e186"
            ],
            [
             0.8,
             "#7fbc41"
            ],
            [
             0.9,
             "#4d9221"
            ],
            [
             1,
             "#276419"
            ]
           ],
           "sequential": [
            [
             0,
             "#0d0887"
            ],
            [
             0.1111111111111111,
             "#46039f"
            ],
            [
             0.2222222222222222,
             "#7201a8"
            ],
            [
             0.3333333333333333,
             "#9c179e"
            ],
            [
             0.4444444444444444,
             "#bd3786"
            ],
            [
             0.5555555555555556,
             "#d8576b"
            ],
            [
             0.6666666666666666,
             "#ed7953"
            ],
            [
             0.7777777777777778,
             "#fb9f3a"
            ],
            [
             0.8888888888888888,
             "#fdca26"
            ],
            [
             1,
             "#f0f921"
            ]
           ],
           "sequentialminus": [
            [
             0,
             "#0d0887"
            ],
            [
             0.1111111111111111,
             "#46039f"
            ],
            [
             0.2222222222222222,
             "#7201a8"
            ],
            [
             0.3333333333333333,
             "#9c179e"
            ],
            [
             0.4444444444444444,
             "#bd3786"
            ],
            [
             0.5555555555555556,
             "#d8576b"
            ],
            [
             0.6666666666666666,
             "#ed7953"
            ],
            [
             0.7777777777777778,
             "#fb9f3a"
            ],
            [
             0.8888888888888888,
             "#fdca26"
            ],
            [
             1,
             "#f0f921"
            ]
           ]
          },
          "colorway": [
           "#636efa",
           "#EF553B",
           "#00cc96",
           "#ab63fa",
           "#FFA15A",
           "#19d3f3",
           "#FF6692",
           "#B6E880",
           "#FF97FF",
           "#FECB52"
          ],
          "font": {
           "color": "#2a3f5f"
          },
          "geo": {
           "bgcolor": "white",
           "lakecolor": "white",
           "landcolor": "#E5ECF6",
           "showlakes": true,
           "showland": true,
           "subunitcolor": "white"
          },
          "hoverlabel": {
           "align": "left"
          },
          "hovermode": "closest",
          "mapbox": {
           "style": "light"
          },
          "paper_bgcolor": "white",
          "plot_bgcolor": "#E5ECF6",
          "polar": {
           "angularaxis": {
            "gridcolor": "white",
            "linecolor": "white",
            "ticks": ""
           },
           "bgcolor": "#E5ECF6",
           "radialaxis": {
            "gridcolor": "white",
            "linecolor": "white",
            "ticks": ""
           }
          },
          "scene": {
           "xaxis": {
            "backgroundcolor": "#E5ECF6",
            "gridcolor": "white",
            "gridwidth": 2,
            "linecolor": "white",
            "showbackground": true,
            "ticks": "",
            "zerolinecolor": "white"
           },
           "yaxis": {
            "backgroundcolor": "#E5ECF6",
            "gridcolor": "white",
            "gridwidth": 2,
            "linecolor": "white",
            "showbackground": true,
            "ticks": "",
            "zerolinecolor": "white"
           },
           "zaxis": {
            "backgroundcolor": "#E5ECF6",
            "gridcolor": "white",
            "gridwidth": 2,
            "linecolor": "white",
            "showbackground": true,
            "ticks": "",
            "zerolinecolor": "white"
           }
          },
          "shapedefaults": {
           "line": {
            "color": "#2a3f5f"
           }
          },
          "ternary": {
           "aaxis": {
            "gridcolor": "white",
            "linecolor": "white",
            "ticks": ""
           },
           "baxis": {
            "gridcolor": "white",
            "linecolor": "white",
            "ticks": ""
           },
           "bgcolor": "#E5ECF6",
           "caxis": {
            "gridcolor": "white",
            "linecolor": "white",
            "ticks": ""
           }
          },
          "title": {
           "x": 0.05
          },
          "xaxis": {
           "automargin": true,
           "gridcolor": "white",
           "linecolor": "white",
           "ticks": "",
           "title": {
            "standoff": 15
           },
           "zerolinecolor": "white",
           "zerolinewidth": 2
          },
          "yaxis": {
           "automargin": true,
           "gridcolor": "white",
           "linecolor": "white",
           "ticks": "",
           "title": {
            "standoff": 15
           },
           "zerolinecolor": "white",
           "zerolinewidth": 2
          }
         }
        },
        "xaxis": {
         "anchor": "y",
         "domain": [
          0,
          1
         ],
         "title": {
          "text": "Progesterone_Status"
         }
        },
        "yaxis": {
         "anchor": "x",
         "domain": [
          0,
          1
         ],
         "title": {
          "text": "count"
         }
        }
       }
      }
     },
     "metadata": {},
     "output_type": "display_data"
    }
   ],
   "source": [
    "Progesterone_Status = px.histogram(df, x=\"Progesterone_Status\")\n",
    "Progesterone_Status.show()"
   ]
  },
  {
   "cell_type": "code",
   "execution_count": 368,
   "metadata": {},
   "outputs": [
    {
     "data": {
      "application/vnd.plotly.v1+json": {
       "config": {
        "plotlyServerURL": "https://plot.ly"
       },
       "data": [
        {
         "bingroup": "x",
         "hovertemplate": "Estrogen_Status=%{x}<br>count=%{y}<extra></extra>",
         "legendgroup": "",
         "marker": {
          "color": "#636efa",
          "pattern": {
           "shape": ""
          }
         },
         "name": "",
         "orientation": "v",
         "showlegend": false,
         "type": "histogram",
         "x": [
          "Positive",
          "Positive",
          "Positive",
          "Positive",
          "Positive",
          "Positive",
          "Positive",
          "Positive",
          "Positive",
          "Positive",
          "Positive",
          "Negative",
          "Positive",
          "Positive",
          "Positive",
          "Positive",
          "Positive",
          "Positive",
          "Positive",
          "Negative",
          "Positive",
          "Positive",
          "Positive",
          "Positive",
          "Positive",
          "Positive",
          "Positive",
          "Positive",
          "Positive",
          "Positive",
          "Positive",
          "Positive",
          "Positive",
          "Positive",
          "Positive",
          "Positive",
          "Positive",
          "Positive",
          "Positive",
          "Positive",
          "Positive",
          "Positive",
          "Positive",
          "Positive",
          "Positive",
          "Positive",
          "Negative",
          "Positive",
          "Positive",
          "Positive",
          "Positive",
          "Positive",
          "Positive",
          "Positive",
          "Positive",
          "Positive",
          "Positive",
          "Positive",
          "Positive",
          "Positive",
          "Positive",
          "Positive",
          "Positive",
          "Positive",
          "Positive",
          "Positive",
          "Positive",
          "Positive",
          "Positive",
          "Positive",
          "Positive",
          "Positive",
          "Positive",
          "Positive",
          "Positive",
          "Positive",
          "Positive",
          "Positive",
          "Positive",
          "Positive",
          "Positive",
          "Positive",
          "Positive",
          "Positive",
          "Positive",
          "Negative",
          "Positive",
          "Positive",
          "Positive",
          "Positive",
          "Positive",
          "Positive",
          "Positive",
          "Positive",
          "Positive",
          "Positive",
          "Positive",
          "Positive",
          "Positive",
          "Positive",
          "Positive",
          "Positive",
          "Positive",
          "Positive",
          "Positive",
          "Positive",
          "Positive",
          "Positive",
          "Positive",
          "Positive",
          "Positive",
          "Positive",
          "Positive",
          "Positive",
          "Positive",
          "Positive",
          "Positive",
          "Positive",
          "Positive",
          "Positive",
          "Positive",
          "Positive",
          "Positive",
          "Positive",
          "Positive",
          "Positive",
          "Positive",
          "Positive",
          "Positive",
          "Positive",
          "Positive",
          "Negative",
          "Positive",
          "Positive",
          "Positive",
          "Positive",
          "Positive",
          "Positive",
          "Positive",
          "Positive",
          "Positive",
          "Positive",
          "Positive",
          "Positive",
          "Positive",
          "Positive",
          "Positive",
          "Positive",
          "Positive",
          "Positive",
          "Positive",
          "Positive",
          "Negative",
          "Positive",
          "Positive",
          "Positive",
          "Negative",
          "Positive",
          "Negative",
          "Positive",
          "Positive",
          "Positive",
          "Positive",
          "Positive",
          "Positive",
          "Positive",
          "Positive",
          "Positive",
          "Positive",
          "Positive",
          "Positive",
          "Positive",
          "Positive",
          "Positive",
          "Positive",
          "Positive",
          "Positive",
          "Positive",
          "Positive",
          "Positive",
          "Positive",
          "Positive",
          "Positive",
          "Positive",
          "Positive",
          "Positive",
          "Positive",
          "Positive",
          "Positive",
          "Positive",
          "Positive",
          "Positive",
          "Positive",
          "Positive",
          "Positive",
          "Positive",
          "Positive",
          "Positive",
          "Positive",
          "Positive",
          "Positive",
          "Positive",
          "Positive",
          "Positive",
          "Positive",
          "Positive",
          "Positive",
          "Positive",
          "Positive",
          "Positive",
          "Positive",
          "Positive",
          "Positive",
          "Positive",
          "Positive",
          "Negative",
          "Positive",
          "Positive",
          "Positive",
          "Negative",
          "Negative",
          "Positive",
          "Positive",
          "Positive",
          "Positive",
          "Positive",
          "Positive",
          "Positive",
          "Positive",
          "Positive",
          "Positive",
          "Positive",
          "Positive",
          "Positive",
          "Positive",
          "Positive",
          "Positive",
          "Positive",
          "Negative",
          "Positive",
          "Positive",
          "Positive",
          "Positive",
          "Positive",
          "Positive",
          "Negative",
          "Positive",
          "Negative",
          "Positive",
          "Positive",
          "Positive",
          "Positive",
          "Positive",
          "Positive",
          "Positive",
          "Positive",
          "Positive",
          "Positive",
          "Positive",
          "Positive",
          "Positive",
          "Positive",
          "Positive",
          "Positive",
          "Positive",
          "Positive",
          "Positive",
          "Positive",
          "Positive",
          "Positive",
          "Positive",
          "Positive",
          "Positive",
          "Positive",
          "Positive",
          "Negative",
          "Positive",
          "Positive",
          "Positive",
          "Positive",
          "Positive",
          "Positive",
          "Positive",
          "Positive",
          "Positive",
          "Positive",
          "Positive",
          "Positive",
          "Positive",
          "Positive",
          "Positive",
          "Positive",
          "Positive",
          "Positive",
          "Positive",
          "Positive",
          "Positive",
          "Positive",
          "Positive",
          "Positive",
          "Positive",
          "Positive",
          "Positive",
          "Positive",
          "Positive",
          "Negative",
          "Positive",
          "Positive",
          "Positive",
          "Positive",
          "Positive",
          "Positive",
          "Positive",
          "Positive",
          "Positive",
          "Positive",
          "Positive",
          "Positive",
          "Positive",
          "Positive",
          "Positive",
          "Positive",
          "Positive",
          "Negative",
          "Positive",
          "Positive",
          "Positive",
          "Positive",
          "Positive",
          "Positive",
          "Positive",
          "Negative",
          "Positive",
          "Positive",
          "Positive",
          "Positive",
          "Positive",
          "Positive",
          "Positive",
          "Positive",
          "Positive",
          "Positive",
          "Positive",
          "Positive",
          "Positive",
          "Positive",
          "Positive",
          "Positive",
          "Positive",
          "Positive",
          "Positive",
          "Positive",
          "Positive",
          "Negative",
          "Positive",
          "Positive",
          "Positive",
          "Positive",
          "Positive",
          "Positive",
          "Positive",
          "Positive",
          "Negative",
          "Positive",
          "Positive",
          "Positive",
          "Positive",
          "Positive",
          "Positive",
          "Positive",
          "Positive",
          "Positive",
          "Positive",
          "Positive",
          "Positive",
          "Negative",
          "Positive",
          "Positive",
          "Positive",
          "Positive",
          "Positive",
          "Positive",
          "Positive",
          "Positive",
          "Positive",
          "Positive",
          "Positive",
          "Positive",
          "Positive",
          "Negative",
          "Positive",
          "Positive",
          "Positive",
          "Positive",
          "Negative",
          "Positive",
          "Positive",
          "Positive",
          "Negative",
          "Positive",
          "Positive",
          "Positive",
          "Positive",
          "Positive",
          "Positive",
          "Positive",
          "Positive",
          "Positive",
          "Positive",
          "Positive",
          "Positive",
          "Positive",
          "Positive",
          "Positive",
          "Positive",
          "Positive",
          "Positive",
          "Positive",
          "Positive",
          "Positive",
          "Positive",
          "Negative",
          "Positive",
          "Positive",
          "Positive",
          "Positive",
          "Positive",
          "Positive",
          "Positive",
          "Positive",
          "Positive",
          "Positive",
          "Positive",
          "Positive",
          "Positive",
          "Negative",
          "Positive",
          "Positive",
          "Positive",
          "Positive",
          "Positive",
          "Positive",
          "Positive",
          "Positive",
          "Positive",
          "Positive",
          "Positive",
          "Positive",
          "Positive",
          "Negative",
          "Positive",
          "Positive",
          "Positive",
          "Positive",
          "Positive",
          "Negative",
          "Positive",
          "Positive",
          "Positive",
          "Positive",
          "Positive",
          "Positive",
          "Positive",
          "Positive",
          "Positive",
          "Positive",
          "Positive",
          "Positive",
          "Positive",
          "Positive",
          "Positive",
          "Positive",
          "Positive",
          "Positive",
          "Positive",
          "Positive",
          "Positive",
          "Positive",
          "Positive",
          "Positive",
          "Positive",
          "Positive",
          "Positive",
          "Positive",
          "Positive",
          "Positive",
          "Positive",
          "Positive",
          "Negative",
          "Positive",
          "Positive",
          "Positive",
          "Positive",
          "Positive",
          "Positive",
          "Positive",
          "Positive",
          "Positive",
          "Positive",
          "Positive",
          "Positive",
          "Positive",
          "Positive",
          "Negative",
          "Positive",
          "Positive",
          "Positive",
          "Positive",
          "Positive",
          "Positive",
          "Positive",
          "Positive",
          "Positive",
          "Positive",
          "Positive",
          "Positive",
          "Positive",
          "Positive",
          "Positive",
          "Positive",
          "Positive",
          "Positive",
          "Positive",
          "Positive",
          "Positive",
          "Positive",
          "Positive",
          "Positive",
          "Positive",
          "Positive",
          "Positive",
          "Positive",
          "Positive",
          "Positive",
          "Positive",
          "Negative",
          "Positive",
          "Positive",
          "Positive",
          "Positive",
          "Positive",
          "Positive",
          "Positive",
          "Positive",
          "Positive",
          "Positive",
          "Positive",
          "Positive",
          "Positive",
          "Negative",
          "Positive",
          "Positive",
          "Positive",
          "Positive",
          "Positive",
          "Positive",
          "Positive",
          "Positive",
          "Positive",
          "Positive",
          "Positive",
          "Positive",
          "Positive",
          "Positive",
          "Positive",
          "Negative",
          "Positive",
          "Positive",
          "Positive",
          "Positive",
          "Positive",
          "Positive",
          "Positive",
          "Positive",
          "Positive",
          "Positive",
          "Positive",
          "Positive",
          "Positive",
          "Positive",
          "Positive",
          "Positive",
          "Positive",
          "Positive",
          "Positive",
          "Positive",
          "Positive",
          "Positive",
          "Positive",
          "Positive",
          "Positive",
          "Positive",
          "Positive",
          "Positive",
          "Positive",
          "Positive",
          "Positive",
          "Positive",
          "Positive",
          "Positive",
          "Positive",
          "Positive",
          "Positive",
          "Positive",
          "Negative",
          "Positive",
          "Positive",
          "Positive",
          "Positive",
          "Positive",
          "Positive",
          "Positive",
          "Positive",
          "Positive",
          "Positive",
          "Positive",
          "Positive",
          "Positive",
          "Positive",
          "Positive",
          "Positive",
          "Positive",
          "Positive",
          "Positive",
          "Negative",
          "Positive",
          "Positive",
          "Positive",
          "Positive",
          "Positive",
          "Positive",
          "Negative",
          "Positive",
          "Negative",
          "Positive",
          "Positive",
          "Positive",
          "Positive",
          "Positive",
          "Positive",
          "Positive",
          "Positive",
          "Positive",
          "Positive",
          "Positive",
          "Positive",
          "Negative",
          "Positive",
          "Positive",
          "Negative",
          "Positive",
          "Positive",
          "Positive",
          "Positive",
          "Negative",
          "Positive",
          "Positive",
          "Positive",
          "Positive",
          "Negative",
          "Positive",
          "Positive",
          "Positive",
          "Negative",
          "Positive",
          "Positive",
          "Positive",
          "Positive",
          "Positive",
          "Positive",
          "Positive",
          "Positive",
          "Positive",
          "Positive",
          "Positive",
          "Positive",
          "Positive",
          "Positive",
          "Positive",
          "Positive",
          "Positive",
          "Positive",
          "Positive",
          "Positive",
          "Positive",
          "Positive",
          "Positive",
          "Positive",
          "Positive",
          "Positive",
          "Positive",
          "Positive",
          "Positive",
          "Positive",
          "Negative",
          "Positive",
          "Positive",
          "Positive",
          "Positive",
          "Positive",
          "Positive",
          "Positive",
          "Positive",
          "Positive",
          "Positive",
          "Positive",
          "Positive",
          "Positive",
          "Positive",
          "Positive",
          "Positive",
          "Positive",
          "Positive",
          "Positive",
          "Positive",
          "Positive",
          "Positive",
          "Positive",
          "Positive",
          "Positive",
          "Positive",
          "Positive",
          "Negative",
          "Positive",
          "Positive",
          "Positive",
          "Positive",
          "Positive",
          "Positive",
          "Positive",
          "Negative",
          "Positive",
          "Positive",
          "Positive",
          "Positive",
          "Positive",
          "Positive",
          "Positive",
          "Positive",
          "Positive",
          "Positive",
          "Positive",
          "Positive",
          "Positive",
          "Positive",
          "Positive",
          "Positive",
          "Positive",
          "Positive",
          "Positive",
          "Positive",
          "Positive",
          "Positive",
          "Positive",
          "Positive",
          "Positive",
          "Positive",
          "Positive",
          "Positive",
          "Positive",
          "Positive",
          "Positive",
          "Positive",
          "Positive",
          "Positive",
          "Positive",
          "Positive",
          "Positive",
          "Positive",
          "Positive",
          "Positive",
          "Positive",
          "Positive",
          "Positive",
          "Positive",
          "Positive",
          "Positive",
          "Positive",
          "Positive",
          "Positive",
          "Positive",
          "Positive",
          "Positive",
          "Positive",
          "Positive",
          "Positive",
          "Positive",
          "Negative",
          "Positive",
          "Positive",
          "Positive",
          "Positive",
          "Positive",
          "Positive",
          "Positive",
          "Positive",
          "Positive",
          "Positive",
          "Positive",
          "Positive",
          "Positive",
          "Negative",
          "Positive",
          "Positive",
          "Positive",
          "Negative",
          "Positive",
          "Positive",
          "Positive",
          "Negative",
          "Positive",
          "Positive",
          "Positive",
          "Positive",
          "Positive",
          "Positive",
          "Positive",
          "Positive",
          "Positive",
          "Negative",
          "Positive",
          "Positive",
          "Positive",
          "Positive",
          "Positive",
          "Positive",
          "Positive",
          "Positive",
          "Positive",
          "Positive",
          "Positive",
          "Positive",
          "Positive",
          "Positive",
          "Positive",
          "Positive",
          "Positive",
          "Positive",
          "Positive",
          "Positive",
          "Positive",
          "Positive",
          "Positive",
          "Positive",
          "Positive",
          "Positive",
          "Negative",
          "Positive",
          "Positive",
          "Positive",
          "Positive",
          "Positive",
          "Positive",
          "Positive",
          "Positive",
          "Positive",
          "Positive",
          "Positive",
          "Positive",
          "Positive",
          "Positive",
          "Positive",
          "Positive",
          "Positive",
          "Positive",
          "Positive",
          "Negative",
          "Positive",
          "Positive",
          "Positive",
          "Positive",
          "Positive",
          "Positive",
          "Positive",
          "Positive",
          "Positive",
          "Positive",
          "Negative",
          "Positive",
          "Positive",
          "Positive",
          "Positive",
          "Positive",
          "Positive",
          "Positive",
          "Positive",
          "Positive",
          "Positive",
          "Positive",
          "Positive",
          "Positive",
          "Positive",
          "Positive",
          "Positive",
          "Positive",
          "Positive",
          "Positive",
          "Negative",
          "Positive",
          "Positive",
          "Positive",
          "Positive",
          "Positive",
          "Positive",
          "Positive",
          "Positive",
          "Positive",
          "Positive",
          "Negative",
          "Positive",
          "Positive",
          "Positive",
          "Positive",
          "Positive",
          "Positive",
          "Positive",
          "Positive",
          "Positive",
          "Positive",
          "Negative",
          "Positive",
          "Positive",
          "Positive",
          "Positive",
          "Positive",
          "Positive",
          "Positive",
          "Positive",
          "Positive",
          "Positive",
          "Positive",
          "Positive",
          "Negative",
          "Positive",
          "Positive",
          "Positive",
          "Positive",
          "Positive",
          "Negative",
          "Positive",
          "Positive",
          "Positive",
          "Positive",
          "Positive",
          "Positive",
          "Positive",
          "Positive",
          "Positive",
          "Positive",
          "Negative",
          "Positive",
          "Positive",
          "Positive",
          "Positive",
          "Positive",
          "Positive",
          "Positive",
          "Positive",
          "Positive",
          "Positive",
          "Positive",
          "Positive",
          "Positive",
          "Positive",
          "Positive",
          "Positive",
          "Positive",
          "Positive",
          "Negative",
          "Positive",
          "Positive",
          "Positive",
          "Positive",
          "Negative",
          "Negative",
          "Positive",
          "Positive",
          "Positive",
          "Positive",
          "Positive",
          "Positive",
          "Positive",
          "Positive",
          "Positive",
          "Negative",
          "Positive",
          "Negative",
          "Positive",
          "Positive",
          "Positive",
          "Positive",
          "Positive",
          "Positive",
          "Positive",
          "Positive",
          "Negative",
          "Positive",
          "Positive",
          "Positive",
          "Positive",
          "Positive",
          "Positive",
          "Positive",
          "Positive",
          "Positive",
          "Positive",
          "Positive",
          "Positive",
          "Positive",
          "Negative",
          "Positive",
          "Positive",
          "Positive",
          "Negative",
          "Positive",
          "Negative",
          "Positive",
          "Positive",
          "Positive",
          "Positive",
          "Positive",
          "Positive",
          "Positive",
          "Negative",
          "Positive",
          "Positive",
          "Positive",
          "Positive",
          "Positive",
          "Positive",
          "Positive",
          "Positive",
          "Positive",
          "Negative",
          "Positive",
          "Negative",
          "Positive",
          "Positive",
          "Positive",
          "Positive",
          "Positive",
          "Positive",
          "Positive",
          "Positive",
          "Positive",
          "Positive",
          "Negative",
          "Positive",
          "Positive",
          "Positive",
          "Positive",
          "Positive",
          "Positive",
          "Negative",
          "Positive",
          "Positive",
          "Positive",
          "Positive",
          "Positive",
          "Positive",
          "Positive",
          "Positive",
          "Positive",
          "Negative",
          "Positive",
          "Positive",
          "Positive",
          "Positive",
          "Positive",
          "Positive",
          "Positive",
          "Positive",
          "Positive",
          "Positive",
          "Positive",
          "Positive",
          "Negative",
          "Negative",
          "Positive",
          "Positive",
          "Positive",
          "Positive",
          "Positive",
          "Positive",
          "Positive",
          "Positive",
          "Positive",
          "Positive",
          "Negative",
          "Positive",
          "Negative",
          "Positive",
          "Positive",
          "Positive",
          "Positive",
          "Positive",
          "Positive",
          "Positive",
          "Positive",
          "Positive",
          "Positive",
          "Positive",
          "Positive",
          "Positive",
          "Positive",
          "Positive",
          "Negative",
          "Positive",
          "Positive",
          "Positive",
          "Positive",
          "Positive",
          "Positive",
          "Positive",
          "Positive",
          "Negative",
          "Positive",
          "Positive",
          "Positive",
          "Positive",
          "Positive",
          "Positive",
          "Positive",
          "Positive",
          "Positive",
          "Positive",
          "Positive",
          "Positive",
          "Positive",
          "Positive",
          "Negative",
          "Positive",
          "Negative",
          "Positive",
          "Positive",
          "Positive",
          "Positive",
          "Negative",
          "Positive",
          "Negative",
          "Positive",
          "Positive",
          "Positive",
          "Positive",
          "Positive",
          "Negative",
          "Positive",
          "Positive",
          "Positive",
          "Positive",
          "Positive",
          "Positive",
          "Positive",
          "Positive",
          "Positive",
          "Positive",
          "Positive",
          "Positive",
          "Positive",
          "Positive",
          "Positive",
          "Positive",
          "Positive",
          "Positive",
          "Positive",
          "Positive",
          "Positive",
          "Positive",
          "Positive",
          "Positive",
          "Positive",
          "Positive",
          "Positive",
          "Positive",
          "Positive",
          "Positive",
          "Positive",
          "Positive",
          "Positive",
          "Positive",
          "Negative",
          "Positive",
          "Positive",
          "Positive",
          "Positive",
          "Positive",
          "Positive",
          "Positive",
          "Positive",
          "Positive",
          "Positive",
          "Positive",
          "Positive",
          "Positive",
          "Negative",
          "Positive",
          "Negative",
          "Positive",
          "Positive",
          "Positive",
          "Positive",
          "Positive",
          "Positive",
          "Negative",
          "Positive",
          "Positive",
          "Positive",
          "Positive",
          "Positive",
          "Positive",
          "Positive",
          "Negative",
          "Negative",
          "Positive",
          "Negative",
          "Positive",
          "Positive",
          "Positive",
          "Positive",
          "Positive",
          "Positive",
          "Positive",
          "Positive",
          "Positive",
          "Positive",
          "Positive",
          "Positive",
          "Positive",
          "Positive",
          "Positive",
          "Positive",
          "Positive",
          "Positive",
          "Positive",
          "Positive",
          "Negative",
          "Positive",
          "Positive",
          "Positive",
          "Positive",
          "Negative",
          "Positive",
          "Positive",
          "Positive",
          "Positive",
          "Positive",
          "Negative",
          "Positive",
          "Positive",
          "Positive",
          "Positive",
          "Positive",
          "Negative",
          "Positive",
          "Positive",
          "Positive",
          "Positive",
          "Positive",
          "Positive",
          "Positive",
          "Positive",
          "Positive",
          "Positive",
          "Positive",
          "Positive",
          "Negative",
          "Positive",
          "Negative",
          "Positive",
          "Positive",
          "Positive",
          "Positive",
          "Positive",
          "Positive",
          "Positive",
          "Positive",
          "Positive",
          "Positive",
          "Positive",
          "Positive",
          "Positive",
          "Positive",
          "Positive",
          "Positive",
          "Positive",
          "Positive",
          "Positive",
          "Positive",
          "Positive",
          "Negative",
          "Positive",
          "Positive",
          "Positive",
          "Positive",
          "Positive",
          "Positive",
          "Positive",
          "Positive",
          "Positive",
          "Positive",
          "Positive",
          "Positive",
          "Positive",
          "Positive",
          "Positive",
          "Positive",
          "Positive",
          "Positive",
          "Positive",
          "Positive",
          "Positive",
          "Positive",
          "Positive",
          "Positive",
          "Positive",
          "Positive",
          "Positive",
          "Negative",
          "Positive",
          "Positive",
          "Positive",
          "Positive",
          "Negative",
          "Positive",
          "Positive",
          "Positive",
          "Positive",
          "Positive",
          "Positive",
          "Positive",
          "Positive",
          "Positive",
          "Positive",
          "Positive",
          "Positive",
          "Positive",
          "Positive",
          "Positive",
          "Positive",
          "Positive",
          "Positive",
          "Positive",
          "Positive",
          "Positive",
          "Positive",
          "Positive",
          "Positive",
          "Positive",
          "Positive",
          "Positive",
          "Negative",
          "Positive",
          "Positive",
          "Negative",
          "Positive",
          "Positive",
          "Positive",
          "Positive",
          "Positive",
          "Positive",
          "Positive",
          "Positive",
          "Positive",
          "Positive",
          "Positive",
          "Positive",
          "Positive",
          "Positive",
          "Positive",
          "Positive",
          "Positive",
          "Positive",
          "Positive",
          "Positive",
          "Positive",
          "Positive",
          "Positive",
          "Positive",
          "Negative",
          "Positive",
          "Positive",
          "Negative",
          "Positive",
          "Positive",
          "Positive",
          "Positive",
          "Positive",
          "Positive",
          "Positive",
          "Positive",
          "Positive",
          "Positive",
          "Positive",
          "Positive",
          "Positive",
          "Positive",
          "Positive",
          "Positive",
          "Positive",
          "Positive",
          "Positive",
          "Positive",
          "Positive",
          "Positive",
          "Positive",
          "Positive",
          "Positive",
          "Positive",
          "Positive",
          "Positive",
          "Positive",
          "Negative",
          "Positive",
          "Positive",
          "Positive",
          "Positive",
          "Positive",
          "Positive",
          "Positive",
          "Positive",
          "Positive",
          "Positive",
          "Positive",
          "Positive",
          "Positive",
          "Positive",
          "Positive",
          "Positive",
          "Positive",
          "Positive",
          "Positive",
          "Positive",
          "Positive",
          "Positive",
          "Positive",
          "Positive",
          "Positive",
          "Positive",
          "Positive",
          "Positive",
          "Positive",
          "Negative",
          "Negative",
          "Negative",
          "Positive",
          "Positive",
          "Positive",
          "Positive",
          "Positive",
          "Positive",
          "Positive",
          "Positive",
          "Positive",
          "Positive",
          "Positive",
          "Positive",
          "Positive",
          "Positive",
          "Positive",
          "Positive",
          "Positive",
          "Positive",
          "Positive",
          "Positive",
          "Positive",
          "Positive",
          "Positive",
          "Positive",
          "Positive",
          "Positive",
          "Positive",
          "Positive",
          "Positive",
          "Negative",
          "Positive",
          "Negative",
          "Positive",
          "Positive",
          "Positive",
          "Positive",
          "Positive",
          "Positive",
          "Positive",
          "Positive",
          "Positive",
          "Positive",
          "Positive",
          "Positive",
          "Positive",
          "Positive",
          "Positive",
          "Positive",
          "Positive",
          "Positive",
          "Positive",
          "Positive",
          "Positive",
          "Positive",
          "Positive",
          "Positive",
          "Positive",
          "Positive",
          "Positive",
          "Positive",
          "Positive",
          "Positive",
          "Positive",
          "Positive",
          "Positive",
          "Positive",
          "Positive",
          "Positive",
          "Positive",
          "Positive",
          "Positive",
          "Positive",
          "Positive",
          "Positive",
          "Positive",
          "Positive",
          "Positive",
          "Positive",
          "Positive",
          "Positive",
          "Positive",
          "Positive",
          "Negative",
          "Positive",
          "Positive",
          "Positive",
          "Positive",
          "Positive",
          "Positive",
          "Positive",
          "Positive",
          "Positive",
          "Positive",
          "Positive",
          "Positive",
          "Negative",
          "Positive",
          "Positive",
          "Positive",
          "Positive",
          "Positive",
          "Positive",
          "Positive",
          "Positive",
          "Positive",
          "Positive",
          "Positive",
          "Positive",
          "Positive",
          "Positive",
          "Positive",
          "Positive",
          "Positive",
          "Positive",
          "Positive",
          "Positive",
          "Negative",
          "Positive",
          "Negative",
          "Negative",
          "Positive",
          "Positive",
          "Negative",
          "Positive",
          "Positive",
          "Negative",
          "Positive",
          "Positive",
          "Positive",
          "Positive",
          "Positive",
          "Negative",
          "Positive",
          "Positive",
          "Positive",
          "Positive",
          "Positive",
          "Positive",
          "Positive",
          "Positive",
          "Positive",
          "Positive",
          "Positive",
          "Positive",
          "Positive",
          "Negative",
          "Positive",
          "Positive",
          "Positive",
          "Positive",
          "Positive",
          "Positive",
          "Positive",
          "Positive",
          "Positive",
          "Positive",
          "Positive",
          "Positive",
          "Positive",
          "Positive",
          "Positive",
          "Positive",
          "Positive",
          "Positive",
          "Positive",
          "Positive",
          "Positive",
          "Positive",
          "Positive",
          "Positive",
          "Positive",
          "Positive",
          "Negative",
          "Positive",
          "Positive",
          "Positive",
          "Positive",
          "Positive",
          "Negative",
          "Positive",
          "Positive",
          "Positive",
          "Positive",
          "Positive",
          "Negative",
          "Positive",
          "Positive",
          "Positive",
          "Positive",
          "Negative",
          "Positive",
          "Positive",
          "Positive",
          "Positive",
          "Negative",
          "Positive",
          "Positive",
          "Positive",
          "Positive",
          "Positive",
          "Positive",
          "Positive",
          "Positive",
          "Positive",
          "Positive",
          "Positive",
          "Positive",
          "Positive",
          "Positive",
          "Positive",
          "Positive",
          "Positive",
          "Positive",
          "Positive",
          "Positive",
          "Positive",
          "Positive",
          "Positive",
          "Positive",
          "Positive",
          "Positive",
          "Positive",
          "Positive",
          "Positive",
          "Positive",
          "Positive",
          "Positive",
          "Positive",
          "Positive",
          "Positive",
          "Positive",
          "Positive",
          "Positive",
          "Positive",
          "Positive",
          "Positive",
          "Positive",
          "Positive",
          "Positive",
          "Positive",
          "Positive",
          "Positive",
          "Positive",
          "Positive",
          "Positive",
          "Positive",
          "Positive",
          "Positive",
          "Positive",
          "Positive",
          "Positive",
          "Positive",
          "Positive",
          "Positive",
          "Positive",
          "Positive",
          "Positive",
          "Positive",
          "Positive",
          "Positive",
          "Positive",
          "Positive",
          "Positive",
          "Positive",
          "Positive",
          "Positive",
          "Positive",
          "Positive",
          "Positive",
          "Positive",
          "Positive",
          "Positive",
          "Negative",
          "Positive",
          "Positive",
          "Positive",
          "Positive",
          "Positive",
          "Positive",
          "Positive",
          "Positive",
          "Positive",
          "Positive",
          "Positive",
          "Positive",
          "Positive",
          "Positive",
          "Positive",
          "Positive",
          "Positive",
          "Positive",
          "Positive",
          "Positive",
          "Negative",
          "Positive",
          "Negative",
          "Positive",
          "Positive",
          "Positive",
          "Positive",
          "Positive",
          "Positive",
          "Positive",
          "Positive",
          "Positive",
          "Positive",
          "Positive",
          "Positive",
          "Positive",
          "Positive",
          "Negative",
          "Positive",
          "Positive",
          "Positive",
          "Positive",
          "Positive",
          "Positive",
          "Positive",
          "Positive",
          "Positive",
          "Positive",
          "Positive",
          "Positive",
          "Positive",
          "Positive",
          "Positive",
          "Positive",
          "Positive",
          "Positive",
          "Positive",
          "Positive",
          "Positive",
          "Positive",
          "Positive",
          "Positive",
          "Positive",
          "Negative",
          "Positive",
          "Positive",
          "Positive",
          "Positive",
          "Positive",
          "Positive",
          "Positive",
          "Positive",
          "Positive",
          "Positive",
          "Positive",
          "Positive",
          "Positive",
          "Positive",
          "Positive",
          "Negative",
          "Positive",
          "Positive",
          "Positive",
          "Positive",
          "Positive",
          "Positive",
          "Positive",
          "Positive",
          "Positive",
          "Positive",
          "Negative",
          "Positive",
          "Positive",
          "Positive",
          "Negative",
          "Positive",
          "Positive",
          "Positive",
          "Positive",
          "Positive",
          "Positive",
          "Positive",
          "Positive",
          "Positive",
          "Positive",
          "Positive",
          "Positive",
          "Positive",
          "Positive",
          "Negative",
          "Positive",
          "Negative",
          "Positive",
          "Positive",
          "Positive",
          "Positive",
          "Positive",
          "Positive",
          "Positive",
          "Positive",
          "Positive",
          "Negative",
          "Positive",
          "Positive",
          "Positive",
          "Positive",
          "Negative",
          "Positive",
          "Negative",
          "Positive",
          "Positive",
          "Positive",
          "Positive",
          "Positive",
          "Positive",
          "Positive",
          "Positive",
          "Positive",
          "Positive",
          "Positive",
          "Positive",
          "Positive",
          "Positive",
          "Positive",
          "Negative",
          "Positive",
          "Positive",
          "Positive",
          "Positive",
          "Positive",
          "Positive",
          "Positive",
          "Positive",
          "Positive",
          "Positive",
          "Positive",
          "Positive",
          "Positive",
          "Positive",
          "Positive",
          "Positive",
          "Positive",
          "Positive",
          "Positive",
          "Positive",
          "Positive",
          "Positive",
          "Positive",
          "Positive",
          "Positive",
          "Positive",
          "Negative",
          "Positive",
          "Positive",
          "Positive",
          "Positive",
          "Positive",
          "Positive",
          "Positive",
          "Positive",
          "Positive",
          "Positive",
          "Positive",
          "Positive",
          "Positive",
          "Positive",
          "Positive",
          "Positive",
          "Positive",
          "Positive",
          "Positive",
          "Positive",
          "Positive",
          "Positive",
          "Positive",
          "Positive",
          "Positive",
          "Positive",
          "Positive",
          "Positive",
          "Positive",
          "Positive",
          "Positive",
          "Positive",
          "Positive",
          "Positive",
          "Positive",
          "Positive",
          "Positive",
          "Positive",
          "Positive",
          "Positive",
          "Positive",
          "Positive",
          "Positive",
          "Positive",
          "Positive",
          "Positive",
          "Positive",
          "Positive",
          "Positive",
          "Positive",
          "Positive",
          "Positive",
          "Positive",
          "Positive",
          "Positive",
          "Positive",
          "Negative",
          "Positive",
          "Positive",
          "Positive",
          "Negative",
          "Positive",
          "Positive",
          "Positive",
          "Positive",
          "Positive",
          "Positive",
          "Positive",
          "Positive",
          "Positive",
          "Positive",
          "Positive",
          "Positive",
          "Positive",
          "Positive",
          "Positive",
          "Positive",
          "Positive",
          "Positive",
          "Positive",
          "Positive",
          "Positive",
          "Positive",
          "Positive",
          "Positive",
          "Positive",
          "Positive",
          "Positive",
          "Positive",
          "Positive",
          "Positive",
          "Positive",
          "Positive",
          "Positive",
          "Positive",
          "Positive",
          "Positive",
          "Positive",
          "Negative",
          "Positive",
          "Positive",
          "Positive",
          "Positive",
          "Positive",
          "Positive",
          "Negative",
          "Positive",
          "Positive",
          "Positive",
          "Positive",
          "Positive",
          "Positive",
          "Positive",
          "Positive",
          "Positive",
          "Positive",
          "Positive",
          "Positive",
          "Positive",
          "Positive",
          "Positive",
          "Positive",
          "Positive",
          "Negative",
          "Positive",
          "Positive",
          "Positive",
          "Positive",
          "Positive",
          "Positive",
          "Positive",
          "Positive",
          "Positive",
          "Positive",
          "Negative",
          "Positive",
          "Positive",
          "Positive",
          "Positive",
          "Positive",
          "Positive",
          "Positive",
          "Positive",
          "Positive",
          "Positive",
          "Positive",
          "Positive",
          "Negative",
          "Positive",
          "Positive",
          "Positive",
          "Positive",
          "Positive",
          "Positive",
          "Positive",
          "Positive",
          "Positive",
          "Negative",
          "Positive",
          "Positive",
          "Positive",
          "Positive",
          "Positive",
          "Positive",
          "Positive",
          "Negative",
          "Positive",
          "Positive",
          "Positive",
          "Positive",
          "Positive",
          "Positive",
          "Positive",
          "Positive",
          "Positive",
          "Positive",
          "Positive",
          "Positive",
          "Positive",
          "Positive",
          "Positive",
          "Positive",
          "Positive",
          "Positive",
          "Positive",
          "Positive",
          "Positive",
          "Positive",
          "Positive",
          "Positive",
          "Positive",
          "Positive",
          "Positive",
          "Positive",
          "Positive",
          "Positive",
          "Positive",
          "Positive",
          "Positive",
          "Positive",
          "Positive",
          "Positive",
          "Positive",
          "Positive",
          "Positive",
          "Positive",
          "Positive",
          "Positive",
          "Positive",
          "Positive",
          "Negative",
          "Positive",
          "Positive",
          "Positive",
          "Positive",
          "Positive",
          "Positive",
          "Positive",
          "Positive",
          "Positive",
          "Positive",
          "Positive",
          "Positive",
          "Positive",
          "Positive",
          "Positive",
          "Positive",
          "Positive",
          "Positive",
          "Positive",
          "Positive",
          "Positive",
          "Positive",
          "Positive",
          "Positive",
          "Positive",
          "Positive",
          "Positive",
          "Positive",
          "Positive",
          "Positive",
          "Positive",
          "Positive",
          "Positive",
          "Positive",
          "Positive",
          "Positive",
          "Positive",
          "Positive",
          "Positive",
          "Positive",
          "Positive",
          "Positive",
          "Positive",
          "Positive",
          "Positive",
          "Positive",
          "Positive",
          "Positive",
          "Positive",
          "Positive",
          "Positive",
          "Positive",
          "Positive",
          "Positive",
          "Positive",
          "Positive",
          "Positive",
          "Positive",
          "Positive",
          "Positive",
          "Positive",
          "Positive",
          "Positive",
          "Positive",
          "Positive",
          "Positive",
          "Positive",
          "Positive",
          "Positive",
          "Positive",
          "Positive",
          "Positive",
          "Positive",
          "Positive",
          "Positive",
          "Positive",
          "Positive",
          "Negative",
          "Positive",
          "Positive",
          "Positive",
          "Positive",
          "Positive",
          "Positive",
          "Positive",
          "Positive",
          "Positive",
          "Negative",
          "Positive",
          "Positive",
          "Positive",
          "Positive",
          "Positive",
          "Positive",
          "Negative",
          "Positive",
          "Positive",
          "Positive",
          "Positive",
          "Positive",
          "Positive",
          "Positive",
          "Positive",
          "Positive",
          "Positive",
          "Positive",
          "Positive",
          "Positive",
          "Positive",
          "Positive",
          "Positive",
          "Positive",
          "Positive",
          "Positive",
          "Positive",
          "Positive",
          "Positive",
          "Positive",
          "Positive",
          "Positive",
          "Positive",
          "Positive",
          "Positive",
          "Positive",
          "Positive",
          "Negative",
          "Positive",
          "Positive",
          "Negative",
          "Positive",
          "Positive",
          "Positive",
          "Positive",
          "Positive",
          "Positive",
          "Positive",
          "Positive",
          "Positive",
          "Negative",
          "Positive",
          "Positive",
          "Positive",
          "Negative",
          "Positive",
          "Positive",
          "Positive",
          "Positive",
          "Positive",
          "Positive",
          "Positive",
          "Positive",
          "Positive",
          "Positive",
          "Positive",
          "Positive",
          "Positive",
          "Negative",
          "Positive",
          "Positive",
          "Positive",
          "Positive",
          "Positive",
          "Positive",
          "Positive",
          "Positive",
          "Positive",
          "Positive",
          "Positive",
          "Positive",
          "Positive",
          "Positive",
          "Positive",
          "Positive",
          "Positive",
          "Positive",
          "Positive",
          "Positive",
          "Positive",
          "Positive",
          "Positive",
          "Positive",
          "Positive",
          "Positive",
          "Positive",
          "Positive",
          "Positive",
          "Negative",
          "Negative",
          "Positive",
          "Positive",
          "Positive",
          "Positive",
          "Positive",
          "Positive",
          "Positive",
          "Positive",
          "Positive",
          "Positive",
          "Positive",
          "Positive",
          "Positive",
          "Positive",
          "Positive",
          "Positive",
          "Negative",
          "Positive",
          "Positive",
          "Positive",
          "Positive",
          "Positive",
          "Positive",
          "Positive",
          "Positive",
          "Positive",
          "Positive",
          "Positive",
          "Positive",
          "Positive",
          "Positive",
          "Positive",
          "Positive",
          "Positive",
          "Positive",
          "Positive",
          "Positive",
          "Positive",
          "Negative",
          "Positive",
          "Positive",
          "Positive",
          "Positive",
          "Positive",
          "Positive",
          "Positive",
          "Positive",
          "Positive",
          "Positive",
          "Positive",
          "Positive",
          "Positive",
          "Negative",
          "Positive",
          "Positive",
          "Positive",
          "Positive",
          "Positive",
          "Positive",
          "Positive",
          "Positive",
          "Positive",
          "Positive",
          "Positive",
          "Positive",
          "Positive",
          "Positive",
          "Positive",
          "Positive",
          "Positive",
          "Negative",
          "Positive",
          "Positive",
          "Negative",
          "Positive",
          "Positive",
          "Positive",
          "Positive",
          "Positive",
          "Positive",
          "Positive",
          "Positive",
          "Positive",
          "Positive",
          "Positive",
          "Positive",
          "Positive",
          "Positive",
          "Negative",
          "Positive",
          "Negative",
          "Positive",
          "Positive",
          "Positive",
          "Positive",
          "Positive",
          "Positive",
          "Positive",
          "Positive",
          "Positive",
          "Positive",
          "Negative",
          "Positive",
          "Positive",
          "Positive",
          "Positive",
          "Positive",
          "Positive",
          "Positive",
          "Positive",
          "Positive",
          "Positive",
          "Positive",
          "Positive",
          "Positive",
          "Positive",
          "Positive",
          "Positive",
          "Positive",
          "Positive",
          "Positive",
          "Positive",
          "Positive",
          "Positive",
          "Positive",
          "Positive",
          "Positive",
          "Positive",
          "Positive",
          "Positive",
          "Positive",
          "Positive",
          "Positive",
          "Positive",
          "Positive",
          "Negative",
          "Positive",
          "Positive",
          "Positive",
          "Positive",
          "Positive",
          "Positive",
          "Positive",
          "Positive",
          "Positive",
          "Positive",
          "Positive",
          "Positive",
          "Positive",
          "Positive",
          "Positive",
          "Positive",
          "Negative",
          "Positive",
          "Positive",
          "Positive",
          "Positive",
          "Positive",
          "Positive",
          "Positive",
          "Positive",
          "Positive",
          "Positive",
          "Positive",
          "Positive",
          "Positive",
          "Negative",
          "Positive",
          "Positive",
          "Positive",
          "Positive",
          "Positive",
          "Positive",
          "Positive",
          "Positive",
          "Positive",
          "Negative",
          "Negative",
          "Positive",
          "Positive",
          "Positive",
          "Positive",
          "Positive",
          "Positive",
          "Positive",
          "Positive",
          "Positive",
          "Positive",
          "Positive",
          "Positive",
          "Positive",
          "Positive",
          "Negative",
          "Positive",
          "Positive",
          "Positive",
          "Negative",
          "Negative",
          "Positive",
          "Positive",
          "Positive",
          "Positive",
          "Positive",
          "Positive",
          "Positive",
          "Positive",
          "Positive",
          "Negative",
          "Positive",
          "Positive",
          "Positive",
          "Positive",
          "Positive",
          "Positive",
          "Negative",
          "Positive",
          "Positive",
          "Positive",
          "Positive",
          "Positive",
          "Positive",
          "Positive",
          "Negative",
          "Positive",
          "Positive",
          "Positive",
          "Positive",
          "Positive",
          "Positive",
          "Positive",
          "Positive",
          "Positive",
          "Positive",
          "Positive",
          "Positive",
          "Positive",
          "Positive",
          "Positive",
          "Positive",
          "Positive",
          "Positive",
          "Positive",
          "Positive",
          "Negative",
          "Positive",
          "Positive",
          "Positive",
          "Positive",
          "Positive",
          "Positive",
          "Positive",
          "Positive",
          "Positive",
          "Positive",
          "Positive",
          "Positive",
          "Positive",
          "Negative",
          "Negative",
          "Positive",
          "Positive",
          "Positive",
          "Positive",
          "Positive",
          "Positive",
          "Positive",
          "Positive",
          "Positive",
          "Positive",
          "Positive",
          "Positive",
          "Positive",
          "Negative",
          "Positive",
          "Positive",
          "Positive",
          "Positive",
          "Positive",
          "Positive",
          "Positive",
          "Positive",
          "Positive",
          "Positive",
          "Positive",
          "Positive",
          "Positive",
          "Positive",
          "Positive",
          "Positive",
          "Positive",
          "Positive",
          "Positive",
          "Positive",
          "Positive",
          "Positive",
          "Positive",
          "Positive",
          "Positive",
          "Positive",
          "Positive",
          "Positive",
          "Positive",
          "Positive",
          "Positive",
          "Positive",
          "Positive",
          "Positive",
          "Positive",
          "Positive",
          "Positive",
          "Positive",
          "Positive",
          "Negative",
          "Positive",
          "Positive",
          "Positive",
          "Negative",
          "Positive",
          "Positive",
          "Positive",
          "Positive",
          "Positive",
          "Positive",
          "Positive",
          "Positive",
          "Positive",
          "Positive",
          "Positive",
          "Negative",
          "Positive",
          "Positive",
          "Positive",
          "Positive",
          "Positive",
          "Positive",
          "Positive",
          "Positive",
          "Positive",
          "Positive",
          "Positive",
          "Positive",
          "Positive",
          "Positive",
          "Positive",
          "Positive",
          "Positive",
          "Positive",
          "Positive",
          "Positive",
          "Positive",
          "Positive",
          "Positive",
          "Positive",
          "Negative",
          "Positive",
          "Positive",
          "Positive",
          "Positive",
          "Positive",
          "Positive",
          "Positive",
          "Positive",
          "Positive",
          "Positive",
          "Positive",
          "Positive",
          "Positive",
          "Positive",
          "Positive",
          "Positive",
          "Positive",
          "Positive",
          "Positive",
          "Positive",
          "Positive",
          "Positive",
          "Positive",
          "Positive",
          "Positive",
          "Positive",
          "Positive",
          "Positive",
          "Positive",
          "Positive",
          "Positive",
          "Positive",
          "Positive",
          "Positive",
          "Positive",
          "Positive",
          "Positive",
          "Positive",
          "Positive",
          "Positive",
          "Negative",
          "Positive",
          "Positive",
          "Positive",
          "Positive",
          "Positive",
          "Positive",
          "Positive",
          "Positive",
          "Positive",
          "Positive",
          "Positive",
          "Positive",
          "Positive",
          "Positive",
          "Positive",
          "Positive",
          "Positive",
          "Negative",
          "Positive",
          "Positive",
          "Positive",
          "Positive",
          "Positive",
          "Positive",
          "Positive",
          "Positive",
          "Positive",
          "Positive",
          "Positive",
          "Positive",
          "Positive",
          "Negative",
          "Positive",
          "Positive",
          "Positive",
          "Positive",
          "Positive",
          "Positive",
          "Positive",
          "Positive",
          "Positive",
          "Positive",
          "Positive",
          "Positive",
          "Positive",
          "Positive",
          "Positive",
          "Positive",
          "Positive",
          "Positive",
          "Positive",
          "Positive",
          "Positive",
          "Positive",
          "Positive",
          "Positive",
          "Positive",
          "Positive",
          "Positive",
          "Positive",
          "Positive",
          "Positive",
          "Negative",
          "Positive",
          "Positive",
          "Positive",
          "Positive",
          "Positive",
          "Positive",
          "Positive",
          "Negative",
          "Positive",
          "Positive",
          "Positive",
          "Positive",
          "Positive",
          "Positive",
          "Positive",
          "Positive",
          "Positive",
          "Positive",
          "Positive",
          "Positive",
          "Positive",
          "Positive",
          "Positive",
          "Positive",
          "Positive",
          "Negative",
          "Positive",
          "Positive",
          "Positive",
          "Positive",
          "Positive",
          "Positive",
          "Positive",
          "Positive",
          "Positive",
          "Positive",
          "Positive",
          "Positive",
          "Positive",
          "Negative",
          "Positive",
          "Positive",
          "Positive",
          "Positive",
          "Positive",
          "Positive",
          "Positive",
          "Positive",
          "Positive",
          "Positive",
          "Positive",
          "Positive",
          "Positive",
          "Positive",
          "Positive",
          "Positive",
          "Positive",
          "Positive",
          "Positive",
          "Positive",
          "Positive",
          "Positive",
          "Positive",
          "Positive",
          "Positive",
          "Positive",
          "Positive",
          "Positive",
          "Positive",
          "Positive",
          "Positive",
          "Positive",
          "Positive",
          "Positive",
          "Positive",
          "Positive",
          "Positive",
          "Positive",
          "Positive",
          "Positive",
          "Positive",
          "Positive",
          "Positive",
          "Positive",
          "Positive",
          "Positive",
          "Positive",
          "Positive",
          "Positive",
          "Positive",
          "Positive",
          "Positive",
          "Positive",
          "Positive",
          "Positive",
          "Positive",
          "Positive",
          "Positive",
          "Positive",
          "Positive",
          "Positive",
          "Positive",
          "Positive",
          "Positive",
          "Positive",
          "Positive",
          "Positive",
          "Positive",
          "Positive",
          "Positive",
          "Positive",
          "Positive",
          "Positive",
          "Positive",
          "Positive",
          "Positive",
          "Positive",
          "Positive",
          "Positive",
          "Positive",
          "Negative",
          "Positive",
          "Positive",
          "Positive",
          "Positive",
          "Positive",
          "Positive",
          "Positive",
          "Positive",
          "Positive",
          "Negative",
          "Positive",
          "Negative",
          "Positive",
          "Positive",
          "Negative",
          "Positive",
          "Positive",
          "Negative",
          "Positive",
          "Positive",
          "Positive",
          "Positive",
          "Positive",
          "Positive",
          "Positive",
          "Negative",
          "Positive",
          "Positive",
          "Positive",
          "Positive",
          "Positive",
          "Positive",
          "Positive",
          "Positive",
          "Positive",
          "Positive",
          "Positive",
          "Positive",
          "Positive",
          "Negative",
          "Positive",
          "Positive",
          "Positive",
          "Positive",
          "Positive",
          "Positive",
          "Positive",
          "Positive",
          "Positive",
          "Positive",
          "Positive",
          "Positive",
          "Positive",
          "Positive",
          "Positive",
          "Positive",
          "Positive",
          "Positive",
          "Positive",
          "Positive",
          "Positive",
          "Positive",
          "Positive",
          "Positive",
          "Positive",
          "Positive",
          "Positive",
          "Positive",
          "Positive",
          "Positive",
          "Positive",
          "Positive",
          "Positive",
          "Positive",
          "Positive",
          "Positive",
          "Negative",
          "Positive",
          "Positive",
          "Negative",
          "Positive",
          "Positive",
          "Positive",
          "Positive",
          "Positive",
          "Negative",
          "Positive",
          "Positive",
          "Positive",
          "Positive",
          "Positive",
          "Positive",
          "Positive",
          "Positive",
          "Positive",
          "Positive",
          "Positive",
          "Positive",
          "Positive",
          "Positive",
          "Positive",
          "Positive",
          "Positive",
          "Positive",
          "Positive",
          "Positive",
          "Positive",
          "Positive",
          "Positive",
          "Negative",
          "Positive",
          "Positive",
          "Positive",
          "Positive",
          "Positive",
          "Positive",
          "Positive",
          "Positive",
          "Positive",
          "Positive",
          "Positive",
          "Negative",
          "Positive",
          "Positive",
          "Positive",
          "Positive",
          "Positive",
          "Positive",
          "Positive",
          "Positive",
          "Positive",
          "Positive",
          "Positive",
          "Positive",
          "Positive",
          "Positive",
          "Positive",
          "Positive",
          "Positive",
          "Positive",
          "Positive",
          "Positive",
          "Positive",
          "Positive",
          "Positive",
          "Negative",
          "Positive",
          "Positive",
          "Positive",
          "Positive",
          "Positive",
          "Positive",
          "Positive",
          "Positive",
          "Positive",
          "Positive",
          "Positive",
          "Positive",
          "Positive",
          "Positive",
          "Positive",
          "Negative",
          "Positive",
          "Positive",
          "Positive",
          "Positive",
          "Positive",
          "Positive",
          "Positive",
          "Positive",
          "Positive",
          "Positive",
          "Positive",
          "Positive",
          "Positive",
          "Positive",
          "Positive",
          "Positive",
          "Positive",
          "Positive",
          "Positive",
          "Positive",
          "Positive",
          "Positive",
          "Positive",
          "Positive",
          "Positive",
          "Positive",
          "Positive",
          "Positive",
          "Positive",
          "Positive",
          "Positive",
          "Positive",
          "Positive",
          "Positive",
          "Positive",
          "Positive",
          "Positive",
          "Positive",
          "Positive",
          "Positive",
          "Positive",
          "Negative",
          "Positive",
          "Negative",
          "Negative",
          "Positive",
          "Positive",
          "Positive",
          "Positive",
          "Negative",
          "Positive",
          "Positive",
          "Positive",
          "Positive",
          "Positive",
          "Positive",
          "Positive",
          "Positive",
          "Positive",
          "Positive",
          "Positive",
          "Positive",
          "Positive",
          "Positive",
          "Positive",
          "Positive",
          "Negative",
          "Positive",
          "Positive",
          "Positive",
          "Positive",
          "Positive",
          "Positive",
          "Positive",
          "Positive",
          "Positive",
          "Positive",
          "Positive",
          "Positive",
          "Negative",
          "Positive",
          "Positive",
          "Positive",
          "Positive",
          "Positive",
          "Positive",
          "Positive",
          "Positive",
          "Positive",
          "Positive",
          "Positive",
          "Positive",
          "Positive",
          "Positive",
          "Positive",
          "Positive",
          "Positive",
          "Positive",
          "Positive",
          "Negative",
          "Positive",
          "Positive",
          "Positive",
          "Positive",
          "Positive",
          "Positive",
          "Positive",
          "Positive",
          "Positive",
          "Positive",
          "Positive",
          "Positive",
          "Positive",
          "Positive",
          "Positive",
          "Positive",
          "Positive",
          "Positive",
          "Positive",
          "Positive",
          "Positive",
          "Positive",
          "Positive",
          "Positive",
          "Positive",
          "Positive",
          "Positive",
          "Negative",
          "Positive",
          "Positive",
          "Positive",
          "Positive",
          "Positive",
          "Positive",
          "Positive",
          "Positive",
          "Negative",
          "Positive",
          "Positive",
          "Positive",
          "Positive",
          "Positive",
          "Positive",
          "Positive",
          "Positive",
          "Positive",
          "Positive",
          "Positive",
          "Positive",
          "Negative",
          "Negative",
          "Positive",
          "Positive",
          "Positive",
          "Positive",
          "Positive",
          "Positive",
          "Positive",
          "Positive",
          "Positive",
          "Positive",
          "Negative",
          "Positive",
          "Positive",
          "Positive",
          "Positive",
          "Positive",
          "Positive",
          "Positive",
          "Positive",
          "Positive",
          "Positive",
          "Positive",
          "Positive",
          "Positive",
          "Positive",
          "Positive",
          "Negative",
          "Positive",
          "Positive",
          "Positive",
          "Positive",
          "Positive",
          "Positive",
          "Positive",
          "Positive",
          "Positive",
          "Positive",
          "Positive",
          "Positive",
          "Positive",
          "Positive",
          "Positive",
          "Positive",
          "Positive",
          "Positive",
          "Positive",
          "Positive",
          "Positive",
          "Positive",
          "Positive",
          "Negative",
          "Positive",
          "Positive",
          "Positive",
          "Positive",
          "Positive",
          "Positive",
          "Positive",
          "Positive",
          "Positive",
          "Positive",
          "Positive",
          "Positive",
          "Positive",
          "Negative",
          "Negative",
          "Positive",
          "Positive",
          "Positive",
          "Negative",
          "Positive",
          "Positive",
          "Positive",
          "Positive",
          "Positive",
          "Positive",
          "Positive",
          "Positive",
          "Positive",
          "Positive",
          "Positive",
          "Positive",
          "Positive",
          "Positive",
          "Positive",
          "Positive",
          "Positive",
          "Positive",
          "Positive",
          "Positive",
          "Positive",
          "Positive",
          "Positive",
          "Positive",
          "Positive",
          "Positive",
          "Positive",
          "Positive",
          "Positive",
          "Positive",
          "Positive",
          "Positive",
          "Positive",
          "Positive",
          "Positive",
          "Positive",
          "Negative",
          "Positive",
          "Positive",
          "Positive",
          "Positive",
          "Positive",
          "Positive",
          "Positive",
          "Positive",
          "Positive",
          "Positive",
          "Positive",
          "Negative",
          "Positive",
          "Positive",
          "Positive",
          "Positive",
          "Positive",
          "Positive",
          "Positive",
          "Positive",
          "Positive",
          "Positive",
          "Positive",
          "Positive",
          "Positive",
          "Positive",
          "Positive",
          "Positive",
          "Positive",
          "Positive",
          "Positive",
          "Positive",
          "Positive",
          "Positive",
          "Positive",
          "Positive",
          "Positive",
          "Positive",
          "Positive",
          "Positive",
          "Positive",
          "Positive",
          "Positive",
          "Positive",
          "Positive",
          "Positive",
          "Positive",
          "Positive",
          "Positive",
          "Negative",
          "Positive",
          "Positive",
          "Positive",
          "Positive",
          "Positive",
          "Positive",
          "Positive",
          "Positive",
          "Positive",
          "Positive",
          "Positive",
          "Positive",
          "Positive",
          "Positive",
          "Positive",
          "Positive",
          "Positive",
          "Positive",
          "Negative",
          "Positive",
          "Positive",
          "Positive",
          "Positive",
          "Positive",
          "Positive",
          "Positive",
          "Positive",
          "Positive",
          "Positive",
          "Negative",
          "Positive",
          "Positive",
          "Positive",
          "Positive",
          "Positive",
          "Positive",
          "Positive",
          "Positive",
          "Positive",
          "Positive",
          "Positive",
          "Positive",
          "Positive",
          "Positive",
          "Positive",
          "Positive",
          "Positive",
          "Positive",
          "Positive",
          "Positive",
          "Positive",
          "Positive",
          "Positive",
          "Positive",
          "Positive",
          "Positive",
          "Positive",
          "Negative",
          "Positive",
          "Positive",
          "Positive",
          "Positive",
          "Positive",
          "Positive",
          "Positive",
          "Positive",
          "Positive",
          "Positive",
          "Positive",
          "Positive",
          "Positive",
          "Positive",
          "Positive",
          "Positive",
          "Positive",
          "Positive",
          "Positive",
          "Positive",
          "Positive",
          "Positive",
          "Positive",
          "Positive",
          "Positive",
          "Positive",
          "Positive",
          "Positive",
          "Positive",
          "Positive",
          "Positive",
          "Positive",
          "Positive",
          "Negative",
          "Positive",
          "Positive",
          "Positive",
          "Positive",
          "Positive",
          "Positive",
          "Positive",
          "Positive",
          "Positive",
          "Positive",
          "Positive",
          "Positive",
          "Positive",
          "Positive",
          "Positive",
          "Positive",
          "Positive",
          "Positive",
          "Positive",
          "Positive",
          "Positive",
          "Positive",
          "Positive",
          "Positive",
          "Positive",
          "Positive",
          "Positive",
          "Negative",
          "Positive",
          "Positive",
          "Positive",
          "Positive",
          "Positive",
          "Positive",
          "Positive",
          "Positive",
          "Positive",
          "Positive",
          "Positive",
          "Positive",
          "Positive",
          "Positive",
          "Positive",
          "Positive",
          "Positive",
          "Positive",
          "Positive",
          "Positive",
          "Negative",
          "Positive",
          "Positive",
          "Positive",
          "Positive",
          "Positive",
          "Positive",
          "Positive",
          "Positive",
          "Positive",
          "Positive",
          "Positive",
          "Positive",
          "Positive",
          "Positive",
          "Positive",
          "Positive",
          "Positive",
          "Positive",
          "Positive",
          "Positive",
          "Positive",
          "Positive",
          "Negative",
          "Positive",
          "Positive",
          "Positive",
          "Positive",
          "Positive",
          "Positive",
          "Positive",
          "Positive",
          "Negative",
          "Positive",
          "Positive",
          "Positive",
          "Positive",
          "Positive",
          "Positive",
          "Positive",
          "Positive",
          "Positive",
          "Positive",
          "Positive",
          "Positive",
          "Positive",
          "Positive",
          "Positive",
          "Negative",
          "Positive",
          "Positive",
          "Positive",
          "Positive",
          "Positive",
          "Positive",
          "Positive",
          "Positive",
          "Positive",
          "Positive",
          "Positive",
          "Positive",
          "Positive",
          "Positive",
          "Positive",
          "Positive",
          "Positive",
          "Positive",
          "Positive",
          "Positive",
          "Positive",
          "Positive",
          "Positive",
          "Positive",
          "Positive",
          "Positive",
          "Positive",
          "Positive",
          "Positive",
          "Positive",
          "Positive",
          "Positive",
          "Positive",
          "Positive",
          "Positive",
          "Positive",
          "Positive",
          "Positive",
          "Positive",
          "Positive",
          "Positive",
          "Positive",
          "Positive",
          "Positive",
          "Positive",
          "Positive",
          "Positive",
          "Positive",
          "Positive",
          "Positive",
          "Positive",
          "Positive",
          "Positive",
          "Positive",
          "Positive",
          "Positive",
          "Positive",
          "Positive",
          "Positive",
          "Positive",
          "Positive",
          "Positive",
          "Positive",
          "Negative",
          "Positive",
          "Negative",
          "Positive",
          "Positive",
          "Negative",
          "Positive",
          "Positive",
          "Positive",
          "Positive",
          "Positive",
          "Positive",
          "Positive",
          "Positive",
          "Positive",
          "Positive",
          "Positive",
          "Positive",
          "Positive",
          "Positive",
          "Positive",
          "Positive",
          "Positive",
          "Positive",
          "Positive",
          "Positive",
          "Positive",
          "Positive",
          "Positive",
          "Positive",
          "Positive",
          "Positive",
          "Positive",
          "Positive",
          "Positive",
          "Positive",
          "Positive",
          "Positive",
          "Positive",
          "Positive",
          "Positive",
          "Positive",
          "Positive",
          "Positive",
          "Positive",
          "Positive",
          "Positive",
          "Positive",
          "Positive",
          "Negative",
          "Positive",
          "Negative",
          "Positive",
          "Positive",
          "Positive",
          "Positive",
          "Positive",
          "Positive",
          "Positive",
          "Positive",
          "Positive",
          "Positive",
          "Positive",
          "Positive",
          "Positive",
          "Positive",
          "Positive",
          "Negative",
          "Negative",
          "Positive",
          "Positive",
          "Positive",
          "Positive",
          "Positive",
          "Positive",
          "Positive",
          "Positive",
          "Positive",
          "Positive",
          "Positive",
          "Negative",
          "Positive",
          "Positive",
          "Positive",
          "Positive",
          "Positive",
          "Positive",
          "Positive",
          "Positive",
          "Negative",
          "Positive",
          "Positive",
          "Positive",
          "Negative",
          "Positive",
          "Positive",
          "Positive",
          "Positive",
          "Positive",
          "Positive",
          "Positive",
          "Positive",
          "Positive",
          "Positive",
          "Positive",
          "Positive",
          "Positive",
          "Positive",
          "Positive",
          "Positive",
          "Negative",
          "Positive",
          "Positive",
          "Positive",
          "Negative",
          "Positive",
          "Positive",
          "Positive",
          "Positive",
          "Positive",
          "Positive",
          "Positive",
          "Negative",
          "Positive",
          "Positive",
          "Positive",
          "Positive",
          "Positive",
          "Positive",
          "Positive",
          "Positive",
          "Negative",
          "Positive",
          "Positive",
          "Positive",
          "Positive",
          "Positive",
          "Positive",
          "Positive",
          "Positive",
          "Negative",
          "Positive",
          "Positive",
          "Positive",
          "Positive",
          "Negative",
          "Positive",
          "Positive",
          "Positive",
          "Positive",
          "Positive",
          "Positive",
          "Positive",
          "Positive",
          "Positive",
          "Positive",
          "Positive",
          "Positive",
          "Positive",
          "Positive",
          "Positive",
          "Positive",
          "Positive",
          "Positive",
          "Positive",
          "Positive",
          "Negative",
          "Positive",
          "Positive",
          "Negative",
          "Positive",
          "Positive",
          "Positive",
          "Positive",
          "Negative",
          "Positive",
          "Positive",
          "Positive",
          "Positive",
          "Positive",
          "Positive",
          "Positive",
          "Positive",
          "Positive",
          "Positive",
          "Positive",
          "Positive",
          "Positive",
          "Positive",
          "Positive",
          "Positive",
          "Positive",
          "Positive",
          "Positive",
          "Positive",
          "Positive",
          "Negative",
          "Positive",
          "Positive",
          "Positive",
          "Positive",
          "Positive",
          "Positive",
          "Positive",
          "Positive",
          "Positive",
          "Positive",
          "Positive",
          "Positive",
          "Positive",
          "Positive",
          "Positive",
          "Positive",
          "Positive",
          "Positive",
          "Positive",
          "Positive",
          "Positive",
          "Positive",
          "Negative",
          "Positive",
          "Positive",
          "Negative",
          "Positive",
          "Positive",
          "Negative",
          "Positive",
          "Positive",
          "Positive",
          "Positive",
          "Positive",
          "Positive",
          "Positive",
          "Positive",
          "Positive",
          "Positive",
          "Positive",
          "Positive",
          "Positive",
          "Positive",
          "Positive",
          "Positive",
          "Positive",
          "Positive",
          "Positive",
          "Positive",
          "Positive",
          "Positive",
          "Positive",
          "Positive",
          "Positive",
          "Positive",
          "Positive",
          "Positive",
          "Positive",
          "Positive",
          "Positive",
          "Positive",
          "Positive",
          "Positive",
          "Positive",
          "Positive",
          "Positive",
          "Positive",
          "Positive",
          "Positive",
          "Positive",
          "Positive",
          "Positive",
          "Positive",
          "Positive",
          "Positive",
          "Positive",
          "Positive",
          "Positive",
          "Negative",
          "Positive",
          "Positive",
          "Positive",
          "Positive",
          "Positive",
          "Positive",
          "Positive",
          "Positive",
          "Positive",
          "Positive",
          "Positive",
          "Positive",
          "Negative",
          "Positive",
          "Positive",
          "Positive",
          "Positive",
          "Positive",
          "Positive",
          "Positive",
          "Positive",
          "Positive",
          "Positive",
          "Positive",
          "Positive",
          "Positive",
          "Positive",
          "Positive",
          "Positive",
          "Positive",
          "Positive",
          "Positive",
          "Positive",
          "Positive",
          "Positive",
          "Positive",
          "Positive",
          "Positive",
          "Positive",
          "Positive",
          "Positive",
          "Positive",
          "Positive",
          "Positive",
          "Positive",
          "Positive",
          "Positive",
          "Positive",
          "Positive",
          "Positive",
          "Positive",
          "Positive",
          "Positive",
          "Positive",
          "Positive",
          "Positive",
          "Positive",
          "Positive",
          "Positive",
          "Positive",
          "Positive",
          "Negative",
          "Positive",
          "Positive",
          "Positive",
          "Positive",
          "Positive",
          "Positive",
          "Positive",
          "Positive",
          "Positive",
          "Positive",
          "Positive",
          "Positive",
          "Positive",
          "Negative",
          "Positive",
          "Positive",
          "Positive",
          "Positive",
          "Positive",
          "Positive",
          "Positive",
          "Positive",
          "Positive",
          "Positive",
          "Positive",
          "Positive",
          "Positive",
          "Positive",
          "Positive",
          "Positive",
          "Positive",
          "Positive",
          "Positive",
          "Positive",
          "Positive",
          "Positive",
          "Positive",
          "Negative",
          "Positive",
          "Positive",
          "Positive",
          "Positive",
          "Positive",
          "Positive",
          "Positive",
          "Positive",
          "Positive",
          "Positive",
          "Positive",
          "Positive",
          "Positive",
          "Positive",
          "Positive",
          "Positive",
          "Positive",
          "Positive",
          "Positive",
          "Positive",
          "Positive",
          "Positive",
          "Negative",
          "Positive",
          "Positive",
          "Positive",
          "Positive",
          "Positive",
          "Positive",
          "Positive",
          "Positive",
          "Positive",
          "Positive",
          "Positive",
          "Positive",
          "Positive",
          "Positive",
          "Positive",
          "Positive",
          "Positive",
          "Positive",
          "Negative",
          "Positive",
          "Positive",
          "Positive",
          "Positive",
          "Positive",
          "Positive",
          "Negative",
          "Positive",
          "Positive",
          "Positive",
          "Negative",
          "Positive",
          "Positive",
          "Positive",
          "Positive",
          "Positive",
          "Positive"
         ],
         "xaxis": "x",
         "yaxis": "y"
        }
       ],
       "layout": {
        "barmode": "relative",
        "legend": {
         "tracegroupgap": 0
        },
        "margin": {
         "t": 60
        },
        "template": {
         "data": {
          "bar": [
           {
            "error_x": {
             "color": "#2a3f5f"
            },
            "error_y": {
             "color": "#2a3f5f"
            },
            "marker": {
             "line": {
              "color": "#E5ECF6",
              "width": 0.5
             },
             "pattern": {
              "fillmode": "overlay",
              "size": 10,
              "solidity": 0.2
             }
            },
            "type": "bar"
           }
          ],
          "barpolar": [
           {
            "marker": {
             "line": {
              "color": "#E5ECF6",
              "width": 0.5
             },
             "pattern": {
              "fillmode": "overlay",
              "size": 10,
              "solidity": 0.2
             }
            },
            "type": "barpolar"
           }
          ],
          "carpet": [
           {
            "aaxis": {
             "endlinecolor": "#2a3f5f",
             "gridcolor": "white",
             "linecolor": "white",
             "minorgridcolor": "white",
             "startlinecolor": "#2a3f5f"
            },
            "baxis": {
             "endlinecolor": "#2a3f5f",
             "gridcolor": "white",
             "linecolor": "white",
             "minorgridcolor": "white",
             "startlinecolor": "#2a3f5f"
            },
            "type": "carpet"
           }
          ],
          "choropleth": [
           {
            "colorbar": {
             "outlinewidth": 0,
             "ticks": ""
            },
            "type": "choropleth"
           }
          ],
          "contour": [
           {
            "colorbar": {
             "outlinewidth": 0,
             "ticks": ""
            },
            "colorscale": [
             [
              0,
              "#0d0887"
             ],
             [
              0.1111111111111111,
              "#46039f"
             ],
             [
              0.2222222222222222,
              "#7201a8"
             ],
             [
              0.3333333333333333,
              "#9c179e"
             ],
             [
              0.4444444444444444,
              "#bd3786"
             ],
             [
              0.5555555555555556,
              "#d8576b"
             ],
             [
              0.6666666666666666,
              "#ed7953"
             ],
             [
              0.7777777777777778,
              "#fb9f3a"
             ],
             [
              0.8888888888888888,
              "#fdca26"
             ],
             [
              1,
              "#f0f921"
             ]
            ],
            "type": "contour"
           }
          ],
          "contourcarpet": [
           {
            "colorbar": {
             "outlinewidth": 0,
             "ticks": ""
            },
            "type": "contourcarpet"
           }
          ],
          "heatmap": [
           {
            "colorbar": {
             "outlinewidth": 0,
             "ticks": ""
            },
            "colorscale": [
             [
              0,
              "#0d0887"
             ],
             [
              0.1111111111111111,
              "#46039f"
             ],
             [
              0.2222222222222222,
              "#7201a8"
             ],
             [
              0.3333333333333333,
              "#9c179e"
             ],
             [
              0.4444444444444444,
              "#bd3786"
             ],
             [
              0.5555555555555556,
              "#d8576b"
             ],
             [
              0.6666666666666666,
              "#ed7953"
             ],
             [
              0.7777777777777778,
              "#fb9f3a"
             ],
             [
              0.8888888888888888,
              "#fdca26"
             ],
             [
              1,
              "#f0f921"
             ]
            ],
            "type": "heatmap"
           }
          ],
          "histogram": [
           {
            "marker": {
             "pattern": {
              "fillmode": "overlay",
              "size": 10,
              "solidity": 0.2
             }
            },
            "type": "histogram"
           }
          ],
          "histogram2d": [
           {
            "colorbar": {
             "outlinewidth": 0,
             "ticks": ""
            },
            "colorscale": [
             [
              0,
              "#0d0887"
             ],
             [
              0.1111111111111111,
              "#46039f"
             ],
             [
              0.2222222222222222,
              "#7201a8"
             ],
             [
              0.3333333333333333,
              "#9c179e"
             ],
             [
              0.4444444444444444,
              "#bd3786"
             ],
             [
              0.5555555555555556,
              "#d8576b"
             ],
             [
              0.6666666666666666,
              "#ed7953"
             ],
             [
              0.7777777777777778,
              "#fb9f3a"
             ],
             [
              0.8888888888888888,
              "#fdca26"
             ],
             [
              1,
              "#f0f921"
             ]
            ],
            "type": "histogram2d"
           }
          ],
          "histogram2dcontour": [
           {
            "colorbar": {
             "outlinewidth": 0,
             "ticks": ""
            },
            "colorscale": [
             [
              0,
              "#0d0887"
             ],
             [
              0.1111111111111111,
              "#46039f"
             ],
             [
              0.2222222222222222,
              "#7201a8"
             ],
             [
              0.3333333333333333,
              "#9c179e"
             ],
             [
              0.4444444444444444,
              "#bd3786"
             ],
             [
              0.5555555555555556,
              "#d8576b"
             ],
             [
              0.6666666666666666,
              "#ed7953"
             ],
             [
              0.7777777777777778,
              "#fb9f3a"
             ],
             [
              0.8888888888888888,
              "#fdca26"
             ],
             [
              1,
              "#f0f921"
             ]
            ],
            "type": "histogram2dcontour"
           }
          ],
          "mesh3d": [
           {
            "colorbar": {
             "outlinewidth": 0,
             "ticks": ""
            },
            "type": "mesh3d"
           }
          ],
          "parcoords": [
           {
            "line": {
             "colorbar": {
              "outlinewidth": 0,
              "ticks": ""
             }
            },
            "type": "parcoords"
           }
          ],
          "pie": [
           {
            "automargin": true,
            "type": "pie"
           }
          ],
          "scatter": [
           {
            "fillpattern": {
             "fillmode": "overlay",
             "size": 10,
             "solidity": 0.2
            },
            "type": "scatter"
           }
          ],
          "scatter3d": [
           {
            "line": {
             "colorbar": {
              "outlinewidth": 0,
              "ticks": ""
             }
            },
            "marker": {
             "colorbar": {
              "outlinewidth": 0,
              "ticks": ""
             }
            },
            "type": "scatter3d"
           }
          ],
          "scattercarpet": [
           {
            "marker": {
             "colorbar": {
              "outlinewidth": 0,
              "ticks": ""
             }
            },
            "type": "scattercarpet"
           }
          ],
          "scattergeo": [
           {
            "marker": {
             "colorbar": {
              "outlinewidth": 0,
              "ticks": ""
             }
            },
            "type": "scattergeo"
           }
          ],
          "scattergl": [
           {
            "marker": {
             "colorbar": {
              "outlinewidth": 0,
              "ticks": ""
             }
            },
            "type": "scattergl"
           }
          ],
          "scattermap": [
           {
            "marker": {
             "colorbar": {
              "outlinewidth": 0,
              "ticks": ""
             }
            },
            "type": "scattermap"
           }
          ],
          "scattermapbox": [
           {
            "marker": {
             "colorbar": {
              "outlinewidth": 0,
              "ticks": ""
             }
            },
            "type": "scattermapbox"
           }
          ],
          "scatterpolar": [
           {
            "marker": {
             "colorbar": {
              "outlinewidth": 0,
              "ticks": ""
             }
            },
            "type": "scatterpolar"
           }
          ],
          "scatterpolargl": [
           {
            "marker": {
             "colorbar": {
              "outlinewidth": 0,
              "ticks": ""
             }
            },
            "type": "scatterpolargl"
           }
          ],
          "scatterternary": [
           {
            "marker": {
             "colorbar": {
              "outlinewidth": 0,
              "ticks": ""
             }
            },
            "type": "scatterternary"
           }
          ],
          "surface": [
           {
            "colorbar": {
             "outlinewidth": 0,
             "ticks": ""
            },
            "colorscale": [
             [
              0,
              "#0d0887"
             ],
             [
              0.1111111111111111,
              "#46039f"
             ],
             [
              0.2222222222222222,
              "#7201a8"
             ],
             [
              0.3333333333333333,
              "#9c179e"
             ],
             [
              0.4444444444444444,
              "#bd3786"
             ],
             [
              0.5555555555555556,
              "#d8576b"
             ],
             [
              0.6666666666666666,
              "#ed7953"
             ],
             [
              0.7777777777777778,
              "#fb9f3a"
             ],
             [
              0.8888888888888888,
              "#fdca26"
             ],
             [
              1,
              "#f0f921"
             ]
            ],
            "type": "surface"
           }
          ],
          "table": [
           {
            "cells": {
             "fill": {
              "color": "#EBF0F8"
             },
             "line": {
              "color": "white"
             }
            },
            "header": {
             "fill": {
              "color": "#C8D4E3"
             },
             "line": {
              "color": "white"
             }
            },
            "type": "table"
           }
          ]
         },
         "layout": {
          "annotationdefaults": {
           "arrowcolor": "#2a3f5f",
           "arrowhead": 0,
           "arrowwidth": 1
          },
          "autotypenumbers": "strict",
          "coloraxis": {
           "colorbar": {
            "outlinewidth": 0,
            "ticks": ""
           }
          },
          "colorscale": {
           "diverging": [
            [
             0,
             "#8e0152"
            ],
            [
             0.1,
             "#c51b7d"
            ],
            [
             0.2,
             "#de77ae"
            ],
            [
             0.3,
             "#f1b6da"
            ],
            [
             0.4,
             "#fde0ef"
            ],
            [
             0.5,
             "#f7f7f7"
            ],
            [
             0.6,
             "#e6f5d0"
            ],
            [
             0.7,
             "#b8e186"
            ],
            [
             0.8,
             "#7fbc41"
            ],
            [
             0.9,
             "#4d9221"
            ],
            [
             1,
             "#276419"
            ]
           ],
           "sequential": [
            [
             0,
             "#0d0887"
            ],
            [
             0.1111111111111111,
             "#46039f"
            ],
            [
             0.2222222222222222,
             "#7201a8"
            ],
            [
             0.3333333333333333,
             "#9c179e"
            ],
            [
             0.4444444444444444,
             "#bd3786"
            ],
            [
             0.5555555555555556,
             "#d8576b"
            ],
            [
             0.6666666666666666,
             "#ed7953"
            ],
            [
             0.7777777777777778,
             "#fb9f3a"
            ],
            [
             0.8888888888888888,
             "#fdca26"
            ],
            [
             1,
             "#f0f921"
            ]
           ],
           "sequentialminus": [
            [
             0,
             "#0d0887"
            ],
            [
             0.1111111111111111,
             "#46039f"
            ],
            [
             0.2222222222222222,
             "#7201a8"
            ],
            [
             0.3333333333333333,
             "#9c179e"
            ],
            [
             0.4444444444444444,
             "#bd3786"
            ],
            [
             0.5555555555555556,
             "#d8576b"
            ],
            [
             0.6666666666666666,
             "#ed7953"
            ],
            [
             0.7777777777777778,
             "#fb9f3a"
            ],
            [
             0.8888888888888888,
             "#fdca26"
            ],
            [
             1,
             "#f0f921"
            ]
           ]
          },
          "colorway": [
           "#636efa",
           "#EF553B",
           "#00cc96",
           "#ab63fa",
           "#FFA15A",
           "#19d3f3",
           "#FF6692",
           "#B6E880",
           "#FF97FF",
           "#FECB52"
          ],
          "font": {
           "color": "#2a3f5f"
          },
          "geo": {
           "bgcolor": "white",
           "lakecolor": "white",
           "landcolor": "#E5ECF6",
           "showlakes": true,
           "showland": true,
           "subunitcolor": "white"
          },
          "hoverlabel": {
           "align": "left"
          },
          "hovermode": "closest",
          "mapbox": {
           "style": "light"
          },
          "paper_bgcolor": "white",
          "plot_bgcolor": "#E5ECF6",
          "polar": {
           "angularaxis": {
            "gridcolor": "white",
            "linecolor": "white",
            "ticks": ""
           },
           "bgcolor": "#E5ECF6",
           "radialaxis": {
            "gridcolor": "white",
            "linecolor": "white",
            "ticks": ""
           }
          },
          "scene": {
           "xaxis": {
            "backgroundcolor": "#E5ECF6",
            "gridcolor": "white",
            "gridwidth": 2,
            "linecolor": "white",
            "showbackground": true,
            "ticks": "",
            "zerolinecolor": "white"
           },
           "yaxis": {
            "backgroundcolor": "#E5ECF6",
            "gridcolor": "white",
            "gridwidth": 2,
            "linecolor": "white",
            "showbackground": true,
            "ticks": "",
            "zerolinecolor": "white"
           },
           "zaxis": {
            "backgroundcolor": "#E5ECF6",
            "gridcolor": "white",
            "gridwidth": 2,
            "linecolor": "white",
            "showbackground": true,
            "ticks": "",
            "zerolinecolor": "white"
           }
          },
          "shapedefaults": {
           "line": {
            "color": "#2a3f5f"
           }
          },
          "ternary": {
           "aaxis": {
            "gridcolor": "white",
            "linecolor": "white",
            "ticks": ""
           },
           "baxis": {
            "gridcolor": "white",
            "linecolor": "white",
            "ticks": ""
           },
           "bgcolor": "#E5ECF6",
           "caxis": {
            "gridcolor": "white",
            "linecolor": "white",
            "ticks": ""
           }
          },
          "title": {
           "x": 0.05
          },
          "xaxis": {
           "automargin": true,
           "gridcolor": "white",
           "linecolor": "white",
           "ticks": "",
           "title": {
            "standoff": 15
           },
           "zerolinecolor": "white",
           "zerolinewidth": 2
          },
          "yaxis": {
           "automargin": true,
           "gridcolor": "white",
           "linecolor": "white",
           "ticks": "",
           "title": {
            "standoff": 15
           },
           "zerolinecolor": "white",
           "zerolinewidth": 2
          }
         }
        },
        "xaxis": {
         "anchor": "y",
         "domain": [
          0,
          1
         ],
         "title": {
          "text": "Estrogen_Status"
         }
        },
        "yaxis": {
         "anchor": "x",
         "domain": [
          0,
          1
         ],
         "title": {
          "text": "count"
         }
        }
       }
      }
     },
     "metadata": {},
     "output_type": "display_data"
    }
   ],
   "source": [
    "Estrogen_Status = px.histogram(df, x=\"Estrogen_Status\")\n",
    "Estrogen_Status.show()"
   ]
  },
  {
   "cell_type": "markdown",
   "metadata": {},
   "source": [
    "Encoding the labels of all the stages in the data."
   ]
  },
  {
   "cell_type": "code",
   "execution_count": 369,
   "metadata": {},
   "outputs": [],
   "source": [
    "label_encoder = preprocessing.LabelEncoder()\n",
    "stages = [\"T_Stage\", \"N_Stage\", \"6th_Stage\", \"A_Stage\"]\n",
    "for stage in df.loc[:, stages]:\n",
    " df[stage]= label_encoder.fit_transform(df[stage]) "
   ]
  },
  {
   "cell_type": "markdown",
   "metadata": {},
   "source": [
    "Plotting a histogram for all the stages with the encoded labels"
   ]
  },
  {
   "cell_type": "code",
   "execution_count": 370,
   "metadata": {},
   "outputs": [
    {
     "data": {
      "application/vnd.plotly.v1+json": {
       "config": {
        "plotlyServerURL": "https://plot.ly"
       },
       "data": [
        {
         "bingroup": "x",
         "hovertemplate": "T_Stage=%{x}<br>count=%{y}<extra></extra>",
         "legendgroup": "",
         "marker": {
          "color": "#636efa",
          "pattern": {
           "shape": ""
          }
         },
         "name": "",
         "orientation": "v",
         "showlegend": false,
         "type": "histogram",
         "x": {
          "bdata": "AAECAAEAAAEDAwACAQABAAEBAQEBAQECAAEBAAEBAQAAAAEAAQABAQIAAQEAAgAAAQABAgICAAABAAAAAAABAgAAAgAAAAIBAQABAgEBAQABAAEAAAECAgAAAgABAQABAQEDAQIAAQEBAQEAAQEAAgEBAgACAAEBAQMBAQAAAQAAAAABAAABAAEBAQIAAAABAQEAAgABAAEAAAACAAABAQEAAAABAgADAQABAgAAAAIAAAEBAAEAAQIBAgEBAAEAAAECAAECAQEBAQABAAABAQEDAgIAAAECAQIAAgIBAAEAAAICAAEBAAEAAAACAgMAAQEBAQEAAAEAAAEBAQICAQAAAQEAAQEAAAEAAgEAAgEBAAEAAgIAAgAAAQEBAQEBAAIBAAABAwAAAQACAQEAAAECAQIBAQEAAAIAAQIAAgEAAAIBAQEBAAMBAQEAAAEAAgIAAQEAAgABAQABAAACAQAAAAEAAQAAAQACAQAAAAIBAAEDAAEBAQIBAQIBAQEBAAEAAAEBAQICAQEAAwAAAAACAAMBAQEBAAECAQEAAAEBAQEBAQAAAAECAgABAAIDAQABAgAAAQABAgAAAQIAAgEBAQABAAABAAAAAAAAAQABAAABAAABAAABAgECAAIBAgIAAgEAAQACAAAAAAIAAAABAAABAgAAAAAAAAAAAQABAAEBAQMAAQABAQEAAgIBAQEAAAAAAQEAAQEAAgEAAAABAgEAAAICAAABAAIBAAEBAAECAgEAAAECAQEBAQEBAQABAAMAAQAAAwAAAAEBAAECAQEAAAABAAECAQEBAAEAAQEBAQABAQIBAgEAAQABAQEAAAEBAgABAAEBAQIAAAEAAQABAAEBAAEBAAEAAgEBAAEBAAABAwACAAIBAQABAAEBAQEBAQEAAQEAAAEBAAABAQIAAQEBAQEBAAEDAQABAgACAQABAAECAQABAAABAQEAAAIBAAIDAgAAAAACAAAAAQECAAEBAAACAgAAAAEBAQEBAQEBAgAAAQEAAQEAAQIAAAEAAQABAgAAAAEBAQABAwEAAQEAAAEBAAAAAQEBAgAAAQAAAQEBAAEAAQEBAQEAAQACAQEAAQABAgAAAAEBAQEAAAEBAQIBAgMBAQABAAAAAQABAQAAAQABAQEBAQABAAABAQEBAAMAAAICAAABAAIAAAABAAIBAgECAgECAgEAAAAAAgEAAgEBAgABAQABAAIBAAABAQIAAAEAAQEAAQEAAQABAAICAAABAAEAAAEDAQAAAAAAAQAAAAEBAAABAgIBAQABAAACAQIAAAECAQACAgIAAAIAAAEBAQABAgEBAQEAAQABAQEBAQECAgACAAEBAAEBAQABAQEBAQEAAQABAAAAAAEAAAACAQEBAAEBAQAAAAEAAAAAAQAAAQAAAAABAQAAAQEBAAEBAQIBAQACAAEBAAACAQEAAwABAAACAQAAAgAAAAABAQABAAECAAEAAQEAAAECAQEBAwABAgABAQAAAgAAAAEBAAABAQADAgABAQEBAAABAAADAAABAQEAAAIBAgAAAAEBAAEBAQAAAQABAAACAQAAAQEBAAEBAQECAAACAQACAAABAQAAAQABAAEAAQABAgEAAQEBAQEAAAEAAAMAAQAAAAABAAEBAAEAAQECAQAAAQIBAAMAAAEBAAEAAQAAAQICAQIBAAEBAgABAgICAQEBAAAAAQEBAAEBAgACAAAAAQAAAAABAgABAAAAAAECAQAAAQABAwACAAEAAgIAAAEBAAABAQEBAAABAQEAAQECAAEAAQECAAADAAIBAAACAQABAAAAAQAAAQEBAAMBAAEBAAIBAAMAAAEAAQEBAgEBAQEAAAABAAIBAAABAAEAAQADAQEAAQEBAAAAAAIBAAAAAAEBAQEBAQEAAQEBAgABAgEBAAEBAQABAQEBAAAAAQIAAQAAAgEBAAIAAQACAgIBAAEBAgEAAQEAAgACAAMAAQABAQAAAAEDAAECAQEAAAEAAAEBAAABAgEBAwEAAQAAAAAAAQIBAQABAAEBAAIBAgEBAQEAAgMBAgEAAQACAgEAAgEBAQEBAQIAAAEBAgEAAQEAAAEAAgAAAQEBAAABAQABAQEBAAEAAwEBAAIAAAAAAAIAAgIBAQEAAAABAAABAAIBAQABAQAAAwIBAAIBAQEBAQEBAAABAQEAAQABAAABAgABAQEAAQIBAQEAAgAAAQAAAQAAAgAAAAEAAAAAAAABAQACAQECAgABAAEAAQEBAQIAAAABAQIAAQECAAIBAAIDAQEBAgAAAAABAAABAQAAAAEBAQAAAQAAAQADAAIAAQEBAQAAAAAAAAEDAgAAAQABAgABAQAAAQAAAQEAAAAAAAABAQAAAAEAAgAAAAMAAQAAAAABAQICAQEAAAABAAEBAAABAgABAAABAgEBAQEBAAIBAAECAAEAAQAAAQAAAQAAAAEBAAABAAACAQEBAQEBAQABAAEBAgACAAECAAIBAAAAAQABAAIAAwIBAAEAAgECAQEAAQABAAIAAQEAAAABAQABAgEBAAEAAAIBAQABAQECAQIBAAEBAAEBAAAAAAACAQMAAAABAQACAAABAgEBAAECAQABAAADAQMAAQABAQAAAQEBAQEAAAAAAAABAQEAAQEBAQICAgADAQIAAQIAAQAAAQACAwABAQAAAQEAAQEBAAIAAQACAQECAgAAAwMAAQEAAgICAQABAQACAAEAAAEBAQAAAgAAAwAAAQAAAAABAAIBAAABAQIBAAEBAAAAAAEBAgEAAAEBAQEBAgEBAgAAAAABAAEBAgMAAAAAAAAAAAEAAQAAAAAAAAEBAAAAAAEBAQECAQIAAAEBAQEAAAECAgEAAQEAAAABAgABAQABAQICAAEAAQEBAwIAAAIBAQABAAABAAEAAAEAAAEBAgABAQEBAAAAAAAAAQIAAQABAQEAAQABAAIAAQAAAgIBAgECAAEBAQEBAQABAQICAgIDAgACAAACAQABAQEBAAEBAAAAAQIAAwEAAQABAgACAgABAQIBAAIBAgEAAQACAAAAAQEBAAEBAQECAAACAgAAAQABAQACAQEAAgACAAEAAQABAQAAAAAAAQEAAgAAAQEDAgABAQEBAQEBAQABAwAAAgACAAIAAAEBAAEAAwEAAAABAAABAAACAAMBAAAAAAAAAQABAQAAAQEAAAABAgEBAAEBAQABAQAAAgABAAIBAAEBAAEBAAICAQAAAAAAAAEAAAAAAAABAgEAAQEBAgAAAAEBAQIBAQAAAAABAQABAAEAAQACAQIBAQABAQACAQEAAgABAAABAQAAAQEBAAAAAQEBAwEAAQICAAABAAAAAAECAwEBAQABAAEBAAEDAQMDAgEAAQAAAQEAAQAAAAEBAAEBAAEAAgEAAAABAAEBAQIAAQEBAgAAAgABAgABAQECAQABAAECAAEBAAEAAQACAAEBAQEDAAEBAQIBAQABAQACAQABAQEAAAAAAQIAAQEBAQACAQEAAAAAAAIBAgIAAQEAAQEAAAIAAAIAAQEAAQABAgECAQAAAQACAgACAAIBAQEAAAEBAgACAAEAAQAAAAEBAgECAgMAAgAAAwEBAQEAAgABAwADAgICAAAAAAEAAAEAAAAAAAEBAAEBAQIBAgEAAAECAAEBAgABAAABAQEBAQECAgMDAQAAAQICAgEAAQEAAAAAAAAAAAIBAAEBAAABAQICAgAAAgEBAQEBAQEBAQABAQABAgEAAAEAAAACAgEBAAAAAAAAAQIAAAEAAQABAAEAAQIAAAAAAAAAAQABAQABAQEBAgIBAQABAQECAAAAAAIBAQMAAQEAAQIDAQADAAIAAQAAAAIAAgAAAgEAAQABAQACAQECAgAAAQEAAAACAQAAAQABAQEBAQEBAQICAAAAAAECAAECAAABAAIBAgAAAQIBAgEAAgEAAgEAAQECAQABAAEBAQEAAQEBAQABAAEBAQABAgABAQEBAAICAQAAAQEBAAABAQACAQACAQECAQAAAAIBAQEBAAACAAAAAQEBAgEBAQMAAQEBAQAAAQAAAAEAAQEAAQEAAQEBAQACAAAAAQEBAAEAAAMBAAACAAABAAEBAQABAAABAQEAAQAAAAACAgECAAABAQEAAQACAQEBAAEBAAEBAAEBAAABAQIBAQABAQIBAgABAQEAAAAAAQEBAAAAAQEAAQEAAAEAAAIBAQAAAQEAAAEBAAEAAQAAAQEBAAEAAgEBAQEAAAMAAQEBAQEBAQIBAQEAAgABAQAAAAIAAAEAAAIBAAIBAQAAAQABAQABAgEAAQEAAgABAAEAAQEBAgIAAQABAQMBAAACAAIBAAAAAQEAAQABAAABAQABAAABAgAAAQABAAEDAQIAAQEBAQEBAAEBAAIBAQAAAgEAAgEAAAEDAQEAAgABAAEBAAEBAQEBAQECAQEBAwAAAQEAAAAAAQEAAQEAAQAAAAABAAEBAQEAAAAAAAABAAECAQACAAEBAQAAAQEBAQABAQEBAAACAQMAAAEBAgABAAABAAABAAEBAAEBAQEBAAEBAQAAAQABAQAAAQEBAQECAAEBAQMAAQEBAAMBAAEBAQABAQIBAQEAAQEAAQEBAAABAAEBAQEAAAECAQABAAIBAAAAAAAAAAEAAQABAQABAAACAQACAQEAAQECAQIBAQADAAEBAQEBAAACAQEAAAEBAAEBAQEBAAEAAQABAQEAAAEAAAECAAADAAABAAAAAAABAAIAAQEBAQAAAQICAAACAAECAwABAQEBAQACAwEAAgEBAQABAQEBAAEBAAAAAQAAAAABAAIAAQECAQABAQAAAgEBAgEBAQABAAEBAAICAQAAAQMBAQIBAQACAQEAAAECAQIAAAEAAAABAQADAAIBAQAAAQAAAQEBAQAAAQEBAQEBAQEAAAABAQABAQEBAQECAQAAAQEDAQEBAQAAAQEAAAEBAgIBAAEBAQICAQECAAIBAQEAAAMBAQAAAAECAAIBAAEBAAABAQAAAQEAAAECAQABAQMBAAEBAQAAAAIBAAABAAEAAQEAAAEAAQEBAAAAAQIAAAEDAAECAQAAAQEBAQACAQABAQACAQIBAQABAQIBAAMCAgAAAAADAQEAAgEBAAEAAQIBAQAAAQAAAQABAAEAAQICAAEBAAEBAAABAQABAQEBAgEAAAECAQEDAQAAAAECAQAAAQACAgIBAQEBAAABAAEBAAECAAIAAQEAAgEBAQAAAAABAAEAAQEAAgABAQEBAAABAAEBAAEBAQEBAQACAQIBAAABAgADAQIAAAECAgIBAAMBAAEBAQIBAAABAAAAAQEBAAABAQEDAAIBAQIAAgEBAQAAAQEBAQ==",
          "dtype": "i1"
         },
         "xaxis": "x",
         "yaxis": "y"
        }
       ],
       "layout": {
        "barmode": "relative",
        "legend": {
         "tracegroupgap": 0
        },
        "margin": {
         "t": 60
        },
        "template": {
         "data": {
          "bar": [
           {
            "error_x": {
             "color": "#2a3f5f"
            },
            "error_y": {
             "color": "#2a3f5f"
            },
            "marker": {
             "line": {
              "color": "#E5ECF6",
              "width": 0.5
             },
             "pattern": {
              "fillmode": "overlay",
              "size": 10,
              "solidity": 0.2
             }
            },
            "type": "bar"
           }
          ],
          "barpolar": [
           {
            "marker": {
             "line": {
              "color": "#E5ECF6",
              "width": 0.5
             },
             "pattern": {
              "fillmode": "overlay",
              "size": 10,
              "solidity": 0.2
             }
            },
            "type": "barpolar"
           }
          ],
          "carpet": [
           {
            "aaxis": {
             "endlinecolor": "#2a3f5f",
             "gridcolor": "white",
             "linecolor": "white",
             "minorgridcolor": "white",
             "startlinecolor": "#2a3f5f"
            },
            "baxis": {
             "endlinecolor": "#2a3f5f",
             "gridcolor": "white",
             "linecolor": "white",
             "minorgridcolor": "white",
             "startlinecolor": "#2a3f5f"
            },
            "type": "carpet"
           }
          ],
          "choropleth": [
           {
            "colorbar": {
             "outlinewidth": 0,
             "ticks": ""
            },
            "type": "choropleth"
           }
          ],
          "contour": [
           {
            "colorbar": {
             "outlinewidth": 0,
             "ticks": ""
            },
            "colorscale": [
             [
              0,
              "#0d0887"
             ],
             [
              0.1111111111111111,
              "#46039f"
             ],
             [
              0.2222222222222222,
              "#7201a8"
             ],
             [
              0.3333333333333333,
              "#9c179e"
             ],
             [
              0.4444444444444444,
              "#bd3786"
             ],
             [
              0.5555555555555556,
              "#d8576b"
             ],
             [
              0.6666666666666666,
              "#ed7953"
             ],
             [
              0.7777777777777778,
              "#fb9f3a"
             ],
             [
              0.8888888888888888,
              "#fdca26"
             ],
             [
              1,
              "#f0f921"
             ]
            ],
            "type": "contour"
           }
          ],
          "contourcarpet": [
           {
            "colorbar": {
             "outlinewidth": 0,
             "ticks": ""
            },
            "type": "contourcarpet"
           }
          ],
          "heatmap": [
           {
            "colorbar": {
             "outlinewidth": 0,
             "ticks": ""
            },
            "colorscale": [
             [
              0,
              "#0d0887"
             ],
             [
              0.1111111111111111,
              "#46039f"
             ],
             [
              0.2222222222222222,
              "#7201a8"
             ],
             [
              0.3333333333333333,
              "#9c179e"
             ],
             [
              0.4444444444444444,
              "#bd3786"
             ],
             [
              0.5555555555555556,
              "#d8576b"
             ],
             [
              0.6666666666666666,
              "#ed7953"
             ],
             [
              0.7777777777777778,
              "#fb9f3a"
             ],
             [
              0.8888888888888888,
              "#fdca26"
             ],
             [
              1,
              "#f0f921"
             ]
            ],
            "type": "heatmap"
           }
          ],
          "histogram": [
           {
            "marker": {
             "pattern": {
              "fillmode": "overlay",
              "size": 10,
              "solidity": 0.2
             }
            },
            "type": "histogram"
           }
          ],
          "histogram2d": [
           {
            "colorbar": {
             "outlinewidth": 0,
             "ticks": ""
            },
            "colorscale": [
             [
              0,
              "#0d0887"
             ],
             [
              0.1111111111111111,
              "#46039f"
             ],
             [
              0.2222222222222222,
              "#7201a8"
             ],
             [
              0.3333333333333333,
              "#9c179e"
             ],
             [
              0.4444444444444444,
              "#bd3786"
             ],
             [
              0.5555555555555556,
              "#d8576b"
             ],
             [
              0.6666666666666666,
              "#ed7953"
             ],
             [
              0.7777777777777778,
              "#fb9f3a"
             ],
             [
              0.8888888888888888,
              "#fdca26"
             ],
             [
              1,
              "#f0f921"
             ]
            ],
            "type": "histogram2d"
           }
          ],
          "histogram2dcontour": [
           {
            "colorbar": {
             "outlinewidth": 0,
             "ticks": ""
            },
            "colorscale": [
             [
              0,
              "#0d0887"
             ],
             [
              0.1111111111111111,
              "#46039f"
             ],
             [
              0.2222222222222222,
              "#7201a8"
             ],
             [
              0.3333333333333333,
              "#9c179e"
             ],
             [
              0.4444444444444444,
              "#bd3786"
             ],
             [
              0.5555555555555556,
              "#d8576b"
             ],
             [
              0.6666666666666666,
              "#ed7953"
             ],
             [
              0.7777777777777778,
              "#fb9f3a"
             ],
             [
              0.8888888888888888,
              "#fdca26"
             ],
             [
              1,
              "#f0f921"
             ]
            ],
            "type": "histogram2dcontour"
           }
          ],
          "mesh3d": [
           {
            "colorbar": {
             "outlinewidth": 0,
             "ticks": ""
            },
            "type": "mesh3d"
           }
          ],
          "parcoords": [
           {
            "line": {
             "colorbar": {
              "outlinewidth": 0,
              "ticks": ""
             }
            },
            "type": "parcoords"
           }
          ],
          "pie": [
           {
            "automargin": true,
            "type": "pie"
           }
          ],
          "scatter": [
           {
            "fillpattern": {
             "fillmode": "overlay",
             "size": 10,
             "solidity": 0.2
            },
            "type": "scatter"
           }
          ],
          "scatter3d": [
           {
            "line": {
             "colorbar": {
              "outlinewidth": 0,
              "ticks": ""
             }
            },
            "marker": {
             "colorbar": {
              "outlinewidth": 0,
              "ticks": ""
             }
            },
            "type": "scatter3d"
           }
          ],
          "scattercarpet": [
           {
            "marker": {
             "colorbar": {
              "outlinewidth": 0,
              "ticks": ""
             }
            },
            "type": "scattercarpet"
           }
          ],
          "scattergeo": [
           {
            "marker": {
             "colorbar": {
              "outlinewidth": 0,
              "ticks": ""
             }
            },
            "type": "scattergeo"
           }
          ],
          "scattergl": [
           {
            "marker": {
             "colorbar": {
              "outlinewidth": 0,
              "ticks": ""
             }
            },
            "type": "scattergl"
           }
          ],
          "scattermap": [
           {
            "marker": {
             "colorbar": {
              "outlinewidth": 0,
              "ticks": ""
             }
            },
            "type": "scattermap"
           }
          ],
          "scattermapbox": [
           {
            "marker": {
             "colorbar": {
              "outlinewidth": 0,
              "ticks": ""
             }
            },
            "type": "scattermapbox"
           }
          ],
          "scatterpolar": [
           {
            "marker": {
             "colorbar": {
              "outlinewidth": 0,
              "ticks": ""
             }
            },
            "type": "scatterpolar"
           }
          ],
          "scatterpolargl": [
           {
            "marker": {
             "colorbar": {
              "outlinewidth": 0,
              "ticks": ""
             }
            },
            "type": "scatterpolargl"
           }
          ],
          "scatterternary": [
           {
            "marker": {
             "colorbar": {
              "outlinewidth": 0,
              "ticks": ""
             }
            },
            "type": "scatterternary"
           }
          ],
          "surface": [
           {
            "colorbar": {
             "outlinewidth": 0,
             "ticks": ""
            },
            "colorscale": [
             [
              0,
              "#0d0887"
             ],
             [
              0.1111111111111111,
              "#46039f"
             ],
             [
              0.2222222222222222,
              "#7201a8"
             ],
             [
              0.3333333333333333,
              "#9c179e"
             ],
             [
              0.4444444444444444,
              "#bd3786"
             ],
             [
              0.5555555555555556,
              "#d8576b"
             ],
             [
              0.6666666666666666,
              "#ed7953"
             ],
             [
              0.7777777777777778,
              "#fb9f3a"
             ],
             [
              0.8888888888888888,
              "#fdca26"
             ],
             [
              1,
              "#f0f921"
             ]
            ],
            "type": "surface"
           }
          ],
          "table": [
           {
            "cells": {
             "fill": {
              "color": "#EBF0F8"
             },
             "line": {
              "color": "white"
             }
            },
            "header": {
             "fill": {
              "color": "#C8D4E3"
             },
             "line": {
              "color": "white"
             }
            },
            "type": "table"
           }
          ]
         },
         "layout": {
          "annotationdefaults": {
           "arrowcolor": "#2a3f5f",
           "arrowhead": 0,
           "arrowwidth": 1
          },
          "autotypenumbers": "strict",
          "coloraxis": {
           "colorbar": {
            "outlinewidth": 0,
            "ticks": ""
           }
          },
          "colorscale": {
           "diverging": [
            [
             0,
             "#8e0152"
            ],
            [
             0.1,
             "#c51b7d"
            ],
            [
             0.2,
             "#de77ae"
            ],
            [
             0.3,
             "#f1b6da"
            ],
            [
             0.4,
             "#fde0ef"
            ],
            [
             0.5,
             "#f7f7f7"
            ],
            [
             0.6,
             "#e6f5d0"
            ],
            [
             0.7,
             "#b8e186"
            ],
            [
             0.8,
             "#7fbc41"
            ],
            [
             0.9,
             "#4d9221"
            ],
            [
             1,
             "#276419"
            ]
           ],
           "sequential": [
            [
             0,
             "#0d0887"
            ],
            [
             0.1111111111111111,
             "#46039f"
            ],
            [
             0.2222222222222222,
             "#7201a8"
            ],
            [
             0.3333333333333333,
             "#9c179e"
            ],
            [
             0.4444444444444444,
             "#bd3786"
            ],
            [
             0.5555555555555556,
             "#d8576b"
            ],
            [
             0.6666666666666666,
             "#ed7953"
            ],
            [
             0.7777777777777778,
             "#fb9f3a"
            ],
            [
             0.8888888888888888,
             "#fdca26"
            ],
            [
             1,
             "#f0f921"
            ]
           ],
           "sequentialminus": [
            [
             0,
             "#0d0887"
            ],
            [
             0.1111111111111111,
             "#46039f"
            ],
            [
             0.2222222222222222,
             "#7201a8"
            ],
            [
             0.3333333333333333,
             "#9c179e"
            ],
            [
             0.4444444444444444,
             "#bd3786"
            ],
            [
             0.5555555555555556,
             "#d8576b"
            ],
            [
             0.6666666666666666,
             "#ed7953"
            ],
            [
             0.7777777777777778,
             "#fb9f3a"
            ],
            [
             0.8888888888888888,
             "#fdca26"
            ],
            [
             1,
             "#f0f921"
            ]
           ]
          },
          "colorway": [
           "#636efa",
           "#EF553B",
           "#00cc96",
           "#ab63fa",
           "#FFA15A",
           "#19d3f3",
           "#FF6692",
           "#B6E880",
           "#FF97FF",
           "#FECB52"
          ],
          "font": {
           "color": "#2a3f5f"
          },
          "geo": {
           "bgcolor": "white",
           "lakecolor": "white",
           "landcolor": "#E5ECF6",
           "showlakes": true,
           "showland": true,
           "subunitcolor": "white"
          },
          "hoverlabel": {
           "align": "left"
          },
          "hovermode": "closest",
          "mapbox": {
           "style": "light"
          },
          "paper_bgcolor": "white",
          "plot_bgcolor": "#E5ECF6",
          "polar": {
           "angularaxis": {
            "gridcolor": "white",
            "linecolor": "white",
            "ticks": ""
           },
           "bgcolor": "#E5ECF6",
           "radialaxis": {
            "gridcolor": "white",
            "linecolor": "white",
            "ticks": ""
           }
          },
          "scene": {
           "xaxis": {
            "backgroundcolor": "#E5ECF6",
            "gridcolor": "white",
            "gridwidth": 2,
            "linecolor": "white",
            "showbackground": true,
            "ticks": "",
            "zerolinecolor": "white"
           },
           "yaxis": {
            "backgroundcolor": "#E5ECF6",
            "gridcolor": "white",
            "gridwidth": 2,
            "linecolor": "white",
            "showbackground": true,
            "ticks": "",
            "zerolinecolor": "white"
           },
           "zaxis": {
            "backgroundcolor": "#E5ECF6",
            "gridcolor": "white",
            "gridwidth": 2,
            "linecolor": "white",
            "showbackground": true,
            "ticks": "",
            "zerolinecolor": "white"
           }
          },
          "shapedefaults": {
           "line": {
            "color": "#2a3f5f"
           }
          },
          "ternary": {
           "aaxis": {
            "gridcolor": "white",
            "linecolor": "white",
            "ticks": ""
           },
           "baxis": {
            "gridcolor": "white",
            "linecolor": "white",
            "ticks": ""
           },
           "bgcolor": "#E5ECF6",
           "caxis": {
            "gridcolor": "white",
            "linecolor": "white",
            "ticks": ""
           }
          },
          "title": {
           "x": 0.05
          },
          "xaxis": {
           "automargin": true,
           "gridcolor": "white",
           "linecolor": "white",
           "ticks": "",
           "title": {
            "standoff": 15
           },
           "zerolinecolor": "white",
           "zerolinewidth": 2
          },
          "yaxis": {
           "automargin": true,
           "gridcolor": "white",
           "linecolor": "white",
           "ticks": "",
           "title": {
            "standoff": 15
           },
           "zerolinecolor": "white",
           "zerolinewidth": 2
          }
         }
        },
        "xaxis": {
         "anchor": "y",
         "domain": [
          0,
          1
         ],
         "title": {
          "text": "T_Stage"
         }
        },
        "yaxis": {
         "anchor": "x",
         "domain": [
          0,
          1
         ],
         "title": {
          "text": "count"
         }
        }
       }
      }
     },
     "metadata": {},
     "output_type": "display_data"
    },
    {
     "data": {
      "application/vnd.plotly.v1+json": {
       "config": {
        "plotlyServerURL": "https://plot.ly"
       },
       "data": [
        {
         "bingroup": "x",
         "hovertemplate": "N_Stage=%{x}<br>count=%{y}<extra></extra>",
         "legendgroup": "",
         "marker": {
          "color": "#636efa",
          "pattern": {
           "shape": ""
          }
         },
         "name": "",
         "orientation": "v",
         "showlegend": false,
         "type": "histogram",
         "x": {
          "bdata": "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",
          "dtype": "i1"
         },
         "xaxis": "x",
         "yaxis": "y"
        }
       ],
       "layout": {
        "barmode": "relative",
        "legend": {
         "tracegroupgap": 0
        },
        "margin": {
         "t": 60
        },
        "template": {
         "data": {
          "bar": [
           {
            "error_x": {
             "color": "#2a3f5f"
            },
            "error_y": {
             "color": "#2a3f5f"
            },
            "marker": {
             "line": {
              "color": "#E5ECF6",
              "width": 0.5
             },
             "pattern": {
              "fillmode": "overlay",
              "size": 10,
              "solidity": 0.2
             }
            },
            "type": "bar"
           }
          ],
          "barpolar": [
           {
            "marker": {
             "line": {
              "color": "#E5ECF6",
              "width": 0.5
             },
             "pattern": {
              "fillmode": "overlay",
              "size": 10,
              "solidity": 0.2
             }
            },
            "type": "barpolar"
           }
          ],
          "carpet": [
           {
            "aaxis": {
             "endlinecolor": "#2a3f5f",
             "gridcolor": "white",
             "linecolor": "white",
             "minorgridcolor": "white",
             "startlinecolor": "#2a3f5f"
            },
            "baxis": {
             "endlinecolor": "#2a3f5f",
             "gridcolor": "white",
             "linecolor": "white",
             "minorgridcolor": "white",
             "startlinecolor": "#2a3f5f"
            },
            "type": "carpet"
           }
          ],
          "choropleth": [
           {
            "colorbar": {
             "outlinewidth": 0,
             "ticks": ""
            },
            "type": "choropleth"
           }
          ],
          "contour": [
           {
            "colorbar": {
             "outlinewidth": 0,
             "ticks": ""
            },
            "colorscale": [
             [
              0,
              "#0d0887"
             ],
             [
              0.1111111111111111,
              "#46039f"
             ],
             [
              0.2222222222222222,
              "#7201a8"
             ],
             [
              0.3333333333333333,
              "#9c179e"
             ],
             [
              0.4444444444444444,
              "#bd3786"
             ],
             [
              0.5555555555555556,
              "#d8576b"
             ],
             [
              0.6666666666666666,
              "#ed7953"
             ],
             [
              0.7777777777777778,
              "#fb9f3a"
             ],
             [
              0.8888888888888888,
              "#fdca26"
             ],
             [
              1,
              "#f0f921"
             ]
            ],
            "type": "contour"
           }
          ],
          "contourcarpet": [
           {
            "colorbar": {
             "outlinewidth": 0,
             "ticks": ""
            },
            "type": "contourcarpet"
           }
          ],
          "heatmap": [
           {
            "colorbar": {
             "outlinewidth": 0,
             "ticks": ""
            },
            "colorscale": [
             [
              0,
              "#0d0887"
             ],
             [
              0.1111111111111111,
              "#46039f"
             ],
             [
              0.2222222222222222,
              "#7201a8"
             ],
             [
              0.3333333333333333,
              "#9c179e"
             ],
             [
              0.4444444444444444,
              "#bd3786"
             ],
             [
              0.5555555555555556,
              "#d8576b"
             ],
             [
              0.6666666666666666,
              "#ed7953"
             ],
             [
              0.7777777777777778,
              "#fb9f3a"
             ],
             [
              0.8888888888888888,
              "#fdca26"
             ],
             [
              1,
              "#f0f921"
             ]
            ],
            "type": "heatmap"
           }
          ],
          "histogram": [
           {
            "marker": {
             "pattern": {
              "fillmode": "overlay",
              "size": 10,
              "solidity": 0.2
             }
            },
            "type": "histogram"
           }
          ],
          "histogram2d": [
           {
            "colorbar": {
             "outlinewidth": 0,
             "ticks": ""
            },
            "colorscale": [
             [
              0,
              "#0d0887"
             ],
             [
              0.1111111111111111,
              "#46039f"
             ],
             [
              0.2222222222222222,
              "#7201a8"
             ],
             [
              0.3333333333333333,
              "#9c179e"
             ],
             [
              0.4444444444444444,
              "#bd3786"
             ],
             [
              0.5555555555555556,
              "#d8576b"
             ],
             [
              0.6666666666666666,
              "#ed7953"
             ],
             [
              0.7777777777777778,
              "#fb9f3a"
             ],
             [
              0.8888888888888888,
              "#fdca26"
             ],
             [
              1,
              "#f0f921"
             ]
            ],
            "type": "histogram2d"
           }
          ],
          "histogram2dcontour": [
           {
            "colorbar": {
             "outlinewidth": 0,
             "ticks": ""
            },
            "colorscale": [
             [
              0,
              "#0d0887"
             ],
             [
              0.1111111111111111,
              "#46039f"
             ],
             [
              0.2222222222222222,
              "#7201a8"
             ],
             [
              0.3333333333333333,
              "#9c179e"
             ],
             [
              0.4444444444444444,
              "#bd3786"
             ],
             [
              0.5555555555555556,
              "#d8576b"
             ],
             [
              0.6666666666666666,
              "#ed7953"
             ],
             [
              0.7777777777777778,
              "#fb9f3a"
             ],
             [
              0.8888888888888888,
              "#fdca26"
             ],
             [
              1,
              "#f0f921"
             ]
            ],
            "type": "histogram2dcontour"
           }
          ],
          "mesh3d": [
           {
            "colorbar": {
             "outlinewidth": 0,
             "ticks": ""
            },
            "type": "mesh3d"
           }
          ],
          "parcoords": [
           {
            "line": {
             "colorbar": {
              "outlinewidth": 0,
              "ticks": ""
             }
            },
            "type": "parcoords"
           }
          ],
          "pie": [
           {
            "automargin": true,
            "type": "pie"
           }
          ],
          "scatter": [
           {
            "fillpattern": {
             "fillmode": "overlay",
             "size": 10,
             "solidity": 0.2
            },
            "type": "scatter"
           }
          ],
          "scatter3d": [
           {
            "line": {
             "colorbar": {
              "outlinewidth": 0,
              "ticks": ""
             }
            },
            "marker": {
             "colorbar": {
              "outlinewidth": 0,
              "ticks": ""
             }
            },
            "type": "scatter3d"
           }
          ],
          "scattercarpet": [
           {
            "marker": {
             "colorbar": {
              "outlinewidth": 0,
              "ticks": ""
             }
            },
            "type": "scattercarpet"
           }
          ],
          "scattergeo": [
           {
            "marker": {
             "colorbar": {
              "outlinewidth": 0,
              "ticks": ""
             }
            },
            "type": "scattergeo"
           }
          ],
          "scattergl": [
           {
            "marker": {
             "colorbar": {
              "outlinewidth": 0,
              "ticks": ""
             }
            },
            "type": "scattergl"
           }
          ],
          "scattermap": [
           {
            "marker": {
             "colorbar": {
              "outlinewidth": 0,
              "ticks": ""
             }
            },
            "type": "scattermap"
           }
          ],
          "scattermapbox": [
           {
            "marker": {
             "colorbar": {
              "outlinewidth": 0,
              "ticks": ""
             }
            },
            "type": "scattermapbox"
           }
          ],
          "scatterpolar": [
           {
            "marker": {
             "colorbar": {
              "outlinewidth": 0,
              "ticks": ""
             }
            },
            "type": "scatterpolar"
           }
          ],
          "scatterpolargl": [
           {
            "marker": {
             "colorbar": {
              "outlinewidth": 0,
              "ticks": ""
             }
            },
            "type": "scatterpolargl"
           }
          ],
          "scatterternary": [
           {
            "marker": {
             "colorbar": {
              "outlinewidth": 0,
              "ticks": ""
             }
            },
            "type": "scatterternary"
           }
          ],
          "surface": [
           {
            "colorbar": {
             "outlinewidth": 0,
             "ticks": ""
            },
            "colorscale": [
             [
              0,
              "#0d0887"
             ],
             [
              0.1111111111111111,
              "#46039f"
             ],
             [
              0.2222222222222222,
              "#7201a8"
             ],
             [
              0.3333333333333333,
              "#9c179e"
             ],
             [
              0.4444444444444444,
              "#bd3786"
             ],
             [
              0.5555555555555556,
              "#d8576b"
             ],
             [
              0.6666666666666666,
              "#ed7953"
             ],
             [
              0.7777777777777778,
              "#fb9f3a"
             ],
             [
              0.8888888888888888,
              "#fdca26"
             ],
             [
              1,
              "#f0f921"
             ]
            ],
            "type": "surface"
           }
          ],
          "table": [
           {
            "cells": {
             "fill": {
              "color": "#EBF0F8"
             },
             "line": {
              "color": "white"
             }
            },
            "header": {
             "fill": {
              "color": "#C8D4E3"
             },
             "line": {
              "color": "white"
             }
            },
            "type": "table"
           }
          ]
         },
         "layout": {
          "annotationdefaults": {
           "arrowcolor": "#2a3f5f",
           "arrowhead": 0,
           "arrowwidth": 1
          },
          "autotypenumbers": "strict",
          "coloraxis": {
           "colorbar": {
            "outlinewidth": 0,
            "ticks": ""
           }
          },
          "colorscale": {
           "diverging": [
            [
             0,
             "#8e0152"
            ],
            [
             0.1,
             "#c51b7d"
            ],
            [
             0.2,
             "#de77ae"
            ],
            [
             0.3,
             "#f1b6da"
            ],
            [
             0.4,
             "#fde0ef"
            ],
            [
             0.5,
             "#f7f7f7"
            ],
            [
             0.6,
             "#e6f5d0"
            ],
            [
             0.7,
             "#b8e186"
            ],
            [
             0.8,
             "#7fbc41"
            ],
            [
             0.9,
             "#4d9221"
            ],
            [
             1,
             "#276419"
            ]
           ],
           "sequential": [
            [
             0,
             "#0d0887"
            ],
            [
             0.1111111111111111,
             "#46039f"
            ],
            [
             0.2222222222222222,
             "#7201a8"
            ],
            [
             0.3333333333333333,
             "#9c179e"
            ],
            [
             0.4444444444444444,
             "#bd3786"
            ],
            [
             0.5555555555555556,
             "#d8576b"
            ],
            [
             0.6666666666666666,
             "#ed7953"
            ],
            [
             0.7777777777777778,
             "#fb9f3a"
            ],
            [
             0.8888888888888888,
             "#fdca26"
            ],
            [
             1,
             "#f0f921"
            ]
           ],
           "sequentialminus": [
            [
             0,
             "#0d0887"
            ],
            [
             0.1111111111111111,
             "#46039f"
            ],
            [
             0.2222222222222222,
             "#7201a8"
            ],
            [
             0.3333333333333333,
             "#9c179e"
            ],
            [
             0.4444444444444444,
             "#bd3786"
            ],
            [
             0.5555555555555556,
             "#d8576b"
            ],
            [
             0.6666666666666666,
             "#ed7953"
            ],
            [
             0.7777777777777778,
             "#fb9f3a"
            ],
            [
             0.8888888888888888,
             "#fdca26"
            ],
            [
             1,
             "#f0f921"
            ]
           ]
          },
          "colorway": [
           "#636efa",
           "#EF553B",
           "#00cc96",
           "#ab63fa",
           "#FFA15A",
           "#19d3f3",
           "#FF6692",
           "#B6E880",
           "#FF97FF",
           "#FECB52"
          ],
          "font": {
           "color": "#2a3f5f"
          },
          "geo": {
           "bgcolor": "white",
           "lakecolor": "white",
           "landcolor": "#E5ECF6",
           "showlakes": true,
           "showland": true,
           "subunitcolor": "white"
          },
          "hoverlabel": {
           "align": "left"
          },
          "hovermode": "closest",
          "mapbox": {
           "style": "light"
          },
          "paper_bgcolor": "white",
          "plot_bgcolor": "#E5ECF6",
          "polar": {
           "angularaxis": {
            "gridcolor": "white",
            "linecolor": "white",
            "ticks": ""
           },
           "bgcolor": "#E5ECF6",
           "radialaxis": {
            "gridcolor": "white",
            "linecolor": "white",
            "ticks": ""
           }
          },
          "scene": {
           "xaxis": {
            "backgroundcolor": "#E5ECF6",
            "gridcolor": "white",
            "gridwidth": 2,
            "linecolor": "white",
            "showbackground": true,
            "ticks": "",
            "zerolinecolor": "white"
           },
           "yaxis": {
            "backgroundcolor": "#E5ECF6",
            "gridcolor": "white",
            "gridwidth": 2,
            "linecolor": "white",
            "showbackground": true,
            "ticks": "",
            "zerolinecolor": "white"
           },
           "zaxis": {
            "backgroundcolor": "#E5ECF6",
            "gridcolor": "white",
            "gridwidth": 2,
            "linecolor": "white",
            "showbackground": true,
            "ticks": "",
            "zerolinecolor": "white"
           }
          },
          "shapedefaults": {
           "line": {
            "color": "#2a3f5f"
           }
          },
          "ternary": {
           "aaxis": {
            "gridcolor": "white",
            "linecolor": "white",
            "ticks": ""
           },
           "baxis": {
            "gridcolor": "white",
            "linecolor": "white",
            "ticks": ""
           },
           "bgcolor": "#E5ECF6",
           "caxis": {
            "gridcolor": "white",
            "linecolor": "white",
            "ticks": ""
           }
          },
          "title": {
           "x": 0.05
          },
          "xaxis": {
           "automargin": true,
           "gridcolor": "white",
           "linecolor": "white",
           "ticks": "",
           "title": {
            "standoff": 15
           },
           "zerolinecolor": "white",
           "zerolinewidth": 2
          },
          "yaxis": {
           "automargin": true,
           "gridcolor": "white",
           "linecolor": "white",
           "ticks": "",
           "title": {
            "standoff": 15
           },
           "zerolinecolor": "white",
           "zerolinewidth": 2
          }
         }
        },
        "xaxis": {
         "anchor": "y",
         "domain": [
          0,
          1
         ],
         "title": {
          "text": "N_Stage"
         }
        },
        "yaxis": {
         "anchor": "x",
         "domain": [
          0,
          1
         ],
         "title": {
          "text": "count"
         }
        }
       }
      }
     },
     "metadata": {},
     "output_type": "display_data"
    },
    {
     "data": {
      "application/vnd.plotly.v1+json": {
       "config": {
        "plotlyServerURL": "https://plot.ly"
       },
       "data": [
        {
         "bingroup": "x",
         "hovertemplate": "6th_Stage=%{x}<br>count=%{y}<extra></extra>",
         "legendgroup": "",
         "marker": {
          "color": "#636efa",
          "pattern": {
           "shape": ""
          }
         },
         "name": "",
         "orientation": "v",
         "showlegend": false,
         "type": "histogram",
         "x": {
          "bdata": "AAIEAAEAAAEEBAACAQIEAAEBAQEBAgECBAQEAAIBAQAAAAQAAgABAgQAAQIAAgQAAgABAgICAAABAAAAAAABAgAABAAAAAIEAQAEAgIBAQAEAAEAAAQCAgAAAgACBAABAQEDAQQAAQEBAQEAAQECAgQBAgACAgEBAQMEAgAAAQAAAAACAAACAAEBBAIAAgABAQEAAgABAAEAAgACAAABBAIAAAACAgIEAQABAgAAAAIEAAQCAAEAAQQBAgECAAEAAAEEAAECAQEBAgAEAAABAQEDAgQEAAICAQIABAQCAAEAAAICAAQBAgIAAAAEAgQAAQEBBAIAAAEAAAIBAQICAQAAAQEAAQEAAAEAAgEEBAEBAgEAAgQAAgAABAEBAgEEBAQBAAACBAAAAgACAQEABAIEAQIBAQECAgQAAQIABAEAAAICAQICAAMCAQQAAAEAAgIAAQECAgACAgABAgACAgAAAAEAAQAAAQACAQACAgIBAgQEAAIEBAIBAQIBAgICAAEAAAEBBAICAgQAAwACAAACAAMBAQEBAAECAQEAAAEBAQEBAQIAAAECAgQBAAIEAQABBAAAAQABBAAABAIAAgECAQABAAAEAAQAAAAAAQABAAABAAABAAACAgICAAICAgIEAgEAAgACAAIAAAIAAAABBAACAgAAAAIAAAAAAQABAAEBBAQCAQAEBAQABAIBBAEEAAQCAQQAAQEAAgEAAAQBAgIEAgQCAAIBAAICAAIBAAECAgIAAAQEAQEEAgQCAQABAAQAAQAAAwAABAEBAAIEAQIAAAIBAAIEAgEBAAQAAQEBAQABAgIBAgEAAQACAQECAAIBAgABBAEBAQIAAAIAAQIEAAEBAAIBAAEAAgEEAAQEAAAEAwACAgIBAQABAAIBAQEBAQIABAECBAEBAAABAgIAAgECBAQBAAIDAgAEAgICBAABAAECAQABAAIBAgQAAAIBAAIDBAIAAAACAAIAAQECAAEBAAACAgIAAAEBAQIBAQEBAgAAAQEAAgEAAQICAgEAAgAEAgAAAAIBAgABAwEAAQIAAAIBAAAAAQEEBAAAAQAAAgEBAAEAAQQEBAEAAQACAQECAgABAgAAAAICAQEAAAQBBAIBAgMEAQABAAACAQABAgIAAQABAgEEAQQCBAABAQECAgMAAAICAAIBAAIAAAAEAAICAgQCAgECAgIAAAAAAgEABAQBBAAEAQABAAICAAABBAQAAAEAAQEAAQEAAQACAAICAgQCAAEEAAEEAgQAAAAAAQAAAAECAAACAgQBAQACAgAEAQIAAAECAQACAgIAAAIABAEEAQABAgECAQEAAQABBAIEAQECAgACAAECAgEBBAABAgEBAQIAAQABAgAAAAQAAAACAQQEAgIEAQAAAAIAAAACAQACAgAAAAQEAgAAAQICAAQCAgICAQACAAIBBAQEAQEAAwABBAACAQAABAIAAAAEAQABAAIEBAECAQEAAAICBAIBBAQBAgABAQAABAAAAAEBAAIEAQADBAACAQEBAAABAgAEAAACAgEAAAICAgAAAAECAgIBAgAAAQABAgAEBAAAAgEBAAECAQICBAACAQACAAAEAQACAQACAAEAAgAEBAEAAgEBAQEAAAIAAAMAAQAAAAIBAAEBAAEAAQICAQACAgQCAAMAAAEBAAEAAQAAAQQCAQIEAAQBAgABAgICAgECBAACAQIBAAIEAgACAAAAAQAAAAABAgABAAAAAgEEAQAAAQABAwAEAgEABAICAAEEAAABBAIBAAAEAQEAAQEEAAEAAQECAAADAAIBAgICAQABAAAAAQAAAQEBAAMBAAICAAIBBAQAAAEEAQQBAgIEAQEEAAACAAQBAAAEAAEAAQAEAQEAAQQBAAICAgQBAAQAAAECAgEBAQEEAQEEAgACBAICAAQEBAABAQICAgAAAQIAAQAAAgQEAAIAAQACAgIBAAICAgEAAQEAAgACAAMAAQABAgAAAgIDAAECAgECAAEAAAEBAAACBAEEAwEAAQQAAAAEAQIEAQABAAEBAAQBBAQBBAICBAQEAgEAAQACAgEAAgEBAgEBAgIAAgEEAgEABAQAAAEAAgAAAQECAAABAgABAQEBAAECAwECAAQAAAAAAAICAgIEAgEAAAACAAABBAICAQQBAgIAAwICAAIEAQECAQEBAAACAgIAAQABAAABAgABAQEAAQIBAgEAAgAAAQAAAQAEAgAAAAEAAAAAAAACAQACBAEEAgABAAQAAQIBAQIAAAAEAgIAAQECAgICAAQDAQIBAgAAAAAEAAABAQAAAgIBBAAAAQAAAQADAAQAAgIBBAAAAAAAAAIEAgAAAQABAgICAQAAAQAAAQEAAAACAAIBAQAAAAEABAACAAMEAQAAAAABAQIEAQQCAAABAAQCAAIBAgABAAABAgIBAQECAgICAgICAAEABAAEAQAAAgAAAAECAAAEAAACAQIBAQEBAQABAAQBAgACAAECAAIBBAAAAQACAgQAAwIEAAEAAgECAQEAAQABAAICAQEAAAABAgAEBAECAAIAAAICAgABAQICAQIBAAEEAAECAAAABAACAgMAAAICAQACAAABAgECAAIEAgABAAADAQMCAQACAgAAAQEBAQQAAAAEAAABAQEAAgEBAgICBAAEAgIAAQIAAQAAAQACAwABAQAAAQQAAQEBAAIAAQAEBAECBAAABAQAAQEEBAQCAQACAgACAAEAAAEBAQACAgAABAACAQACAAABAAIBAAICAQIBAAEBAAAAAAEBAgEAAgIBAgIBBAICAgAAAAACAAIBAgMAAgAAAAICAAEABAAAAAAAAAECAAAAAAICAQICBAIAAgEBBAEAAgECBAQABAEAAAACAgABAQABAgICAAICAQEBBAICAAIBAQABBAQEAAIAAAIAAAIBAgABAQEEAAAAAAAAAQIABAABAQEAAQACAAIAAQAAAgIBAgECAAIBAQEBAgABBAICBAQDBAICAAACAQABAQEBAgECAAACAQIAAwEAAQACAgACAgICAQQEAAQBAgEEAQQCAAACAgQBAgIBAQECAgICAgAAAQICAgACAQECAgAEAAEABAICBAAAAAAAAQEABAAAAQEEAgABAQQBAQIBAgQCAwACAgACBAQAAAQCAgIEAwEAAAACAAACAAAEAAMBAgAAAAAAAQICAQAAAQEAAAIBAgEBAAEBAgABAgAAAgACAAIBAAEBAgIEAAQCAgAAAAACAAIAAgAAAAABAgEAAgECBAAAAAIBAQIBAQIAAAAEAgIEAAIAAQACAQIEAQAEBAACAQEAAgIBAAAEAgACAgEEAAAAAQIBAwECAgQCAgACAAAAAgECAwEBAQACAgEEAAEEAQMDAgQCAQAAAQEAAQAAAAEEAAEBAAEAAgEAAAAEAAICAQIAAQECBAAAAgIBAgICAQECAQAEAAECAAEBAAQAAQACAgEBAQQDAgQBAQIBAgIEBAACAgQBAQIAAAAAAQQAAQQCAQACAQIAAAACAAQBAgIAAgQAAQECAgIAAAIAAQEAAQICBAECAQAAAQACAgACAAIBAQEAAAECAgACAAQAAQAAAAIBAgICAgMCBAAAAwEBAQEAAgABBAADBAICAAIAAAIAAAIAAAICAAEBAgEBAQICBAEAAAICAAIBAgABAgIBAQQBAQECBAQDBAIABAQCAgEAAQEAAAAAAAAAAAICAAEBAAIEAQICAgAAAgIBAQEBAQICAQQEAQACAgEAAAIAAAACAgEBAAQAAAAABAQEAAEAAQIBAgEAAQIEAgACAAAAAQACBAIBAgEBBAICAQABAQICAAAAAAIBAQMAAQQAAQIEAQADAAIAAQAAAgIAAgAAAgIEAQIEAQAEAQEEAgAAAQIAAAACAQAAAQABAQEBBAIBAQQCBAACAAECAAECAgABAAIBAgICAgQBAgEEAgICAgEAAgEEAQABAAIBAQEAAQEBAQACAAEEAQABBAABAQIBAgQCBAAEAgEBBAABAQQCAQACAQEEAQAEAAICAgEBAAACAAAABAECBAEBAQMAAgICAQAAAQAAAgIAAQIAAQEABAEBAQACAAAAAQIEAAECAAQBAAAEAAACAgQEAQIBAAICAQEAAQACAgQEAgECAgABAgEABAACAQEBAAIBAAEEAAIBAAACAQICAQABAQIBAgACAQEAAAAAAQEBAAACAQEAAQECBAEAAAICBAAAAgIAAAIBAAQAAQAABAECAAIAAgEBAQEAAAMAAgICAQICAQICAQEABAAEAQAAAAIAAAEAAgICAAIEAQAABAABAQAEAgIAAgIAAgABAAEAAQQEAgIAAQABAQMBAAACAAIBAAAAAQQABAIBAAACAgIBAAACAgACAQAEAAIDAQICAQEBAgECAAEBAAIBAgAAAgEAAgEAAgEDAQIAAgICAAECBAEEAQEBBAEEBAIEAwAAAQEAAAAAAQQAAQEAAgAAAgABAAEBAQEAAAAEBAACAAECAQAEBAEBAQAAAQEBAQABBAEBAgAEBAMAAAECAgAEAAQCAAABAAECAAEBAQEBAAIBAQAAAQACAQAAAgECAQECAAEBAgMAAQIBAAMEAAICAQACAQICAgEEAgQAAQICAAABAAEBAQEAAgEEAQABAAIBAAAAAAACAAECAQICAQAEAgACAgACAgIAAQECAQIBAgIEAAEBAgQBAgACAQECAAEBAAEBAQIEAAQEAQABAgIAAAECAAECAAAEAAABAAAAAAQBAAICAgIEAQAAAQICAAACAAECBAABAQEBAgACAwEAAgEBAQABAQQBAAQCAAAEAQAAAAIBAAQAAQIEAgACAQAAAgEBAgECAQABAgQBAAICAQAAAQQBAQIBAQICAQEAAAICAgIABAEAAAABAgIDAAIBAQAEBAIAAgICAQAEAQIBAQIBAgEAAAACBAACAgICAQICBAAAAgEDAgIBAQAAAQQEAAQBBAICAgIBAQIEAQECAAIBBAEAAAQCBAAAAAECAAIBAgECAAQCAQICBAECAAICBAABAQMCAAEBAQAAAAIBAAABAgEABAEAAAIAAgEBAAIAAQIAAAEDAAEEAQAAAQEBAQACBAIBAgAEAQICAQABAgIEAAQEBAIAAAADAQEAAgEBBAECAQIBAQACAgIAAQABAAQAAQQCAAECAAEBAAQBBAABAQEEAgEAAAEEAgIDAgQAAAICAQIAAgICAgQBAgECBAICAAQBAAIEAAIAAQECBAIBBAAAAAABAAEABAEAAgABAQIEAAABAAIBAAEBBAECAQACAgQBAAABAgAEAgICAAICAgQBAAQBAAEBAQQEAAAEAgAAAgEBAAICAQEDAAIBAgQAAgIBAQAAAgEBAQ==",
          "dtype": "i1"
         },
         "xaxis": "x",
         "yaxis": "y"
        }
       ],
       "layout": {
        "barmode": "relative",
        "legend": {
         "tracegroupgap": 0
        },
        "margin": {
         "t": 60
        },
        "template": {
         "data": {
          "bar": [
           {
            "error_x": {
             "color": "#2a3f5f"
            },
            "error_y": {
             "color": "#2a3f5f"
            },
            "marker": {
             "line": {
              "color": "#E5ECF6",
              "width": 0.5
             },
             "pattern": {
              "fillmode": "overlay",
              "size": 10,
              "solidity": 0.2
             }
            },
            "type": "bar"
           }
          ],
          "barpolar": [
           {
            "marker": {
             "line": {
              "color": "#E5ECF6",
              "width": 0.5
             },
             "pattern": {
              "fillmode": "overlay",
              "size": 10,
              "solidity": 0.2
             }
            },
            "type": "barpolar"
           }
          ],
          "carpet": [
           {
            "aaxis": {
             "endlinecolor": "#2a3f5f",
             "gridcolor": "white",
             "linecolor": "white",
             "minorgridcolor": "white",
             "startlinecolor": "#2a3f5f"
            },
            "baxis": {
             "endlinecolor": "#2a3f5f",
             "gridcolor": "white",
             "linecolor": "white",
             "minorgridcolor": "white",
             "startlinecolor": "#2a3f5f"
            },
            "type": "carpet"
           }
          ],
          "choropleth": [
           {
            "colorbar": {
             "outlinewidth": 0,
             "ticks": ""
            },
            "type": "choropleth"
           }
          ],
          "contour": [
           {
            "colorbar": {
             "outlinewidth": 0,
             "ticks": ""
            },
            "colorscale": [
             [
              0,
              "#0d0887"
             ],
             [
              0.1111111111111111,
              "#46039f"
             ],
             [
              0.2222222222222222,
              "#7201a8"
             ],
             [
              0.3333333333333333,
              "#9c179e"
             ],
             [
              0.4444444444444444,
              "#bd3786"
             ],
             [
              0.5555555555555556,
              "#d8576b"
             ],
             [
              0.6666666666666666,
              "#ed7953"
             ],
             [
              0.7777777777777778,
              "#fb9f3a"
             ],
             [
              0.8888888888888888,
              "#fdca26"
             ],
             [
              1,
              "#f0f921"
             ]
            ],
            "type": "contour"
           }
          ],
          "contourcarpet": [
           {
            "colorbar": {
             "outlinewidth": 0,
             "ticks": ""
            },
            "type": "contourcarpet"
           }
          ],
          "heatmap": [
           {
            "colorbar": {
             "outlinewidth": 0,
             "ticks": ""
            },
            "colorscale": [
             [
              0,
              "#0d0887"
             ],
             [
              0.1111111111111111,
              "#46039f"
             ],
             [
              0.2222222222222222,
              "#7201a8"
             ],
             [
              0.3333333333333333,
              "#9c179e"
             ],
             [
              0.4444444444444444,
              "#bd3786"
             ],
             [
              0.5555555555555556,
              "#d8576b"
             ],
             [
              0.6666666666666666,
              "#ed7953"
             ],
             [
              0.7777777777777778,
              "#fb9f3a"
             ],
             [
              0.8888888888888888,
              "#fdca26"
             ],
             [
              1,
              "#f0f921"
             ]
            ],
            "type": "heatmap"
           }
          ],
          "histogram": [
           {
            "marker": {
             "pattern": {
              "fillmode": "overlay",
              "size": 10,
              "solidity": 0.2
             }
            },
            "type": "histogram"
           }
          ],
          "histogram2d": [
           {
            "colorbar": {
             "outlinewidth": 0,
             "ticks": ""
            },
            "colorscale": [
             [
              0,
              "#0d0887"
             ],
             [
              0.1111111111111111,
              "#46039f"
             ],
             [
              0.2222222222222222,
              "#7201a8"
             ],
             [
              0.3333333333333333,
              "#9c179e"
             ],
             [
              0.4444444444444444,
              "#bd3786"
             ],
             [
              0.5555555555555556,
              "#d8576b"
             ],
             [
              0.6666666666666666,
              "#ed7953"
             ],
             [
              0.7777777777777778,
              "#fb9f3a"
             ],
             [
              0.8888888888888888,
              "#fdca26"
             ],
             [
              1,
              "#f0f921"
             ]
            ],
            "type": "histogram2d"
           }
          ],
          "histogram2dcontour": [
           {
            "colorbar": {
             "outlinewidth": 0,
             "ticks": ""
            },
            "colorscale": [
             [
              0,
              "#0d0887"
             ],
             [
              0.1111111111111111,
              "#46039f"
             ],
             [
              0.2222222222222222,
              "#7201a8"
             ],
             [
              0.3333333333333333,
              "#9c179e"
             ],
             [
              0.4444444444444444,
              "#bd3786"
             ],
             [
              0.5555555555555556,
              "#d8576b"
             ],
             [
              0.6666666666666666,
              "#ed7953"
             ],
             [
              0.7777777777777778,
              "#fb9f3a"
             ],
             [
              0.8888888888888888,
              "#fdca26"
             ],
             [
              1,
              "#f0f921"
             ]
            ],
            "type": "histogram2dcontour"
           }
          ],
          "mesh3d": [
           {
            "colorbar": {
             "outlinewidth": 0,
             "ticks": ""
            },
            "type": "mesh3d"
           }
          ],
          "parcoords": [
           {
            "line": {
             "colorbar": {
              "outlinewidth": 0,
              "ticks": ""
             }
            },
            "type": "parcoords"
           }
          ],
          "pie": [
           {
            "automargin": true,
            "type": "pie"
           }
          ],
          "scatter": [
           {
            "fillpattern": {
             "fillmode": "overlay",
             "size": 10,
             "solidity": 0.2
            },
            "type": "scatter"
           }
          ],
          "scatter3d": [
           {
            "line": {
             "colorbar": {
              "outlinewidth": 0,
              "ticks": ""
             }
            },
            "marker": {
             "colorbar": {
              "outlinewidth": 0,
              "ticks": ""
             }
            },
            "type": "scatter3d"
           }
          ],
          "scattercarpet": [
           {
            "marker": {
             "colorbar": {
              "outlinewidth": 0,
              "ticks": ""
             }
            },
            "type": "scattercarpet"
           }
          ],
          "scattergeo": [
           {
            "marker": {
             "colorbar": {
              "outlinewidth": 0,
              "ticks": ""
             }
            },
            "type": "scattergeo"
           }
          ],
          "scattergl": [
           {
            "marker": {
             "colorbar": {
              "outlinewidth": 0,
              "ticks": ""
             }
            },
            "type": "scattergl"
           }
          ],
          "scattermap": [
           {
            "marker": {
             "colorbar": {
              "outlinewidth": 0,
              "ticks": ""
             }
            },
            "type": "scattermap"
           }
          ],
          "scattermapbox": [
           {
            "marker": {
             "colorbar": {
              "outlinewidth": 0,
              "ticks": ""
             }
            },
            "type": "scattermapbox"
           }
          ],
          "scatterpolar": [
           {
            "marker": {
             "colorbar": {
              "outlinewidth": 0,
              "ticks": ""
             }
            },
            "type": "scatterpolar"
           }
          ],
          "scatterpolargl": [
           {
            "marker": {
             "colorbar": {
              "outlinewidth": 0,
              "ticks": ""
             }
            },
            "type": "scatterpolargl"
           }
          ],
          "scatterternary": [
           {
            "marker": {
             "colorbar": {
              "outlinewidth": 0,
              "ticks": ""
             }
            },
            "type": "scatterternary"
           }
          ],
          "surface": [
           {
            "colorbar": {
             "outlinewidth": 0,
             "ticks": ""
            },
            "colorscale": [
             [
              0,
              "#0d0887"
             ],
             [
              0.1111111111111111,
              "#46039f"
             ],
             [
              0.2222222222222222,
              "#7201a8"
             ],
             [
              0.3333333333333333,
              "#9c179e"
             ],
             [
              0.4444444444444444,
              "#bd3786"
             ],
             [
              0.5555555555555556,
              "#d8576b"
             ],
             [
              0.6666666666666666,
              "#ed7953"
             ],
             [
              0.7777777777777778,
              "#fb9f3a"
             ],
             [
              0.8888888888888888,
              "#fdca26"
             ],
             [
              1,
              "#f0f921"
             ]
            ],
            "type": "surface"
           }
          ],
          "table": [
           {
            "cells": {
             "fill": {
              "color": "#EBF0F8"
             },
             "line": {
              "color": "white"
             }
            },
            "header": {
             "fill": {
              "color": "#C8D4E3"
             },
             "line": {
              "color": "white"
             }
            },
            "type": "table"
           }
          ]
         },
         "layout": {
          "annotationdefaults": {
           "arrowcolor": "#2a3f5f",
           "arrowhead": 0,
           "arrowwidth": 1
          },
          "autotypenumbers": "strict",
          "coloraxis": {
           "colorbar": {
            "outlinewidth": 0,
            "ticks": ""
           }
          },
          "colorscale": {
           "diverging": [
            [
             0,
             "#8e0152"
            ],
            [
             0.1,
             "#c51b7d"
            ],
            [
             0.2,
             "#de77ae"
            ],
            [
             0.3,
             "#f1b6da"
            ],
            [
             0.4,
             "#fde0ef"
            ],
            [
             0.5,
             "#f7f7f7"
            ],
            [
             0.6,
             "#e6f5d0"
            ],
            [
             0.7,
             "#b8e186"
            ],
            [
             0.8,
             "#7fbc41"
            ],
            [
             0.9,
             "#4d9221"
            ],
            [
             1,
             "#276419"
            ]
           ],
           "sequential": [
            [
             0,
             "#0d0887"
            ],
            [
             0.1111111111111111,
             "#46039f"
            ],
            [
             0.2222222222222222,
             "#7201a8"
            ],
            [
             0.3333333333333333,
             "#9c179e"
            ],
            [
             0.4444444444444444,
             "#bd3786"
            ],
            [
             0.5555555555555556,
             "#d8576b"
            ],
            [
             0.6666666666666666,
             "#ed7953"
            ],
            [
             0.7777777777777778,
             "#fb9f3a"
            ],
            [
             0.8888888888888888,
             "#fdca26"
            ],
            [
             1,
             "#f0f921"
            ]
           ],
           "sequentialminus": [
            [
             0,
             "#0d0887"
            ],
            [
             0.1111111111111111,
             "#46039f"
            ],
            [
             0.2222222222222222,
             "#7201a8"
            ],
            [
             0.3333333333333333,
             "#9c179e"
            ],
            [
             0.4444444444444444,
             "#bd3786"
            ],
            [
             0.5555555555555556,
             "#d8576b"
            ],
            [
             0.6666666666666666,
             "#ed7953"
            ],
            [
             0.7777777777777778,
             "#fb9f3a"
            ],
            [
             0.8888888888888888,
             "#fdca26"
            ],
            [
             1,
             "#f0f921"
            ]
           ]
          },
          "colorway": [
           "#636efa",
           "#EF553B",
           "#00cc96",
           "#ab63fa",
           "#FFA15A",
           "#19d3f3",
           "#FF6692",
           "#B6E880",
           "#FF97FF",
           "#FECB52"
          ],
          "font": {
           "color": "#2a3f5f"
          },
          "geo": {
           "bgcolor": "white",
           "lakecolor": "white",
           "landcolor": "#E5ECF6",
           "showlakes": true,
           "showland": true,
           "subunitcolor": "white"
          },
          "hoverlabel": {
           "align": "left"
          },
          "hovermode": "closest",
          "mapbox": {
           "style": "light"
          },
          "paper_bgcolor": "white",
          "plot_bgcolor": "#E5ECF6",
          "polar": {
           "angularaxis": {
            "gridcolor": "white",
            "linecolor": "white",
            "ticks": ""
           },
           "bgcolor": "#E5ECF6",
           "radialaxis": {
            "gridcolor": "white",
            "linecolor": "white",
            "ticks": ""
           }
          },
          "scene": {
           "xaxis": {
            "backgroundcolor": "#E5ECF6",
            "gridcolor": "white",
            "gridwidth": 2,
            "linecolor": "white",
            "showbackground": true,
            "ticks": "",
            "zerolinecolor": "white"
           },
           "yaxis": {
            "backgroundcolor": "#E5ECF6",
            "gridcolor": "white",
            "gridwidth": 2,
            "linecolor": "white",
            "showbackground": true,
            "ticks": "",
            "zerolinecolor": "white"
           },
           "zaxis": {
            "backgroundcolor": "#E5ECF6",
            "gridcolor": "white",
            "gridwidth": 2,
            "linecolor": "white",
            "showbackground": true,
            "ticks": "",
            "zerolinecolor": "white"
           }
          },
          "shapedefaults": {
           "line": {
            "color": "#2a3f5f"
           }
          },
          "ternary": {
           "aaxis": {
            "gridcolor": "white",
            "linecolor": "white",
            "ticks": ""
           },
           "baxis": {
            "gridcolor": "white",
            "linecolor": "white",
            "ticks": ""
           },
           "bgcolor": "#E5ECF6",
           "caxis": {
            "gridcolor": "white",
            "linecolor": "white",
            "ticks": ""
           }
          },
          "title": {
           "x": 0.05
          },
          "xaxis": {
           "automargin": true,
           "gridcolor": "white",
           "linecolor": "white",
           "ticks": "",
           "title": {
            "standoff": 15
           },
           "zerolinecolor": "white",
           "zerolinewidth": 2
          },
          "yaxis": {
           "automargin": true,
           "gridcolor": "white",
           "linecolor": "white",
           "ticks": "",
           "title": {
            "standoff": 15
           },
           "zerolinecolor": "white",
           "zerolinewidth": 2
          }
         }
        },
        "xaxis": {
         "anchor": "y",
         "domain": [
          0,
          1
         ],
         "title": {
          "text": "6th_Stage"
         }
        },
        "yaxis": {
         "anchor": "x",
         "domain": [
          0,
          1
         ],
         "title": {
          "text": "count"
         }
        }
       }
      }
     },
     "metadata": {},
     "output_type": "display_data"
    },
    {
     "data": {
      "application/vnd.plotly.v1+json": {
       "config": {
        "plotlyServerURL": "https://plot.ly"
       },
       "data": [
        {
         "bingroup": "x",
         "hovertemplate": "A_Stage=%{x}<br>count=%{y}<extra></extra>",
         "legendgroup": "",
         "marker": {
          "color": "#636efa",
          "pattern": {
           "shape": ""
          }
         },
         "name": "",
         "orientation": "v",
         "showlegend": false,
         "type": "histogram",
         "x": {
          "bdata": "AQEBAQEBAQEBAAEBAQEBAQEBAQEBAQEBAQEBAQEBAQEBAQEBAQEBAQEBAQEBAQEBAQEBAQEBAQEBAQEBAQEBAQEBAQEBAQEBAQEBAQEBAQEBAQEBAQEBAQEBAQEBAQEBAQEBAQEBAQEBAQEBAQEBAQEBAQEBAQEBAQEBAQEBAQEBAQEBAQEBAQEBAAEBAQEBAQEBAQEBAQEBAQEBAQEBAQEBAQEBAQEAAQEBAQEBAQEBAQEBAQEBAQEBAQEBAQEBAQEAAQEBAQEBAQEBAQEBAQEBAQEBAQEBAQEBAAEBAQEBAQEBAQEBAQEBAQEAAQABAQEBAAEBAQEBAQEBAQEBAQEBAQEBAQEBAQEBAQEBAAEBAQEBAQEBAQEBAQEBAQEBAQEBAQEBAAEBAQEBAQEBAQEBAQEBAQEBAQEBAQEBAQEBAQEBAQEBAQEBAQABAQEBAQEBAQEBAQEBAQEBAQEBAQEBAQEBAQEBAQEBAQEBAQEBAQEAAQEBAQEBAQEBAQEBAQEBAQEBAQEBAQEBAQEBAQEBAQEBAQEBAQEBAQEBAQEBAQEBAQEBAQEBAQEBAQEBAQEBAQEBAQEBAQEBAQEBAQEBAQEBAQEBAQEBAQEBAQEBAQEBAQEBAQEBAQEBAQEBAQEBAQEBAQEBAQEBAQEBAQEBAAEBAQEBAQEBAQEBAQEBAQEBAQABAQEAAAABAQEBAQEBAQABAQABAQEBAQEBAQEBAQEBAQEBAQEBAQEBAQEBAQEBAQEBAQEBAQEAAQEBAQEBAQEBAQEBAQEBAQEBAQEBAQEBAQEBAQEBAQEBAQEBAQEBAQEBAQEBAQEBAQEBAQEBAQEBAQEBAQEBAQEBAQEBAQEBAQEBAQEBAQEBAQEBAQEBAQEBAQEBAQEBAQEBAQEBAQEBAQEBAQEBAQEBAQEBAQEBAQEBAQEBAQEBAQEBAQEBAQEBAQEBAQEBAQEBAQEBAQEBAQEAAQEBAQEBAQEBAQEBAQEBAQEBAQEBAQEBAQEBAQEBAQEBAQEBAQEBAQEBAQEBAQEBAQEBAQEBAQEBAAEBAQEBAQEBAQEBAQEBAQEBAQEBAQEBAQEBAQEBAQEBAQEBAQEBAQEBAQEBAQEBAQEBAQEBAQEBAQEAAQEBAQEBAQEBAQEBAQEBAQEBAQABAQEBAQEBAQEBAQEBAQEBAQEBAQEAAQEBAQEBAQEBAQEBAQEBAQEBAAABAQEBAQEBAQEBAQEBAQEBAQEBAQEBAQEBAQEBAQEBAQEBAQEBAQEAAQEBAQEBAQEBAQEBAQEBAQEBAQEBAQEBAQEBAQEBAQEBAQEBAQEBAQEAAQEBAQEBAQEBAQEBAQEBAQEBAQEBAQEBAQEBAAEBAQEBAQEBAQEBAQEBAQEBAQEBAQEAAQEBAQEBAQEBAQEBAQEBAQEBAQEBAQEBAQEBAQEBAQEBAQEBAQEBAQEBAQEBAAEBAQEBAQEBAQEBAQEBAQEBAQEBAQEBAQEBAQEBAQEBAQEBAQEBAQEBAQEBAQEBAQEBAQEAAQEBAQEBAQEBAQEBAQEBAQEBAQEBAQEBAQEBAQEBAQEBAQEBAQEAAQEBAQEBAQEBAQEBAAEBAQEBAQEBAQEBAQEBAQEBAQEBAQEBAQEBAQEBAQEBAQEBAQEBAQEBAQEBAQEBAQEBAQEBAQEBAQABAQEBAQEBAQEBAQEBAQEBAQEBAQEBAQEBAQEBAQEBAQEBAQEBAQEBAQEBAQEBAQEBAQEBAQEBAQEBAQEBAQEBAAEBAQEBAQEBAQEAAQEBAQEBAQEBAQEBAQEBAQEBAQEBAQEBAQEBAQEBAQEBAQEBAQEBAQEBAQEBAQEBAQEBAAEBAQEBAQEBAQEBAQEBAQEBAQEBAQEBAQEBAQEBAQEBAQEBAQEBAQEBAQEBAQEBAQEBAQEBAQEBAQEBAQEBAQEBAQEBAQEBAQEBAQEBAQEBAQEBAQEBAQEBAQEBAQEBAQEBAQEBAQEBAQABAQEBAQEBAQEBAQEBAQEBAQEBAQEBAQEBAQEBAQEBAQEBAQEBAQEBAQEBAQEBAQEBAQEBAQEBAQEBAQEBAQEBAQEBAQEBAQEBAQEBAQEBAQEBAQEBAQEBAQEBAQEBAQEBAQEBAQEBAQEBAQEBAQEBAQEBAQEBAQEBAQEBAQEBAQEBAQEBAQEBAQEBAAEBAQEAAQEBAQEBAQEBAQEBAQEBAQEBAQEBAQEBAQEBAQEBAQEBAQEBAQEBAQEBAQEBAQEBAQEBAQEBAQEBAQEBAQEBAQEBAQEBAQEBAQEBAQEBAQEBAQEAAQEBAQEBAQEBAQEBAQEBAQEBAQEBAQEBAQEBAQEBAQEBAQEBAQEBAQEBAQEBAQEBAQEBAQEBAQEBAQEBAQEBAQEBAQEBAQEBAQEBAQABAQEBAQEBAQEBAQEBAQEBAQEBAQEBAQEBAQEBAQEBAQEBAQEBAQEBAQEBAQEBAQEBAQEBAQEBAQEBAQEBAQEBAQEBAQEBAQEBAQEBAQEBAQEBAQEBAQEBAQEBAQEBAQEBAQEBAQEBAQEBAQEBAQEBAQEBAQEBAQEBAQEBAQEBAQEBAQEBAQEBAQEBAQEBAQEBAQEBAQABAQEBAQEBAQEBAQEBAQEBAQEBAQEBAQEBAQEBAQEBAQEBAQEBAQEBAQEBAQEBAQEBAQEBAQEAAQEBAQEBAQEBAQEBAQEBAQEBAQEBAQEBAQEBAQEBAQEBAAEBAQEBAQEBAQEBAQEBAQEBAQEBAQEBAQEBAQEBAAEBAQEBAQEBAQEBAQEBAQEBAQEBAQEBAQEBAQEBAQEBAQEBAQEBAQEBAQEBAQEBAQEBAQEBAQEBAQEBAAEBAQEBAQEBAQEBAQEBAQEBAAEBAQEBAQEBAQEBAQEBAQEBAQEBAQEBAQEBAQEBAQEBAQEBAQEBAQEBAQEBAAEBAQEBAQEBAQEBAQEBAQEBAQEBAQEBAQEBAQEBAQEBAQEBAQEBAQEBAQEBAQEBAQEBAQEBAQEBAQEBAQEBAQEBAQEBAQEBAQEBAQEBAQEBAQEBAQEBAQEBAQEBAQEBAQEBAQEBAQEBAQEBAQEBAQEBAQEBAQEBAQEBAQEBAQEBAQEBAQEBAQEBAQEBAQEBAQEBAQEBAQEBAAEBAQEBAQEBAQEBAQEBAQEBAQEBAQEBAQABAQABAQEAAAEBAQEBAQEBAQEBAQEBAQEBAQEBAQEBAQEBAQEBAQEBAQEBAQEBAQEBAQEBAQEBAQEBAQEBAQEBAQEBAQEBAQEBAQEBAQEBAQEBAQEBAQEBAQEBAQEBAQEBAQEBAQEBAQEBAQEBAQEBAQEBAQEBAQEBAQEBAQEBAQEBAQEBAQEAAQEBAQEBAAEBAQEBAQEBAQEBAQEBAQEBAQEBAQEBAQEBAQEAAQEBAQEBAQEBAQEBAQEBAQEBAQEBAQEBAQEBAQEBAQEBAQEBAQEBAQEBAQEBAQEBAQEAAQEBAQEBAQEBAQEBAQEBAQEAAQEBAQEBAQEBAQEBAQEBAQEBAQEBAQEBAQEBAQEBAQEBAQEBAQEBAQEBAQEBAQEBAQEBAQEBAQEBAQEBAQEBAQEBAQEBAQEBAQEBAQEBAQEBAQEBAQEBAQEBAQEBAQEBAQABAQEBAQEBAQEBAQEBAQEAAQEBAQEBAQEBAQEBAQEBAQEBAQEBAQEBAQEBAQEBAQEBAQEBAQEBAQABAQEBAQABAQEBAQEBAQEBAQEBAQEBAQEBAQEBAQEBAQEBAQEBAQEBAQEBAQEBAQEBAQEBAQEBAQEBAQEBAQEBAQEBAQEBAQEBAQEBAQEBAQEBAQEBAQEBAQEBAQEBAQEBAAEBAQEBAQEBAQEBAQEBAQEBAQEBAQABAQEBAQEBAQEBAQEBAQEBAQEBAQEBAQEBAQEBAQEBAQEBAQEBAQEBAQEBAQEBAQEBAQEBAQEBAQEBAQEBAQEBAQEBAQEBAQEBAQEBAQABAQEBAQEBAQEBAQEBAQEBAQEBAQEBAQEBAQEBAQEBAQEBAQEBAQEBAQEBAQEBAQEBAAEBAQEBAQEBAQEBAQEBAQEBAQEBAQEBAQEBAQEBAQEBAQEBAQEBAQEBAQEBAQEBAQEBAQEBAQEBAQEBAQEBAQEBAQEBAQEBAQEAAQEBAQABAQEBAQEBAQEBAQEBAQEAAQEBAQEBAQEBAQEBAQEBAQEBAQEBAQEBAQEBAQEBAQEBAQEBAQEBAQEBAQEBAQEBAQEBAQEBAQEBAQEBAQEBAQEBAQEBAQEBAQABAQEBAQEBAQEBAQEBAQEBAQABAQEBAQEBAQEBAQEBAQEBAQEBAQEBAQEBAQEBAQEBAQEBAQEBAQEBAQEBAQEBAQEBAQEBAQEBAQEBAQEBAQEBAQEBAQEBAQEBAQEBAQEBAQEBAQEBAQEBAQEBAQEBAQEAAQEBAQEBAQEBAQEBAQEBAQEBAQEBAQEBAQEBAQEBAQEBAQEBAQEBAQEBAQEBAQEAAQEBAQEBAQEBAQEBAQEBAQEBAQEBAQEBAQEBAQEBAAEBAQEBAQEBAQEBAQEBAQEBAQEBAQEBAQEBAQABAQEBAQEBAQEBAQEBAQEBAQEBAQEBAQEBAQEBAQEBAQEBAQEBAQEBAQEBAQABAQEBAQEAAQEBAQEBAQEBAQEBAQABAQEBAQEBAQEBAQEBAQEBAQEBAQEBAQEBAQEBAQEBAQEBAQEBAQEBAQEBAQEBAQEBAQEBAQEAAQEBAQEBAQEBAQEBAQEBAQEBAQEBAQEBAQEBAQEBAQEBAQEBAQEBAQEBAQEBAQEBAQEBAQEBAQEBAQEBAQEBAQEBAAEBAQEBAQEBAAEBAQEBAQEBAQEBAQEBAQEBAQEBAQEBAQEBAQEAAQEBAQEBAQEBAQEBAQEBAQEBAQEBAQEBAQEBAQEBAQEBAQEBAQEBAQEBAQEBAQEBAQEBAQEBAQEBAQEBAQEBAQEBAQEBAQEBAQEBAQEBAQEBAQEBAQEBAQEBAQEBAQEBAQEBAQEBAQABAQEBAQEBAQEBAQEBAQEBAQEBAQABAQEBAQEBAQEBAQEBAQEBAQEBAQEBAQEBAQEBAQEBAQEBAQEBAQEBAQEBAQEBAQEBAQEBAQEBAQEBAQEBAQEBAQEAAQEBAQEBAQEBAQEBAQEBAQEBAQEBAQEBAQEBAQEBAQEBAQEBAQEBAQEBAQEBAQEBAQEBAQEBAQEBAQEBAQEBAQEBAQEBAQEBAQEBAQEBAQEBAQEAAQEBAQEBAQEBAQEBAQEBAQEBAQEBAQABAQEBAQEBAQEBAAEBAQEBAQEBAQEBAQEBAQEBAQEBAQEBAQEBAQEBAQEBAQEBAQEBAQEBAQEAAQEBAQEBAQEBAQEBAQEBAQEBAQEBAQEBAQEBAQEBAQEBAQEBAQEBAQEBAQEBAQEBAQ==",
          "dtype": "i1"
         },
         "xaxis": "x",
         "yaxis": "y"
        }
       ],
       "layout": {
        "barmode": "relative",
        "legend": {
         "tracegroupgap": 0
        },
        "margin": {
         "t": 60
        },
        "template": {
         "data": {
          "bar": [
           {
            "error_x": {
             "color": "#2a3f5f"
            },
            "error_y": {
             "color": "#2a3f5f"
            },
            "marker": {
             "line": {
              "color": "#E5ECF6",
              "width": 0.5
             },
             "pattern": {
              "fillmode": "overlay",
              "size": 10,
              "solidity": 0.2
             }
            },
            "type": "bar"
           }
          ],
          "barpolar": [
           {
            "marker": {
             "line": {
              "color": "#E5ECF6",
              "width": 0.5
             },
             "pattern": {
              "fillmode": "overlay",
              "size": 10,
              "solidity": 0.2
             }
            },
            "type": "barpolar"
           }
          ],
          "carpet": [
           {
            "aaxis": {
             "endlinecolor": "#2a3f5f",
             "gridcolor": "white",
             "linecolor": "white",
             "minorgridcolor": "white",
             "startlinecolor": "#2a3f5f"
            },
            "baxis": {
             "endlinecolor": "#2a3f5f",
             "gridcolor": "white",
             "linecolor": "white",
             "minorgridcolor": "white",
             "startlinecolor": "#2a3f5f"
            },
            "type": "carpet"
           }
          ],
          "choropleth": [
           {
            "colorbar": {
             "outlinewidth": 0,
             "ticks": ""
            },
            "type": "choropleth"
           }
          ],
          "contour": [
           {
            "colorbar": {
             "outlinewidth": 0,
             "ticks": ""
            },
            "colorscale": [
             [
              0,
              "#0d0887"
             ],
             [
              0.1111111111111111,
              "#46039f"
             ],
             [
              0.2222222222222222,
              "#7201a8"
             ],
             [
              0.3333333333333333,
              "#9c179e"
             ],
             [
              0.4444444444444444,
              "#bd3786"
             ],
             [
              0.5555555555555556,
              "#d8576b"
             ],
             [
              0.6666666666666666,
              "#ed7953"
             ],
             [
              0.7777777777777778,
              "#fb9f3a"
             ],
             [
              0.8888888888888888,
              "#fdca26"
             ],
             [
              1,
              "#f0f921"
             ]
            ],
            "type": "contour"
           }
          ],
          "contourcarpet": [
           {
            "colorbar": {
             "outlinewidth": 0,
             "ticks": ""
            },
            "type": "contourcarpet"
           }
          ],
          "heatmap": [
           {
            "colorbar": {
             "outlinewidth": 0,
             "ticks": ""
            },
            "colorscale": [
             [
              0,
              "#0d0887"
             ],
             [
              0.1111111111111111,
              "#46039f"
             ],
             [
              0.2222222222222222,
              "#7201a8"
             ],
             [
              0.3333333333333333,
              "#9c179e"
             ],
             [
              0.4444444444444444,
              "#bd3786"
             ],
             [
              0.5555555555555556,
              "#d8576b"
             ],
             [
              0.6666666666666666,
              "#ed7953"
             ],
             [
              0.7777777777777778,
              "#fb9f3a"
             ],
             [
              0.8888888888888888,
              "#fdca26"
             ],
             [
              1,
              "#f0f921"
             ]
            ],
            "type": "heatmap"
           }
          ],
          "histogram": [
           {
            "marker": {
             "pattern": {
              "fillmode": "overlay",
              "size": 10,
              "solidity": 0.2
             }
            },
            "type": "histogram"
           }
          ],
          "histogram2d": [
           {
            "colorbar": {
             "outlinewidth": 0,
             "ticks": ""
            },
            "colorscale": [
             [
              0,
              "#0d0887"
             ],
             [
              0.1111111111111111,
              "#46039f"
             ],
             [
              0.2222222222222222,
              "#7201a8"
             ],
             [
              0.3333333333333333,
              "#9c179e"
             ],
             [
              0.4444444444444444,
              "#bd3786"
             ],
             [
              0.5555555555555556,
              "#d8576b"
             ],
             [
              0.6666666666666666,
              "#ed7953"
             ],
             [
              0.7777777777777778,
              "#fb9f3a"
             ],
             [
              0.8888888888888888,
              "#fdca26"
             ],
             [
              1,
              "#f0f921"
             ]
            ],
            "type": "histogram2d"
           }
          ],
          "histogram2dcontour": [
           {
            "colorbar": {
             "outlinewidth": 0,
             "ticks": ""
            },
            "colorscale": [
             [
              0,
              "#0d0887"
             ],
             [
              0.1111111111111111,
              "#46039f"
             ],
             [
              0.2222222222222222,
              "#7201a8"
             ],
             [
              0.3333333333333333,
              "#9c179e"
             ],
             [
              0.4444444444444444,
              "#bd3786"
             ],
             [
              0.5555555555555556,
              "#d8576b"
             ],
             [
              0.6666666666666666,
              "#ed7953"
             ],
             [
              0.7777777777777778,
              "#fb9f3a"
             ],
             [
              0.8888888888888888,
              "#fdca26"
             ],
             [
              1,
              "#f0f921"
             ]
            ],
            "type": "histogram2dcontour"
           }
          ],
          "mesh3d": [
           {
            "colorbar": {
             "outlinewidth": 0,
             "ticks": ""
            },
            "type": "mesh3d"
           }
          ],
          "parcoords": [
           {
            "line": {
             "colorbar": {
              "outlinewidth": 0,
              "ticks": ""
             }
            },
            "type": "parcoords"
           }
          ],
          "pie": [
           {
            "automargin": true,
            "type": "pie"
           }
          ],
          "scatter": [
           {
            "fillpattern": {
             "fillmode": "overlay",
             "size": 10,
             "solidity": 0.2
            },
            "type": "scatter"
           }
          ],
          "scatter3d": [
           {
            "line": {
             "colorbar": {
              "outlinewidth": 0,
              "ticks": ""
             }
            },
            "marker": {
             "colorbar": {
              "outlinewidth": 0,
              "ticks": ""
             }
            },
            "type": "scatter3d"
           }
          ],
          "scattercarpet": [
           {
            "marker": {
             "colorbar": {
              "outlinewidth": 0,
              "ticks": ""
             }
            },
            "type": "scattercarpet"
           }
          ],
          "scattergeo": [
           {
            "marker": {
             "colorbar": {
              "outlinewidth": 0,
              "ticks": ""
             }
            },
            "type": "scattergeo"
           }
          ],
          "scattergl": [
           {
            "marker": {
             "colorbar": {
              "outlinewidth": 0,
              "ticks": ""
             }
            },
            "type": "scattergl"
           }
          ],
          "scattermap": [
           {
            "marker": {
             "colorbar": {
              "outlinewidth": 0,
              "ticks": ""
             }
            },
            "type": "scattermap"
           }
          ],
          "scattermapbox": [
           {
            "marker": {
             "colorbar": {
              "outlinewidth": 0,
              "ticks": ""
             }
            },
            "type": "scattermapbox"
           }
          ],
          "scatterpolar": [
           {
            "marker": {
             "colorbar": {
              "outlinewidth": 0,
              "ticks": ""
             }
            },
            "type": "scatterpolar"
           }
          ],
          "scatterpolargl": [
           {
            "marker": {
             "colorbar": {
              "outlinewidth": 0,
              "ticks": ""
             }
            },
            "type": "scatterpolargl"
           }
          ],
          "scatterternary": [
           {
            "marker": {
             "colorbar": {
              "outlinewidth": 0,
              "ticks": ""
             }
            },
            "type": "scatterternary"
           }
          ],
          "surface": [
           {
            "colorbar": {
             "outlinewidth": 0,
             "ticks": ""
            },
            "colorscale": [
             [
              0,
              "#0d0887"
             ],
             [
              0.1111111111111111,
              "#46039f"
             ],
             [
              0.2222222222222222,
              "#7201a8"
             ],
             [
              0.3333333333333333,
              "#9c179e"
             ],
             [
              0.4444444444444444,
              "#bd3786"
             ],
             [
              0.5555555555555556,
              "#d8576b"
             ],
             [
              0.6666666666666666,
              "#ed7953"
             ],
             [
              0.7777777777777778,
              "#fb9f3a"
             ],
             [
              0.8888888888888888,
              "#fdca26"
             ],
             [
              1,
              "#f0f921"
             ]
            ],
            "type": "surface"
           }
          ],
          "table": [
           {
            "cells": {
             "fill": {
              "color": "#EBF0F8"
             },
             "line": {
              "color": "white"
             }
            },
            "header": {
             "fill": {
              "color": "#C8D4E3"
             },
             "line": {
              "color": "white"
             }
            },
            "type": "table"
           }
          ]
         },
         "layout": {
          "annotationdefaults": {
           "arrowcolor": "#2a3f5f",
           "arrowhead": 0,
           "arrowwidth": 1
          },
          "autotypenumbers": "strict",
          "coloraxis": {
           "colorbar": {
            "outlinewidth": 0,
            "ticks": ""
           }
          },
          "colorscale": {
           "diverging": [
            [
             0,
             "#8e0152"
            ],
            [
             0.1,
             "#c51b7d"
            ],
            [
             0.2,
             "#de77ae"
            ],
            [
             0.3,
             "#f1b6da"
            ],
            [
             0.4,
             "#fde0ef"
            ],
            [
             0.5,
             "#f7f7f7"
            ],
            [
             0.6,
             "#e6f5d0"
            ],
            [
             0.7,
             "#b8e186"
            ],
            [
             0.8,
             "#7fbc41"
            ],
            [
             0.9,
             "#4d9221"
            ],
            [
             1,
             "#276419"
            ]
           ],
           "sequential": [
            [
             0,
             "#0d0887"
            ],
            [
             0.1111111111111111,
             "#46039f"
            ],
            [
             0.2222222222222222,
             "#7201a8"
            ],
            [
             0.3333333333333333,
             "#9c179e"
            ],
            [
             0.4444444444444444,
             "#bd3786"
            ],
            [
             0.5555555555555556,
             "#d8576b"
            ],
            [
             0.6666666666666666,
             "#ed7953"
            ],
            [
             0.7777777777777778,
             "#fb9f3a"
            ],
            [
             0.8888888888888888,
             "#fdca26"
            ],
            [
             1,
             "#f0f921"
            ]
           ],
           "sequentialminus": [
            [
             0,
             "#0d0887"
            ],
            [
             0.1111111111111111,
             "#46039f"
            ],
            [
             0.2222222222222222,
             "#7201a8"
            ],
            [
             0.3333333333333333,
             "#9c179e"
            ],
            [
             0.4444444444444444,
             "#bd3786"
            ],
            [
             0.5555555555555556,
             "#d8576b"
            ],
            [
             0.6666666666666666,
             "#ed7953"
            ],
            [
             0.7777777777777778,
             "#fb9f3a"
            ],
            [
             0.8888888888888888,
             "#fdca26"
            ],
            [
             1,
             "#f0f921"
            ]
           ]
          },
          "colorway": [
           "#636efa",
           "#EF553B",
           "#00cc96",
           "#ab63fa",
           "#FFA15A",
           "#19d3f3",
           "#FF6692",
           "#B6E880",
           "#FF97FF",
           "#FECB52"
          ],
          "font": {
           "color": "#2a3f5f"
          },
          "geo": {
           "bgcolor": "white",
           "lakecolor": "white",
           "landcolor": "#E5ECF6",
           "showlakes": true,
           "showland": true,
           "subunitcolor": "white"
          },
          "hoverlabel": {
           "align": "left"
          },
          "hovermode": "closest",
          "mapbox": {
           "style": "light"
          },
          "paper_bgcolor": "white",
          "plot_bgcolor": "#E5ECF6",
          "polar": {
           "angularaxis": {
            "gridcolor": "white",
            "linecolor": "white",
            "ticks": ""
           },
           "bgcolor": "#E5ECF6",
           "radialaxis": {
            "gridcolor": "white",
            "linecolor": "white",
            "ticks": ""
           }
          },
          "scene": {
           "xaxis": {
            "backgroundcolor": "#E5ECF6",
            "gridcolor": "white",
            "gridwidth": 2,
            "linecolor": "white",
            "showbackground": true,
            "ticks": "",
            "zerolinecolor": "white"
           },
           "yaxis": {
            "backgroundcolor": "#E5ECF6",
            "gridcolor": "white",
            "gridwidth": 2,
            "linecolor": "white",
            "showbackground": true,
            "ticks": "",
            "zerolinecolor": "white"
           },
           "zaxis": {
            "backgroundcolor": "#E5ECF6",
            "gridcolor": "white",
            "gridwidth": 2,
            "linecolor": "white",
            "showbackground": true,
            "ticks": "",
            "zerolinecolor": "white"
           }
          },
          "shapedefaults": {
           "line": {
            "color": "#2a3f5f"
           }
          },
          "ternary": {
           "aaxis": {
            "gridcolor": "white",
            "linecolor": "white",
            "ticks": ""
           },
           "baxis": {
            "gridcolor": "white",
            "linecolor": "white",
            "ticks": ""
           },
           "bgcolor": "#E5ECF6",
           "caxis": {
            "gridcolor": "white",
            "linecolor": "white",
            "ticks": ""
           }
          },
          "title": {
           "x": 0.05
          },
          "xaxis": {
           "automargin": true,
           "gridcolor": "white",
           "linecolor": "white",
           "ticks": "",
           "title": {
            "standoff": 15
           },
           "zerolinecolor": "white",
           "zerolinewidth": 2
          },
          "yaxis": {
           "automargin": true,
           "gridcolor": "white",
           "linecolor": "white",
           "ticks": "",
           "title": {
            "standoff": 15
           },
           "zerolinecolor": "white",
           "zerolinewidth": 2
          }
         }
        },
        "xaxis": {
         "anchor": "y",
         "domain": [
          0,
          1
         ],
         "title": {
          "text": "A_Stage"
         }
        },
        "yaxis": {
         "anchor": "x",
         "domain": [
          0,
          1
         ],
         "title": {
          "text": "count"
         }
        }
       }
      }
     },
     "metadata": {},
     "output_type": "display_data"
    }
   ],
   "source": [
    "for stage in df.loc[:, stages]:\n",
    "    vStage_bar = px.histogram(df, x=stage)\n",
    "    vStage_bar.show()"
   ]
  },
  {
   "cell_type": "markdown",
   "metadata": {},
   "source": [
    "Mapping the Differentiated values to integers"
   ]
  },
  {
   "cell_type": "code",
   "execution_count": 371,
   "metadata": {},
   "outputs": [],
   "source": [
    "\n",
    "df[\"Differentiated\"] = df[\"Differentiated\"].map({\"Moderately differentiated\": 1, \"Poorly differentiated\": 2, \"Undifferentiated\": 3, \"Well differentiated\": 4})"
   ]
  },
  {
   "cell_type": "code",
   "execution_count": 372,
   "metadata": {},
   "outputs": [],
   "source": [
    "df[\"Estrogen_Status\"] = df[\"Estrogen_Status\"].map({\"Negative\": 0, \"Positive\": 1,})\n",
    "df[\"Progesterone_Status\"] = df[\"Progesterone_Status\"].map({\"Negative\": 0, \"Positive\": 1,})"
   ]
  },
  {
   "cell_type": "markdown",
   "metadata": {},
   "source": [
    "visualising the percentage of missing data"
   ]
  },
  {
   "cell_type": "code",
   "execution_count": 373,
   "metadata": {},
   "outputs": [
    {
     "data": {
      "text/plain": [
       "Month_of_Birth             0.000000\n",
       "Age                        0.223658\n",
       "Sex                        0.099404\n",
       "Occupation                98.931412\n",
       "T_Stage                    0.000000\n",
       "N_Stage                    0.000000\n",
       "6th_Stage                  0.000000\n",
       "Differentiated             0.000000\n",
       "Grade                      0.000000\n",
       "A_Stage                    0.000000\n",
       "Tumor_Size                 0.074553\n",
       "Estrogen_Status            0.000000\n",
       "Progesterone_Status        0.000000\n",
       "Regional_Node_Examined     0.024851\n",
       "Reginol_Node_Positive      0.000000\n",
       "Survival_Months            0.000000\n",
       "Mortality_Status           0.000000\n",
       "dtype: float64"
      ]
     },
     "execution_count": 373,
     "metadata": {},
     "output_type": "execute_result"
    }
   ],
   "source": [
    "df.isna().sum()/len(df)*100"
   ]
  },
  {
   "cell_type": "markdown",
   "metadata": {},
   "source": [
    "Removing Occupation and Sex column from the database are they are irrelevent "
   ]
  },
  {
   "cell_type": "code",
   "execution_count": 374,
   "metadata": {},
   "outputs": [],
   "source": [
    "df = df.drop(columns=(['Occupation', 'Sex']))"
   ]
  },
  {
   "cell_type": "markdown",
   "metadata": {},
   "source": [
    "Removing the records with missing values in the Tumor Size and Regional Node Examined columns"
   ]
  },
  {
   "cell_type": "code",
   "execution_count": 375,
   "metadata": {},
   "outputs": [],
   "source": [
    "df = df.dropna(subset=[\"Tumor_Size\"])\n",
    "df = df.dropna(subset=[\"Regional_Node_Examined\"])"
   ]
  },
  {
   "cell_type": "markdown",
   "metadata": {},
   "source": [
    "Checking the new data for missing values"
   ]
  },
  {
   "cell_type": "code",
   "execution_count": 376,
   "metadata": {},
   "outputs": [
    {
     "data": {
      "text/plain": [
       "Month_of_Birth            0.000000\n",
       "Age                       0.223881\n",
       "T_Stage                   0.000000\n",
       "N_Stage                   0.000000\n",
       "6th_Stage                 0.000000\n",
       "Differentiated            0.000000\n",
       "Grade                     0.000000\n",
       "A_Stage                   0.000000\n",
       "Tumor_Size                0.000000\n",
       "Estrogen_Status           0.000000\n",
       "Progesterone_Status       0.000000\n",
       "Regional_Node_Examined    0.000000\n",
       "Reginol_Node_Positive     0.000000\n",
       "Survival_Months           0.000000\n",
       "Mortality_Status          0.000000\n",
       "dtype: float64"
      ]
     },
     "execution_count": 376,
     "metadata": {},
     "output_type": "execute_result"
    }
   ],
   "source": [
    "df.isna().sum()/len(df)*100"
   ]
  },
  {
   "cell_type": "markdown",
   "metadata": {},
   "source": [
    "Taking care of missing Age values by filling it in with the mean age"
   ]
  },
  {
   "cell_type": "code",
   "execution_count": 377,
   "metadata": {},
   "outputs": [
    {
     "name": "stderr",
     "output_type": "stream",
     "text": [
      "/var/folders/7g/1911wwts4674nvtbzklkgln00000gn/T/ipykernel_64493/1949130274.py:2: FutureWarning:\n",
      "\n",
      "A value is trying to be set on a copy of a DataFrame or Series through chained assignment using an inplace method.\n",
      "The behavior will change in pandas 3.0. This inplace method will never work because the intermediate object on which we are setting values always behaves as a copy.\n",
      "\n",
      "For example, when doing 'df[col].method(value, inplace=True)', try using 'df.method({col: value}, inplace=True)' or df[col] = df[col].method(value) instead, to perform the operation inplace on the original object.\n",
      "\n",
      "\n",
      "\n"
     ]
    }
   ],
   "source": [
    "Mean_Age = df['Age'].mean()\n",
    "df['Age'].fillna(Mean_Age, inplace=True)"
   ]
  },
  {
   "cell_type": "markdown",
   "metadata": {},
   "source": [
    "Spotting outliers using the function created earlier"
   ]
  },
  {
   "cell_type": "code",
   "execution_count": 378,
   "metadata": {},
   "outputs": [
    {
     "name": "stdout",
     "output_type": "stream",
     "text": [
      "number of outliers: 4\n"
     ]
    },
    {
     "data": {
      "text/plain": [
       "142    180.0\n",
       "212    -50.0\n",
       "522    502.0\n",
       "842     89.0\n",
       "Name: Age, dtype: float64"
      ]
     },
     "execution_count": 378,
     "metadata": {},
     "output_type": "execute_result"
    }
   ],
   "source": [
    "outliers = find_outliers_IQR(df[\"Age\"])\n",
    "print(\"number of outliers: \"+ str(len(outliers)))\n",
    "outliers"
   ]
  },
  {
   "cell_type": "markdown",
   "metadata": {},
   "source": [
    "coverting the type of the values in Age to integers"
   ]
  },
  {
   "cell_type": "code",
   "execution_count": 379,
   "metadata": {},
   "outputs": [],
   "source": [
    "df =df.astype({\"Age\": int, \"Regional_Node_Examined\": int})"
   ]
  },
  {
   "cell_type": "markdown",
   "metadata": {},
   "source": [
    "Removing outliers from the column Age"
   ]
  },
  {
   "cell_type": "code",
   "execution_count": 380,
   "metadata": {},
   "outputs": [],
   "source": [
    "df.drop(df.index[[142, 212, 522]], inplace=True)"
   ]
  },
  {
   "cell_type": "markdown",
   "metadata": {},
   "source": [
    "Cheking the percentage of missing values in the dataset"
   ]
  },
  {
   "cell_type": "code",
   "execution_count": 381,
   "metadata": {},
   "outputs": [
    {
     "data": {
      "text/plain": [
       "Month_of_Birth            0.0\n",
       "Age                       0.0\n",
       "T_Stage                   0.0\n",
       "N_Stage                   0.0\n",
       "6th_Stage                 0.0\n",
       "Differentiated            0.0\n",
       "Grade                     0.0\n",
       "A_Stage                   0.0\n",
       "Tumor_Size                0.0\n",
       "Estrogen_Status           0.0\n",
       "Progesterone_Status       0.0\n",
       "Regional_Node_Examined    0.0\n",
       "Reginol_Node_Positive     0.0\n",
       "Survival_Months           0.0\n",
       "Mortality_Status          0.0\n",
       "dtype: float64"
      ]
     },
     "execution_count": 381,
     "metadata": {},
     "output_type": "execute_result"
    }
   ],
   "source": [
    "df.isna().sum()/len(df)*100"
   ]
  },
  {
   "cell_type": "code",
   "execution_count": 382,
   "metadata": {},
   "outputs": [],
   "source": [
    "df.to_csv(r'Mortality_Status_Classification.csv', index=False)"
   ]
  },
  {
   "cell_type": "code",
   "execution_count": 383,
   "metadata": {},
   "outputs": [],
   "source": [
    "df = df[df.Mortality_Status > 0]"
   ]
  },
  {
   "cell_type": "code",
   "execution_count": 384,
   "metadata": {},
   "outputs": [],
   "source": [
    "df.to_csv(r'Survival_Months_Reggression.csv', index=False)"
   ]
  },
  {
   "cell_type": "code",
   "execution_count": 385,
   "metadata": {},
   "outputs": [
    {
     "data": {
      "text/html": [
       "<div>\n",
       "<style scoped>\n",
       "    .dataframe tbody tr th:only-of-type {\n",
       "        vertical-align: middle;\n",
       "    }\n",
       "\n",
       "    .dataframe tbody tr th {\n",
       "        vertical-align: top;\n",
       "    }\n",
       "\n",
       "    .dataframe thead th {\n",
       "        text-align: right;\n",
       "    }\n",
       "</style>\n",
       "<table border=\"1\" class=\"dataframe\">\n",
       "  <thead>\n",
       "    <tr style=\"text-align: right;\">\n",
       "      <th></th>\n",
       "      <th>Month_of_Birth</th>\n",
       "      <th>Age</th>\n",
       "      <th>T_Stage</th>\n",
       "      <th>N_Stage</th>\n",
       "      <th>6th_Stage</th>\n",
       "      <th>Differentiated</th>\n",
       "      <th>Grade</th>\n",
       "      <th>A_Stage</th>\n",
       "      <th>Tumor_Size</th>\n",
       "      <th>Estrogen_Status</th>\n",
       "      <th>Progesterone_Status</th>\n",
       "      <th>Regional_Node_Examined</th>\n",
       "      <th>Reginol_Node_Positive</th>\n",
       "      <th>Survival_Months</th>\n",
       "      <th>Mortality_Status</th>\n",
       "    </tr>\n",
       "  </thead>\n",
       "  <tbody>\n",
       "    <tr>\n",
       "      <th>count</th>\n",
       "      <td>3402.000000</td>\n",
       "      <td>3402.000000</td>\n",
       "      <td>3402.00000</td>\n",
       "      <td>3402.000000</td>\n",
       "      <td>3402.000000</td>\n",
       "      <td>3402.000000</td>\n",
       "      <td>3402.000000</td>\n",
       "      <td>3402.000000</td>\n",
       "      <td>3402.000000</td>\n",
       "      <td>3402.000000</td>\n",
       "      <td>3402.000000</td>\n",
       "      <td>3402.000000</td>\n",
       "      <td>3402.000000</td>\n",
       "      <td>3402.000000</td>\n",
       "      <td>3402.0</td>\n",
       "    </tr>\n",
       "    <tr>\n",
       "      <th>mean</th>\n",
       "      <td>6.479130</td>\n",
       "      <td>53.783069</td>\n",
       "      <td>0.73398</td>\n",
       "      <td>0.362728</td>\n",
       "      <td>1.181658</td>\n",
       "      <td>1.696943</td>\n",
       "      <td>2.107878</td>\n",
       "      <td>0.983245</td>\n",
       "      <td>29.190770</td>\n",
       "      <td>0.952675</td>\n",
       "      <td>0.855085</td>\n",
       "      <td>14.248677</td>\n",
       "      <td>3.598471</td>\n",
       "      <td>76.147266</td>\n",
       "      <td>1.0</td>\n",
       "    </tr>\n",
       "    <tr>\n",
       "      <th>std</th>\n",
       "      <td>3.482346</td>\n",
       "      <td>8.816098</td>\n",
       "      <td>0.74037</td>\n",
       "      <td>0.633847</td>\n",
       "      <td>1.182512</td>\n",
       "      <td>1.049292</td>\n",
       "      <td>0.629895</td>\n",
       "      <td>0.128370</td>\n",
       "      <td>20.312823</td>\n",
       "      <td>0.212365</td>\n",
       "      <td>0.352067</td>\n",
       "      <td>8.060117</td>\n",
       "      <td>4.372588</td>\n",
       "      <td>22.652919</td>\n",
       "      <td>0.0</td>\n",
       "    </tr>\n",
       "    <tr>\n",
       "      <th>min</th>\n",
       "      <td>1.000000</td>\n",
       "      <td>30.000000</td>\n",
       "      <td>0.00000</td>\n",
       "      <td>0.000000</td>\n",
       "      <td>0.000000</td>\n",
       "      <td>1.000000</td>\n",
       "      <td>1.000000</td>\n",
       "      <td>0.000000</td>\n",
       "      <td>-75.000000</td>\n",
       "      <td>0.000000</td>\n",
       "      <td>0.000000</td>\n",
       "      <td>1.000000</td>\n",
       "      <td>1.000000</td>\n",
       "      <td>1.000000</td>\n",
       "      <td>1.0</td>\n",
       "    </tr>\n",
       "    <tr>\n",
       "      <th>25%</th>\n",
       "      <td>4.000000</td>\n",
       "      <td>47.000000</td>\n",
       "      <td>0.00000</td>\n",
       "      <td>0.000000</td>\n",
       "      <td>0.000000</td>\n",
       "      <td>1.000000</td>\n",
       "      <td>2.000000</td>\n",
       "      <td>1.000000</td>\n",
       "      <td>15.000000</td>\n",
       "      <td>1.000000</td>\n",
       "      <td>1.000000</td>\n",
       "      <td>9.000000</td>\n",
       "      <td>1.000000</td>\n",
       "      <td>61.000000</td>\n",
       "      <td>1.0</td>\n",
       "    </tr>\n",
       "    <tr>\n",
       "      <th>50%</th>\n",
       "      <td>6.000000</td>\n",
       "      <td>54.000000</td>\n",
       "      <td>1.00000</td>\n",
       "      <td>0.000000</td>\n",
       "      <td>1.000000</td>\n",
       "      <td>1.000000</td>\n",
       "      <td>2.000000</td>\n",
       "      <td>1.000000</td>\n",
       "      <td>23.000000</td>\n",
       "      <td>1.000000</td>\n",
       "      <td>1.000000</td>\n",
       "      <td>14.000000</td>\n",
       "      <td>2.000000</td>\n",
       "      <td>77.000000</td>\n",
       "      <td>1.0</td>\n",
       "    </tr>\n",
       "    <tr>\n",
       "      <th>75%</th>\n",
       "      <td>10.000000</td>\n",
       "      <td>61.000000</td>\n",
       "      <td>1.00000</td>\n",
       "      <td>1.000000</td>\n",
       "      <td>2.000000</td>\n",
       "      <td>2.000000</td>\n",
       "      <td>3.000000</td>\n",
       "      <td>1.000000</td>\n",
       "      <td>35.000000</td>\n",
       "      <td>1.000000</td>\n",
       "      <td>1.000000</td>\n",
       "      <td>19.000000</td>\n",
       "      <td>4.000000</td>\n",
       "      <td>92.000000</td>\n",
       "      <td>1.0</td>\n",
       "    </tr>\n",
       "    <tr>\n",
       "      <th>max</th>\n",
       "      <td>12.000000</td>\n",
       "      <td>89.000000</td>\n",
       "      <td>3.00000</td>\n",
       "      <td>2.000000</td>\n",
       "      <td>4.000000</td>\n",
       "      <td>4.000000</td>\n",
       "      <td>4.000000</td>\n",
       "      <td>1.000000</td>\n",
       "      <td>140.000000</td>\n",
       "      <td>1.000000</td>\n",
       "      <td>1.000000</td>\n",
       "      <td>61.000000</td>\n",
       "      <td>41.000000</td>\n",
       "      <td>760.000000</td>\n",
       "      <td>1.0</td>\n",
       "    </tr>\n",
       "  </tbody>\n",
       "</table>\n",
       "</div>"
      ],
      "text/plain": [
       "       Month_of_Birth          Age     T_Stage      N_Stage    6th_Stage  Differentiated        Grade      A_Stage   Tumor_Size  Estrogen_Status  \\\n",
       "count     3402.000000  3402.000000  3402.00000  3402.000000  3402.000000     3402.000000  3402.000000  3402.000000  3402.000000      3402.000000   \n",
       "mean         6.479130    53.783069     0.73398     0.362728     1.181658        1.696943     2.107878     0.983245    29.190770         0.952675   \n",
       "std          3.482346     8.816098     0.74037     0.633847     1.182512        1.049292     0.629895     0.128370    20.312823         0.212365   \n",
       "min          1.000000    30.000000     0.00000     0.000000     0.000000        1.000000     1.000000     0.000000   -75.000000         0.000000   \n",
       "25%          4.000000    47.000000     0.00000     0.000000     0.000000        1.000000     2.000000     1.000000    15.000000         1.000000   \n",
       "50%          6.000000    54.000000     1.00000     0.000000     1.000000        1.000000     2.000000     1.000000    23.000000         1.000000   \n",
       "75%         10.000000    61.000000     1.00000     1.000000     2.000000        2.000000     3.000000     1.000000    35.000000         1.000000   \n",
       "max         12.000000    89.000000     3.00000     2.000000     4.000000        4.000000     4.000000     1.000000   140.000000         1.000000   \n",
       "\n",
       "       Progesterone_Status  Regional_Node_Examined  Reginol_Node_Positive  Survival_Months  Mortality_Status  \n",
       "count          3402.000000             3402.000000            3402.000000      3402.000000            3402.0  \n",
       "mean              0.855085               14.248677               3.598471        76.147266               1.0  \n",
       "std               0.352067                8.060117               4.372588        22.652919               0.0  \n",
       "min               0.000000                1.000000               1.000000         1.000000               1.0  \n",
       "25%               1.000000                9.000000               1.000000        61.000000               1.0  \n",
       "50%               1.000000               14.000000               2.000000        77.000000               1.0  \n",
       "75%               1.000000               19.000000               4.000000        92.000000               1.0  \n",
       "max               1.000000               61.000000              41.000000       760.000000               1.0  "
      ]
     },
     "execution_count": 385,
     "metadata": {},
     "output_type": "execute_result"
    }
   ],
   "source": [
    "df.describe()"
   ]
  },
  {
   "cell_type": "code",
   "execution_count": 386,
   "metadata": {},
   "outputs": [
    {
     "name": "stdout",
     "output_type": "stream",
     "text": [
      "<class 'pandas.core.frame.DataFrame'>\n",
      "Index: 3402 entries, 0 to 4023\n",
      "Data columns (total 15 columns):\n",
      " #   Column                  Non-Null Count  Dtype  \n",
      "---  ------                  --------------  -----  \n",
      " 0   Month_of_Birth          3402 non-null   int64  \n",
      " 1   Age                     3402 non-null   int64  \n",
      " 2   T_Stage                 3402 non-null   int64  \n",
      " 3   N_Stage                 3402 non-null   int64  \n",
      " 4   6th_Stage               3402 non-null   int64  \n",
      " 5   Differentiated          3402 non-null   int64  \n",
      " 6   Grade                   3402 non-null   int64  \n",
      " 7   A_Stage                 3402 non-null   int64  \n",
      " 8   Tumor_Size              3402 non-null   float64\n",
      " 9   Estrogen_Status         3402 non-null   int64  \n",
      " 10  Progesterone_Status     3402 non-null   int64  \n",
      " 11  Regional_Node_Examined  3402 non-null   int64  \n",
      " 12  Reginol_Node_Positive   3402 non-null   int64  \n",
      " 13  Survival_Months         3402 non-null   int64  \n",
      " 14  Mortality_Status        3402 non-null   int64  \n",
      "dtypes: float64(1), int64(14)\n",
      "memory usage: 425.2 KB\n"
     ]
    }
   ],
   "source": [
    "df.info()"
   ]
  }
 ],
 "metadata": {
  "kernelspec": {
   "display_name": "Python 3",
   "language": "python",
   "name": "python3"
  },
  "language_info": {
   "codemirror_mode": {
    "name": "ipython",
    "version": 3
   },
   "file_extension": ".py",
   "mimetype": "text/x-python",
   "name": "python",
   "nbconvert_exporter": "python",
   "pygments_lexer": "ipython3",
   "version": "3.11.7"
  }
 },
 "nbformat": 4,
 "nbformat_minor": 2
}
